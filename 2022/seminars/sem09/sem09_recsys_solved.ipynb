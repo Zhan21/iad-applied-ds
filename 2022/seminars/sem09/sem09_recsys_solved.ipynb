{
  "nbformat": 4,
  "nbformat_minor": 0,
  "metadata": {
    "colab": {
      "name": "sem09_recsys_solved",
      "provenance": [],
      "collapsed_sections": []
    },
    "kernelspec": {
      "display_name": "Python 3",
      "language": "python",
      "name": "python3"
    },
    "language_info": {
      "codemirror_mode": {
        "name": "ipython",
        "version": 3
      },
      "file_extension": ".py",
      "mimetype": "text/x-python",
      "name": "python",
      "nbconvert_exporter": "python",
      "pygments_lexer": "ipython3",
      "version": "3.7.5"
    },
    "widgets": {
      "application/vnd.jupyter.widget-state+json": {
        "6ddd25de6b6d40419bac48359b0dcf6f": {
          "model_module": "@jupyter-widgets/controls",
          "model_name": "HBoxModel",
          "model_module_version": "1.5.0",
          "state": {
            "_view_name": "HBoxView",
            "_dom_classes": [],
            "_model_name": "HBoxModel",
            "_view_module": "@jupyter-widgets/controls",
            "_model_module_version": "1.5.0",
            "_view_count": null,
            "_view_module_version": "1.5.0",
            "box_style": "",
            "layout": "IPY_MODEL_2f156baa9f104288a20b54cb8fb734e1",
            "_model_module": "@jupyter-widgets/controls",
            "children": [
              "IPY_MODEL_c5a004ed82194f4180349379a7a6f013",
              "IPY_MODEL_4a143af15c6e4d6098b0df64a6fde421"
            ]
          }
        },
        "2f156baa9f104288a20b54cb8fb734e1": {
          "model_module": "@jupyter-widgets/base",
          "model_name": "LayoutModel",
          "model_module_version": "1.2.0",
          "state": {
            "_view_name": "LayoutView",
            "grid_template_rows": null,
            "right": null,
            "justify_content": null,
            "_view_module": "@jupyter-widgets/base",
            "overflow": null,
            "_model_module_version": "1.2.0",
            "_view_count": null,
            "flex_flow": null,
            "width": null,
            "min_width": null,
            "border": null,
            "align_items": null,
            "bottom": null,
            "_model_module": "@jupyter-widgets/base",
            "top": null,
            "grid_column": null,
            "overflow_y": null,
            "overflow_x": null,
            "grid_auto_flow": null,
            "grid_area": null,
            "grid_template_columns": null,
            "flex": null,
            "_model_name": "LayoutModel",
            "justify_items": null,
            "grid_row": null,
            "max_height": null,
            "align_content": null,
            "visibility": null,
            "align_self": null,
            "height": null,
            "min_height": null,
            "padding": null,
            "grid_auto_rows": null,
            "grid_gap": null,
            "max_width": null,
            "order": null,
            "_view_module_version": "1.2.0",
            "grid_template_areas": null,
            "object_position": null,
            "object_fit": null,
            "grid_auto_columns": null,
            "margin": null,
            "display": null,
            "left": null
          }
        },
        "c5a004ed82194f4180349379a7a6f013": {
          "model_module": "@jupyter-widgets/controls",
          "model_name": "FloatProgressModel",
          "model_module_version": "1.5.0",
          "state": {
            "_view_name": "ProgressView",
            "style": "IPY_MODEL_229042c73b4b4ff6bd2239997318c947",
            "_dom_classes": [],
            "description": "100%",
            "_model_name": "FloatProgressModel",
            "bar_style": "success",
            "max": 1111,
            "_view_module": "@jupyter-widgets/controls",
            "_model_module_version": "1.5.0",
            "value": 1111,
            "_view_count": null,
            "_view_module_version": "1.5.0",
            "orientation": "horizontal",
            "min": 0,
            "description_tooltip": null,
            "_model_module": "@jupyter-widgets/controls",
            "layout": "IPY_MODEL_ac375a35f3924a6885d7479ff928c260"
          }
        },
        "4a143af15c6e4d6098b0df64a6fde421": {
          "model_module": "@jupyter-widgets/controls",
          "model_name": "HTMLModel",
          "model_module_version": "1.5.0",
          "state": {
            "_view_name": "HTMLView",
            "style": "IPY_MODEL_30d6b8566b554a52905689655fdb41af",
            "_dom_classes": [],
            "description": "",
            "_model_name": "HTMLModel",
            "placeholder": "​",
            "_view_module": "@jupyter-widgets/controls",
            "_model_module_version": "1.5.0",
            "value": " 1111/1111 [02:38&lt;00:00,  7.00it/s]",
            "_view_count": null,
            "_view_module_version": "1.5.0",
            "description_tooltip": null,
            "_model_module": "@jupyter-widgets/controls",
            "layout": "IPY_MODEL_8f6faca15c3244c98ef390387e344bbb"
          }
        },
        "229042c73b4b4ff6bd2239997318c947": {
          "model_module": "@jupyter-widgets/controls",
          "model_name": "ProgressStyleModel",
          "model_module_version": "1.5.0",
          "state": {
            "_view_name": "StyleView",
            "_model_name": "ProgressStyleModel",
            "description_width": "initial",
            "_view_module": "@jupyter-widgets/base",
            "_model_module_version": "1.5.0",
            "_view_count": null,
            "_view_module_version": "1.2.0",
            "bar_color": null,
            "_model_module": "@jupyter-widgets/controls"
          }
        },
        "ac375a35f3924a6885d7479ff928c260": {
          "model_module": "@jupyter-widgets/base",
          "model_name": "LayoutModel",
          "model_module_version": "1.2.0",
          "state": {
            "_view_name": "LayoutView",
            "grid_template_rows": null,
            "right": null,
            "justify_content": null,
            "_view_module": "@jupyter-widgets/base",
            "overflow": null,
            "_model_module_version": "1.2.0",
            "_view_count": null,
            "flex_flow": null,
            "width": null,
            "min_width": null,
            "border": null,
            "align_items": null,
            "bottom": null,
            "_model_module": "@jupyter-widgets/base",
            "top": null,
            "grid_column": null,
            "overflow_y": null,
            "overflow_x": null,
            "grid_auto_flow": null,
            "grid_area": null,
            "grid_template_columns": null,
            "flex": null,
            "_model_name": "LayoutModel",
            "justify_items": null,
            "grid_row": null,
            "max_height": null,
            "align_content": null,
            "visibility": null,
            "align_self": null,
            "height": null,
            "min_height": null,
            "padding": null,
            "grid_auto_rows": null,
            "grid_gap": null,
            "max_width": null,
            "order": null,
            "_view_module_version": "1.2.0",
            "grid_template_areas": null,
            "object_position": null,
            "object_fit": null,
            "grid_auto_columns": null,
            "margin": null,
            "display": null,
            "left": null
          }
        },
        "30d6b8566b554a52905689655fdb41af": {
          "model_module": "@jupyter-widgets/controls",
          "model_name": "DescriptionStyleModel",
          "model_module_version": "1.5.0",
          "state": {
            "_view_name": "StyleView",
            "_model_name": "DescriptionStyleModel",
            "description_width": "",
            "_view_module": "@jupyter-widgets/base",
            "_model_module_version": "1.5.0",
            "_view_count": null,
            "_view_module_version": "1.2.0",
            "_model_module": "@jupyter-widgets/controls"
          }
        },
        "8f6faca15c3244c98ef390387e344bbb": {
          "model_module": "@jupyter-widgets/base",
          "model_name": "LayoutModel",
          "model_module_version": "1.2.0",
          "state": {
            "_view_name": "LayoutView",
            "grid_template_rows": null,
            "right": null,
            "justify_content": null,
            "_view_module": "@jupyter-widgets/base",
            "overflow": null,
            "_model_module_version": "1.2.0",
            "_view_count": null,
            "flex_flow": null,
            "width": null,
            "min_width": null,
            "border": null,
            "align_items": null,
            "bottom": null,
            "_model_module": "@jupyter-widgets/base",
            "top": null,
            "grid_column": null,
            "overflow_y": null,
            "overflow_x": null,
            "grid_auto_flow": null,
            "grid_area": null,
            "grid_template_columns": null,
            "flex": null,
            "_model_name": "LayoutModel",
            "justify_items": null,
            "grid_row": null,
            "max_height": null,
            "align_content": null,
            "visibility": null,
            "align_self": null,
            "height": null,
            "min_height": null,
            "padding": null,
            "grid_auto_rows": null,
            "grid_gap": null,
            "max_width": null,
            "order": null,
            "_view_module_version": "1.2.0",
            "grid_template_areas": null,
            "object_position": null,
            "object_fit": null,
            "grid_auto_columns": null,
            "margin": null,
            "display": null,
            "left": null
          }
        },
        "e14b066877514299ad0105f10275926a": {
          "model_module": "@jupyter-widgets/controls",
          "model_name": "HBoxModel",
          "model_module_version": "1.5.0",
          "state": {
            "_view_name": "HBoxView",
            "_dom_classes": [],
            "_model_name": "HBoxModel",
            "_view_module": "@jupyter-widgets/controls",
            "_model_module_version": "1.5.0",
            "_view_count": null,
            "_view_module_version": "1.5.0",
            "box_style": "",
            "layout": "IPY_MODEL_ad4c978d45a7459d942a1bdaecf62a67",
            "_model_module": "@jupyter-widgets/controls",
            "children": [
              "IPY_MODEL_495e1558329b43f1b1fa48c76b6ed3bc",
              "IPY_MODEL_b5f106d2b9d241d993c236e57d539cad"
            ]
          }
        },
        "ad4c978d45a7459d942a1bdaecf62a67": {
          "model_module": "@jupyter-widgets/base",
          "model_name": "LayoutModel",
          "model_module_version": "1.2.0",
          "state": {
            "_view_name": "LayoutView",
            "grid_template_rows": null,
            "right": null,
            "justify_content": null,
            "_view_module": "@jupyter-widgets/base",
            "overflow": null,
            "_model_module_version": "1.2.0",
            "_view_count": null,
            "flex_flow": null,
            "width": null,
            "min_width": null,
            "border": null,
            "align_items": null,
            "bottom": null,
            "_model_module": "@jupyter-widgets/base",
            "top": null,
            "grid_column": null,
            "overflow_y": null,
            "overflow_x": null,
            "grid_auto_flow": null,
            "grid_area": null,
            "grid_template_columns": null,
            "flex": null,
            "_model_name": "LayoutModel",
            "justify_items": null,
            "grid_row": null,
            "max_height": null,
            "align_content": null,
            "visibility": null,
            "align_self": null,
            "height": null,
            "min_height": null,
            "padding": null,
            "grid_auto_rows": null,
            "grid_gap": null,
            "max_width": null,
            "order": null,
            "_view_module_version": "1.2.0",
            "grid_template_areas": null,
            "object_position": null,
            "object_fit": null,
            "grid_auto_columns": null,
            "margin": null,
            "display": null,
            "left": null
          }
        },
        "495e1558329b43f1b1fa48c76b6ed3bc": {
          "model_module": "@jupyter-widgets/controls",
          "model_name": "FloatProgressModel",
          "model_module_version": "1.5.0",
          "state": {
            "_view_name": "ProgressView",
            "style": "IPY_MODEL_540e1aa383a343d981f27125f9dda32b",
            "_dom_classes": [],
            "description": "100%",
            "_model_name": "FloatProgressModel",
            "bar_style": "success",
            "max": 1112,
            "_view_module": "@jupyter-widgets/controls",
            "_model_module_version": "1.5.0",
            "value": 1112,
            "_view_count": null,
            "_view_module_version": "1.5.0",
            "orientation": "horizontal",
            "min": 0,
            "description_tooltip": null,
            "_model_module": "@jupyter-widgets/controls",
            "layout": "IPY_MODEL_b7a59dd5c258493ab9e3f9d9c0529c82"
          }
        },
        "b5f106d2b9d241d993c236e57d539cad": {
          "model_module": "@jupyter-widgets/controls",
          "model_name": "HTMLModel",
          "model_module_version": "1.5.0",
          "state": {
            "_view_name": "HTMLView",
            "style": "IPY_MODEL_01d4de1f8e514f68a023004743e8ad37",
            "_dom_classes": [],
            "description": "",
            "_model_name": "HTMLModel",
            "placeholder": "​",
            "_view_module": "@jupyter-widgets/controls",
            "_model_module_version": "1.5.0",
            "value": " 1112/1112 [00:02&lt;00:00, 461.55it/s]",
            "_view_count": null,
            "_view_module_version": "1.5.0",
            "description_tooltip": null,
            "_model_module": "@jupyter-widgets/controls",
            "layout": "IPY_MODEL_03d754b95bb4455c8b15178ba178f2f6"
          }
        },
        "540e1aa383a343d981f27125f9dda32b": {
          "model_module": "@jupyter-widgets/controls",
          "model_name": "ProgressStyleModel",
          "model_module_version": "1.5.0",
          "state": {
            "_view_name": "StyleView",
            "_model_name": "ProgressStyleModel",
            "description_width": "initial",
            "_view_module": "@jupyter-widgets/base",
            "_model_module_version": "1.5.0",
            "_view_count": null,
            "_view_module_version": "1.2.0",
            "bar_color": null,
            "_model_module": "@jupyter-widgets/controls"
          }
        },
        "b7a59dd5c258493ab9e3f9d9c0529c82": {
          "model_module": "@jupyter-widgets/base",
          "model_name": "LayoutModel",
          "model_module_version": "1.2.0",
          "state": {
            "_view_name": "LayoutView",
            "grid_template_rows": null,
            "right": null,
            "justify_content": null,
            "_view_module": "@jupyter-widgets/base",
            "overflow": null,
            "_model_module_version": "1.2.0",
            "_view_count": null,
            "flex_flow": null,
            "width": null,
            "min_width": null,
            "border": null,
            "align_items": null,
            "bottom": null,
            "_model_module": "@jupyter-widgets/base",
            "top": null,
            "grid_column": null,
            "overflow_y": null,
            "overflow_x": null,
            "grid_auto_flow": null,
            "grid_area": null,
            "grid_template_columns": null,
            "flex": null,
            "_model_name": "LayoutModel",
            "justify_items": null,
            "grid_row": null,
            "max_height": null,
            "align_content": null,
            "visibility": null,
            "align_self": null,
            "height": null,
            "min_height": null,
            "padding": null,
            "grid_auto_rows": null,
            "grid_gap": null,
            "max_width": null,
            "order": null,
            "_view_module_version": "1.2.0",
            "grid_template_areas": null,
            "object_position": null,
            "object_fit": null,
            "grid_auto_columns": null,
            "margin": null,
            "display": null,
            "left": null
          }
        },
        "01d4de1f8e514f68a023004743e8ad37": {
          "model_module": "@jupyter-widgets/controls",
          "model_name": "DescriptionStyleModel",
          "model_module_version": "1.5.0",
          "state": {
            "_view_name": "StyleView",
            "_model_name": "DescriptionStyleModel",
            "description_width": "",
            "_view_module": "@jupyter-widgets/base",
            "_model_module_version": "1.5.0",
            "_view_count": null,
            "_view_module_version": "1.2.0",
            "_model_module": "@jupyter-widgets/controls"
          }
        },
        "03d754b95bb4455c8b15178ba178f2f6": {
          "model_module": "@jupyter-widgets/base",
          "model_name": "LayoutModel",
          "model_module_version": "1.2.0",
          "state": {
            "_view_name": "LayoutView",
            "grid_template_rows": null,
            "right": null,
            "justify_content": null,
            "_view_module": "@jupyter-widgets/base",
            "overflow": null,
            "_model_module_version": "1.2.0",
            "_view_count": null,
            "flex_flow": null,
            "width": null,
            "min_width": null,
            "border": null,
            "align_items": null,
            "bottom": null,
            "_model_module": "@jupyter-widgets/base",
            "top": null,
            "grid_column": null,
            "overflow_y": null,
            "overflow_x": null,
            "grid_auto_flow": null,
            "grid_area": null,
            "grid_template_columns": null,
            "flex": null,
            "_model_name": "LayoutModel",
            "justify_items": null,
            "grid_row": null,
            "max_height": null,
            "align_content": null,
            "visibility": null,
            "align_self": null,
            "height": null,
            "min_height": null,
            "padding": null,
            "grid_auto_rows": null,
            "grid_gap": null,
            "max_width": null,
            "order": null,
            "_view_module_version": "1.2.0",
            "grid_template_areas": null,
            "object_position": null,
            "object_fit": null,
            "grid_auto_columns": null,
            "margin": null,
            "display": null,
            "left": null
          }
        },
        "1caf925110674b29819e86b6b5b57c1e": {
          "model_module": "@jupyter-widgets/controls",
          "model_name": "HBoxModel",
          "model_module_version": "1.5.0",
          "state": {
            "_view_name": "HBoxView",
            "_dom_classes": [],
            "_model_name": "HBoxModel",
            "_view_module": "@jupyter-widgets/controls",
            "_model_module_version": "1.5.0",
            "_view_count": null,
            "_view_module_version": "1.5.0",
            "box_style": "",
            "layout": "IPY_MODEL_1e359c350d4b487eb9d75d1845bf1ee2",
            "_model_module": "@jupyter-widgets/controls",
            "children": [
              "IPY_MODEL_b9ab84ab769f4ae9ac77d79cd8f19987",
              "IPY_MODEL_fd33a75efdd44035b82fc353ec81df14"
            ]
          }
        },
        "1e359c350d4b487eb9d75d1845bf1ee2": {
          "model_module": "@jupyter-widgets/base",
          "model_name": "LayoutModel",
          "model_module_version": "1.2.0",
          "state": {
            "_view_name": "LayoutView",
            "grid_template_rows": null,
            "right": null,
            "justify_content": null,
            "_view_module": "@jupyter-widgets/base",
            "overflow": null,
            "_model_module_version": "1.2.0",
            "_view_count": null,
            "flex_flow": null,
            "width": null,
            "min_width": null,
            "border": null,
            "align_items": null,
            "bottom": null,
            "_model_module": "@jupyter-widgets/base",
            "top": null,
            "grid_column": null,
            "overflow_y": null,
            "overflow_x": null,
            "grid_auto_flow": null,
            "grid_area": null,
            "grid_template_columns": null,
            "flex": null,
            "_model_name": "LayoutModel",
            "justify_items": null,
            "grid_row": null,
            "max_height": null,
            "align_content": null,
            "visibility": null,
            "align_self": null,
            "height": null,
            "min_height": null,
            "padding": null,
            "grid_auto_rows": null,
            "grid_gap": null,
            "max_width": null,
            "order": null,
            "_view_module_version": "1.2.0",
            "grid_template_areas": null,
            "object_position": null,
            "object_fit": null,
            "grid_auto_columns": null,
            "margin": null,
            "display": null,
            "left": null
          }
        },
        "b9ab84ab769f4ae9ac77d79cd8f19987": {
          "model_module": "@jupyter-widgets/controls",
          "model_name": "FloatProgressModel",
          "model_module_version": "1.5.0",
          "state": {
            "_view_name": "ProgressView",
            "style": "IPY_MODEL_1e9e7fea9f774987b16e22b83c0f98ed",
            "_dom_classes": [],
            "description": "100%",
            "_model_name": "FloatProgressModel",
            "bar_style": "success",
            "max": 1112,
            "_view_module": "@jupyter-widgets/controls",
            "_model_module_version": "1.5.0",
            "value": 1112,
            "_view_count": null,
            "_view_module_version": "1.5.0",
            "orientation": "horizontal",
            "min": 0,
            "description_tooltip": null,
            "_model_module": "@jupyter-widgets/controls",
            "layout": "IPY_MODEL_84c2858b6a2b4f33b32f59e392aadaf7"
          }
        },
        "fd33a75efdd44035b82fc353ec81df14": {
          "model_module": "@jupyter-widgets/controls",
          "model_name": "HTMLModel",
          "model_module_version": "1.5.0",
          "state": {
            "_view_name": "HTMLView",
            "style": "IPY_MODEL_f77518036bdd4732b78366b3b119969d",
            "_dom_classes": [],
            "description": "",
            "_model_name": "HTMLModel",
            "placeholder": "​",
            "_view_module": "@jupyter-widgets/controls",
            "_model_module_version": "1.5.0",
            "value": " 1112/1112 [00:03&lt;00:00, 296.85it/s]",
            "_view_count": null,
            "_view_module_version": "1.5.0",
            "description_tooltip": null,
            "_model_module": "@jupyter-widgets/controls",
            "layout": "IPY_MODEL_51706e27b1eb4924804fdc666d685e94"
          }
        },
        "1e9e7fea9f774987b16e22b83c0f98ed": {
          "model_module": "@jupyter-widgets/controls",
          "model_name": "ProgressStyleModel",
          "model_module_version": "1.5.0",
          "state": {
            "_view_name": "StyleView",
            "_model_name": "ProgressStyleModel",
            "description_width": "initial",
            "_view_module": "@jupyter-widgets/base",
            "_model_module_version": "1.5.0",
            "_view_count": null,
            "_view_module_version": "1.2.0",
            "bar_color": null,
            "_model_module": "@jupyter-widgets/controls"
          }
        },
        "84c2858b6a2b4f33b32f59e392aadaf7": {
          "model_module": "@jupyter-widgets/base",
          "model_name": "LayoutModel",
          "model_module_version": "1.2.0",
          "state": {
            "_view_name": "LayoutView",
            "grid_template_rows": null,
            "right": null,
            "justify_content": null,
            "_view_module": "@jupyter-widgets/base",
            "overflow": null,
            "_model_module_version": "1.2.0",
            "_view_count": null,
            "flex_flow": null,
            "width": null,
            "min_width": null,
            "border": null,
            "align_items": null,
            "bottom": null,
            "_model_module": "@jupyter-widgets/base",
            "top": null,
            "grid_column": null,
            "overflow_y": null,
            "overflow_x": null,
            "grid_auto_flow": null,
            "grid_area": null,
            "grid_template_columns": null,
            "flex": null,
            "_model_name": "LayoutModel",
            "justify_items": null,
            "grid_row": null,
            "max_height": null,
            "align_content": null,
            "visibility": null,
            "align_self": null,
            "height": null,
            "min_height": null,
            "padding": null,
            "grid_auto_rows": null,
            "grid_gap": null,
            "max_width": null,
            "order": null,
            "_view_module_version": "1.2.0",
            "grid_template_areas": null,
            "object_position": null,
            "object_fit": null,
            "grid_auto_columns": null,
            "margin": null,
            "display": null,
            "left": null
          }
        },
        "f77518036bdd4732b78366b3b119969d": {
          "model_module": "@jupyter-widgets/controls",
          "model_name": "DescriptionStyleModel",
          "model_module_version": "1.5.0",
          "state": {
            "_view_name": "StyleView",
            "_model_name": "DescriptionStyleModel",
            "description_width": "",
            "_view_module": "@jupyter-widgets/base",
            "_model_module_version": "1.5.0",
            "_view_count": null,
            "_view_module_version": "1.2.0",
            "_model_module": "@jupyter-widgets/controls"
          }
        },
        "51706e27b1eb4924804fdc666d685e94": {
          "model_module": "@jupyter-widgets/base",
          "model_name": "LayoutModel",
          "model_module_version": "1.2.0",
          "state": {
            "_view_name": "LayoutView",
            "grid_template_rows": null,
            "right": null,
            "justify_content": null,
            "_view_module": "@jupyter-widgets/base",
            "overflow": null,
            "_model_module_version": "1.2.0",
            "_view_count": null,
            "flex_flow": null,
            "width": null,
            "min_width": null,
            "border": null,
            "align_items": null,
            "bottom": null,
            "_model_module": "@jupyter-widgets/base",
            "top": null,
            "grid_column": null,
            "overflow_y": null,
            "overflow_x": null,
            "grid_auto_flow": null,
            "grid_area": null,
            "grid_template_columns": null,
            "flex": null,
            "_model_name": "LayoutModel",
            "justify_items": null,
            "grid_row": null,
            "max_height": null,
            "align_content": null,
            "visibility": null,
            "align_self": null,
            "height": null,
            "min_height": null,
            "padding": null,
            "grid_auto_rows": null,
            "grid_gap": null,
            "max_width": null,
            "order": null,
            "_view_module_version": "1.2.0",
            "grid_template_areas": null,
            "object_position": null,
            "object_fit": null,
            "grid_auto_columns": null,
            "margin": null,
            "display": null,
            "left": null
          }
        },
        "67ec730a39c8423ab3582a31ce11710a": {
          "model_module": "@jupyter-widgets/controls",
          "model_name": "HBoxModel",
          "model_module_version": "1.5.0",
          "state": {
            "_dom_classes": [],
            "_model_module": "@jupyter-widgets/controls",
            "_model_module_version": "1.5.0",
            "_model_name": "HBoxModel",
            "_view_count": null,
            "_view_module": "@jupyter-widgets/controls",
            "_view_module_version": "1.5.0",
            "_view_name": "HBoxView",
            "box_style": "",
            "children": [
              "IPY_MODEL_e1c3a60b8cd14545b10a6359e5db0caf",
              "IPY_MODEL_8cb76622632f4616886c93b739eeb8fa"
            ],
            "layout": "IPY_MODEL_aa0b67fbc8ca486b87cf384c946b7f45"
          }
        },
        "e1c3a60b8cd14545b10a6359e5db0caf": {
          "model_module": "@jupyter-widgets/controls",
          "model_name": "FloatProgressModel",
          "model_module_version": "1.5.0",
          "state": {
            "_dom_classes": [],
            "_model_module": "@jupyter-widgets/controls",
            "_model_module_version": "1.5.0",
            "_model_name": "FloatProgressModel",
            "_view_count": null,
            "_view_module": "@jupyter-widgets/controls",
            "_view_module_version": "1.5.0",
            "_view_name": "ProgressView",
            "bar_style": "success",
            "description": "100%",
            "description_tooltip": null,
            "layout": "IPY_MODEL_d0a113abe0cd458794ffb98192fea209",
            "max": 1112,
            "min": 0,
            "orientation": "horizontal",
            "style": "IPY_MODEL_1ea7971560124fa3a3efa81b6d51e67a",
            "value": 1112
          }
        },
        "8cb76622632f4616886c93b739eeb8fa": {
          "model_module": "@jupyter-widgets/controls",
          "model_name": "HTMLModel",
          "model_module_version": "1.5.0",
          "state": {
            "_dom_classes": [],
            "_model_module": "@jupyter-widgets/controls",
            "_model_module_version": "1.5.0",
            "_model_name": "HTMLModel",
            "_view_count": null,
            "_view_module": "@jupyter-widgets/controls",
            "_view_module_version": "1.5.0",
            "_view_name": "HTMLView",
            "description": "",
            "description_tooltip": null,
            "layout": "IPY_MODEL_f77642c195a544598c1f0fe7649a1b59",
            "placeholder": "​",
            "style": "IPY_MODEL_7bef45ec430a437890868abcd967ded4",
            "value": " 1112/1112 [00:02&lt;00:00, 393.15it/s]"
          }
        },
        "aa0b67fbc8ca486b87cf384c946b7f45": {
          "model_module": "@jupyter-widgets/base",
          "model_name": "LayoutModel",
          "model_module_version": "1.2.0",
          "state": {
            "_model_module": "@jupyter-widgets/base",
            "_model_module_version": "1.2.0",
            "_model_name": "LayoutModel",
            "_view_count": null,
            "_view_module": "@jupyter-widgets/base",
            "_view_module_version": "1.2.0",
            "_view_name": "LayoutView",
            "align_content": null,
            "align_items": null,
            "align_self": null,
            "border": null,
            "bottom": null,
            "display": null,
            "flex": null,
            "flex_flow": null,
            "grid_area": null,
            "grid_auto_columns": null,
            "grid_auto_flow": null,
            "grid_auto_rows": null,
            "grid_column": null,
            "grid_gap": null,
            "grid_row": null,
            "grid_template_areas": null,
            "grid_template_columns": null,
            "grid_template_rows": null,
            "height": null,
            "justify_content": null,
            "justify_items": null,
            "left": null,
            "margin": null,
            "max_height": null,
            "max_width": null,
            "min_height": null,
            "min_width": null,
            "object_fit": null,
            "object_position": null,
            "order": null,
            "overflow": null,
            "overflow_x": null,
            "overflow_y": null,
            "padding": null,
            "right": null,
            "top": null,
            "visibility": null,
            "width": null
          }
        },
        "d0a113abe0cd458794ffb98192fea209": {
          "model_module": "@jupyter-widgets/base",
          "model_name": "LayoutModel",
          "model_module_version": "1.2.0",
          "state": {
            "_model_module": "@jupyter-widgets/base",
            "_model_module_version": "1.2.0",
            "_model_name": "LayoutModel",
            "_view_count": null,
            "_view_module": "@jupyter-widgets/base",
            "_view_module_version": "1.2.0",
            "_view_name": "LayoutView",
            "align_content": null,
            "align_items": null,
            "align_self": null,
            "border": null,
            "bottom": null,
            "display": null,
            "flex": null,
            "flex_flow": null,
            "grid_area": null,
            "grid_auto_columns": null,
            "grid_auto_flow": null,
            "grid_auto_rows": null,
            "grid_column": null,
            "grid_gap": null,
            "grid_row": null,
            "grid_template_areas": null,
            "grid_template_columns": null,
            "grid_template_rows": null,
            "height": null,
            "justify_content": null,
            "justify_items": null,
            "left": null,
            "margin": null,
            "max_height": null,
            "max_width": null,
            "min_height": null,
            "min_width": null,
            "object_fit": null,
            "object_position": null,
            "order": null,
            "overflow": null,
            "overflow_x": null,
            "overflow_y": null,
            "padding": null,
            "right": null,
            "top": null,
            "visibility": null,
            "width": null
          }
        },
        "1ea7971560124fa3a3efa81b6d51e67a": {
          "model_module": "@jupyter-widgets/controls",
          "model_name": "ProgressStyleModel",
          "model_module_version": "1.5.0",
          "state": {
            "_model_module": "@jupyter-widgets/controls",
            "_model_module_version": "1.5.0",
            "_model_name": "ProgressStyleModel",
            "_view_count": null,
            "_view_module": "@jupyter-widgets/base",
            "_view_module_version": "1.2.0",
            "_view_name": "StyleView",
            "bar_color": null,
            "description_width": "initial"
          }
        },
        "f77642c195a544598c1f0fe7649a1b59": {
          "model_module": "@jupyter-widgets/base",
          "model_name": "LayoutModel",
          "model_module_version": "1.2.0",
          "state": {
            "_model_module": "@jupyter-widgets/base",
            "_model_module_version": "1.2.0",
            "_model_name": "LayoutModel",
            "_view_count": null,
            "_view_module": "@jupyter-widgets/base",
            "_view_module_version": "1.2.0",
            "_view_name": "LayoutView",
            "align_content": null,
            "align_items": null,
            "align_self": null,
            "border": null,
            "bottom": null,
            "display": null,
            "flex": null,
            "flex_flow": null,
            "grid_area": null,
            "grid_auto_columns": null,
            "grid_auto_flow": null,
            "grid_auto_rows": null,
            "grid_column": null,
            "grid_gap": null,
            "grid_row": null,
            "grid_template_areas": null,
            "grid_template_columns": null,
            "grid_template_rows": null,
            "height": null,
            "justify_content": null,
            "justify_items": null,
            "left": null,
            "margin": null,
            "max_height": null,
            "max_width": null,
            "min_height": null,
            "min_width": null,
            "object_fit": null,
            "object_position": null,
            "order": null,
            "overflow": null,
            "overflow_x": null,
            "overflow_y": null,
            "padding": null,
            "right": null,
            "top": null,
            "visibility": null,
            "width": null
          }
        },
        "7bef45ec430a437890868abcd967ded4": {
          "model_module": "@jupyter-widgets/controls",
          "model_name": "DescriptionStyleModel",
          "model_module_version": "1.5.0",
          "state": {
            "_model_module": "@jupyter-widgets/controls",
            "_model_module_version": "1.5.0",
            "_model_name": "DescriptionStyleModel",
            "_view_count": null,
            "_view_module": "@jupyter-widgets/base",
            "_view_module_version": "1.2.0",
            "_view_name": "StyleView",
            "description_width": ""
          }
        },
        "d17cb63600374c26ab0d281375d15876": {
          "model_module": "@jupyter-widgets/controls",
          "model_name": "HBoxModel",
          "model_module_version": "1.5.0",
          "state": {
            "_dom_classes": [],
            "_model_module": "@jupyter-widgets/controls",
            "_model_module_version": "1.5.0",
            "_model_name": "HBoxModel",
            "_view_count": null,
            "_view_module": "@jupyter-widgets/controls",
            "_view_module_version": "1.5.0",
            "_view_name": "HBoxView",
            "box_style": "",
            "children": [
              "IPY_MODEL_36137f4db5f3486c85669219b7caf18e",
              "IPY_MODEL_13d283f18dd946a6949bb9607b47ed84"
            ],
            "layout": "IPY_MODEL_c83612af471143ecb9a740b6844a4026"
          }
        },
        "36137f4db5f3486c85669219b7caf18e": {
          "model_module": "@jupyter-widgets/controls",
          "model_name": "FloatProgressModel",
          "model_module_version": "1.5.0",
          "state": {
            "_dom_classes": [],
            "_model_module": "@jupyter-widgets/controls",
            "_model_module_version": "1.5.0",
            "_model_name": "FloatProgressModel",
            "_view_count": null,
            "_view_module": "@jupyter-widgets/controls",
            "_view_module_version": "1.5.0",
            "_view_name": "ProgressView",
            "bar_style": "success",
            "description": "100%",
            "description_tooltip": null,
            "layout": "IPY_MODEL_b3b7c0e1269d4cc9afbc584c49cec22a",
            "max": 146645,
            "min": 0,
            "orientation": "horizontal",
            "style": "IPY_MODEL_62b9e044fe0e4ea19cafef5ff3591624",
            "value": 146645
          }
        },
        "13d283f18dd946a6949bb9607b47ed84": {
          "model_module": "@jupyter-widgets/controls",
          "model_name": "HTMLModel",
          "model_module_version": "1.5.0",
          "state": {
            "_dom_classes": [],
            "_model_module": "@jupyter-widgets/controls",
            "_model_module_version": "1.5.0",
            "_model_name": "HTMLModel",
            "_view_count": null,
            "_view_module": "@jupyter-widgets/controls",
            "_view_module_version": "1.5.0",
            "_view_name": "HTMLView",
            "description": "",
            "description_tooltip": null,
            "layout": "IPY_MODEL_b077fc5cbdf541b1a460c11c08c4e19b",
            "placeholder": "​",
            "style": "IPY_MODEL_04193592044345f69e8458706b3aeb08",
            "value": " 146645/146645 [00:52&lt;00:00, 2813.24it/s]"
          }
        },
        "c83612af471143ecb9a740b6844a4026": {
          "model_module": "@jupyter-widgets/base",
          "model_name": "LayoutModel",
          "model_module_version": "1.2.0",
          "state": {
            "_model_module": "@jupyter-widgets/base",
            "_model_module_version": "1.2.0",
            "_model_name": "LayoutModel",
            "_view_count": null,
            "_view_module": "@jupyter-widgets/base",
            "_view_module_version": "1.2.0",
            "_view_name": "LayoutView",
            "align_content": null,
            "align_items": null,
            "align_self": null,
            "border": null,
            "bottom": null,
            "display": null,
            "flex": null,
            "flex_flow": null,
            "grid_area": null,
            "grid_auto_columns": null,
            "grid_auto_flow": null,
            "grid_auto_rows": null,
            "grid_column": null,
            "grid_gap": null,
            "grid_row": null,
            "grid_template_areas": null,
            "grid_template_columns": null,
            "grid_template_rows": null,
            "height": null,
            "justify_content": null,
            "justify_items": null,
            "left": null,
            "margin": null,
            "max_height": null,
            "max_width": null,
            "min_height": null,
            "min_width": null,
            "object_fit": null,
            "object_position": null,
            "order": null,
            "overflow": null,
            "overflow_x": null,
            "overflow_y": null,
            "padding": null,
            "right": null,
            "top": null,
            "visibility": null,
            "width": null
          }
        },
        "b3b7c0e1269d4cc9afbc584c49cec22a": {
          "model_module": "@jupyter-widgets/base",
          "model_name": "LayoutModel",
          "model_module_version": "1.2.0",
          "state": {
            "_model_module": "@jupyter-widgets/base",
            "_model_module_version": "1.2.0",
            "_model_name": "LayoutModel",
            "_view_count": null,
            "_view_module": "@jupyter-widgets/base",
            "_view_module_version": "1.2.0",
            "_view_name": "LayoutView",
            "align_content": null,
            "align_items": null,
            "align_self": null,
            "border": null,
            "bottom": null,
            "display": null,
            "flex": null,
            "flex_flow": null,
            "grid_area": null,
            "grid_auto_columns": null,
            "grid_auto_flow": null,
            "grid_auto_rows": null,
            "grid_column": null,
            "grid_gap": null,
            "grid_row": null,
            "grid_template_areas": null,
            "grid_template_columns": null,
            "grid_template_rows": null,
            "height": null,
            "justify_content": null,
            "justify_items": null,
            "left": null,
            "margin": null,
            "max_height": null,
            "max_width": null,
            "min_height": null,
            "min_width": null,
            "object_fit": null,
            "object_position": null,
            "order": null,
            "overflow": null,
            "overflow_x": null,
            "overflow_y": null,
            "padding": null,
            "right": null,
            "top": null,
            "visibility": null,
            "width": null
          }
        },
        "62b9e044fe0e4ea19cafef5ff3591624": {
          "model_module": "@jupyter-widgets/controls",
          "model_name": "ProgressStyleModel",
          "model_module_version": "1.5.0",
          "state": {
            "_model_module": "@jupyter-widgets/controls",
            "_model_module_version": "1.5.0",
            "_model_name": "ProgressStyleModel",
            "_view_count": null,
            "_view_module": "@jupyter-widgets/base",
            "_view_module_version": "1.2.0",
            "_view_name": "StyleView",
            "bar_color": null,
            "description_width": "initial"
          }
        },
        "b077fc5cbdf541b1a460c11c08c4e19b": {
          "model_module": "@jupyter-widgets/base",
          "model_name": "LayoutModel",
          "model_module_version": "1.2.0",
          "state": {
            "_model_module": "@jupyter-widgets/base",
            "_model_module_version": "1.2.0",
            "_model_name": "LayoutModel",
            "_view_count": null,
            "_view_module": "@jupyter-widgets/base",
            "_view_module_version": "1.2.0",
            "_view_name": "LayoutView",
            "align_content": null,
            "align_items": null,
            "align_self": null,
            "border": null,
            "bottom": null,
            "display": null,
            "flex": null,
            "flex_flow": null,
            "grid_area": null,
            "grid_auto_columns": null,
            "grid_auto_flow": null,
            "grid_auto_rows": null,
            "grid_column": null,
            "grid_gap": null,
            "grid_row": null,
            "grid_template_areas": null,
            "grid_template_columns": null,
            "grid_template_rows": null,
            "height": null,
            "justify_content": null,
            "justify_items": null,
            "left": null,
            "margin": null,
            "max_height": null,
            "max_width": null,
            "min_height": null,
            "min_width": null,
            "object_fit": null,
            "object_position": null,
            "order": null,
            "overflow": null,
            "overflow_x": null,
            "overflow_y": null,
            "padding": null,
            "right": null,
            "top": null,
            "visibility": null,
            "width": null
          }
        },
        "04193592044345f69e8458706b3aeb08": {
          "model_module": "@jupyter-widgets/controls",
          "model_name": "DescriptionStyleModel",
          "model_module_version": "1.5.0",
          "state": {
            "_model_module": "@jupyter-widgets/controls",
            "_model_module_version": "1.5.0",
            "_model_name": "DescriptionStyleModel",
            "_view_count": null,
            "_view_module": "@jupyter-widgets/base",
            "_view_module_version": "1.2.0",
            "_view_name": "StyleView",
            "description_width": ""
          }
        },
        "1f089d7029d54b9e9c32c4ea6f966dbf": {
          "model_module": "@jupyter-widgets/controls",
          "model_name": "HBoxModel",
          "model_module_version": "1.5.0",
          "state": {
            "_dom_classes": [],
            "_model_module": "@jupyter-widgets/controls",
            "_model_module_version": "1.5.0",
            "_model_name": "HBoxModel",
            "_view_count": null,
            "_view_module": "@jupyter-widgets/controls",
            "_view_module_version": "1.5.0",
            "_view_name": "HBoxView",
            "box_style": "",
            "children": [
              "IPY_MODEL_74a33172fe4441bd8648345afee51c8e",
              "IPY_MODEL_1f0f4720bc3447188614d9ae51cd94d1"
            ],
            "layout": "IPY_MODEL_e9288665a80d429785fd89abc6567cfd"
          }
        },
        "74a33172fe4441bd8648345afee51c8e": {
          "model_module": "@jupyter-widgets/controls",
          "model_name": "FloatProgressModel",
          "model_module_version": "1.5.0",
          "state": {
            "_dom_classes": [],
            "_model_module": "@jupyter-widgets/controls",
            "_model_module_version": "1.5.0",
            "_model_name": "FloatProgressModel",
            "_view_count": null,
            "_view_module": "@jupyter-widgets/controls",
            "_view_module_version": "1.5.0",
            "_view_name": "ProgressView",
            "bar_style": "success",
            "description": "100%",
            "description_tooltip": null,
            "layout": "IPY_MODEL_5a44c522db624e20a67c1851dde4c434",
            "max": 1112,
            "min": 0,
            "orientation": "horizontal",
            "style": "IPY_MODEL_64b32f7f09b846d5aa7c25e8a4671020",
            "value": 1112
          }
        },
        "1f0f4720bc3447188614d9ae51cd94d1": {
          "model_module": "@jupyter-widgets/controls",
          "model_name": "HTMLModel",
          "model_module_version": "1.5.0",
          "state": {
            "_dom_classes": [],
            "_model_module": "@jupyter-widgets/controls",
            "_model_module_version": "1.5.0",
            "_model_name": "HTMLModel",
            "_view_count": null,
            "_view_module": "@jupyter-widgets/controls",
            "_view_module_version": "1.5.0",
            "_view_name": "HTMLView",
            "description": "",
            "description_tooltip": null,
            "layout": "IPY_MODEL_c3398de5c6354b72807d9a03a7a6ee28",
            "placeholder": "​",
            "style": "IPY_MODEL_143051d244b340e199c06229053f6ff0",
            "value": " 1112/1112 [01:04&lt;00:00, 17.17it/s]"
          }
        },
        "e9288665a80d429785fd89abc6567cfd": {
          "model_module": "@jupyter-widgets/base",
          "model_name": "LayoutModel",
          "model_module_version": "1.2.0",
          "state": {
            "_model_module": "@jupyter-widgets/base",
            "_model_module_version": "1.2.0",
            "_model_name": "LayoutModel",
            "_view_count": null,
            "_view_module": "@jupyter-widgets/base",
            "_view_module_version": "1.2.0",
            "_view_name": "LayoutView",
            "align_content": null,
            "align_items": null,
            "align_self": null,
            "border": null,
            "bottom": null,
            "display": null,
            "flex": null,
            "flex_flow": null,
            "grid_area": null,
            "grid_auto_columns": null,
            "grid_auto_flow": null,
            "grid_auto_rows": null,
            "grid_column": null,
            "grid_gap": null,
            "grid_row": null,
            "grid_template_areas": null,
            "grid_template_columns": null,
            "grid_template_rows": null,
            "height": null,
            "justify_content": null,
            "justify_items": null,
            "left": null,
            "margin": null,
            "max_height": null,
            "max_width": null,
            "min_height": null,
            "min_width": null,
            "object_fit": null,
            "object_position": null,
            "order": null,
            "overflow": null,
            "overflow_x": null,
            "overflow_y": null,
            "padding": null,
            "right": null,
            "top": null,
            "visibility": null,
            "width": null
          }
        },
        "5a44c522db624e20a67c1851dde4c434": {
          "model_module": "@jupyter-widgets/base",
          "model_name": "LayoutModel",
          "model_module_version": "1.2.0",
          "state": {
            "_model_module": "@jupyter-widgets/base",
            "_model_module_version": "1.2.0",
            "_model_name": "LayoutModel",
            "_view_count": null,
            "_view_module": "@jupyter-widgets/base",
            "_view_module_version": "1.2.0",
            "_view_name": "LayoutView",
            "align_content": null,
            "align_items": null,
            "align_self": null,
            "border": null,
            "bottom": null,
            "display": null,
            "flex": null,
            "flex_flow": null,
            "grid_area": null,
            "grid_auto_columns": null,
            "grid_auto_flow": null,
            "grid_auto_rows": null,
            "grid_column": null,
            "grid_gap": null,
            "grid_row": null,
            "grid_template_areas": null,
            "grid_template_columns": null,
            "grid_template_rows": null,
            "height": null,
            "justify_content": null,
            "justify_items": null,
            "left": null,
            "margin": null,
            "max_height": null,
            "max_width": null,
            "min_height": null,
            "min_width": null,
            "object_fit": null,
            "object_position": null,
            "order": null,
            "overflow": null,
            "overflow_x": null,
            "overflow_y": null,
            "padding": null,
            "right": null,
            "top": null,
            "visibility": null,
            "width": null
          }
        },
        "64b32f7f09b846d5aa7c25e8a4671020": {
          "model_module": "@jupyter-widgets/controls",
          "model_name": "ProgressStyleModel",
          "model_module_version": "1.5.0",
          "state": {
            "_model_module": "@jupyter-widgets/controls",
            "_model_module_version": "1.5.0",
            "_model_name": "ProgressStyleModel",
            "_view_count": null,
            "_view_module": "@jupyter-widgets/base",
            "_view_module_version": "1.2.0",
            "_view_name": "StyleView",
            "bar_color": null,
            "description_width": "initial"
          }
        },
        "c3398de5c6354b72807d9a03a7a6ee28": {
          "model_module": "@jupyter-widgets/base",
          "model_name": "LayoutModel",
          "model_module_version": "1.2.0",
          "state": {
            "_model_module": "@jupyter-widgets/base",
            "_model_module_version": "1.2.0",
            "_model_name": "LayoutModel",
            "_view_count": null,
            "_view_module": "@jupyter-widgets/base",
            "_view_module_version": "1.2.0",
            "_view_name": "LayoutView",
            "align_content": null,
            "align_items": null,
            "align_self": null,
            "border": null,
            "bottom": null,
            "display": null,
            "flex": null,
            "flex_flow": null,
            "grid_area": null,
            "grid_auto_columns": null,
            "grid_auto_flow": null,
            "grid_auto_rows": null,
            "grid_column": null,
            "grid_gap": null,
            "grid_row": null,
            "grid_template_areas": null,
            "grid_template_columns": null,
            "grid_template_rows": null,
            "height": null,
            "justify_content": null,
            "justify_items": null,
            "left": null,
            "margin": null,
            "max_height": null,
            "max_width": null,
            "min_height": null,
            "min_width": null,
            "object_fit": null,
            "object_position": null,
            "order": null,
            "overflow": null,
            "overflow_x": null,
            "overflow_y": null,
            "padding": null,
            "right": null,
            "top": null,
            "visibility": null,
            "width": null
          }
        },
        "143051d244b340e199c06229053f6ff0": {
          "model_module": "@jupyter-widgets/controls",
          "model_name": "DescriptionStyleModel",
          "model_module_version": "1.5.0",
          "state": {
            "_model_module": "@jupyter-widgets/controls",
            "_model_module_version": "1.5.0",
            "_model_name": "DescriptionStyleModel",
            "_view_count": null,
            "_view_module": "@jupyter-widgets/base",
            "_view_module_version": "1.2.0",
            "_view_name": "StyleView",
            "description_width": ""
          }
        }
      }
    }
  },
  "cells": [
    {
      "cell_type": "markdown",
      "metadata": {
        "id": "jGvirHCNqQw2"
      },
      "source": [
        "## Прикладные задачи анализа данных 2022\n",
        "\n",
        "## Рекомендательные системы - 1\n",
        "\n",
        "Ссылка на этот ноутбук в колабе: \n",
        "https://colab.research.google.com/drive/1LeQZk5WbUoYrBqSDAyVMr7RyI_3c6ZAZ?usp=sharing"
      ]
    },
    {
      "cell_type": "markdown",
      "metadata": {
        "id": "By7Eu-JQqQw_"
      },
      "source": [
        "В этом задании будем практиковаться в реализации рекомендательных систем.\n",
        "\n",
        "Воспользуемся небольшим датасетом с Kaggle: [Articles Sharing and Reading from CI&T Deskdrop](https://www.kaggle.com/gspmoreira/articles-sharing-reading-from-cit-deskdrop)."
      ]
    },
    {
      "cell_type": "code",
      "metadata": {
        "_cell_guid": "719f3966-e6fd-49c8-9f60-7bd741542450",
        "_uuid": "b61cd3125a7f8f991fc1bda85ae3cd26f74090ae",
        "id": "85QpoXGIqQxA",
        "colab": {
          "base_uri": "https://localhost:8080/"
        },
        "outputId": "786b69be-a1d4-497e-9cb6-ca81c63701aa"
      },
      "source": [
        "%pylab inline\n",
        "\n",
        "import pandas as pd\n",
        "\n",
        "from tqdm import tqdm_notebook"
      ],
      "execution_count": null,
      "outputs": [
        {
          "output_type": "stream",
          "name": "stdout",
          "text": [
            "Populating the interactive namespace from numpy and matplotlib\n"
          ]
        }
      ]
    },
    {
      "cell_type": "markdown",
      "metadata": {
        "_cell_guid": "5f5c826d-f3d5-42d3-a7e6-0343a44cdc9f",
        "_uuid": "26f1f70fd978957b26f8884fc5f82bfe9475c666",
        "id": "krOj16iWqQxB"
      },
      "source": [
        "## Часть 0. Загрузка данных"
      ]
    },
    {
      "cell_type": "markdown",
      "metadata": {
        "_cell_guid": "3c48b62c-ad3b-4218-8fb2-2f0e86a16edc",
        "_uuid": "650c279eddc846a48274346e045cfb6e1f8895d5",
        "id": "LL6bq2kYqQxB"
      },
      "source": [
        "Загрузим Deskdrop dataset, включающийся в себе логи за 1 год платформы, где пользователи читают статьи.\n",
        "\n",
        "Данные включают в себя 2 файла:  \n",
        "- **shared_articles.csv**\n",
        "- **users_interactions.csv**\n",
        "\n",
        "Как можно догадаться, в одном описания самих статей (нам понадобятся в контентных моделях), а в другом логи пользователей."
      ]
    },
    {
      "cell_type": "markdown",
      "source": [
        "**Но сначала разберемся с удобным для дальнейших участий и просто скачивания данных инструментом, а именно api kaggle**"
      ],
      "metadata": {
        "id": "F9yFw49RUvVY"
      }
    },
    {
      "cell_type": "markdown",
      "source": [
        "0. Скачивавем kaggle"
      ],
      "metadata": {
        "id": "7G8jZzeiVARP"
      }
    },
    {
      "cell_type": "code",
      "source": [
        "! pip install --user kaggle"
      ],
      "metadata": {
        "id": "LYvy0rgiKwZd",
        "colab": {
          "base_uri": "https://localhost:8080/"
        },
        "outputId": "89f8e508-a295-43d3-e46f-23171f091434"
      },
      "execution_count": null,
      "outputs": [
        {
          "output_type": "stream",
          "name": "stdout",
          "text": [
            "Requirement already satisfied: kaggle in /usr/local/lib/python3.7/dist-packages (1.5.12)\n",
            "Requirement already satisfied: python-dateutil in /usr/local/lib/python3.7/dist-packages (from kaggle) (2.8.2)\n",
            "Requirement already satisfied: certifi in /usr/local/lib/python3.7/dist-packages (from kaggle) (2021.10.8)\n",
            "Requirement already satisfied: six>=1.10 in /usr/local/lib/python3.7/dist-packages (from kaggle) (1.15.0)\n",
            "Requirement already satisfied: urllib3 in /usr/local/lib/python3.7/dist-packages (from kaggle) (1.24.3)\n",
            "Requirement already satisfied: requests in /usr/local/lib/python3.7/dist-packages (from kaggle) (2.23.0)\n",
            "Requirement already satisfied: python-slugify in /usr/local/lib/python3.7/dist-packages (from kaggle) (6.1.1)\n",
            "Requirement already satisfied: tqdm in /usr/local/lib/python3.7/dist-packages (from kaggle) (4.64.0)\n",
            "Requirement already satisfied: text-unidecode>=1.3 in /usr/local/lib/python3.7/dist-packages (from python-slugify->kaggle) (1.3)\n",
            "Requirement already satisfied: idna<3,>=2.5 in /usr/local/lib/python3.7/dist-packages (from requests->kaggle) (2.10)\n",
            "Requirement already satisfied: chardet<4,>=3.0.2 in /usr/local/lib/python3.7/dist-packages (from requests->kaggle) (3.0.4)\n"
          ]
        }
      ]
    },
    {
      "cell_type": "markdown",
      "source": [
        "1. Переходим сюда в ваш аккаунт kaggle и там же ищем вкладку account\n",
        "2. Ищем вот такое место внизу этой вкладки: ![telegram-cloud-photo-size-2-5382311067134311047-y.jpg](data:image/jpeg;base64,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) \n",
        "И тут нажимаем create new api token\n",
        "\n",
        "3. У вас скачивается файл с названием kaggle.json (обратите внимание чтобы было именно такое название, без (1) и т.д.)"
      ],
      "metadata": {
        "id": "6KVwKfeaVIXc"
      }
    },
    {
      "cell_type": "markdown",
      "source": [
        "4. Запускаем ниже код и выбираем вставить ваш скачанный json"
      ],
      "metadata": {
        "id": "w6sojLFRWHop"
      }
    },
    {
      "cell_type": "code",
      "source": [
        "from google.colab import files\n",
        "\n",
        "uploaded = files.upload()\n",
        "\n",
        "for fn in uploaded.keys():\n",
        "  print('User uploaded file \"{name}\" with length {length} bytes'.format(\n",
        "      name=fn, length=len(uploaded[fn])))\n",
        "  \n",
        "# Then move kaggle.json into the folder where the API expects to find it.\n",
        "!mkdir -p ~/.kaggle/ && mv kaggle.json ~/.kaggle/ && chmod 600 ~/.kaggle/kaggle.json"
      ],
      "metadata": {
        "id": "_A64Y1A3Q0qX",
        "colab": {
          "resources": {
            "http://localhost:8080/nbextensions/google.colab/files.js": {
              "data": "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",
              "ok": true,
              "headers": [
                [
                  "content-type",
                  "application/javascript"
                ]
              ],
              "status": 200,
              "status_text": ""
            }
          },
          "base_uri": "https://localhost:8080/",
          "height": 91
        },
        "outputId": "50765875-b211-4b56-d14e-a4fd27d9a43a"
      },
      "execution_count": null,
      "outputs": [
        {
          "output_type": "display_data",
          "data": {
            "text/plain": [
              "<IPython.core.display.HTML object>"
            ],
            "text/html": [
              "\n",
              "     <input type=\"file\" id=\"files-f23f58b4-660a-4b08-bbcb-10e2ffdf2377\" name=\"files[]\" multiple disabled\n",
              "        style=\"border:none\" />\n",
              "     <output id=\"result-f23f58b4-660a-4b08-bbcb-10e2ffdf2377\">\n",
              "      Upload widget is only available when the cell has been executed in the\n",
              "      current browser session. Please rerun this cell to enable.\n",
              "      </output>\n",
              "      <script src=\"/nbextensions/google.colab/files.js\"></script> "
            ]
          },
          "metadata": {}
        },
        {
          "output_type": "stream",
          "name": "stdout",
          "text": [
            "Saving kaggle.json to kaggle.json\n",
            "User uploaded file \"kaggle.json\" with length 68 bytes\n"
          ]
        }
      ]
    },
    {
      "cell_type": "markdown",
      "source": [
        "5. Проверяем, что все работает, например, можем посмотреть какие соревнования на kaggle есть"
      ],
      "metadata": {
        "id": "6eQtDcbwWOUR"
      }
    },
    {
      "cell_type": "code",
      "source": [
        "! kaggle competitions list"
      ],
      "metadata": {
        "id": "M7KW0_iIQ9il",
        "colab": {
          "base_uri": "https://localhost:8080/"
        },
        "outputId": "473a272f-770e-40cb-b565-b68d5bb88bd6"
      },
      "execution_count": null,
      "outputs": [
        {
          "output_type": "stream",
          "name": "stdout",
          "text": [
            "ref                                                         deadline             category            reward  teamCount  userHasEntered  \n",
            "----------------------------------------------------------  -------------------  ---------------  ---------  ---------  --------------  \n",
            "mpetitions/contradictory-my-dear-watson                     2030-07-01 23:59:00  Getting Started     Prizes         38           False  \n",
            "mpetitions/gan-getting-started                              2030-07-01 23:59:00  Getting Started     Prizes        105           False  \n",
            "mpetitions/store-sales-time-series-forecasting              2030-06-30 23:59:00  Getting Started  Knowledge       1365           False  \n",
            "mpetitions/tpu-getting-started                              2030-06-03 23:59:00  Getting Started  Knowledge        183           False  \n",
            "mpetitions/digit-recognizer                                 2030-01-01 00:00:00  Getting Started  Knowledge       2191           False  \n",
            "mpetitions/titanic                                          2030-01-01 00:00:00  Getting Started  Knowledge      14519            True  \n",
            "mpetitions/house-prices-advanced-regression-techniques      2030-01-01 00:00:00  Getting Started  Knowledge       4306            True  \n",
            "mpetitions/connectx                                         2030-01-01 00:00:00  Getting Started  Knowledge        218           False  \n",
            "mpetitions/nlp-getting-started                              2030-01-01 00:00:00  Getting Started  Knowledge        811           False  \n",
            "mpetitions/spaceship-titanic                                2030-01-01 00:00:00  Getting Started  Knowledge       1416           False  \n",
            "mpetitions/competitive-data-science-predict-future-sales    2022-12-31 23:59:00  Playground           Kudos      14556            True  \n",
            "mpetitions/kore-2022                                        2022-07-12 23:59:00  Featured           $15,000         18           False  \n",
            "mpetitions/jpx-tokyo-stock-exchange-prediction              2022-07-05 23:59:00  Featured           $63,000        330           False  \n",
            "mpetitions/phase-ii-widsdatathon2022                        2022-06-30 23:59:00  Analytics            Kudos          0           False  \n",
            "mpetitions/us-patent-phrase-to-phrase-matching              2022-06-20 23:59:00  Featured           $25,000        552           False  \n",
            "mpetitions/image-matching-challenge-2022                    2022-06-02 23:59:00  Research           $10,000        101           False  \n",
            "mpetitions/herbarium-2022-fgvc9                             2022-05-30 23:59:00  Research         Knowledge         92           False  \n",
            "mpetitions/iwildcam2022-fgvc9                               2022-05-30 23:59:00  Research         Knowledge          4           False  \n",
            "mpetitions/sorghum-id-fgvc-9                                2022-05-30 23:59:00  Research         Knowledge        123           False  \n",
            "mpetitions/hotel-id-to-combat-human-trafficking-2022-fgvc9  2022-05-30 23:59:00  Research         Knowledge         23           False  \n"
          ]
        }
      ]
    },
    {
      "cell_type": "markdown",
      "source": [
        "Ура! Теперь мы научились этим пользоваться. Также через этот инстумент можно кидать submit файлы на скор, скачивать данные без посредников. Сейчас попробуем так сделать и скачаем данные для нашей домашней работы без хитрых выкачиваний на диски или (не дай бог) на локальную машину https://www.kaggle.com/docs/api"
      ],
      "metadata": {
        "id": "AAPHF0_RWXgR"
      }
    },
    {
      "cell_type": "code",
      "source": [
        "! kaggle datasets download -d gspmoreira/articles-sharing-reading-from-cit-deskdrop"
      ],
      "metadata": {
        "id": "1sA9qmZbRBW1",
        "colab": {
          "base_uri": "https://localhost:8080/"
        },
        "outputId": "068be2b5-08c2-4aee-b0c5-15b17f35fd15"
      },
      "execution_count": null,
      "outputs": [
        {
          "output_type": "stream",
          "name": "stdout",
          "text": [
            "Downloading articles-sharing-reading-from-cit-deskdrop.zip to /content\n",
            "\r  0% 0.00/8.20M [00:00<?, ?B/s]\n",
            "\r100% 8.20M/8.20M [00:00<00:00, 86.4MB/s]\n"
          ]
        }
      ]
    },
    {
      "cell_type": "code",
      "source": [
        "! unzip articles-sharing-reading-from-cit-deskdrop.zip"
      ],
      "metadata": {
        "id": "qlv2Ws5yRBZb",
        "colab": {
          "base_uri": "https://localhost:8080/"
        },
        "outputId": "08f2c71d-178a-4878-e0ea-3b48e236ea0b"
      },
      "execution_count": null,
      "outputs": [
        {
          "output_type": "stream",
          "name": "stdout",
          "text": [
            "Archive:  articles-sharing-reading-from-cit-deskdrop.zip\n",
            "  inflating: shared_articles.csv     \n",
            "  inflating: users_interactions.csv  \n"
          ]
        }
      ]
    },
    {
      "cell_type": "markdown",
      "source": [
        "**Ура, мы можем работать!**"
      ],
      "metadata": {
        "id": "D7psFWmsWwtn"
      }
    },
    {
      "cell_type": "code",
      "metadata": {
        "id": "ywrVWuT6qQxC",
        "colab": {
          "base_uri": "https://localhost:8080/"
        },
        "outputId": "796e91ea-bd05-4746-a19f-18bd0611d144"
      },
      "source": [
        "!pip3 -q install cython\n",
        "!pip3 -q install git+https://github.com/coreylynch/pyFM\n",
        "!pip3 -q install catboost"
      ],
      "execution_count": null,
      "outputs": [
        {
          "output_type": "stream",
          "name": "stdout",
          "text": [
            "  Building wheel for pyfm (setup.py) ... \u001b[?25l\u001b[?25hdone\n",
            "\u001b[K     |████████████████████████████████| 76.6 MB 1.1 MB/s \n",
            "\u001b[?25h"
          ]
        }
      ]
    },
    {
      "cell_type": "markdown",
      "metadata": {
        "id": "xLkQJwKV7NUF"
      },
      "source": [
        "Мы загрузили Deskdrop dataset, включающийся в себе логи за 1 год платформы, где пользователи читают статьи.\n",
        "\n",
        "Данные включают в себя 2 файла:  \n",
        "- **shared_articles.csv**\n",
        "- **users_interactions.csv**\n",
        "\n",
        "Как можно догадаться, в одном описания самих статей (нам понадобятся в контентных моделях), а в другом логи пользователей."
      ]
    },
    {
      "cell_type": "markdown",
      "metadata": {
        "id": "nWFKbw3a7NUG"
      },
      "source": [
        "#### shared_articles.csv"
      ]
    },
    {
      "cell_type": "markdown",
      "metadata": {
        "id": "6VKC0fE97NUG"
      },
      "source": [
        "Так как в файле перечислены даже удалённые статьи, то мы их сразу удалим (на самом деле они могли бы быть нам полезны для подсчёта различных величин, хоть мы и не можем их рекомендовать)."
      ]
    },
    {
      "cell_type": "code",
      "metadata": {
        "colab": {
          "base_uri": "https://localhost:8080/",
          "height": 437
        },
        "id": "BArQeGip7NUG",
        "outputId": "8d400c2b-a7e1-4bf0-d82f-3422e89baf4b"
      },
      "source": [
        "articles_df = pd.read_csv('shared_articles.csv')\n",
        "articles_df = articles_df[articles_df['eventType'] == 'CONTENT SHARED']\n",
        "articles_df.head(2)"
      ],
      "execution_count": null,
      "outputs": [
        {
          "output_type": "execute_result",
          "data": {
            "text/plain": [
              "    timestamp       eventType            contentId       authorPersonId  \\\n",
              "1  1459193988  CONTENT SHARED -4110354420726924665  4340306774493623681   \n",
              "2  1459194146  CONTENT SHARED -7292285110016212249  4340306774493623681   \n",
              "\n",
              "       authorSessionId authorUserAgent authorRegion authorCountry contentType  \\\n",
              "1  8940341205206233829             NaN          NaN           NaN        HTML   \n",
              "2  8940341205206233829             NaN          NaN           NaN        HTML   \n",
              "\n",
              "                                                 url  \\\n",
              "1  http://www.nytimes.com/2016/03/28/business/dea...   \n",
              "2  http://cointelegraph.com/news/bitcoin-future-w...   \n",
              "\n",
              "                                               title  \\\n",
              "1  Ethereum, a Virtual Currency, Enables Transact...   \n",
              "2  Bitcoin Future: When GBPcoin of Branson Wins O...   \n",
              "\n",
              "                                                text lang  \n",
              "1  All of this work is still very early. The firs...   en  \n",
              "2  The alarm clock wakes me at 8:00 with stream o...   en  "
            ],
            "text/html": [
              "\n",
              "  <div id=\"df-8b8fbe6f-aebc-4af1-af7f-dfb0c7214eb9\">\n",
              "    <div class=\"colab-df-container\">\n",
              "      <div>\n",
              "<style scoped>\n",
              "    .dataframe tbody tr th:only-of-type {\n",
              "        vertical-align: middle;\n",
              "    }\n",
              "\n",
              "    .dataframe tbody tr th {\n",
              "        vertical-align: top;\n",
              "    }\n",
              "\n",
              "    .dataframe thead th {\n",
              "        text-align: right;\n",
              "    }\n",
              "</style>\n",
              "<table border=\"1\" class=\"dataframe\">\n",
              "  <thead>\n",
              "    <tr style=\"text-align: right;\">\n",
              "      <th></th>\n",
              "      <th>timestamp</th>\n",
              "      <th>eventType</th>\n",
              "      <th>contentId</th>\n",
              "      <th>authorPersonId</th>\n",
              "      <th>authorSessionId</th>\n",
              "      <th>authorUserAgent</th>\n",
              "      <th>authorRegion</th>\n",
              "      <th>authorCountry</th>\n",
              "      <th>contentType</th>\n",
              "      <th>url</th>\n",
              "      <th>title</th>\n",
              "      <th>text</th>\n",
              "      <th>lang</th>\n",
              "    </tr>\n",
              "  </thead>\n",
              "  <tbody>\n",
              "    <tr>\n",
              "      <th>1</th>\n",
              "      <td>1459193988</td>\n",
              "      <td>CONTENT SHARED</td>\n",
              "      <td>-4110354420726924665</td>\n",
              "      <td>4340306774493623681</td>\n",
              "      <td>8940341205206233829</td>\n",
              "      <td>NaN</td>\n",
              "      <td>NaN</td>\n",
              "      <td>NaN</td>\n",
              "      <td>HTML</td>\n",
              "      <td>http://www.nytimes.com/2016/03/28/business/dea...</td>\n",
              "      <td>Ethereum, a Virtual Currency, Enables Transact...</td>\n",
              "      <td>All of this work is still very early. The firs...</td>\n",
              "      <td>en</td>\n",
              "    </tr>\n",
              "    <tr>\n",
              "      <th>2</th>\n",
              "      <td>1459194146</td>\n",
              "      <td>CONTENT SHARED</td>\n",
              "      <td>-7292285110016212249</td>\n",
              "      <td>4340306774493623681</td>\n",
              "      <td>8940341205206233829</td>\n",
              "      <td>NaN</td>\n",
              "      <td>NaN</td>\n",
              "      <td>NaN</td>\n",
              "      <td>HTML</td>\n",
              "      <td>http://cointelegraph.com/news/bitcoin-future-w...</td>\n",
              "      <td>Bitcoin Future: When GBPcoin of Branson Wins O...</td>\n",
              "      <td>The alarm clock wakes me at 8:00 with stream o...</td>\n",
              "      <td>en</td>\n",
              "    </tr>\n",
              "  </tbody>\n",
              "</table>\n",
              "</div>\n",
              "      <button class=\"colab-df-convert\" onclick=\"convertToInteractive('df-8b8fbe6f-aebc-4af1-af7f-dfb0c7214eb9')\"\n",
              "              title=\"Convert this dataframe to an interactive table.\"\n",
              "              style=\"display:none;\">\n",
              "        \n",
              "  <svg xmlns=\"http://www.w3.org/2000/svg\" height=\"24px\"viewBox=\"0 0 24 24\"\n",
              "       width=\"24px\">\n",
              "    <path d=\"M0 0h24v24H0V0z\" fill=\"none\"/>\n",
              "    <path d=\"M18.56 5.44l.94 2.06.94-2.06 2.06-.94-2.06-.94-.94-2.06-.94 2.06-2.06.94zm-11 1L8.5 8.5l.94-2.06 2.06-.94-2.06-.94L8.5 2.5l-.94 2.06-2.06.94zm10 10l.94 2.06.94-2.06 2.06-.94-2.06-.94-.94-2.06-.94 2.06-2.06.94z\"/><path d=\"M17.41 7.96l-1.37-1.37c-.4-.4-.92-.59-1.43-.59-.52 0-1.04.2-1.43.59L10.3 9.45l-7.72 7.72c-.78.78-.78 2.05 0 2.83L4 21.41c.39.39.9.59 1.41.59.51 0 1.02-.2 1.41-.59l7.78-7.78 2.81-2.81c.8-.78.8-2.07 0-2.86zM5.41 20L4 18.59l7.72-7.72 1.47 1.35L5.41 20z\"/>\n",
              "  </svg>\n",
              "      </button>\n",
              "      \n",
              "  <style>\n",
              "    .colab-df-container {\n",
              "      display:flex;\n",
              "      flex-wrap:wrap;\n",
              "      gap: 12px;\n",
              "    }\n",
              "\n",
              "    .colab-df-convert {\n",
              "      background-color: #E8F0FE;\n",
              "      border: none;\n",
              "      border-radius: 50%;\n",
              "      cursor: pointer;\n",
              "      display: none;\n",
              "      fill: #1967D2;\n",
              "      height: 32px;\n",
              "      padding: 0 0 0 0;\n",
              "      width: 32px;\n",
              "    }\n",
              "\n",
              "    .colab-df-convert:hover {\n",
              "      background-color: #E2EBFA;\n",
              "      box-shadow: 0px 1px 2px rgba(60, 64, 67, 0.3), 0px 1px 3px 1px rgba(60, 64, 67, 0.15);\n",
              "      fill: #174EA6;\n",
              "    }\n",
              "\n",
              "    [theme=dark] .colab-df-convert {\n",
              "      background-color: #3B4455;\n",
              "      fill: #D2E3FC;\n",
              "    }\n",
              "\n",
              "    [theme=dark] .colab-df-convert:hover {\n",
              "      background-color: #434B5C;\n",
              "      box-shadow: 0px 1px 3px 1px rgba(0, 0, 0, 0.15);\n",
              "      filter: drop-shadow(0px 1px 2px rgba(0, 0, 0, 0.3));\n",
              "      fill: #FFFFFF;\n",
              "    }\n",
              "  </style>\n",
              "\n",
              "      <script>\n",
              "        const buttonEl =\n",
              "          document.querySelector('#df-8b8fbe6f-aebc-4af1-af7f-dfb0c7214eb9 button.colab-df-convert');\n",
              "        buttonEl.style.display =\n",
              "          google.colab.kernel.accessAllowed ? 'block' : 'none';\n",
              "\n",
              "        async function convertToInteractive(key) {\n",
              "          const element = document.querySelector('#df-8b8fbe6f-aebc-4af1-af7f-dfb0c7214eb9');\n",
              "          const dataTable =\n",
              "            await google.colab.kernel.invokeFunction('convertToInteractive',\n",
              "                                                     [key], {});\n",
              "          if (!dataTable) return;\n",
              "\n",
              "          const docLinkHtml = 'Like what you see? Visit the ' +\n",
              "            '<a target=\"_blank\" href=https://colab.research.google.com/notebooks/data_table.ipynb>data table notebook</a>'\n",
              "            + ' to learn more about interactive tables.';\n",
              "          element.innerHTML = '';\n",
              "          dataTable['output_type'] = 'display_data';\n",
              "          await google.colab.output.renderOutput(dataTable, element);\n",
              "          const docLink = document.createElement('div');\n",
              "          docLink.innerHTML = docLinkHtml;\n",
              "          element.appendChild(docLink);\n",
              "        }\n",
              "      </script>\n",
              "    </div>\n",
              "  </div>\n",
              "  "
            ]
          },
          "metadata": {},
          "execution_count": 33
        }
      ]
    },
    {
      "cell_type": "markdown",
      "metadata": {
        "id": "9U9bXogy7NUG"
      },
      "source": [
        "#### users_interactions.csv"
      ]
    },
    {
      "cell_type": "markdown",
      "metadata": {
        "id": "3JdRT3Fp7NUH"
      },
      "source": [
        "В колонке eventType описаны действия, которые могли совершать пользователи над статьёй:  \n",
        "- VIEW\n",
        "- LIKE\n",
        "- COMMENT CREATED\n",
        "- FOLLOW\n",
        "- BOOKMARK"
      ]
    },
    {
      "cell_type": "code",
      "metadata": {
        "colab": {
          "base_uri": "https://localhost:8080/",
          "height": 459
        },
        "id": "Ou_s98f37NUH",
        "outputId": "a699ddc2-9157-48fc-9349-f16b81ceb5f9"
      },
      "source": [
        "interactions_df = pd.read_csv('users_interactions.csv')\n",
        "interactions_df.head(10)"
      ],
      "execution_count": null,
      "outputs": [
        {
          "output_type": "execute_result",
          "data": {
            "text/plain": [
              "    timestamp eventType            contentId             personId  \\\n",
              "0  1465413032      VIEW -3499919498720038879 -8845298781299428018   \n",
              "1  1465412560      VIEW  8890720798209849691 -1032019229384696495   \n",
              "2  1465416190      VIEW   310515487419366995 -1130272294246983140   \n",
              "3  1465413895    FOLLOW   310515487419366995   344280948527967603   \n",
              "4  1465412290      VIEW -7820640624231356730  -445337111692715325   \n",
              "5  1465413742      VIEW   310515487419366995 -8763398617720485024   \n",
              "6  1465415950      VIEW -8864073373672512525  3609194402293569455   \n",
              "7  1465415066      VIEW -1492913151930215984  4254153380739593270   \n",
              "8  1465413762      VIEW   310515487419366995   344280948527967603   \n",
              "9  1465413771      VIEW  3064370296170038610  3609194402293569455   \n",
              "\n",
              "             sessionId                                          userAgent  \\\n",
              "0  1264196770339959068                                                NaN   \n",
              "1  3621737643587579081  Mozilla/5.0 (Macintosh; Intel Mac OS X 10_11_2...   \n",
              "2  2631864456530402479                                                NaN   \n",
              "3 -3167637573980064150                                                NaN   \n",
              "4  5611481178424124714                                                NaN   \n",
              "5  1395789369402380392  Mozilla/5.0 (Windows NT 10.0; WOW64) AppleWebK...   \n",
              "6  1143207167886864524                                                NaN   \n",
              "7  8743229464706506141  Mozilla/5.0 (X11; Linux x86_64) AppleWebKit/53...   \n",
              "8 -3167637573980064150                                                NaN   \n",
              "9  1143207167886864524                                                NaN   \n",
              "\n",
              "  userRegion userCountry  \n",
              "0        NaN         NaN  \n",
              "1         NY          US  \n",
              "2        NaN         NaN  \n",
              "3        NaN         NaN  \n",
              "4        NaN         NaN  \n",
              "5         MG          BR  \n",
              "6        NaN         NaN  \n",
              "7         SP          BR  \n",
              "8        NaN         NaN  \n",
              "9        NaN         NaN  "
            ],
            "text/html": [
              "\n",
              "  <div id=\"df-ecc835ae-03a1-49a3-b870-336d0ac8b6e4\">\n",
              "    <div class=\"colab-df-container\">\n",
              "      <div>\n",
              "<style scoped>\n",
              "    .dataframe tbody tr th:only-of-type {\n",
              "        vertical-align: middle;\n",
              "    }\n",
              "\n",
              "    .dataframe tbody tr th {\n",
              "        vertical-align: top;\n",
              "    }\n",
              "\n",
              "    .dataframe thead th {\n",
              "        text-align: right;\n",
              "    }\n",
              "</style>\n",
              "<table border=\"1\" class=\"dataframe\">\n",
              "  <thead>\n",
              "    <tr style=\"text-align: right;\">\n",
              "      <th></th>\n",
              "      <th>timestamp</th>\n",
              "      <th>eventType</th>\n",
              "      <th>contentId</th>\n",
              "      <th>personId</th>\n",
              "      <th>sessionId</th>\n",
              "      <th>userAgent</th>\n",
              "      <th>userRegion</th>\n",
              "      <th>userCountry</th>\n",
              "    </tr>\n",
              "  </thead>\n",
              "  <tbody>\n",
              "    <tr>\n",
              "      <th>0</th>\n",
              "      <td>1465413032</td>\n",
              "      <td>VIEW</td>\n",
              "      <td>-3499919498720038879</td>\n",
              "      <td>-8845298781299428018</td>\n",
              "      <td>1264196770339959068</td>\n",
              "      <td>NaN</td>\n",
              "      <td>NaN</td>\n",
              "      <td>NaN</td>\n",
              "    </tr>\n",
              "    <tr>\n",
              "      <th>1</th>\n",
              "      <td>1465412560</td>\n",
              "      <td>VIEW</td>\n",
              "      <td>8890720798209849691</td>\n",
              "      <td>-1032019229384696495</td>\n",
              "      <td>3621737643587579081</td>\n",
              "      <td>Mozilla/5.0 (Macintosh; Intel Mac OS X 10_11_2...</td>\n",
              "      <td>NY</td>\n",
              "      <td>US</td>\n",
              "    </tr>\n",
              "    <tr>\n",
              "      <th>2</th>\n",
              "      <td>1465416190</td>\n",
              "      <td>VIEW</td>\n",
              "      <td>310515487419366995</td>\n",
              "      <td>-1130272294246983140</td>\n",
              "      <td>2631864456530402479</td>\n",
              "      <td>NaN</td>\n",
              "      <td>NaN</td>\n",
              "      <td>NaN</td>\n",
              "    </tr>\n",
              "    <tr>\n",
              "      <th>3</th>\n",
              "      <td>1465413895</td>\n",
              "      <td>FOLLOW</td>\n",
              "      <td>310515487419366995</td>\n",
              "      <td>344280948527967603</td>\n",
              "      <td>-3167637573980064150</td>\n",
              "      <td>NaN</td>\n",
              "      <td>NaN</td>\n",
              "      <td>NaN</td>\n",
              "    </tr>\n",
              "    <tr>\n",
              "      <th>4</th>\n",
              "      <td>1465412290</td>\n",
              "      <td>VIEW</td>\n",
              "      <td>-7820640624231356730</td>\n",
              "      <td>-445337111692715325</td>\n",
              "      <td>5611481178424124714</td>\n",
              "      <td>NaN</td>\n",
              "      <td>NaN</td>\n",
              "      <td>NaN</td>\n",
              "    </tr>\n",
              "    <tr>\n",
              "      <th>5</th>\n",
              "      <td>1465413742</td>\n",
              "      <td>VIEW</td>\n",
              "      <td>310515487419366995</td>\n",
              "      <td>-8763398617720485024</td>\n",
              "      <td>1395789369402380392</td>\n",
              "      <td>Mozilla/5.0 (Windows NT 10.0; WOW64) AppleWebK...</td>\n",
              "      <td>MG</td>\n",
              "      <td>BR</td>\n",
              "    </tr>\n",
              "    <tr>\n",
              "      <th>6</th>\n",
              "      <td>1465415950</td>\n",
              "      <td>VIEW</td>\n",
              "      <td>-8864073373672512525</td>\n",
              "      <td>3609194402293569455</td>\n",
              "      <td>1143207167886864524</td>\n",
              "      <td>NaN</td>\n",
              "      <td>NaN</td>\n",
              "      <td>NaN</td>\n",
              "    </tr>\n",
              "    <tr>\n",
              "      <th>7</th>\n",
              "      <td>1465415066</td>\n",
              "      <td>VIEW</td>\n",
              "      <td>-1492913151930215984</td>\n",
              "      <td>4254153380739593270</td>\n",
              "      <td>8743229464706506141</td>\n",
              "      <td>Mozilla/5.0 (X11; Linux x86_64) AppleWebKit/53...</td>\n",
              "      <td>SP</td>\n",
              "      <td>BR</td>\n",
              "    </tr>\n",
              "    <tr>\n",
              "      <th>8</th>\n",
              "      <td>1465413762</td>\n",
              "      <td>VIEW</td>\n",
              "      <td>310515487419366995</td>\n",
              "      <td>344280948527967603</td>\n",
              "      <td>-3167637573980064150</td>\n",
              "      <td>NaN</td>\n",
              "      <td>NaN</td>\n",
              "      <td>NaN</td>\n",
              "    </tr>\n",
              "    <tr>\n",
              "      <th>9</th>\n",
              "      <td>1465413771</td>\n",
              "      <td>VIEW</td>\n",
              "      <td>3064370296170038610</td>\n",
              "      <td>3609194402293569455</td>\n",
              "      <td>1143207167886864524</td>\n",
              "      <td>NaN</td>\n",
              "      <td>NaN</td>\n",
              "      <td>NaN</td>\n",
              "    </tr>\n",
              "  </tbody>\n",
              "</table>\n",
              "</div>\n",
              "      <button class=\"colab-df-convert\" onclick=\"convertToInteractive('df-ecc835ae-03a1-49a3-b870-336d0ac8b6e4')\"\n",
              "              title=\"Convert this dataframe to an interactive table.\"\n",
              "              style=\"display:none;\">\n",
              "        \n",
              "  <svg xmlns=\"http://www.w3.org/2000/svg\" height=\"24px\"viewBox=\"0 0 24 24\"\n",
              "       width=\"24px\">\n",
              "    <path d=\"M0 0h24v24H0V0z\" fill=\"none\"/>\n",
              "    <path d=\"M18.56 5.44l.94 2.06.94-2.06 2.06-.94-2.06-.94-.94-2.06-.94 2.06-2.06.94zm-11 1L8.5 8.5l.94-2.06 2.06-.94-2.06-.94L8.5 2.5l-.94 2.06-2.06.94zm10 10l.94 2.06.94-2.06 2.06-.94-2.06-.94-.94-2.06-.94 2.06-2.06.94z\"/><path d=\"M17.41 7.96l-1.37-1.37c-.4-.4-.92-.59-1.43-.59-.52 0-1.04.2-1.43.59L10.3 9.45l-7.72 7.72c-.78.78-.78 2.05 0 2.83L4 21.41c.39.39.9.59 1.41.59.51 0 1.02-.2 1.41-.59l7.78-7.78 2.81-2.81c.8-.78.8-2.07 0-2.86zM5.41 20L4 18.59l7.72-7.72 1.47 1.35L5.41 20z\"/>\n",
              "  </svg>\n",
              "      </button>\n",
              "      \n",
              "  <style>\n",
              "    .colab-df-container {\n",
              "      display:flex;\n",
              "      flex-wrap:wrap;\n",
              "      gap: 12px;\n",
              "    }\n",
              "\n",
              "    .colab-df-convert {\n",
              "      background-color: #E8F0FE;\n",
              "      border: none;\n",
              "      border-radius: 50%;\n",
              "      cursor: pointer;\n",
              "      display: none;\n",
              "      fill: #1967D2;\n",
              "      height: 32px;\n",
              "      padding: 0 0 0 0;\n",
              "      width: 32px;\n",
              "    }\n",
              "\n",
              "    .colab-df-convert:hover {\n",
              "      background-color: #E2EBFA;\n",
              "      box-shadow: 0px 1px 2px rgba(60, 64, 67, 0.3), 0px 1px 3px 1px rgba(60, 64, 67, 0.15);\n",
              "      fill: #174EA6;\n",
              "    }\n",
              "\n",
              "    [theme=dark] .colab-df-convert {\n",
              "      background-color: #3B4455;\n",
              "      fill: #D2E3FC;\n",
              "    }\n",
              "\n",
              "    [theme=dark] .colab-df-convert:hover {\n",
              "      background-color: #434B5C;\n",
              "      box-shadow: 0px 1px 3px 1px rgba(0, 0, 0, 0.15);\n",
              "      filter: drop-shadow(0px 1px 2px rgba(0, 0, 0, 0.3));\n",
              "      fill: #FFFFFF;\n",
              "    }\n",
              "  </style>\n",
              "\n",
              "      <script>\n",
              "        const buttonEl =\n",
              "          document.querySelector('#df-ecc835ae-03a1-49a3-b870-336d0ac8b6e4 button.colab-df-convert');\n",
              "        buttonEl.style.display =\n",
              "          google.colab.kernel.accessAllowed ? 'block' : 'none';\n",
              "\n",
              "        async function convertToInteractive(key) {\n",
              "          const element = document.querySelector('#df-ecc835ae-03a1-49a3-b870-336d0ac8b6e4');\n",
              "          const dataTable =\n",
              "            await google.colab.kernel.invokeFunction('convertToInteractive',\n",
              "                                                     [key], {});\n",
              "          if (!dataTable) return;\n",
              "\n",
              "          const docLinkHtml = 'Like what you see? Visit the ' +\n",
              "            '<a target=\"_blank\" href=https://colab.research.google.com/notebooks/data_table.ipynb>data table notebook</a>'\n",
              "            + ' to learn more about interactive tables.';\n",
              "          element.innerHTML = '';\n",
              "          dataTable['output_type'] = 'display_data';\n",
              "          await google.colab.output.renderOutput(dataTable, element);\n",
              "          const docLink = document.createElement('div');\n",
              "          docLink.innerHTML = docLinkHtml;\n",
              "          element.appendChild(docLink);\n",
              "        }\n",
              "      </script>\n",
              "    </div>\n",
              "  </div>\n",
              "  "
            ]
          },
          "metadata": {},
          "execution_count": 34
        }
      ]
    },
    {
      "cell_type": "code",
      "metadata": {
        "id": "CL9lEVCX7NUH"
      },
      "source": [
        "interactions_df.personId = interactions_df.personId.astype(str)\n",
        "interactions_df.contentId = interactions_df.contentId.astype(str)\n",
        "articles_df.contentId = articles_df.contentId.astype(str)"
      ],
      "execution_count": null,
      "outputs": []
    },
    {
      "cell_type": "markdown",
      "metadata": {
        "id": "WBuwRpLT7NUH"
      },
      "source": [
        "### Предобработка данных"
      ]
    },
    {
      "cell_type": "markdown",
      "metadata": {
        "id": "TJR_6LkW7NUH"
      },
      "source": [
        "В логах встречаются различные действия пользователей. Однако мы хотим работать лишь с одной величиной, характеризующей всё взаимодействие пользователя со статьёй. Предлагается задать действиям следующие веса:"
      ]
    },
    {
      "cell_type": "code",
      "metadata": {
        "id": "_7ils2bV7NUI"
      },
      "source": [
        "event_type_strength = {\n",
        "   'VIEW': 1.0,\n",
        "   'LIKE': 2.0, \n",
        "   'BOOKMARK': 2.5, \n",
        "   'FOLLOW': 3.0,\n",
        "   'COMMENT CREATED': 4.0,  \n",
        "}"
      ],
      "execution_count": null,
      "outputs": []
    },
    {
      "cell_type": "markdown",
      "metadata": {
        "id": "XNQQ0ZiP7NUI"
      },
      "source": [
        "Посчитаем числовую величину \"оценки\" пользователем статьи с указанными выше весами."
      ]
    },
    {
      "cell_type": "code",
      "metadata": {
        "colab": {
          "base_uri": "https://localhost:8080/"
        },
        "id": "Ze3VeqBt7NUI",
        "outputId": "44831b2d-776f-4dea-b2e5-6dbc4dc7f879"
      },
      "source": [
        "# interactions_df['eventStrength'] =\n",
        "####### Здесь ваш код ##########\n",
        "interactions_df['eventStrength'] = interactions_df.eventType.apply(lambda x: event_type_strength[x])\n",
        "################################\n",
        "interactions_df['eventStrength']"
      ],
      "execution_count": null,
      "outputs": [
        {
          "output_type": "execute_result",
          "data": {
            "text/plain": [
              "0        1.0\n",
              "1        1.0\n",
              "2        1.0\n",
              "3        3.0\n",
              "4        1.0\n",
              "        ... \n",
              "72307    2.0\n",
              "72308    1.0\n",
              "72309    1.0\n",
              "72310    1.0\n",
              "72311    1.0\n",
              "Name: eventStrength, Length: 72312, dtype: float64"
            ]
          },
          "metadata": {},
          "execution_count": 13
        }
      ]
    },
    {
      "cell_type": "markdown",
      "metadata": {
        "id": "PCq8b_uW7NUI"
      },
      "source": [
        "Ремендательные системы подвержены проблеме холодного старта. Будем работать только с теми пользователями, которые взаимодействовали хотя бы с 5-ю материалами.\n",
        "\n",
        "Оставим только таких пользователей."
      ]
    },
    {
      "cell_type": "code",
      "metadata": {
        "colab": {
          "base_uri": "https://localhost:8080/"
        },
        "id": "5Pl5RgXO7NUI",
        "outputId": "ce839b89-eabe-41bc-82c2-2b86e93c1e40"
      },
      "source": [
        "users_interactions_count_df = (\n",
        "    interactions_df\n",
        "    .groupby(['personId', 'contentId'])\n",
        "    .first()\n",
        "    .reset_index()\n",
        "    .groupby('personId').size())\n",
        "print('# users:', len(users_interactions_count_df))\n",
        "\n",
        "users_with_enough_interactions_df = \\\n",
        "    users_interactions_count_df[users_interactions_count_df >= 5].reset_index()[['personId']]\n",
        "print('# users with at least 5 interactions:',len(users_with_enough_interactions_df))"
      ],
      "execution_count": null,
      "outputs": [
        {
          "output_type": "stream",
          "name": "stdout",
          "text": [
            "# users: 1895\n",
            "# users with at least 5 interactions: 1140\n"
          ]
        }
      ]
    },
    {
      "cell_type": "code",
      "metadata": {
        "colab": {
          "base_uri": "https://localhost:8080/",
          "height": 283
        },
        "id": "w-5mU7u57NUJ",
        "outputId": "55247c51-cf3d-4397-f5c0-912b70c39bd8"
      },
      "source": [
        "users_interactions_count_df.hist(bins=30)"
      ],
      "execution_count": null,
      "outputs": [
        {
          "output_type": "execute_result",
          "data": {
            "text/plain": [
              "<matplotlib.axes._subplots.AxesSubplot at 0x7f9ef19de9d0>"
            ]
          },
          "metadata": {},
          "execution_count": 15
        },
        {
          "output_type": "display_data",
          "data": {
            "text/plain": [
              "<Figure size 432x288 with 1 Axes>"
            ],
            "image/png": "[encoded data removed]"
          },
          "metadata": {
            "needs_background": "light"
          }
        }
      ]
    },
    {
      "cell_type": "markdown",
      "metadata": {
        "id": "x3ZW29Im7NUJ"
      },
      "source": [
        "Оставим только те взаимодействия, которые касаются только отфильтрованных пользователей."
      ]
    },
    {
      "cell_type": "code",
      "metadata": {
        "id": "mR2-emAt7NUJ"
      },
      "source": [
        "# interactions_from_selected_users_df =\n",
        "####### Здесь ваш код ##########\n",
        "interactions_from_selected_users_df = interactions_df.loc[np.in1d(interactions_df.personId,\n",
        "            users_with_enough_interactions_df)]\n",
        "################################"
      ],
      "execution_count": null,
      "outputs": []
    },
    {
      "cell_type": "code",
      "metadata": {
        "colab": {
          "base_uri": "https://localhost:8080/"
        },
        "id": "uFOf9qgX7NUJ",
        "outputId": "c7b86cd6-5b28-4641-e17d-9dff869d3560"
      },
      "source": [
        "print('# interactions before:', interactions_df.shape)\n",
        "print('# interactions after:', interactions_from_selected_users_df.shape)"
      ],
      "execution_count": null,
      "outputs": [
        {
          "output_type": "stream",
          "name": "stdout",
          "text": [
            "# interactions before: (72312, 9)\n",
            "# interactions after: (69868, 9)\n"
          ]
        }
      ]
    },
    {
      "cell_type": "markdown",
      "metadata": {
        "id": "TutcpN9Y7NUJ"
      },
      "source": [
        "В данной постановке каждый пользователей мог взаимодействовать с каждой статьёй более 1 раза (как минимум совершая различные действия). Предлагается \"схлопнуть\" все действия в одно взаимодействие с весом, равным сумме весов. \n",
        "\n",
        "Однако полученное число будет в том числе тем больше, чем больше действий произвёл человек. Чтобы уменьшить разброс предлагается взять логарифм от полученного числа (можно придумывать другие веса действиям и по-другому обрабатывать значения).\n",
        "\n",
        "Также сохраним последнее значение времени взаимодействия для разделениея выборки на обучение и контроль."
      ]
    },
    {
      "cell_type": "code",
      "metadata": {
        "colab": {
          "base_uri": "https://localhost:8080/",
          "height": 677
        },
        "id": "815M8D_C7NUK",
        "outputId": "48e93d91-c336-49b2-813b-afe9f24e1f6a"
      },
      "source": [
        "def smooth_user_preference(x):\n",
        "    return math.log(1+x, 2)\n",
        "    \n",
        "interactions_full_df = (\n",
        "    interactions_from_selected_users_df\n",
        "    .groupby(['personId', 'contentId']).eventStrength.sum()\n",
        "    .apply(smooth_user_preference)\n",
        "    .reset_index().set_index(['personId', 'contentId'])\n",
        ")\n",
        "interactions_full_df['last_timestamp'] = (\n",
        "    interactions_from_selected_users_df\n",
        "    .groupby(['personId', 'contentId'])['timestamp'].last()\n",
        ")\n",
        "        \n",
        "interactions_full_df = interactions_full_df.reset_index()\n",
        "interactions_full_df.head(20)"
      ],
      "execution_count": null,
      "outputs": [
        {
          "output_type": "execute_result",
          "data": {
            "text/plain": [
              "                personId             contentId  eventStrength  last_timestamp\n",
              "0   -1007001694607905623  -5065077552540450930       1.000000      1470395911\n",
              "1   -1007001694607905623  -6623581327558800021       1.000000      1487240080\n",
              "2   -1007001694607905623   -793729620925729327       1.000000      1472834892\n",
              "3   -1007001694607905623   1469580151036142903       1.000000      1487240062\n",
              "4   -1007001694607905623   7270966256391553686       1.584963      1485994324\n",
              "5   -1007001694607905623   8729086959762650511       1.000000      1487240086\n",
              "6   -1032019229384696495  -1006791494035379303       1.000000      1469129122\n",
              "7   -1032019229384696495  -1039912738963181810       1.000000      1459376415\n",
              "8   -1032019229384696495  -1081723567492738167       2.000000      1464054093\n",
              "9   -1032019229384696495  -1111518890369033396       1.000000      1470109122\n",
              "10  -1032019229384696495  -1114438937697017987       3.584963      1463954865\n",
              "11  -1032019229384696495  -1137602700803601559       2.700440      1472077982\n",
              "12  -1032019229384696495  -1151034582628982912       2.000000      1463259775\n",
              "13  -1032019229384696495  -1249582672736761858       1.000000      1472566466\n",
              "14  -1032019229384696495  -1254906787526072320       2.321928      1464885644\n",
              "15  -1032019229384696495  -1313614305945895108       2.584963      1462025352\n",
              "16  -1032019229384696495  -1415040208471067980       2.700440      1482413824\n",
              "17  -1032019229384696495  -1453783314552286835       5.247928      1464202274\n",
              "18  -1032019229384696495  -1470592927114056630       1.000000      1460149910\n",
              "19  -1032019229384696495  -1556169727291354289       3.807355      1466029013"
            ],
            "text/html": [
              "\n",
              "  <div id=\"df-63005ae4-f4a7-4287-98b7-cca59bd8380e\">\n",
              "    <div class=\"colab-df-container\">\n",
              "      <div>\n",
              "<style scoped>\n",
              "    .dataframe tbody tr th:only-of-type {\n",
              "        vertical-align: middle;\n",
              "    }\n",
              "\n",
              "    .dataframe tbody tr th {\n",
              "        vertical-align: top;\n",
              "    }\n",
              "\n",
              "    .dataframe thead th {\n",
              "        text-align: right;\n",
              "    }\n",
              "</style>\n",
              "<table border=\"1\" class=\"dataframe\">\n",
              "  <thead>\n",
              "    <tr style=\"text-align: right;\">\n",
              "      <th></th>\n",
              "      <th>personId</th>\n",
              "      <th>contentId</th>\n",
              "      <th>eventStrength</th>\n",
              "      <th>last_timestamp</th>\n",
              "    </tr>\n",
              "  </thead>\n",
              "  <tbody>\n",
              "    <tr>\n",
              "      <th>0</th>\n",
              "      <td>-1007001694607905623</td>\n",
              "      <td>-5065077552540450930</td>\n",
              "      <td>1.000000</td>\n",
              "      <td>1470395911</td>\n",
              "    </tr>\n",
              "    <tr>\n",
              "      <th>1</th>\n",
              "      <td>-1007001694607905623</td>\n",
              "      <td>-6623581327558800021</td>\n",
              "      <td>1.000000</td>\n",
              "      <td>1487240080</td>\n",
              "    </tr>\n",
              "    <tr>\n",
              "      <th>2</th>\n",
              "      <td>-1007001694607905623</td>\n",
              "      <td>-793729620925729327</td>\n",
              "      <td>1.000000</td>\n",
              "      <td>1472834892</td>\n",
              "    </tr>\n",
              "    <tr>\n",
              "      <th>3</th>\n",
              "      <td>-1007001694607905623</td>\n",
              "      <td>1469580151036142903</td>\n",
              "      <td>1.000000</td>\n",
              "      <td>1487240062</td>\n",
              "    </tr>\n",
              "    <tr>\n",
              "      <th>4</th>\n",
              "      <td>-1007001694607905623</td>\n",
              "      <td>7270966256391553686</td>\n",
              "      <td>1.584963</td>\n",
              "      <td>1485994324</td>\n",
              "    </tr>\n",
              "    <tr>\n",
              "      <th>5</th>\n",
              "      <td>-1007001694607905623</td>\n",
              "      <td>8729086959762650511</td>\n",
              "      <td>1.000000</td>\n",
              "      <td>1487240086</td>\n",
              "    </tr>\n",
              "    <tr>\n",
              "      <th>6</th>\n",
              "      <td>-1032019229384696495</td>\n",
              "      <td>-1006791494035379303</td>\n",
              "      <td>1.000000</td>\n",
              "      <td>1469129122</td>\n",
              "    </tr>\n",
              "    <tr>\n",
              "      <th>7</th>\n",
              "      <td>-1032019229384696495</td>\n",
              "      <td>-1039912738963181810</td>\n",
              "      <td>1.000000</td>\n",
              "      <td>1459376415</td>\n",
              "    </tr>\n",
              "    <tr>\n",
              "      <th>8</th>\n",
              "      <td>-1032019229384696495</td>\n",
              "      <td>-1081723567492738167</td>\n",
              "      <td>2.000000</td>\n",
              "      <td>1464054093</td>\n",
              "    </tr>\n",
              "    <tr>\n",
              "      <th>9</th>\n",
              "      <td>-1032019229384696495</td>\n",
              "      <td>-1111518890369033396</td>\n",
              "      <td>1.000000</td>\n",
              "      <td>1470109122</td>\n",
              "    </tr>\n",
              "    <tr>\n",
              "      <th>10</th>\n",
              "      <td>-1032019229384696495</td>\n",
              "      <td>-1114438937697017987</td>\n",
              "      <td>3.584963</td>\n",
              "      <td>1463954865</td>\n",
              "    </tr>\n",
              "    <tr>\n",
              "      <th>11</th>\n",
              "      <td>-1032019229384696495</td>\n",
              "      <td>-1137602700803601559</td>\n",
              "      <td>2.700440</td>\n",
              "      <td>1472077982</td>\n",
              "    </tr>\n",
              "    <tr>\n",
              "      <th>12</th>\n",
              "      <td>-1032019229384696495</td>\n",
              "      <td>-1151034582628982912</td>\n",
              "      <td>2.000000</td>\n",
              "      <td>1463259775</td>\n",
              "    </tr>\n",
              "    <tr>\n",
              "      <th>13</th>\n",
              "      <td>-1032019229384696495</td>\n",
              "      <td>-1249582672736761858</td>\n",
              "      <td>1.000000</td>\n",
              "      <td>1472566466</td>\n",
              "    </tr>\n",
              "    <tr>\n",
              "      <th>14</th>\n",
              "      <td>-1032019229384696495</td>\n",
              "      <td>-1254906787526072320</td>\n",
              "      <td>2.321928</td>\n",
              "      <td>1464885644</td>\n",
              "    </tr>\n",
              "    <tr>\n",
              "      <th>15</th>\n",
              "      <td>-1032019229384696495</td>\n",
              "      <td>-1313614305945895108</td>\n",
              "      <td>2.584963</td>\n",
              "      <td>1462025352</td>\n",
              "    </tr>\n",
              "    <tr>\n",
              "      <th>16</th>\n",
              "      <td>-1032019229384696495</td>\n",
              "      <td>-1415040208471067980</td>\n",
              "      <td>2.700440</td>\n",
              "      <td>1482413824</td>\n",
              "    </tr>\n",
              "    <tr>\n",
              "      <th>17</th>\n",
              "      <td>-1032019229384696495</td>\n",
              "      <td>-1453783314552286835</td>\n",
              "      <td>5.247928</td>\n",
              "      <td>1464202274</td>\n",
              "    </tr>\n",
              "    <tr>\n",
              "      <th>18</th>\n",
              "      <td>-1032019229384696495</td>\n",
              "      <td>-1470592927114056630</td>\n",
              "      <td>1.000000</td>\n",
              "      <td>1460149910</td>\n",
              "    </tr>\n",
              "    <tr>\n",
              "      <th>19</th>\n",
              "      <td>-1032019229384696495</td>\n",
              "      <td>-1556169727291354289</td>\n",
              "      <td>3.807355</td>\n",
              "      <td>1466029013</td>\n",
              "    </tr>\n",
              "  </tbody>\n",
              "</table>\n",
              "</div>\n",
              "      <button class=\"colab-df-convert\" onclick=\"convertToInteractive('df-63005ae4-f4a7-4287-98b7-cca59bd8380e')\"\n",
              "              title=\"Convert this dataframe to an interactive table.\"\n",
              "              style=\"display:none;\">\n",
              "        \n",
              "  <svg xmlns=\"http://www.w3.org/2000/svg\" height=\"24px\"viewBox=\"0 0 24 24\"\n",
              "       width=\"24px\">\n",
              "    <path d=\"M0 0h24v24H0V0z\" fill=\"none\"/>\n",
              "    <path d=\"M18.56 5.44l.94 2.06.94-2.06 2.06-.94-2.06-.94-.94-2.06-.94 2.06-2.06.94zm-11 1L8.5 8.5l.94-2.06 2.06-.94-2.06-.94L8.5 2.5l-.94 2.06-2.06.94zm10 10l.94 2.06.94-2.06 2.06-.94-2.06-.94-.94-2.06-.94 2.06-2.06.94z\"/><path d=\"M17.41 7.96l-1.37-1.37c-.4-.4-.92-.59-1.43-.59-.52 0-1.04.2-1.43.59L10.3 9.45l-7.72 7.72c-.78.78-.78 2.05 0 2.83L4 21.41c.39.39.9.59 1.41.59.51 0 1.02-.2 1.41-.59l7.78-7.78 2.81-2.81c.8-.78.8-2.07 0-2.86zM5.41 20L4 18.59l7.72-7.72 1.47 1.35L5.41 20z\"/>\n",
              "  </svg>\n",
              "      </button>\n",
              "      \n",
              "  <style>\n",
              "    .colab-df-container {\n",
              "      display:flex;\n",
              "      flex-wrap:wrap;\n",
              "      gap: 12px;\n",
              "    }\n",
              "\n",
              "    .colab-df-convert {\n",
              "      background-color: #E8F0FE;\n",
              "      border: none;\n",
              "      border-radius: 50%;\n",
              "      cursor: pointer;\n",
              "      display: none;\n",
              "      fill: #1967D2;\n",
              "      height: 32px;\n",
              "      padding: 0 0 0 0;\n",
              "      width: 32px;\n",
              "    }\n",
              "\n",
              "    .colab-df-convert:hover {\n",
              "      background-color: #E2EBFA;\n",
              "      box-shadow: 0px 1px 2px rgba(60, 64, 67, 0.3), 0px 1px 3px 1px rgba(60, 64, 67, 0.15);\n",
              "      fill: #174EA6;\n",
              "    }\n",
              "\n",
              "    [theme=dark] .colab-df-convert {\n",
              "      background-color: #3B4455;\n",
              "      fill: #D2E3FC;\n",
              "    }\n",
              "\n",
              "    [theme=dark] .colab-df-convert:hover {\n",
              "      background-color: #434B5C;\n",
              "      box-shadow: 0px 1px 3px 1px rgba(0, 0, 0, 0.15);\n",
              "      filter: drop-shadow(0px 1px 2px rgba(0, 0, 0, 0.3));\n",
              "      fill: #FFFFFF;\n",
              "    }\n",
              "  </style>\n",
              "\n",
              "      <script>\n",
              "        const buttonEl =\n",
              "          document.querySelector('#df-63005ae4-f4a7-4287-98b7-cca59bd8380e button.colab-df-convert');\n",
              "        buttonEl.style.display =\n",
              "          google.colab.kernel.accessAllowed ? 'block' : 'none';\n",
              "\n",
              "        async function convertToInteractive(key) {\n",
              "          const element = document.querySelector('#df-63005ae4-f4a7-4287-98b7-cca59bd8380e');\n",
              "          const dataTable =\n",
              "            await google.colab.kernel.invokeFunction('convertToInteractive',\n",
              "                                                     [key], {});\n",
              "          if (!dataTable) return;\n",
              "\n",
              "          const docLinkHtml = 'Like what you see? Visit the ' +\n",
              "            '<a target=\"_blank\" href=https://colab.research.google.com/notebooks/data_table.ipynb>data table notebook</a>'\n",
              "            + ' to learn more about interactive tables.';\n",
              "          element.innerHTML = '';\n",
              "          dataTable['output_type'] = 'display_data';\n",
              "          await google.colab.output.renderOutput(dataTable, element);\n",
              "          const docLink = document.createElement('div');\n",
              "          docLink.innerHTML = docLinkHtml;\n",
              "          element.appendChild(docLink);\n",
              "        }\n",
              "      </script>\n",
              "    </div>\n",
              "  </div>\n",
              "  "
            ]
          },
          "metadata": {},
          "execution_count": 18
        }
      ]
    },
    {
      "cell_type": "markdown",
      "metadata": {
        "id": "MxI6btUS7NUK"
      },
      "source": [
        "Разобьём выборку на обучение и контроль по времени."
      ]
    },
    {
      "cell_type": "code",
      "metadata": {
        "colab": {
          "base_uri": "https://localhost:8080/",
          "height": 458
        },
        "id": "bXiUzchy7NUK",
        "outputId": "2d0b7fc9-1500-42eb-eec3-685b0f9f78cb"
      },
      "source": [
        "from sklearn.model_selection import train_test_split\n",
        "\n",
        "split_ts = 1475519530\n",
        "interactions_train_df = interactions_full_df.loc[interactions_full_df.last_timestamp < split_ts].copy()\n",
        "interactions_test_df = interactions_full_df.loc[interactions_full_df.last_timestamp >= split_ts].copy()\n",
        "\n",
        "print('# interactions on Train set: %d' % len(interactions_train_df))\n",
        "print('# interactions on Test set: %d' % len(interactions_test_df))\n",
        "\n",
        "interactions_train_df"
      ],
      "execution_count": null,
      "outputs": [
        {
          "output_type": "stream",
          "name": "stdout",
          "text": [
            "# interactions on Train set: 29329\n",
            "# interactions on Test set: 9777\n"
          ]
        },
        {
          "output_type": "execute_result",
          "data": {
            "text/plain": [
              "                   personId             contentId  eventStrength  \\\n",
              "0      -1007001694607905623  -5065077552540450930            1.0   \n",
              "2      -1007001694607905623   -793729620925729327            1.0   \n",
              "6      -1032019229384696495  -1006791494035379303            1.0   \n",
              "7      -1032019229384696495  -1039912738963181810            1.0   \n",
              "8      -1032019229384696495  -1081723567492738167            2.0   \n",
              "...                     ...                   ...            ...   \n",
              "39099    997469202936578234   9112765177685685246            2.0   \n",
              "39100    998688566268269815  -1255189867397298842            1.0   \n",
              "39101    998688566268269815   -401664538366009049            1.0   \n",
              "39103    998688566268269815   6881796783400625893            1.0   \n",
              "39105    998688566268269815    739747367187387064            1.0   \n",
              "\n",
              "       last_timestamp  \n",
              "0          1470395911  \n",
              "2          1472834892  \n",
              "6          1469129122  \n",
              "7          1459376415  \n",
              "8          1464054093  \n",
              "...               ...  \n",
              "39099      1472479493  \n",
              "39100      1474567164  \n",
              "39101      1474567449  \n",
              "39103      1474567675  \n",
              "39105      1474567514  \n",
              "\n",
              "[29329 rows x 4 columns]"
            ],
            "text/html": [
              "\n",
              "  <div id=\"df-a921ef0c-64bb-4a56-9005-8cf96169e4e3\">\n",
              "    <div class=\"colab-df-container\">\n",
              "      <div>\n",
              "<style scoped>\n",
              "    .dataframe tbody tr th:only-of-type {\n",
              "        vertical-align: middle;\n",
              "    }\n",
              "\n",
              "    .dataframe tbody tr th {\n",
              "        vertical-align: top;\n",
              "    }\n",
              "\n",
              "    .dataframe thead th {\n",
              "        text-align: right;\n",
              "    }\n",
              "</style>\n",
              "<table border=\"1\" class=\"dataframe\">\n",
              "  <thead>\n",
              "    <tr style=\"text-align: right;\">\n",
              "      <th></th>\n",
              "      <th>personId</th>\n",
              "      <th>contentId</th>\n",
              "      <th>eventStrength</th>\n",
              "      <th>last_timestamp</th>\n",
              "    </tr>\n",
              "  </thead>\n",
              "  <tbody>\n",
              "    <tr>\n",
              "      <th>0</th>\n",
              "      <td>-1007001694607905623</td>\n",
              "      <td>-5065077552540450930</td>\n",
              "      <td>1.0</td>\n",
              "      <td>1470395911</td>\n",
              "    </tr>\n",
              "    <tr>\n",
              "      <th>2</th>\n",
              "      <td>-1007001694607905623</td>\n",
              "      <td>-793729620925729327</td>\n",
              "      <td>1.0</td>\n",
              "      <td>1472834892</td>\n",
              "    </tr>\n",
              "    <tr>\n",
              "      <th>6</th>\n",
              "      <td>-1032019229384696495</td>\n",
              "      <td>-1006791494035379303</td>\n",
              "      <td>1.0</td>\n",
              "      <td>1469129122</td>\n",
              "    </tr>\n",
              "    <tr>\n",
              "      <th>7</th>\n",
              "      <td>-1032019229384696495</td>\n",
              "      <td>-1039912738963181810</td>\n",
              "      <td>1.0</td>\n",
              "      <td>1459376415</td>\n",
              "    </tr>\n",
              "    <tr>\n",
              "      <th>8</th>\n",
              "      <td>-1032019229384696495</td>\n",
              "      <td>-1081723567492738167</td>\n",
              "      <td>2.0</td>\n",
              "      <td>1464054093</td>\n",
              "    </tr>\n",
              "    <tr>\n",
              "      <th>...</th>\n",
              "      <td>...</td>\n",
              "      <td>...</td>\n",
              "      <td>...</td>\n",
              "      <td>...</td>\n",
              "    </tr>\n",
              "    <tr>\n",
              "      <th>39099</th>\n",
              "      <td>997469202936578234</td>\n",
              "      <td>9112765177685685246</td>\n",
              "      <td>2.0</td>\n",
              "      <td>1472479493</td>\n",
              "    </tr>\n",
              "    <tr>\n",
              "      <th>39100</th>\n",
              "      <td>998688566268269815</td>\n",
              "      <td>-1255189867397298842</td>\n",
              "      <td>1.0</td>\n",
              "      <td>1474567164</td>\n",
              "    </tr>\n",
              "    <tr>\n",
              "      <th>39101</th>\n",
              "      <td>998688566268269815</td>\n",
              "      <td>-401664538366009049</td>\n",
              "      <td>1.0</td>\n",
              "      <td>1474567449</td>\n",
              "    </tr>\n",
              "    <tr>\n",
              "      <th>39103</th>\n",
              "      <td>998688566268269815</td>\n",
              "      <td>6881796783400625893</td>\n",
              "      <td>1.0</td>\n",
              "      <td>1474567675</td>\n",
              "    </tr>\n",
              "    <tr>\n",
              "      <th>39105</th>\n",
              "      <td>998688566268269815</td>\n",
              "      <td>739747367187387064</td>\n",
              "      <td>1.0</td>\n",
              "      <td>1474567514</td>\n",
              "    </tr>\n",
              "  </tbody>\n",
              "</table>\n",
              "<p>29329 rows × 4 columns</p>\n",
              "</div>\n",
              "      <button class=\"colab-df-convert\" onclick=\"convertToInteractive('df-a921ef0c-64bb-4a56-9005-8cf96169e4e3')\"\n",
              "              title=\"Convert this dataframe to an interactive table.\"\n",
              "              style=\"display:none;\">\n",
              "        \n",
              "  <svg xmlns=\"http://www.w3.org/2000/svg\" height=\"24px\"viewBox=\"0 0 24 24\"\n",
              "       width=\"24px\">\n",
              "    <path d=\"M0 0h24v24H0V0z\" fill=\"none\"/>\n",
              "    <path d=\"M18.56 5.44l.94 2.06.94-2.06 2.06-.94-2.06-.94-.94-2.06-.94 2.06-2.06.94zm-11 1L8.5 8.5l.94-2.06 2.06-.94-2.06-.94L8.5 2.5l-.94 2.06-2.06.94zm10 10l.94 2.06.94-2.06 2.06-.94-2.06-.94-.94-2.06-.94 2.06-2.06.94z\"/><path d=\"M17.41 7.96l-1.37-1.37c-.4-.4-.92-.59-1.43-.59-.52 0-1.04.2-1.43.59L10.3 9.45l-7.72 7.72c-.78.78-.78 2.05 0 2.83L4 21.41c.39.39.9.59 1.41.59.51 0 1.02-.2 1.41-.59l7.78-7.78 2.81-2.81c.8-.78.8-2.07 0-2.86zM5.41 20L4 18.59l7.72-7.72 1.47 1.35L5.41 20z\"/>\n",
              "  </svg>\n",
              "      </button>\n",
              "      \n",
              "  <style>\n",
              "    .colab-df-container {\n",
              "      display:flex;\n",
              "      flex-wrap:wrap;\n",
              "      gap: 12px;\n",
              "    }\n",
              "\n",
              "    .colab-df-convert {\n",
              "      background-color: #E8F0FE;\n",
              "      border: none;\n",
              "      border-radius: 50%;\n",
              "      cursor: pointer;\n",
              "      display: none;\n",
              "      fill: #1967D2;\n",
              "      height: 32px;\n",
              "      padding: 0 0 0 0;\n",
              "      width: 32px;\n",
              "    }\n",
              "\n",
              "    .colab-df-convert:hover {\n",
              "      background-color: #E2EBFA;\n",
              "      box-shadow: 0px 1px 2px rgba(60, 64, 67, 0.3), 0px 1px 3px 1px rgba(60, 64, 67, 0.15);\n",
              "      fill: #174EA6;\n",
              "    }\n",
              "\n",
              "    [theme=dark] .colab-df-convert {\n",
              "      background-color: #3B4455;\n",
              "      fill: #D2E3FC;\n",
              "    }\n",
              "\n",
              "    [theme=dark] .colab-df-convert:hover {\n",
              "      background-color: #434B5C;\n",
              "      box-shadow: 0px 1px 3px 1px rgba(0, 0, 0, 0.15);\n",
              "      filter: drop-shadow(0px 1px 2px rgba(0, 0, 0, 0.3));\n",
              "      fill: #FFFFFF;\n",
              "    }\n",
              "  </style>\n",
              "\n",
              "      <script>\n",
              "        const buttonEl =\n",
              "          document.querySelector('#df-a921ef0c-64bb-4a56-9005-8cf96169e4e3 button.colab-df-convert');\n",
              "        buttonEl.style.display =\n",
              "          google.colab.kernel.accessAllowed ? 'block' : 'none';\n",
              "\n",
              "        async function convertToInteractive(key) {\n",
              "          const element = document.querySelector('#df-a921ef0c-64bb-4a56-9005-8cf96169e4e3');\n",
              "          const dataTable =\n",
              "            await google.colab.kernel.invokeFunction('convertToInteractive',\n",
              "                                                     [key], {});\n",
              "          if (!dataTable) return;\n",
              "\n",
              "          const docLinkHtml = 'Like what you see? Visit the ' +\n",
              "            '<a target=\"_blank\" href=https://colab.research.google.com/notebooks/data_table.ipynb>data table notebook</a>'\n",
              "            + ' to learn more about interactive tables.';\n",
              "          element.innerHTML = '';\n",
              "          dataTable['output_type'] = 'display_data';\n",
              "          await google.colab.output.renderOutput(dataTable, element);\n",
              "          const docLink = document.createElement('div');\n",
              "          docLink.innerHTML = docLinkHtml;\n",
              "          element.appendChild(docLink);\n",
              "        }\n",
              "      </script>\n",
              "    </div>\n",
              "  </div>\n",
              "  "
            ]
          },
          "metadata": {},
          "execution_count": 19
        }
      ]
    },
    {
      "cell_type": "markdown",
      "metadata": {
        "id": "aiGTY4Q77NUK"
      },
      "source": [
        "Также разбить данные можно не опираясь на временной фактор:\n",
        "```python\n",
        "interactions_train_df, interactions_test_df = train_test_split(interactions_full_df,\n",
        "                                   stratify=interactions_full_df['personId'], \n",
        "                                   test_size=0.25,\n",
        "                                   random_state=42)\n",
        "\n",
        "```\n",
        "Как повлият такое разбиение на итоговый результат?"
      ]
    },
    {
      "cell_type": "markdown",
      "metadata": {
        "id": "h1Z2axYX7NUK"
      },
      "source": [
        "Для удобства подсчёта качества запишем данные в формате, где строка соответствует пользователю, а столбцы будут истинными метками и предсказаниями в виде списков."
      ]
    },
    {
      "cell_type": "code",
      "metadata": {
        "colab": {
          "base_uri": "https://localhost:8080/"
        },
        "id": "InUCtDB17NUL",
        "outputId": "b2e4c7e3-5d7b-44f3-8a18-3a35e983b0a3"
      },
      "source": [
        "interactions = (\n",
        "    interactions_train_df\n",
        "    .groupby('personId')['contentId'].agg(lambda x: list(x))\n",
        "    .reset_index()\n",
        "    .rename(columns={'contentId': 'true_train'})\n",
        "    .set_index('personId')\n",
        ")\n",
        "\n",
        "interactions['true_test'] = (\n",
        "    interactions_test_df\n",
        "    .groupby('personId')['contentId'].agg(lambda x: list(x))\n",
        ")\n",
        "\n",
        "# заполнение пропусков пустыми списками\n",
        "interactions.loc[pd.isnull(interactions.true_test), 'true_test'] = [\n",
        "    [''] for x in range(len(interactions.loc[pd.isnull(interactions.true_test), 'true_test']))]\n",
        "\n",
        "interactions.head(1)"
      ],
      "execution_count": null,
      "outputs": [
        {
          "output_type": "execute_result",
          "data": {
            "text/plain": [
              "                                                       true_train  \\\n",
              "personId                                                            \n",
              "-1007001694607905623  [-5065077552540450930, -793729620925729327]   \n",
              "\n",
              "                                                              true_test  \n",
              "personId                                                                 \n",
              "-1007001694607905623  [-6623581327558800021, 1469580151036142903, 72...  "
            ],
            "text/html": [
              "\n",
              "  <div id=\"df-f55fb931-4ae7-4324-9490-a0ff0e49e2ee\">\n",
              "    <div class=\"colab-df-container\">\n",
              "      <div>\n",
              "<style scoped>\n",
              "    .dataframe tbody tr th:only-of-type {\n",
              "        vertical-align: middle;\n",
              "    }\n",
              "\n",
              "    .dataframe tbody tr th {\n",
              "        vertical-align: top;\n",
              "    }\n",
              "\n",
              "    .dataframe thead th {\n",
              "        text-align: right;\n",
              "    }\n",
              "</style>\n",
              "<table border=\"1\" class=\"dataframe\">\n",
              "  <thead>\n",
              "    <tr style=\"text-align: right;\">\n",
              "      <th></th>\n",
              "      <th>true_train</th>\n",
              "      <th>true_test</th>\n",
              "    </tr>\n",
              "    <tr>\n",
              "      <th>personId</th>\n",
              "      <th></th>\n",
              "      <th></th>\n",
              "    </tr>\n",
              "  </thead>\n",
              "  <tbody>\n",
              "    <tr>\n",
              "      <th>-1007001694607905623</th>\n",
              "      <td>[-5065077552540450930, -793729620925729327]</td>\n",
              "      <td>[-6623581327558800021, 1469580151036142903, 72...</td>\n",
              "    </tr>\n",
              "  </tbody>\n",
              "</table>\n",
              "</div>\n",
              "      <button class=\"colab-df-convert\" onclick=\"convertToInteractive('df-f55fb931-4ae7-4324-9490-a0ff0e49e2ee')\"\n",
              "              title=\"Convert this dataframe to an interactive table.\"\n",
              "              style=\"display:none;\">\n",
              "        \n",
              "  <svg xmlns=\"http://www.w3.org/2000/svg\" height=\"24px\"viewBox=\"0 0 24 24\"\n",
              "       width=\"24px\">\n",
              "    <path d=\"M0 0h24v24H0V0z\" fill=\"none\"/>\n",
              "    <path d=\"M18.56 5.44l.94 2.06.94-2.06 2.06-.94-2.06-.94-.94-2.06-.94 2.06-2.06.94zm-11 1L8.5 8.5l.94-2.06 2.06-.94-2.06-.94L8.5 2.5l-.94 2.06-2.06.94zm10 10l.94 2.06.94-2.06 2.06-.94-2.06-.94-.94-2.06-.94 2.06-2.06.94z\"/><path d=\"M17.41 7.96l-1.37-1.37c-.4-.4-.92-.59-1.43-.59-.52 0-1.04.2-1.43.59L10.3 9.45l-7.72 7.72c-.78.78-.78 2.05 0 2.83L4 21.41c.39.39.9.59 1.41.59.51 0 1.02-.2 1.41-.59l7.78-7.78 2.81-2.81c.8-.78.8-2.07 0-2.86zM5.41 20L4 18.59l7.72-7.72 1.47 1.35L5.41 20z\"/>\n",
              "  </svg>\n",
              "      </button>\n",
              "      \n",
              "  <style>\n",
              "    .colab-df-container {\n",
              "      display:flex;\n",
              "      flex-wrap:wrap;\n",
              "      gap: 12px;\n",
              "    }\n",
              "\n",
              "    .colab-df-convert {\n",
              "      background-color: #E8F0FE;\n",
              "      border: none;\n",
              "      border-radius: 50%;\n",
              "      cursor: pointer;\n",
              "      display: none;\n",
              "      fill: #1967D2;\n",
              "      height: 32px;\n",
              "      padding: 0 0 0 0;\n",
              "      width: 32px;\n",
              "    }\n",
              "\n",
              "    .colab-df-convert:hover {\n",
              "      background-color: #E2EBFA;\n",
              "      box-shadow: 0px 1px 2px rgba(60, 64, 67, 0.3), 0px 1px 3px 1px rgba(60, 64, 67, 0.15);\n",
              "      fill: #174EA6;\n",
              "    }\n",
              "\n",
              "    [theme=dark] .colab-df-convert {\n",
              "      background-color: #3B4455;\n",
              "      fill: #D2E3FC;\n",
              "    }\n",
              "\n",
              "    [theme=dark] .colab-df-convert:hover {\n",
              "      background-color: #434B5C;\n",
              "      box-shadow: 0px 1px 3px 1px rgba(0, 0, 0, 0.15);\n",
              "      filter: drop-shadow(0px 1px 2px rgba(0, 0, 0, 0.3));\n",
              "      fill: #FFFFFF;\n",
              "    }\n",
              "  </style>\n",
              "\n",
              "      <script>\n",
              "        const buttonEl =\n",
              "          document.querySelector('#df-f55fb931-4ae7-4324-9490-a0ff0e49e2ee button.colab-df-convert');\n",
              "        buttonEl.style.display =\n",
              "          google.colab.kernel.accessAllowed ? 'block' : 'none';\n",
              "\n",
              "        async function convertToInteractive(key) {\n",
              "          const element = document.querySelector('#df-f55fb931-4ae7-4324-9490-a0ff0e49e2ee');\n",
              "          const dataTable =\n",
              "            await google.colab.kernel.invokeFunction('convertToInteractive',\n",
              "                                                     [key], {});\n",
              "          if (!dataTable) return;\n",
              "\n",
              "          const docLinkHtml = 'Like what you see? Visit the ' +\n",
              "            '<a target=\"_blank\" href=https://colab.research.google.com/notebooks/data_table.ipynb>data table notebook</a>'\n",
              "            + ' to learn more about interactive tables.';\n",
              "          element.innerHTML = '';\n",
              "          dataTable['output_type'] = 'display_data';\n",
              "          await google.colab.output.renderOutput(dataTable, element);\n",
              "          const docLink = document.createElement('div');\n",
              "          docLink.innerHTML = docLinkHtml;\n",
              "          element.appendChild(docLink);\n",
              "        }\n",
              "      </script>\n",
              "    </div>\n",
              "  </div>\n",
              "  "
            ]
          },
          "metadata": {},
          "execution_count": 21
        }
      ]
    },
    {
      "cell_type": "markdown",
      "metadata": {
        "id": "J72sxcSc7NUL"
      },
      "source": [
        "## Часть 1: Baseline (модель по популярности)"
      ]
    },
    {
      "cell_type": "markdown",
      "metadata": {
        "id": "J4ZlOCua7NUM"
      },
      "source": [
        "Самой простой моделью рекомендаций (при этом достаточно сильной!) является модель, которая рекомендует наиболее популярные предметы. \n",
        "\n",
        "Реализуем её. Давайте считать, что рекомендуем мы по 10 материалов (такое ограничение на размер блока на сайте).\n",
        "\n",
        "Посчитаем популярность каждой статьи, как сумму всех \"оценок\" взаимодействий с ней. Отсортируем материалы по их популярности."
      ]
    },
    {
      "cell_type": "code",
      "metadata": {
        "id": "6yaE1pGh7NUM"
      },
      "source": [
        "# popular_content = \n",
        "####### Здесь ваш код ##########\n",
        "popular_content = (\n",
        "    interactions_train_df\n",
        "    .groupby('contentId')\n",
        "    .eventStrength.sum().reset_index()\n",
        "    .sort_values('eventStrength', ascending=False)\n",
        "    .contentId.values\n",
        ")\n",
        "################################"
      ],
      "execution_count": null,
      "outputs": []
    },
    {
      "cell_type": "code",
      "metadata": {
        "colab": {
          "base_uri": "https://localhost:8080/"
        },
        "id": "DhKLmkaE7NUM",
        "outputId": "841491a9-efbd-4478-b16b-e9897bdf5c7b"
      },
      "source": [
        "print(articles_df.loc[articles_df.contentId == popular_content[1]]['title'].values)"
      ],
      "execution_count": null,
      "outputs": [
        {
          "output_type": "stream",
          "name": "stdout",
          "text": [
            "['Novo workaholic trabalha, pratica esportes e tem tempo para a família. Conheça']\n"
          ]
        }
      ]
    },
    {
      "cell_type": "code",
      "metadata": {
        "colab": {
          "base_uri": "https://localhost:8080/"
        },
        "id": "OsP9Qvv07NUM",
        "outputId": "b4202fa1-acf3-4343-a984-b70d583bf5ec"
      },
      "source": [
        "print(articles_df.loc[articles_df.contentId == popular_content[2363]]['title'].values)"
      ],
      "execution_count": null,
      "outputs": [
        {
          "output_type": "stream",
          "name": "stdout",
          "text": [
            "['Sunset Blvd. (1950)']\n"
          ]
        }
      ]
    },
    {
      "cell_type": "markdown",
      "metadata": {
        "id": "ecBQ_knc7NUM"
      },
      "source": [
        "Теперь необходимо сделать предсказания для каждого пользователя. Не забываем, что надо рекомендовать то, что пользователь ещё не читал (для этого нужно проверить, что материал не встречался в true_train)."
      ]
    },
    {
      "cell_type": "code",
      "metadata": {
        "colab": {
          "base_uri": "https://localhost:8080/"
        },
        "id": "wNwZ4i4c7NUM",
        "outputId": "ccc5df88-1a2b-4028-e209-5bbe35ceeb0f"
      },
      "source": [
        "top_k = 10\n",
        "\n",
        "# interactions['prediction_popular'] =\n",
        "####### Здесь ваш код ##########\n",
        "interactions['prediction_popular'] = (\n",
        "    interactions.true_train\n",
        "    .apply(\n",
        "        lambda x:\n",
        "        popular_content[~np.in1d(popular_content, x)][:top_k]\n",
        "    )\n",
        ")\n",
        "################################\n",
        "interactions['prediction_popular'][0]"
      ],
      "execution_count": null,
      "outputs": [
        {
          "output_type": "execute_result",
          "data": {
            "text/plain": [
              "array(['-6783772548752091658', '-133139342397538859',\n",
              "       '-8208801367848627943', '8224860111193157980',\n",
              "       '7507067965574797372', '-2358756719610361882',\n",
              "       '-6843047699859121724', '-1297580205670251233',\n",
              "       '8657408509986329668', '3367026768872537336'], dtype=object)"
            ]
          },
          "metadata": {},
          "execution_count": 25
        }
      ]
    },
    {
      "cell_type": "code",
      "metadata": {
        "colab": {
          "base_uri": "https://localhost:8080/"
        },
        "id": "zUCyvs75OtEh",
        "outputId": "e166ae79-e2cb-49de-ec4b-d517a27f3514"
      },
      "source": [
        "interactions['prediction_popular'][1]"
      ],
      "execution_count": null,
      "outputs": [
        {
          "output_type": "execute_result",
          "data": {
            "text/plain": [
              "array(['-6783772548752091658', '-133139342397538859',\n",
              "       '-8208801367848627943', '7507067965574797372',\n",
              "       '-2358756719610361882', '-1297580205670251233',\n",
              "       '8657408509986329668', '3367026768872537336',\n",
              "       '2581138407738454418', '-1633984990770981161'], dtype=object)"
            ]
          },
          "metadata": {},
          "execution_count": 26
        }
      ]
    },
    {
      "cell_type": "markdown",
      "metadata": {
        "id": "6MWC2ctS7NUN"
      },
      "source": [
        "Настало время оценить качество. Посчитаем precision@10 для каждого пользователя (доля угаданных рекомендаций). Усредним по всем пользователям. Везде далее будем считать эту же метрику."
      ]
    },
    {
      "cell_type": "code",
      "metadata": {
        "id": "VV6hIjxF7NUN"
      },
      "source": [
        "def calc_precision(column):\n",
        "    ####### Здесь ваш код ##########\n",
        "    return (\n",
        "        interactions\n",
        "        .apply(\n",
        "            lambda row:\n",
        "            len(set(row['true_test']).intersection(\n",
        "                set(row[column]))) /\n",
        "            min(len(row['true_test']) + 0.001, 10.0),\n",
        "            axis=1)).mean()\n",
        "\n",
        "    ################################"
      ],
      "execution_count": null,
      "outputs": []
    },
    {
      "cell_type": "code",
      "source": [
        "set1 = set(interactions.iloc[0]['true_test'])"
      ],
      "metadata": {
        "id": "yOdUSsEGgZVG"
      },
      "execution_count": null,
      "outputs": []
    },
    {
      "cell_type": "code",
      "source": [
        "interactions.iloc[0]['prediction_popular']"
      ],
      "metadata": {
        "colab": {
          "base_uri": "https://localhost:8080/"
        },
        "id": "q239HBkYgeHX",
        "outputId": "ceb8dccc-6d34-4fde-9192-1e11089e2b1d"
      },
      "execution_count": null,
      "outputs": [
        {
          "output_type": "execute_result",
          "data": {
            "text/plain": [
              "array(['-6783772548752091658', '-133139342397538859',\n",
              "       '-8208801367848627943', '8224860111193157980',\n",
              "       '7507067965574797372', '-2358756719610361882',\n",
              "       '-6843047699859121724', '-1297580205670251233',\n",
              "       '8657408509986329668', '3367026768872537336'], dtype=object)"
            ]
          },
          "metadata": {},
          "execution_count": 31
        }
      ]
    },
    {
      "cell_type": "code",
      "metadata": {
        "colab": {
          "base_uri": "https://localhost:8080/",
          "height": 311
        },
        "id": "pKmSSmZN7NUN",
        "outputId": "22364006-1f53-49a6-f23b-a6b197a31b3a"
      },
      "source": [
        "calc_precision('prediction_popular')"
      ],
      "execution_count": null,
      "outputs": [
        {
          "output_type": "error",
          "ename": "TypeError",
          "evalue": "ignored",
          "traceback": [
            "\u001b[0;31m---------------------------------------------------------------------------\u001b[0m",
            "\u001b[0;31mTypeError\u001b[0m                                 Traceback (most recent call last)",
            "\u001b[0;32m<ipython-input-28-b76deabd4c39>\u001b[0m in \u001b[0;36m<module>\u001b[0;34m()\u001b[0m\n\u001b[0;32m----> 1\u001b[0;31m \u001b[0mcalc_precision\u001b[0m\u001b[0;34m(\u001b[0m\u001b[0;34m'prediction_popular'\u001b[0m\u001b[0;34m)\u001b[0m\u001b[0;34m\u001b[0m\u001b[0;34m\u001b[0m\u001b[0m\n\u001b[0m",
            "\u001b[0;32m<ipython-input-27-47b053089da0>\u001b[0m in \u001b[0;36mcalc_precision\u001b[0;34m(column)\u001b[0m\n\u001b[1;32m      8\u001b[0m                 set(row[column]))) /\n\u001b[1;32m      9\u001b[0m             \u001b[0mmin\u001b[0m\u001b[0;34m(\u001b[0m\u001b[0mlen\u001b[0m\u001b[0;34m(\u001b[0m\u001b[0mrow\u001b[0m\u001b[0;34m[\u001b[0m\u001b[0;34m'true_test'\u001b[0m\u001b[0;34m]\u001b[0m\u001b[0;34m)\u001b[0m \u001b[0;34m+\u001b[0m \u001b[0;36m0.001\u001b[0m\u001b[0;34m,\u001b[0m \u001b[0;36m10.0\u001b[0m\u001b[0;34m)\u001b[0m\u001b[0;34m,\u001b[0m\u001b[0;34m\u001b[0m\u001b[0;34m\u001b[0m\u001b[0m\n\u001b[0;32m---> 10\u001b[0;31m             axis=1)).mean()\n\u001b[0m\u001b[1;32m     11\u001b[0m \u001b[0;34m\u001b[0m\u001b[0m\n\u001b[1;32m     12\u001b[0m     \u001b[0;31m################################\u001b[0m\u001b[0;34m\u001b[0m\u001b[0;34m\u001b[0m\u001b[0;34m\u001b[0m\u001b[0m\n",
            "\u001b[0;32m/usr/local/lib/python3.7/dist-packages/pandas/core/frame.py\u001b[0m in \u001b[0;36mapply\u001b[0;34m(self, func, axis, raw, result_type, args, **kwargs)\u001b[0m\n\u001b[1;32m   8738\u001b[0m             \u001b[0mkwargs\u001b[0m\u001b[0;34m=\u001b[0m\u001b[0mkwargs\u001b[0m\u001b[0;34m,\u001b[0m\u001b[0;34m\u001b[0m\u001b[0;34m\u001b[0m\u001b[0m\n\u001b[1;32m   8739\u001b[0m         )\n\u001b[0;32m-> 8740\u001b[0;31m         \u001b[0;32mreturn\u001b[0m \u001b[0mop\u001b[0m\u001b[0;34m.\u001b[0m\u001b[0mapply\u001b[0m\u001b[0;34m(\u001b[0m\u001b[0;34m)\u001b[0m\u001b[0;34m\u001b[0m\u001b[0;34m\u001b[0m\u001b[0m\n\u001b[0m\u001b[1;32m   8741\u001b[0m \u001b[0;34m\u001b[0m\u001b[0m\n\u001b[1;32m   8742\u001b[0m     def applymap(\n",
            "\u001b[0;32m/usr/local/lib/python3.7/dist-packages/pandas/core/apply.py\u001b[0m in \u001b[0;36mapply\u001b[0;34m(self)\u001b[0m\n\u001b[1;32m    686\u001b[0m             \u001b[0;32mreturn\u001b[0m \u001b[0mself\u001b[0m\u001b[0;34m.\u001b[0m\u001b[0mapply_raw\u001b[0m\u001b[0;34m(\u001b[0m\u001b[0;34m)\u001b[0m\u001b[0;34m\u001b[0m\u001b[0;34m\u001b[0m\u001b[0m\n\u001b[1;32m    687\u001b[0m \u001b[0;34m\u001b[0m\u001b[0m\n\u001b[0;32m--> 688\u001b[0;31m         \u001b[0;32mreturn\u001b[0m \u001b[0mself\u001b[0m\u001b[0;34m.\u001b[0m\u001b[0mapply_standard\u001b[0m\u001b[0;34m(\u001b[0m\u001b[0;34m)\u001b[0m\u001b[0;34m\u001b[0m\u001b[0;34m\u001b[0m\u001b[0m\n\u001b[0m\u001b[1;32m    689\u001b[0m \u001b[0;34m\u001b[0m\u001b[0m\n\u001b[1;32m    690\u001b[0m     \u001b[0;32mdef\u001b[0m \u001b[0magg\u001b[0m\u001b[0;34m(\u001b[0m\u001b[0mself\u001b[0m\u001b[0;34m)\u001b[0m\u001b[0;34m:\u001b[0m\u001b[0;34m\u001b[0m\u001b[0;34m\u001b[0m\u001b[0m\n",
            "\u001b[0;32m/usr/local/lib/python3.7/dist-packages/pandas/core/apply.py\u001b[0m in \u001b[0;36mapply_standard\u001b[0;34m(self)\u001b[0m\n\u001b[1;32m    810\u001b[0m \u001b[0;34m\u001b[0m\u001b[0m\n\u001b[1;32m    811\u001b[0m     \u001b[0;32mdef\u001b[0m \u001b[0mapply_standard\u001b[0m\u001b[0;34m(\u001b[0m\u001b[0mself\u001b[0m\u001b[0;34m)\u001b[0m\u001b[0;34m:\u001b[0m\u001b[0;34m\u001b[0m\u001b[0;34m\u001b[0m\u001b[0m\n\u001b[0;32m--> 812\u001b[0;31m         \u001b[0mresults\u001b[0m\u001b[0;34m,\u001b[0m \u001b[0mres_index\u001b[0m \u001b[0;34m=\u001b[0m \u001b[0mself\u001b[0m\u001b[0;34m.\u001b[0m\u001b[0mapply_series_generator\u001b[0m\u001b[0;34m(\u001b[0m\u001b[0;34m)\u001b[0m\u001b[0;34m\u001b[0m\u001b[0;34m\u001b[0m\u001b[0m\n\u001b[0m\u001b[1;32m    813\u001b[0m \u001b[0;34m\u001b[0m\u001b[0m\n\u001b[1;32m    814\u001b[0m         \u001b[0;31m# wrap results\u001b[0m\u001b[0;34m\u001b[0m\u001b[0;34m\u001b[0m\u001b[0;34m\u001b[0m\u001b[0m\n",
            "\u001b[0;32m/usr/local/lib/python3.7/dist-packages/pandas/core/apply.py\u001b[0m in \u001b[0;36mapply_series_generator\u001b[0;34m(self)\u001b[0m\n\u001b[1;32m    826\u001b[0m             \u001b[0;32mfor\u001b[0m \u001b[0mi\u001b[0m\u001b[0;34m,\u001b[0m \u001b[0mv\u001b[0m \u001b[0;32min\u001b[0m \u001b[0menumerate\u001b[0m\u001b[0;34m(\u001b[0m\u001b[0mseries_gen\u001b[0m\u001b[0;34m)\u001b[0m\u001b[0;34m:\u001b[0m\u001b[0;34m\u001b[0m\u001b[0;34m\u001b[0m\u001b[0m\n\u001b[1;32m    827\u001b[0m                 \u001b[0;31m# ignore SettingWithCopy here in case the user mutates\u001b[0m\u001b[0;34m\u001b[0m\u001b[0;34m\u001b[0m\u001b[0;34m\u001b[0m\u001b[0m\n\u001b[0;32m--> 828\u001b[0;31m                 \u001b[0mresults\u001b[0m\u001b[0;34m[\u001b[0m\u001b[0mi\u001b[0m\u001b[0;34m]\u001b[0m \u001b[0;34m=\u001b[0m \u001b[0mself\u001b[0m\u001b[0;34m.\u001b[0m\u001b[0mf\u001b[0m\u001b[0;34m(\u001b[0m\u001b[0mv\u001b[0m\u001b[0;34m)\u001b[0m\u001b[0;34m\u001b[0m\u001b[0;34m\u001b[0m\u001b[0m\n\u001b[0m\u001b[1;32m    829\u001b[0m                 \u001b[0;32mif\u001b[0m \u001b[0misinstance\u001b[0m\u001b[0;34m(\u001b[0m\u001b[0mresults\u001b[0m\u001b[0;34m[\u001b[0m\u001b[0mi\u001b[0m\u001b[0;34m]\u001b[0m\u001b[0;34m,\u001b[0m \u001b[0mABCSeries\u001b[0m\u001b[0;34m)\u001b[0m\u001b[0;34m:\u001b[0m\u001b[0;34m\u001b[0m\u001b[0;34m\u001b[0m\u001b[0m\n\u001b[1;32m    830\u001b[0m                     \u001b[0;31m# If we have a view on v, we need to make a copy because\u001b[0m\u001b[0;34m\u001b[0m\u001b[0;34m\u001b[0m\u001b[0;34m\u001b[0m\u001b[0m\n",
            "\u001b[0;32m<ipython-input-27-47b053089da0>\u001b[0m in \u001b[0;36m<lambda>\u001b[0;34m(row)\u001b[0m\n\u001b[1;32m      5\u001b[0m         .apply(\n\u001b[1;32m      6\u001b[0m             \u001b[0;32mlambda\u001b[0m \u001b[0mrow\u001b[0m\u001b[0;34m:\u001b[0m\u001b[0;34m\u001b[0m\u001b[0;34m\u001b[0m\u001b[0m\n\u001b[0;32m----> 7\u001b[0;31m             len(set(row['true_test']).intersection(\n\u001b[0m\u001b[1;32m      8\u001b[0m                 set(row[column]))) /\n\u001b[1;32m      9\u001b[0m             \u001b[0mmin\u001b[0m\u001b[0;34m(\u001b[0m\u001b[0mlen\u001b[0m\u001b[0;34m(\u001b[0m\u001b[0mrow\u001b[0m\u001b[0;34m[\u001b[0m\u001b[0;34m'true_test'\u001b[0m\u001b[0;34m]\u001b[0m\u001b[0;34m)\u001b[0m \u001b[0;34m+\u001b[0m \u001b[0;36m0.001\u001b[0m\u001b[0;34m,\u001b[0m \u001b[0;36m10.0\u001b[0m\u001b[0;34m)\u001b[0m\u001b[0;34m,\u001b[0m\u001b[0;34m\u001b[0m\u001b[0;34m\u001b[0m\u001b[0m\n",
            "\u001b[0;31mTypeError\u001b[0m: unhashable type: 'list'"
          ]
        }
      ]
    },
    {
      "cell_type": "markdown",
      "metadata": {
        "id": "fO4DZi6g7NUN"
      },
      "source": [
        "## Часть 2. Коллаборативная фильтрация."
      ]
    },
    {
      "cell_type": "markdown",
      "metadata": {
        "id": "fHu7xtX97NUO"
      },
      "source": [
        "Перейдём к более сложному механизму рекомендаций, а именно коллаборативной фильтрации. Суть коллаборативной фильтрации в том, что учитывается схожесть пользователей и товаров между собой, а не факторы, которые их описывают. \n",
        "\n",
        "Для начала для удобства составим матрицу \"оценок\" пользователей. Нули будут обозначать отсутствие взаимодействия."
      ]
    },
    {
      "cell_type": "code",
      "metadata": {
        "id": "QG7azMEM7NUO"
      },
      "source": [
        "ratings = pd.pivot_table(\n",
        "    interactions_train_df,\n",
        "    values='eventStrength',\n",
        "    index='personId',\n",
        "    columns='contentId').fillna(0)"
      ],
      "execution_count": null,
      "outputs": []
    },
    {
      "cell_type": "markdown",
      "metadata": {
        "id": "bqdQD19J7NUO"
      },
      "source": [
        "### Memory-based"
      ]
    },
    {
      "cell_type": "markdown",
      "metadata": {
        "id": "WZiWouN47NUO"
      },
      "source": [
        "Посчитаем схожести пользователей с помощью корреляции Пирсона. Для каждой пары учитываем только ненулевые значения.\n",
        "\n",
        "Для скорости работы лучше переходить от pandas к numpy."
      ]
    },
    {
      "cell_type": "code",
      "metadata": {
        "id": "aG8Pi_qR7NUO"
      },
      "source": [
        "ratings_m = ratings.values"
      ],
      "execution_count": null,
      "outputs": []
    },
    {
      "cell_type": "code",
      "metadata": {
        "colab": {
          "base_uri": "https://localhost:8080/",
          "height": 119,
          "referenced_widgets": [
            "6ddd25de6b6d40419bac48359b0dcf6f",
            "2f156baa9f104288a20b54cb8fb734e1",
            "c5a004ed82194f4180349379a7a6f013",
            "4a143af15c6e4d6098b0df64a6fde421",
            "229042c73b4b4ff6bd2239997318c947",
            "ac375a35f3924a6885d7479ff928c260",
            "30d6b8566b554a52905689655fdb41af",
            "8f6faca15c3244c98ef390387e344bbb"
          ]
        },
        "id": "lZanlVow7NUP",
        "outputId": "400dd9a9-a4cd-4205-d8a7-87287baffbf2"
      },
      "source": [
        "similarity_users = np.zeros((len(ratings_m), len(ratings_m)))\n",
        "\n",
        "for i in tqdm_notebook(range(len(ratings_m)-1)):\n",
        "    for j in range(i+1, len(ratings_m)):\n",
        "        \n",
        "        # nonzero elements of two users\n",
        "        mask_uv = (ratings_m[i] != 0) & (ratings_m[j] != 0)\n",
        "        \n",
        "        # continue if no intersection\n",
        "        if np.sum(mask_uv) == 0:\n",
        "            continue\n",
        "            \n",
        "        # get nonzero elements\n",
        "        ratings_v = ratings_m[i, mask_uv]\n",
        "        ratings_u = ratings_m[j, mask_uv]\n",
        "        \n",
        "        # for nonzero std\n",
        "        if len(np.unique(ratings_v)) < 2 or len(np.unique(ratings_u)) < 2:\n",
        "            continue\n",
        "        # similarity_users[i,j] = \n",
        "        # similarity_users[j,i] = \n",
        "        ####### Здесь ваш код ##########\n",
        "        similarity_users[i,j] = np.corrcoef(ratings_v, ratings_u)[0, 1]\n",
        "        similarity_users[j,i] = similarity_users[i,j]\n",
        "        ################################"
      ],
      "execution_count": null,
      "outputs": [
        {
          "output_type": "stream",
          "text": [
            "/usr/local/lib/python3.7/dist-packages/ipykernel_launcher.py:3: TqdmDeprecationWarning: This function will be removed in tqdm==5.0.0\n",
            "Please use `tqdm.notebook.tqdm` instead of `tqdm.tqdm_notebook`\n",
            "  This is separate from the ipykernel package so we can avoid doing imports until\n"
          ],
          "name": "stderr"
        },
        {
          "output_type": "display_data",
          "data": {
            "application/vnd.jupyter.widget-view+json": {
              "model_id": "6ddd25de6b6d40419bac48359b0dcf6f",
              "version_minor": 0,
              "version_major": 2
            },
            "text/plain": [
              "HBox(children=(FloatProgress(value=0.0, max=1111.0), HTML(value='')))"
            ]
          },
          "metadata": {
            "tags": []
          }
        },
        {
          "output_type": "stream",
          "text": [
            "\n"
          ],
          "name": "stdout"
        }
      ]
    },
    {
      "cell_type": "markdown",
      "metadata": {
        "id": "FanD_G5p7NUP"
      },
      "source": [
        "Теперь у нас есть матрицы схожести пользователей. Их можно использовать для рекомендаций.\n",
        "\n",
        "Для каждого пользователя:\n",
        "\n",
        "1. Найдём пользователей с похожестью больше $\\alpha$ на нашего пользователя.\n",
        "2. Посчитаем для каждой статьи долю пользователей (среди выделенных на первом шаге), которые взаимодействовали со статьёй.\n",
        "3. Порекомендуем статьи с наибольшими долями со второго шага (среди тех, которые пользователь ещё не видел).\n",
        "\n",
        "В нашем примере данных не очень много, поэтому возьмём $\\alpha = 0$.\n",
        "\n",
        "После того, как будут сделаны предсказания (новый столбец в interactions), посчитаем качество по той же метрике."
      ]
    },
    {
      "cell_type": "code",
      "metadata": {
        "colab": {
          "base_uri": "https://localhost:8080/",
          "height": 173,
          "referenced_widgets": [
            "e14b066877514299ad0105f10275926a",
            "ad4c978d45a7459d942a1bdaecf62a67",
            "495e1558329b43f1b1fa48c76b6ed3bc",
            "b5f106d2b9d241d993c236e57d539cad",
            "540e1aa383a343d981f27125f9dda32b",
            "b7a59dd5c258493ab9e3f9d9c0529c82",
            "01d4de1f8e514f68a023004743e8ad37",
            "03d754b95bb4455c8b15178ba178f2f6"
          ]
        },
        "id": "V1q95s9a7NUP",
        "outputId": "49cfd60b-c418-4bca-f0cb-d25b4b073944"
      },
      "source": [
        "prediction_user_based = []\n",
        "####### Здесь ваш код ##########\n",
        "for i in tqdm_notebook(range(len(similarity_users))):\n",
        "    users_sim = similarity_users[i] > 0\n",
        "    if len(users_sim) == 0:\n",
        "        prediction_user_based.append([])\n",
        "    else:\n",
        "        tmp_recommend = np.argsort(ratings_m[users_sim].sum(axis=0))[::-1]\n",
        "        tmp_recommend = ratings.columns[tmp_recommend]\n",
        "        recommend = np.array(tmp_recommend)[~np.in1d(tmp_recommend, interactions.iloc[i])][:10]\n",
        "        prediction_user_based.append(list(recommend))\n",
        "################################\n",
        "interactions['prediction_user_based'] = prediction_user_based"
      ],
      "execution_count": null,
      "outputs": [
        {
          "output_type": "stream",
          "text": [
            "/usr/local/lib/python3.7/dist-packages/ipykernel_launcher.py:3: TqdmDeprecationWarning: This function will be removed in tqdm==5.0.0\n",
            "Please use `tqdm.notebook.tqdm` instead of `tqdm.tqdm_notebook`\n",
            "  This is separate from the ipykernel package so we can avoid doing imports until\n"
          ],
          "name": "stderr"
        },
        {
          "output_type": "display_data",
          "data": {
            "application/vnd.jupyter.widget-view+json": {
              "model_id": "e14b066877514299ad0105f10275926a",
              "version_minor": 0,
              "version_major": 2
            },
            "text/plain": [
              "HBox(children=(FloatProgress(value=0.0, max=1112.0), HTML(value='')))"
            ]
          },
          "metadata": {
            "tags": []
          }
        },
        {
          "output_type": "stream",
          "text": [
            "/usr/local/lib/python3.7/dist-packages/numpy/lib/arraysetops.py:580: FutureWarning: elementwise comparison failed; returning scalar instead, but in the future will perform elementwise comparison\n",
            "  mask |= (ar1 == a)\n"
          ],
          "name": "stderr"
        },
        {
          "output_type": "stream",
          "text": [
            "\n"
          ],
          "name": "stdout"
        }
      ]
    },
    {
      "cell_type": "code",
      "metadata": {
        "colab": {
          "base_uri": "https://localhost:8080/"
        },
        "id": "bGCsKsdH7NUP",
        "outputId": "5bc70104-5907-4425-b27b-303929ec3280"
      },
      "source": [
        "calc_precision('prediction_user_based')"
      ],
      "execution_count": null,
      "outputs": [
        {
          "output_type": "execute_result",
          "data": {
            "text/plain": [
              "0.003541692918885617"
            ]
          },
          "metadata": {
            "tags": []
          },
          "execution_count": 34
        }
      ]
    },
    {
      "cell_type": "markdown",
      "metadata": {
        "id": "44S6wHKw7NUP"
      },
      "source": [
        "### Модель со скрытыми переменными"
      ]
    },
    {
      "cell_type": "markdown",
      "metadata": {
        "id": "NLxQug7T7NUP"
      },
      "source": [
        "Реализуем подход с разложением матрицы оценок. Для этого сделаем сингулярное разложение (svd в scipy.linalg), на выходе вы получите три матрицы.\n",
        "\n",
        "Заметим, что мы используем матрицу с нулями, будто отсутствующие взаимодействия негативные, что странно.\n",
        "\n",
        "Если бы мы учили модель со скрытыми переменными с помощью стохастического градиентного спуска, то неизвестные взаимодействия могли бы не использовать."
      ]
    },
    {
      "cell_type": "code",
      "metadata": {
        "id": "Wt0wdgF67NUQ"
      },
      "source": [
        "from scipy.linalg import svd"
      ],
      "execution_count": null,
      "outputs": []
    },
    {
      "cell_type": "code",
      "metadata": {
        "colab": {
          "base_uri": "https://localhost:8080/"
        },
        "id": "Nrc4L1oK7NUQ",
        "outputId": "49052a3b-e665-4931-e684-5d51ba90dd1e"
      },
      "source": [
        "####### Здесь ваш код ##########\n",
        "U, sigma, V = svd(ratings)\n",
        "print(ratings.shape, U.shape, sigma.shape, V.shape)\n",
        "################################"
      ],
      "execution_count": null,
      "outputs": [
        {
          "output_type": "stream",
          "text": [
            "(1112, 2366) (1112, 1112) (1112,) (2366, 2366)\n"
          ],
          "name": "stdout"
        }
      ]
    },
    {
      "cell_type": "code",
      "metadata": {
        "colab": {
          "base_uri": "https://localhost:8080/"
        },
        "id": "L-qvuwS_7NUQ",
        "outputId": "4afcf6ee-bd03-4df1-d480-ac31a09bfeec"
      },
      "source": [
        "####### Здесь ваш код ##########\n",
        "Sigma = np.zeros((1112, 2366))\n",
        "Sigma[:1112, :1112] = np.diag(sigma)\n",
        "\n",
        "new_ratings = U.dot(Sigma).dot(V)\n",
        "\n",
        "print(sum(sum((new_ratings - ratings.values) ** 2)))\n",
        "################################"
      ],
      "execution_count": null,
      "outputs": [
        {
          "output_type": "stream",
          "text": [
            "1.0049074409063946e-24\n"
          ],
          "name": "stdout"
        }
      ]
    },
    {
      "cell_type": "markdown",
      "metadata": {
        "id": "UdXQAsbT7NUQ"
      },
      "source": [
        "Значения у матрицы с сингулярными числами отсортированы по убыванию. Допустим мы хотим оставить только первые 100 компонент (и получить скрытые представления размерности 100). Для этого необходимо оставить 100 столбцов в матрице U, оставить из sigma только первые 100 значений (и сделать из них диагональную матрицу) и 100 столбцов в матрице V. Перемножим преобразованные матрицы ($\\hat{U}, \\hat{sigma}, \\hat{V^T}$), чтобы получить восстановленную матрицу оценок."
      ]
    },
    {
      "cell_type": "code",
      "metadata": {
        "id": "Y4d-FgC67NUQ"
      },
      "source": [
        "K = 100\n",
        "####### Здесь ваш код ##########\n",
        "sigma[K:] = 0\n",
        "Sigma = np.zeros((1112, 2366))\n",
        "Sigma[:1112, :1112] = np.diag(sigma)\n",
        "################################"
      ],
      "execution_count": null,
      "outputs": []
    },
    {
      "cell_type": "markdown",
      "metadata": {
        "id": "vfHCpcpk7NUQ"
      },
      "source": [
        "Посчитаем качество аппроксимации матрицы по норме Фробениуса (среднеквадратичную ошибку между всеми элементами соответствующими элементами двух матриц). Сравним его с простым бейзлайном с константным значением, равным среднему значению исходной матрицы. У аппроксимации ошибка должна получиться ниже."
      ]
    },
    {
      "cell_type": "code",
      "metadata": {
        "colab": {
          "base_uri": "https://localhost:8080/"
        },
        "id": "0eJ04SyR7NUQ",
        "outputId": "c7c07d98-f49f-488e-b3ab-cbee6054bb6f"
      },
      "source": [
        "####### Здесь ваш код ##########\n",
        "new_ratings = U.dot(Sigma).dot(V)\n",
        "print(sum(sum((new_ratings - ratings.values) ** 2)))\n",
        "print(sum(sum((ratings.values.mean() - ratings.values) ** 2)))\n",
        "################################"
      ],
      "execution_count": null,
      "outputs": [
        {
          "output_type": "stream",
          "text": [
            "7637.671371069302\n",
            "78622.13000466056\n"
          ],
          "name": "stdout"
        }
      ]
    },
    {
      "cell_type": "markdown",
      "metadata": {
        "id": "La65ws_s7NUR"
      },
      "source": [
        "Теперь можно делать предсказания по матрице. Сделаем их (не забываем про то, что уже было просмотрено пользователем), оценим качество. Для этого необходимо для каждого пользователя найти предметы с наибольшими оценками в восстановленной матрице."
      ]
    },
    {
      "cell_type": "code",
      "metadata": {
        "colab": {
          "base_uri": "https://localhost:8080/",
          "height": 119,
          "referenced_widgets": [
            "1caf925110674b29819e86b6b5b57c1e",
            "1e359c350d4b487eb9d75d1845bf1ee2",
            "b9ab84ab769f4ae9ac77d79cd8f19987",
            "fd33a75efdd44035b82fc353ec81df14",
            "1e9e7fea9f774987b16e22b83c0f98ed",
            "84c2858b6a2b4f33b32f59e392aadaf7",
            "f77518036bdd4732b78366b3b119969d",
            "51706e27b1eb4924804fdc666d685e94"
          ]
        },
        "id": "6vHccmsW7NUR",
        "outputId": "3f90597d-0c0b-4e2d-f3af-22a79ad87060"
      },
      "source": [
        "new_ratings = pd.DataFrame(new_ratings, index=ratings.index, columns=ratings.columns)\n",
        "\n",
        "predictions = []\n",
        "####### Здесь ваш код ##########\n",
        "for personId in tqdm_notebook(interactions.index):\n",
        "    prediction = (\n",
        "        new_ratings\n",
        "        .loc[personId]\n",
        "        .sort_values(ascending=False)\n",
        "        .index.values\n",
        "    )\n",
        "    \n",
        "    predictions.append(\n",
        "        list(prediction[~np.in1d(\n",
        "            prediction,\n",
        "            interactions.loc[personId, 'true_train'])])[:top_k])\n",
        "################################\n",
        "interactions['prediction_svd'] = predictions"
      ],
      "execution_count": null,
      "outputs": [
        {
          "output_type": "stream",
          "text": [
            "/usr/local/lib/python3.7/dist-packages/ipykernel_launcher.py:5: TqdmDeprecationWarning: This function will be removed in tqdm==5.0.0\n",
            "Please use `tqdm.notebook.tqdm` instead of `tqdm.tqdm_notebook`\n",
            "  \"\"\"\n"
          ],
          "name": "stderr"
        },
        {
          "output_type": "display_data",
          "data": {
            "application/vnd.jupyter.widget-view+json": {
              "model_id": "1caf925110674b29819e86b6b5b57c1e",
              "version_minor": 0,
              "version_major": 2
            },
            "text/plain": [
              "HBox(children=(FloatProgress(value=0.0, max=1112.0), HTML(value='')))"
            ]
          },
          "metadata": {
            "tags": []
          }
        },
        {
          "output_type": "stream",
          "text": [
            "\n"
          ],
          "name": "stdout"
        }
      ]
    },
    {
      "cell_type": "code",
      "metadata": {
        "colab": {
          "base_uri": "https://localhost:8080/"
        },
        "id": "VAEaQ4dX7NUR",
        "scrolled": true,
        "outputId": "d4217879-d2d5-440c-d41a-6c55915a1c3b"
      },
      "source": [
        "calc_precision('prediction_svd')"
      ],
      "execution_count": null,
      "outputs": [
        {
          "output_type": "execute_result",
          "data": {
            "text/plain": [
              "0.005669592972734313"
            ]
          },
          "metadata": {
            "tags": []
          },
          "execution_count": 54
        }
      ]
    },
    {
      "cell_type": "markdown",
      "metadata": {
        "id": "ETpXOarg7NUR"
      },
      "source": [
        "## Часть 3. Контентные  модели"
      ]
    },
    {
      "cell_type": "markdown",
      "metadata": {
        "id": "f0PzHZQG7NUR"
      },
      "source": [
        "В этой части реализуем альтернативный подход к рекомендательным системам — контентные модели."
      ]
    },
    {
      "cell_type": "markdown",
      "metadata": {
        "id": "WnxLuSm77NUR"
      },
      "source": [
        "Теперь мы будем оперировать не матрицей с оценками, а классической для машинного обучения матрицей объекты-признаки. Каждый объект будет характеризовать пару user-item и содержать признаки, описывающие как пользователя, так и товар. Кроме этого признаки могут описывать и саму пару целиком.\n",
        "\n",
        "Матрица со всеми взаимодействиями уже получена нами на этапа разбиения выборки на 2 части. \n",
        "\n",
        "Будем обучать классификатор на взаимодействие, а для него нужны отрицательные примеры. Добавим случайные отсутствующие взаимодействия как отрицательные.\n",
        "\n",
        "Заметим, что модель оценивает каждую пару потенциального взаимодействия, а значит, надо подготовить выборку из всех возможных пар из пользователей и статей."
      ]
    },
    {
      "cell_type": "code",
      "metadata": {
        "id": "x8UE8_5F7NUR"
      },
      "source": [
        "test_personId = np.repeat(interactions.index, len(ratings.columns)) \n",
        "test_contentId = list(ratings.columns) * len(interactions)\n",
        "test = pd.DataFrame(\n",
        "    np.array([test_personId, test_contentId]).T,\n",
        "    columns=['personId', 'contentId'])\n",
        "\n",
        "interactions_train_df = pd.concat((\n",
        "    interactions_train_df,\n",
        "    test.loc[\n",
        "        np.random.permutation(test.index)[\n",
        "            :4*len(interactions_train_df)]]), ignore_index=True)\n",
        "interactions_train_df.eventStrength.fillna(0, inplace=True)"
      ],
      "execution_count": null,
      "outputs": []
    },
    {
      "cell_type": "markdown",
      "metadata": {
        "id": "YHjAGl5X7NUS"
      },
      "source": [
        "Придумаем и добавим признаков о пользователях и статьях. Сначала добавим информацию о статьях в данные о взаимодействиях."
      ]
    },
    {
      "cell_type": "code",
      "metadata": {
        "id": "rCrmLJ6o7NUS"
      },
      "source": [
        "interactions_train_df = interactions_train_df.merge(articles_df, how='left', on='contentId')\n",
        "interactions_test_df = interactions_test_df.merge(articles_df, how='left', on='contentId')"
      ],
      "execution_count": null,
      "outputs": []
    },
    {
      "cell_type": "code",
      "metadata": {
        "id": "Dl0THEi87NUS"
      },
      "source": [
        "# first feature index\n",
        "features_start = len(interactions_train_df.columns)"
      ],
      "execution_count": null,
      "outputs": []
    },
    {
      "cell_type": "markdown",
      "metadata": {
        "id": "Qr-RuQyM7NUS"
      },
      "source": [
        "После обучения модели нам придётся делать предсказания на тестовой выборке для всех возможных пар статья-пользователь. Подготовим такую матрицу, чтобы параллельно посчитать признаки для неё."
      ]
    },
    {
      "cell_type": "code",
      "metadata": {
        "colab": {
          "base_uri": "https://localhost:8080/",
          "height": 621
        },
        "id": "J-eO-JeM7NUS",
        "outputId": "a21f5bdf-edc0-4a41-93f9-033afea0545c"
      },
      "source": [
        "test_personId = np.repeat(interactions.index, len(articles_df)) \n",
        "test_contentId = list(articles_df.contentId) * len(interactions)\n",
        "test = pd.DataFrame(\n",
        "    np.array([test_personId, test_contentId]).T,\n",
        "    columns=['personId', 'contentId'])\n",
        "test = test.merge(articles_df, how='left', on='contentId')\n",
        "\n",
        "test.head()"
      ],
      "execution_count": null,
      "outputs": [
        {
          "output_type": "execute_result",
          "data": {
            "text/html": [
              "<div>\n",
              "<style scoped>\n",
              "    .dataframe tbody tr th:only-of-type {\n",
              "        vertical-align: middle;\n",
              "    }\n",
              "\n",
              "    .dataframe tbody tr th {\n",
              "        vertical-align: top;\n",
              "    }\n",
              "\n",
              "    .dataframe thead th {\n",
              "        text-align: right;\n",
              "    }\n",
              "</style>\n",
              "<table border=\"1\" class=\"dataframe\">\n",
              "  <thead>\n",
              "    <tr style=\"text-align: right;\">\n",
              "      <th></th>\n",
              "      <th>personId</th>\n",
              "      <th>contentId</th>\n",
              "      <th>timestamp</th>\n",
              "      <th>eventType</th>\n",
              "      <th>authorPersonId</th>\n",
              "      <th>authorSessionId</th>\n",
              "      <th>authorUserAgent</th>\n",
              "      <th>authorRegion</th>\n",
              "      <th>authorCountry</th>\n",
              "      <th>contentType</th>\n",
              "      <th>url</th>\n",
              "      <th>title</th>\n",
              "      <th>text</th>\n",
              "      <th>lang</th>\n",
              "    </tr>\n",
              "  </thead>\n",
              "  <tbody>\n",
              "    <tr>\n",
              "      <th>0</th>\n",
              "      <td>-1007001694607905623</td>\n",
              "      <td>-4110354420726924665</td>\n",
              "      <td>1459193988</td>\n",
              "      <td>CONTENT SHARED</td>\n",
              "      <td>4340306774493623681</td>\n",
              "      <td>8940341205206233829</td>\n",
              "      <td>NaN</td>\n",
              "      <td>NaN</td>\n",
              "      <td>NaN</td>\n",
              "      <td>HTML</td>\n",
              "      <td>http://www.nytimes.com/2016/03/28/business/dea...</td>\n",
              "      <td>Ethereum, a Virtual Currency, Enables Transact...</td>\n",
              "      <td>All of this work is still very early. The firs...</td>\n",
              "      <td>en</td>\n",
              "    </tr>\n",
              "    <tr>\n",
              "      <th>1</th>\n",
              "      <td>-1007001694607905623</td>\n",
              "      <td>-7292285110016212249</td>\n",
              "      <td>1459194146</td>\n",
              "      <td>CONTENT SHARED</td>\n",
              "      <td>4340306774493623681</td>\n",
              "      <td>8940341205206233829</td>\n",
              "      <td>NaN</td>\n",
              "      <td>NaN</td>\n",
              "      <td>NaN</td>\n",
              "      <td>HTML</td>\n",
              "      <td>http://cointelegraph.com/news/bitcoin-future-w...</td>\n",
              "      <td>Bitcoin Future: When GBPcoin of Branson Wins O...</td>\n",
              "      <td>The alarm clock wakes me at 8:00 with stream o...</td>\n",
              "      <td>en</td>\n",
              "    </tr>\n",
              "    <tr>\n",
              "      <th>2</th>\n",
              "      <td>-1007001694607905623</td>\n",
              "      <td>-6151852268067518688</td>\n",
              "      <td>1459194474</td>\n",
              "      <td>CONTENT SHARED</td>\n",
              "      <td>3891637997717104548</td>\n",
              "      <td>-1457532940883382585</td>\n",
              "      <td>NaN</td>\n",
              "      <td>NaN</td>\n",
              "      <td>NaN</td>\n",
              "      <td>HTML</td>\n",
              "      <td>https://cloudplatform.googleblog.com/2016/03/G...</td>\n",
              "      <td>Google Data Center 360° Tour</td>\n",
              "      <td>We're excited to share the Google Data Center ...</td>\n",
              "      <td>en</td>\n",
              "    </tr>\n",
              "    <tr>\n",
              "      <th>3</th>\n",
              "      <td>-1007001694607905623</td>\n",
              "      <td>2448026894306402386</td>\n",
              "      <td>1459194497</td>\n",
              "      <td>CONTENT SHARED</td>\n",
              "      <td>4340306774493623681</td>\n",
              "      <td>8940341205206233829</td>\n",
              "      <td>NaN</td>\n",
              "      <td>NaN</td>\n",
              "      <td>NaN</td>\n",
              "      <td>HTML</td>\n",
              "      <td>https://bitcoinmagazine.com/articles/ibm-wants...</td>\n",
              "      <td>IBM Wants to \"Evolve the Internet\" With Blockc...</td>\n",
              "      <td>The Aite Group projects the blockchain market ...</td>\n",
              "      <td>en</td>\n",
              "    </tr>\n",
              "    <tr>\n",
              "      <th>4</th>\n",
              "      <td>-1007001694607905623</td>\n",
              "      <td>-2826566343807132236</td>\n",
              "      <td>1459194522</td>\n",
              "      <td>CONTENT SHARED</td>\n",
              "      <td>4340306774493623681</td>\n",
              "      <td>8940341205206233829</td>\n",
              "      <td>NaN</td>\n",
              "      <td>NaN</td>\n",
              "      <td>NaN</td>\n",
              "      <td>HTML</td>\n",
              "      <td>http://www.coindesk.com/ieee-blockchain-oxford...</td>\n",
              "      <td>IEEE to Talk Blockchain at Cloud Computing Oxf...</td>\n",
              "      <td>One of the largest and oldest organizations fo...</td>\n",
              "      <td>en</td>\n",
              "    </tr>\n",
              "  </tbody>\n",
              "</table>\n",
              "</div>"
            ],
            "text/plain": [
              "               personId  ... lang\n",
              "0  -1007001694607905623  ...   en\n",
              "1  -1007001694607905623  ...   en\n",
              "2  -1007001694607905623  ...   en\n",
              "3  -1007001694607905623  ...   en\n",
              "4  -1007001694607905623  ...   en\n",
              "\n",
              "[5 rows x 14 columns]"
            ]
          },
          "metadata": {
            "tags": []
          },
          "execution_count": 38
        }
      ]
    },
    {
      "cell_type": "markdown",
      "metadata": {
        "id": "0mETAklS7NUS"
      },
      "source": [
        "Добавим признаки-индикаторы возможных значений contentType."
      ]
    },
    {
      "cell_type": "code",
      "metadata": {
        "id": "_qV8qSx77NUS"
      },
      "source": [
        "interactions_train_df['is_HTML'] = interactions_train_df.contentType == 'HTML'\n",
        "####### Здесь ваш код ##########\n",
        "interactions_train_df['is_RICH'] = interactions_train_df.contentType == 'RICH'\n",
        "interactions_train_df['is_VIDEO'] = interactions_train_df.contentType == 'VIDEO'\n",
        "\n",
        "test['is_HTML'] = test.contentType == 'HTML'\n",
        "test['is_RICH'] = test.contentType == 'RICH'\n",
        "test['is_VIDEO'] = test.contentType == 'VIDEO'\n",
        "################################"
      ],
      "execution_count": null,
      "outputs": []
    },
    {
      "cell_type": "markdown",
      "metadata": {
        "id": "CQ88UyYo7NUT"
      },
      "source": [
        "Добавим признаки \"длина названия\" и \"длина текста\" + некоторые проверки на ключевые слова."
      ]
    },
    {
      "cell_type": "code",
      "metadata": {
        "id": "vrbwcMOc7NUT"
      },
      "source": [
        "interactions_train_df['title_length'] = interactions_train_df.title.fillna('').apply(len)\n",
        "####### Здесь ваш код ##########\n",
        "interactions_train_df['text_length'] = interactions_train_df.text.fillna('').apply(len)\n",
        "\n",
        "test['title_length'] = test.title.fillna('').apply(len)\n",
        "test['text_length'] = test.text.fillna('').apply(len)\n",
        "\n",
        "interactions_train_df['has_new'] = \\\n",
        "    interactions_train_df.title.fillna('').apply(lambda x: 'new' in x.lower())\n",
        "interactions_train_df['has_why'] = \\\n",
        "    interactions_train_df.title.fillna('').apply(lambda x: 'why' in x.lower())\n",
        "interactions_train_df['has_how'] = \\\n",
        "    interactions_train_df.title.fillna('').apply(lambda x: 'how' in x.lower())\n",
        "interactions_train_df['has_ai'] = \\\n",
        "    interactions_train_df.title.fillna('').apply(lambda x: 'ai' in x.lower())\n",
        "\n",
        "test['has_new'] = \\\n",
        "    test.title.fillna('').apply(lambda x: 'new' in x.lower())\n",
        "test['has_why'] = \\\n",
        "    test.title.fillna('').apply(lambda x: 'why' in x.lower())\n",
        "test['has_how'] = \\\n",
        "    test.title.fillna('').apply(lambda x: 'how' in x.lower())\n",
        "test['has_ai'] = \\\n",
        "    test.title.fillna('').apply(lambda x: 'ai' in x.lower())\n",
        "################################"
      ],
      "execution_count": null,
      "outputs": []
    },
    {
      "cell_type": "markdown",
      "metadata": {
        "id": "3VKPsutr7NUT"
      },
      "source": [
        "Добавим признаки-индикаторы языка."
      ]
    },
    {
      "cell_type": "code",
      "metadata": {
        "id": "Fh9Zm1XR7NUT"
      },
      "source": [
        "interactions_train_df['is_lang_en'] = interactions_train_df.lang == 'en'\n",
        "####### Здесь ваш код ##########\n",
        "interactions_train_df['is_lang_pt'] = interactions_train_df.lang == 'pt'\n",
        "\n",
        "test['is_lang_en'] = test.lang == 'en'\n",
        "test['is_lang_pt'] = test.lang == 'pt'\n",
        "################################"
      ],
      "execution_count": null,
      "outputs": []
    },
    {
      "cell_type": "markdown",
      "metadata": {
        "id": "MwkU7S9H7NUT"
      },
      "source": [
        "Обучим на полученных признаках градиентный бустинг."
      ]
    },
    {
      "cell_type": "code",
      "metadata": {
        "colab": {
          "base_uri": "https://localhost:8080/"
        },
        "id": "3cbtHpi77NUT",
        "scrolled": true,
        "outputId": "9f874932-dd52-4cb7-a6e0-6d5554fbe510"
      },
      "source": [
        "import catboost \n",
        "\n",
        "model = catboost.CatBoostClassifier()\n",
        "model.fit(interactions_train_df[interactions_train_df.columns[features_start:]],\n",
        "          np.array(interactions_train_df.eventStrength > 0, dtype=int))"
      ],
      "execution_count": null,
      "outputs": [
        {
          "output_type": "stream",
          "text": [
            "Learning rate set to 0.086682\n",
            "0:\tlearn: 0.6578182\ttotal: 106ms\tremaining: 1m 45s\n",
            "1:\tlearn: 0.6291961\ttotal: 145ms\tremaining: 1m 12s\n",
            "2:\tlearn: 0.6051983\ttotal: 217ms\tremaining: 1m 12s\n",
            "3:\tlearn: 0.5860293\ttotal: 270ms\tremaining: 1m 7s\n",
            "4:\tlearn: 0.5700080\ttotal: 331ms\tremaining: 1m 5s\n",
            "5:\tlearn: 0.5571086\ttotal: 369ms\tremaining: 1m 1s\n",
            "6:\tlearn: 0.5461749\ttotal: 430ms\tremaining: 1m 1s\n",
            "7:\tlearn: 0.5375021\ttotal: 466ms\tremaining: 57.8s\n",
            "8:\tlearn: 0.5300739\ttotal: 512ms\tremaining: 56.4s\n",
            "9:\tlearn: 0.5238221\ttotal: 572ms\tremaining: 56.7s\n",
            "10:\tlearn: 0.5186194\ttotal: 618ms\tremaining: 55.5s\n",
            "11:\tlearn: 0.5145948\ttotal: 660ms\tremaining: 54.3s\n",
            "12:\tlearn: 0.5113007\ttotal: 702ms\tremaining: 53.3s\n",
            "13:\tlearn: 0.5080882\ttotal: 750ms\tremaining: 52.8s\n",
            "14:\tlearn: 0.5056012\ttotal: 794ms\tremaining: 52.1s\n",
            "15:\tlearn: 0.5034900\ttotal: 841ms\tremaining: 51.7s\n",
            "16:\tlearn: 0.5017650\ttotal: 898ms\tremaining: 51.9s\n",
            "17:\tlearn: 0.5000853\ttotal: 943ms\tremaining: 51.4s\n",
            "18:\tlearn: 0.4990325\ttotal: 979ms\tremaining: 50.6s\n",
            "19:\tlearn: 0.4981704\ttotal: 1.01s\tremaining: 49.7s\n",
            "20:\tlearn: 0.4970891\ttotal: 1.06s\tremaining: 49.4s\n",
            "21:\tlearn: 0.4961807\ttotal: 1.11s\tremaining: 49.4s\n",
            "22:\tlearn: 0.4954398\ttotal: 1.16s\tremaining: 49.2s\n",
            "23:\tlearn: 0.4948004\ttotal: 1.2s\tremaining: 48.8s\n",
            "24:\tlearn: 0.4941043\ttotal: 1.25s\tremaining: 48.9s\n",
            "25:\tlearn: 0.4935650\ttotal: 1.3s\tremaining: 48.9s\n",
            "26:\tlearn: 0.4931292\ttotal: 1.37s\tremaining: 49.3s\n",
            "27:\tlearn: 0.4927616\ttotal: 1.41s\tremaining: 49.1s\n",
            "28:\tlearn: 0.4924277\ttotal: 1.47s\tremaining: 49.2s\n",
            "29:\tlearn: 0.4921212\ttotal: 1.51s\tremaining: 49s\n",
            "30:\tlearn: 0.4918505\ttotal: 1.56s\tremaining: 48.8s\n",
            "31:\tlearn: 0.4915769\ttotal: 1.61s\tremaining: 48.9s\n",
            "32:\tlearn: 0.4911950\ttotal: 1.67s\tremaining: 48.8s\n",
            "33:\tlearn: 0.4908923\ttotal: 1.72s\tremaining: 48.8s\n",
            "34:\tlearn: 0.4906284\ttotal: 1.77s\tremaining: 48.7s\n",
            "35:\tlearn: 0.4903745\ttotal: 1.81s\tremaining: 48.6s\n",
            "36:\tlearn: 0.4901501\ttotal: 1.86s\tremaining: 48.5s\n",
            "37:\tlearn: 0.4898576\ttotal: 1.92s\tremaining: 48.6s\n",
            "38:\tlearn: 0.4897194\ttotal: 1.97s\tremaining: 48.6s\n",
            "39:\tlearn: 0.4895574\ttotal: 2.03s\tremaining: 48.7s\n",
            "40:\tlearn: 0.4892838\ttotal: 2.08s\tremaining: 48.7s\n",
            "41:\tlearn: 0.4890279\ttotal: 2.13s\tremaining: 48.6s\n",
            "42:\tlearn: 0.4887988\ttotal: 2.19s\tremaining: 48.7s\n",
            "43:\tlearn: 0.4886821\ttotal: 2.24s\tremaining: 48.7s\n",
            "44:\tlearn: 0.4885258\ttotal: 2.29s\tremaining: 48.6s\n",
            "45:\tlearn: 0.4883112\ttotal: 2.34s\tremaining: 48.6s\n",
            "46:\tlearn: 0.4881917\ttotal: 2.4s\tremaining: 48.7s\n",
            "47:\tlearn: 0.4880327\ttotal: 2.46s\tremaining: 48.7s\n",
            "48:\tlearn: 0.4879221\ttotal: 2.51s\tremaining: 48.7s\n",
            "49:\tlearn: 0.4877348\ttotal: 2.56s\tremaining: 48.6s\n",
            "50:\tlearn: 0.4876189\ttotal: 2.6s\tremaining: 48.4s\n",
            "51:\tlearn: 0.4874103\ttotal: 2.66s\tremaining: 48.5s\n",
            "52:\tlearn: 0.4872436\ttotal: 2.71s\tremaining: 48.5s\n",
            "53:\tlearn: 0.4870695\ttotal: 2.76s\tremaining: 48.3s\n",
            "54:\tlearn: 0.4868888\ttotal: 2.81s\tremaining: 48.2s\n",
            "55:\tlearn: 0.4867295\ttotal: 2.85s\tremaining: 48.1s\n",
            "56:\tlearn: 0.4865383\ttotal: 2.91s\tremaining: 48.1s\n",
            "57:\tlearn: 0.4864433\ttotal: 2.95s\tremaining: 47.9s\n",
            "58:\tlearn: 0.4863559\ttotal: 3s\tremaining: 47.9s\n",
            "59:\tlearn: 0.4862943\ttotal: 3.05s\tremaining: 47.7s\n",
            "60:\tlearn: 0.4861895\ttotal: 3.09s\tremaining: 47.6s\n",
            "61:\tlearn: 0.4860919\ttotal: 3.16s\tremaining: 47.8s\n",
            "62:\tlearn: 0.4859832\ttotal: 3.21s\tremaining: 47.8s\n",
            "63:\tlearn: 0.4858373\ttotal: 3.26s\tremaining: 47.6s\n",
            "64:\tlearn: 0.4857552\ttotal: 3.3s\tremaining: 47.5s\n",
            "65:\tlearn: 0.4856428\ttotal: 3.36s\tremaining: 47.6s\n",
            "66:\tlearn: 0.4854387\ttotal: 3.42s\tremaining: 47.6s\n",
            "67:\tlearn: 0.4853554\ttotal: 3.47s\tremaining: 47.5s\n",
            "68:\tlearn: 0.4852265\ttotal: 3.51s\tremaining: 47.4s\n",
            "69:\tlearn: 0.4851918\ttotal: 3.56s\tremaining: 47.3s\n",
            "70:\tlearn: 0.4850971\ttotal: 3.61s\tremaining: 47.2s\n",
            "71:\tlearn: 0.4849506\ttotal: 3.66s\tremaining: 47.1s\n",
            "72:\tlearn: 0.4848832\ttotal: 3.7s\tremaining: 47s\n",
            "73:\tlearn: 0.4847500\ttotal: 3.75s\tremaining: 46.9s\n",
            "74:\tlearn: 0.4846725\ttotal: 3.8s\tremaining: 46.9s\n",
            "75:\tlearn: 0.4845936\ttotal: 3.85s\tremaining: 46.9s\n",
            "76:\tlearn: 0.4845024\ttotal: 3.9s\tremaining: 46.8s\n",
            "77:\tlearn: 0.4844302\ttotal: 3.95s\tremaining: 46.7s\n",
            "78:\tlearn: 0.4843609\ttotal: 4s\tremaining: 46.7s\n",
            "79:\tlearn: 0.4843158\ttotal: 4.06s\tremaining: 46.7s\n",
            "80:\tlearn: 0.4841853\ttotal: 4.11s\tremaining: 46.6s\n",
            "81:\tlearn: 0.4841214\ttotal: 4.15s\tremaining: 46.5s\n",
            "82:\tlearn: 0.4840014\ttotal: 4.2s\tremaining: 46.4s\n",
            "83:\tlearn: 0.4838620\ttotal: 4.25s\tremaining: 46.4s\n",
            "84:\tlearn: 0.4837437\ttotal: 4.31s\tremaining: 46.4s\n",
            "85:\tlearn: 0.4836769\ttotal: 4.37s\tremaining: 46.5s\n",
            "86:\tlearn: 0.4834958\ttotal: 4.42s\tremaining: 46.4s\n",
            "87:\tlearn: 0.4833920\ttotal: 4.48s\tremaining: 46.4s\n",
            "88:\tlearn: 0.4832222\ttotal: 4.54s\tremaining: 46.5s\n",
            "89:\tlearn: 0.4831122\ttotal: 4.59s\tremaining: 46.4s\n",
            "90:\tlearn: 0.4830425\ttotal: 4.64s\tremaining: 46.4s\n",
            "91:\tlearn: 0.4829427\ttotal: 4.69s\tremaining: 46.3s\n",
            "92:\tlearn: 0.4828652\ttotal: 4.75s\tremaining: 46.4s\n",
            "93:\tlearn: 0.4827215\ttotal: 4.8s\tremaining: 46.3s\n",
            "94:\tlearn: 0.4826042\ttotal: 4.85s\tremaining: 46.2s\n",
            "95:\tlearn: 0.4825240\ttotal: 4.89s\tremaining: 46.1s\n",
            "96:\tlearn: 0.4824016\ttotal: 4.94s\tremaining: 46s\n",
            "97:\tlearn: 0.4823092\ttotal: 5s\tremaining: 46s\n",
            "98:\tlearn: 0.4821967\ttotal: 5.05s\tremaining: 45.9s\n",
            "99:\tlearn: 0.4821098\ttotal: 5.09s\tremaining: 45.8s\n",
            "100:\tlearn: 0.4819967\ttotal: 5.14s\tremaining: 45.7s\n",
            "101:\tlearn: 0.4819720\ttotal: 5.18s\tremaining: 45.6s\n",
            "102:\tlearn: 0.4818915\ttotal: 5.23s\tremaining: 45.6s\n",
            "103:\tlearn: 0.4818429\ttotal: 5.28s\tremaining: 45.5s\n",
            "104:\tlearn: 0.4817243\ttotal: 5.33s\tremaining: 45.5s\n",
            "105:\tlearn: 0.4816593\ttotal: 5.39s\tremaining: 45.5s\n",
            "106:\tlearn: 0.4815226\ttotal: 5.45s\tremaining: 45.5s\n",
            "107:\tlearn: 0.4814417\ttotal: 5.5s\tremaining: 45.4s\n",
            "108:\tlearn: 0.4813187\ttotal: 5.55s\tremaining: 45.4s\n",
            "109:\tlearn: 0.4812798\ttotal: 5.6s\tremaining: 45.3s\n",
            "110:\tlearn: 0.4812015\ttotal: 5.66s\tremaining: 45.3s\n",
            "111:\tlearn: 0.4810972\ttotal: 5.71s\tremaining: 45.3s\n",
            "112:\tlearn: 0.4809871\ttotal: 5.76s\tremaining: 45.2s\n",
            "113:\tlearn: 0.4809067\ttotal: 5.81s\tremaining: 45.2s\n",
            "114:\tlearn: 0.4808131\ttotal: 5.88s\tremaining: 45.2s\n",
            "115:\tlearn: 0.4807672\ttotal: 5.92s\tremaining: 45.1s\n",
            "116:\tlearn: 0.4806686\ttotal: 5.96s\tremaining: 45s\n",
            "117:\tlearn: 0.4805847\ttotal: 6.02s\tremaining: 45s\n",
            "118:\tlearn: 0.4804639\ttotal: 6.09s\tremaining: 45.1s\n",
            "119:\tlearn: 0.4803834\ttotal: 6.13s\tremaining: 45s\n",
            "120:\tlearn: 0.4802661\ttotal: 6.18s\tremaining: 44.9s\n",
            "121:\tlearn: 0.4801933\ttotal: 6.23s\tremaining: 44.9s\n",
            "122:\tlearn: 0.4800857\ttotal: 6.28s\tremaining: 44.8s\n",
            "123:\tlearn: 0.4800111\ttotal: 6.34s\tremaining: 44.8s\n",
            "124:\tlearn: 0.4799131\ttotal: 6.4s\tremaining: 44.8s\n",
            "125:\tlearn: 0.4798088\ttotal: 6.45s\tremaining: 44.7s\n",
            "126:\tlearn: 0.4797133\ttotal: 6.5s\tremaining: 44.7s\n",
            "127:\tlearn: 0.4796539\ttotal: 6.55s\tremaining: 44.6s\n",
            "128:\tlearn: 0.4795267\ttotal: 6.6s\tremaining: 44.6s\n",
            "129:\tlearn: 0.4794292\ttotal: 6.65s\tremaining: 44.5s\n",
            "130:\tlearn: 0.4793886\ttotal: 6.7s\tremaining: 44.5s\n",
            "131:\tlearn: 0.4793379\ttotal: 6.75s\tremaining: 44.4s\n",
            "132:\tlearn: 0.4792504\ttotal: 6.81s\tremaining: 44.4s\n",
            "133:\tlearn: 0.4792331\ttotal: 6.86s\tremaining: 44.3s\n",
            "134:\tlearn: 0.4791193\ttotal: 6.91s\tremaining: 44.3s\n",
            "135:\tlearn: 0.4790588\ttotal: 6.96s\tremaining: 44.2s\n",
            "136:\tlearn: 0.4789782\ttotal: 7.01s\tremaining: 44.2s\n",
            "137:\tlearn: 0.4788588\ttotal: 7.07s\tremaining: 44.1s\n",
            "138:\tlearn: 0.4787676\ttotal: 7.11s\tremaining: 44.1s\n",
            "139:\tlearn: 0.4787161\ttotal: 7.16s\tremaining: 44s\n",
            "140:\tlearn: 0.4785828\ttotal: 7.2s\tremaining: 43.9s\n",
            "141:\tlearn: 0.4785062\ttotal: 7.25s\tremaining: 43.8s\n",
            "142:\tlearn: 0.4784623\ttotal: 7.3s\tremaining: 43.8s\n",
            "143:\tlearn: 0.4783768\ttotal: 7.35s\tremaining: 43.7s\n",
            "144:\tlearn: 0.4783180\ttotal: 7.4s\tremaining: 43.6s\n",
            "145:\tlearn: 0.4782781\ttotal: 7.46s\tremaining: 43.6s\n",
            "146:\tlearn: 0.4781403\ttotal: 7.51s\tremaining: 43.6s\n",
            "147:\tlearn: 0.4780742\ttotal: 7.56s\tremaining: 43.5s\n",
            "148:\tlearn: 0.4779760\ttotal: 7.62s\tremaining: 43.5s\n",
            "149:\tlearn: 0.4778820\ttotal: 7.68s\tremaining: 43.5s\n",
            "150:\tlearn: 0.4777994\ttotal: 7.74s\tremaining: 43.5s\n",
            "151:\tlearn: 0.4777628\ttotal: 7.8s\tremaining: 43.5s\n",
            "152:\tlearn: 0.4777088\ttotal: 7.85s\tremaining: 43.5s\n",
            "153:\tlearn: 0.4776159\ttotal: 7.9s\tremaining: 43.4s\n",
            "154:\tlearn: 0.4775221\ttotal: 7.95s\tremaining: 43.4s\n",
            "155:\tlearn: 0.4774151\ttotal: 8s\tremaining: 43.3s\n",
            "156:\tlearn: 0.4773327\ttotal: 8.05s\tremaining: 43.2s\n",
            "157:\tlearn: 0.4772480\ttotal: 8.1s\tremaining: 43.1s\n",
            "158:\tlearn: 0.4771699\ttotal: 8.15s\tremaining: 43.1s\n",
            "159:\tlearn: 0.4771032\ttotal: 8.2s\tremaining: 43.1s\n",
            "160:\tlearn: 0.4770552\ttotal: 8.26s\tremaining: 43s\n",
            "161:\tlearn: 0.4769642\ttotal: 8.31s\tremaining: 43s\n",
            "162:\tlearn: 0.4769202\ttotal: 8.37s\tremaining: 43s\n",
            "163:\tlearn: 0.4768288\ttotal: 8.44s\tremaining: 43s\n",
            "164:\tlearn: 0.4767738\ttotal: 8.49s\tremaining: 43s\n",
            "165:\tlearn: 0.4766855\ttotal: 8.55s\tremaining: 43s\n",
            "166:\tlearn: 0.4765802\ttotal: 8.6s\tremaining: 42.9s\n",
            "167:\tlearn: 0.4765185\ttotal: 8.66s\tremaining: 42.9s\n",
            "168:\tlearn: 0.4765030\ttotal: 8.71s\tremaining: 42.8s\n",
            "169:\tlearn: 0.4764356\ttotal: 8.76s\tremaining: 42.8s\n",
            "170:\tlearn: 0.4763625\ttotal: 8.81s\tremaining: 42.7s\n",
            "171:\tlearn: 0.4762624\ttotal: 8.86s\tremaining: 42.7s\n",
            "172:\tlearn: 0.4761985\ttotal: 8.91s\tremaining: 42.6s\n",
            "173:\tlearn: 0.4761426\ttotal: 8.96s\tremaining: 42.5s\n",
            "174:\tlearn: 0.4761032\ttotal: 9.01s\tremaining: 42.5s\n",
            "175:\tlearn: 0.4760502\ttotal: 9.05s\tremaining: 42.4s\n",
            "176:\tlearn: 0.4759654\ttotal: 9.1s\tremaining: 42.3s\n",
            "177:\tlearn: 0.4759148\ttotal: 9.15s\tremaining: 42.2s\n",
            "178:\tlearn: 0.4758314\ttotal: 9.21s\tremaining: 42.2s\n",
            "179:\tlearn: 0.4756817\ttotal: 9.27s\tremaining: 42.2s\n",
            "180:\tlearn: 0.4756409\ttotal: 9.32s\tremaining: 42.2s\n",
            "181:\tlearn: 0.4755352\ttotal: 9.37s\tremaining: 42.1s\n",
            "182:\tlearn: 0.4754565\ttotal: 9.42s\tremaining: 42.1s\n",
            "183:\tlearn: 0.4753658\ttotal: 9.48s\tremaining: 42.1s\n",
            "184:\tlearn: 0.4752618\ttotal: 9.53s\tremaining: 42s\n",
            "185:\tlearn: 0.4751700\ttotal: 9.58s\tremaining: 41.9s\n",
            "186:\tlearn: 0.4750734\ttotal: 9.62s\tremaining: 41.8s\n",
            "187:\tlearn: 0.4749641\ttotal: 9.68s\tremaining: 41.8s\n",
            "188:\tlearn: 0.4749239\ttotal: 9.73s\tremaining: 41.8s\n",
            "189:\tlearn: 0.4748404\ttotal: 9.79s\tremaining: 41.7s\n",
            "190:\tlearn: 0.4747664\ttotal: 9.84s\tremaining: 41.7s\n",
            "191:\tlearn: 0.4746799\ttotal: 9.9s\tremaining: 41.6s\n",
            "192:\tlearn: 0.4745959\ttotal: 9.95s\tremaining: 41.6s\n",
            "193:\tlearn: 0.4745745\ttotal: 9.99s\tremaining: 41.5s\n",
            "194:\tlearn: 0.4744906\ttotal: 10s\tremaining: 41.5s\n",
            "195:\tlearn: 0.4744609\ttotal: 10.1s\tremaining: 41.4s\n",
            "196:\tlearn: 0.4743994\ttotal: 10.2s\tremaining: 41.4s\n",
            "197:\tlearn: 0.4742698\ttotal: 10.2s\tremaining: 41.3s\n",
            "198:\tlearn: 0.4742186\ttotal: 10.3s\tremaining: 41.3s\n",
            "199:\tlearn: 0.4741567\ttotal: 10.3s\tremaining: 41.2s\n",
            "200:\tlearn: 0.4740540\ttotal: 10.4s\tremaining: 41.2s\n",
            "201:\tlearn: 0.4739900\ttotal: 10.4s\tremaining: 41.2s\n",
            "202:\tlearn: 0.4739033\ttotal: 10.5s\tremaining: 41.2s\n",
            "203:\tlearn: 0.4738050\ttotal: 10.5s\tremaining: 41.1s\n",
            "204:\tlearn: 0.4737427\ttotal: 10.6s\tremaining: 41.1s\n",
            "205:\tlearn: 0.4736672\ttotal: 10.6s\tremaining: 41s\n",
            "206:\tlearn: 0.4736108\ttotal: 10.7s\tremaining: 41s\n",
            "207:\tlearn: 0.4735586\ttotal: 10.7s\tremaining: 40.9s\n",
            "208:\tlearn: 0.4734478\ttotal: 10.8s\tremaining: 40.8s\n",
            "209:\tlearn: 0.4733682\ttotal: 10.8s\tremaining: 40.8s\n",
            "210:\tlearn: 0.4733222\ttotal: 10.9s\tremaining: 40.7s\n",
            "211:\tlearn: 0.4732261\ttotal: 10.9s\tremaining: 40.7s\n",
            "212:\tlearn: 0.4731636\ttotal: 11s\tremaining: 40.6s\n",
            "213:\tlearn: 0.4731002\ttotal: 11s\tremaining: 40.5s\n",
            "214:\tlearn: 0.4730082\ttotal: 11.1s\tremaining: 40.5s\n",
            "215:\tlearn: 0.4729473\ttotal: 11.1s\tremaining: 40.5s\n",
            "216:\tlearn: 0.4728633\ttotal: 11.2s\tremaining: 40.4s\n",
            "217:\tlearn: 0.4727938\ttotal: 11.2s\tremaining: 40.3s\n",
            "218:\tlearn: 0.4727347\ttotal: 11.3s\tremaining: 40.3s\n",
            "219:\tlearn: 0.4726697\ttotal: 11.4s\tremaining: 40.2s\n",
            "220:\tlearn: 0.4725987\ttotal: 11.4s\tremaining: 40.2s\n",
            "221:\tlearn: 0.4725329\ttotal: 11.5s\tremaining: 40.2s\n",
            "222:\tlearn: 0.4724598\ttotal: 11.5s\tremaining: 40.2s\n",
            "223:\tlearn: 0.4723969\ttotal: 11.6s\tremaining: 40.1s\n",
            "224:\tlearn: 0.4723453\ttotal: 11.6s\tremaining: 40.1s\n",
            "225:\tlearn: 0.4722756\ttotal: 11.7s\tremaining: 40s\n",
            "226:\tlearn: 0.4722070\ttotal: 11.7s\tremaining: 40s\n",
            "227:\tlearn: 0.4721745\ttotal: 11.8s\tremaining: 39.9s\n",
            "228:\tlearn: 0.4721119\ttotal: 11.8s\tremaining: 39.9s\n",
            "229:\tlearn: 0.4720076\ttotal: 11.9s\tremaining: 39.8s\n",
            "230:\tlearn: 0.4719840\ttotal: 11.9s\tremaining: 39.8s\n",
            "231:\tlearn: 0.4719199\ttotal: 12s\tremaining: 39.7s\n",
            "232:\tlearn: 0.4718652\ttotal: 12.1s\tremaining: 39.7s\n",
            "233:\tlearn: 0.4718220\ttotal: 12.1s\tremaining: 39.6s\n",
            "234:\tlearn: 0.4717152\ttotal: 12.1s\tremaining: 39.5s\n",
            "235:\tlearn: 0.4716810\ttotal: 12.2s\tremaining: 39.5s\n",
            "236:\tlearn: 0.4716214\ttotal: 12.3s\tremaining: 39.5s\n",
            "237:\tlearn: 0.4715614\ttotal: 12.3s\tremaining: 39.4s\n",
            "238:\tlearn: 0.4715277\ttotal: 12.4s\tremaining: 39.4s\n",
            "239:\tlearn: 0.4714526\ttotal: 12.4s\tremaining: 39.4s\n",
            "240:\tlearn: 0.4713812\ttotal: 12.5s\tremaining: 39.3s\n",
            "241:\tlearn: 0.4713016\ttotal: 12.5s\tremaining: 39.3s\n",
            "242:\tlearn: 0.4712125\ttotal: 12.6s\tremaining: 39.2s\n",
            "243:\tlearn: 0.4711758\ttotal: 12.6s\tremaining: 39.2s\n",
            "244:\tlearn: 0.4710907\ttotal: 12.7s\tremaining: 39.1s\n",
            "245:\tlearn: 0.4709887\ttotal: 12.7s\tremaining: 39.1s\n",
            "246:\tlearn: 0.4708947\ttotal: 12.8s\tremaining: 39s\n",
            "247:\tlearn: 0.4708711\ttotal: 12.8s\tremaining: 38.9s\n",
            "248:\tlearn: 0.4708095\ttotal: 12.9s\tremaining: 38.9s\n",
            "249:\tlearn: 0.4707554\ttotal: 12.9s\tremaining: 38.8s\n",
            "250:\tlearn: 0.4707023\ttotal: 13s\tremaining: 38.8s\n",
            "251:\tlearn: 0.4706063\ttotal: 13s\tremaining: 38.7s\n",
            "252:\tlearn: 0.4705578\ttotal: 13.1s\tremaining: 38.7s\n",
            "253:\tlearn: 0.4705139\ttotal: 13.1s\tremaining: 38.6s\n",
            "254:\tlearn: 0.4704472\ttotal: 13.2s\tremaining: 38.6s\n",
            "255:\tlearn: 0.4703853\ttotal: 13.3s\tremaining: 38.5s\n",
            "256:\tlearn: 0.4703430\ttotal: 13.3s\tremaining: 38.4s\n",
            "257:\tlearn: 0.4702913\ttotal: 13.3s\tremaining: 38.4s\n",
            "258:\tlearn: 0.4702743\ttotal: 13.4s\tremaining: 38.3s\n",
            "259:\tlearn: 0.4702123\ttotal: 13.4s\tremaining: 38.2s\n",
            "260:\tlearn: 0.4701664\ttotal: 13.5s\tremaining: 38.2s\n",
            "261:\tlearn: 0.4700886\ttotal: 13.5s\tremaining: 38.2s\n",
            "262:\tlearn: 0.4700177\ttotal: 13.6s\tremaining: 38.1s\n",
            "263:\tlearn: 0.4699890\ttotal: 13.7s\tremaining: 38.1s\n",
            "264:\tlearn: 0.4699557\ttotal: 13.7s\tremaining: 38s\n",
            "265:\tlearn: 0.4698833\ttotal: 13.8s\tremaining: 38s\n",
            "266:\tlearn: 0.4698415\ttotal: 13.8s\tremaining: 38s\n",
            "267:\tlearn: 0.4697956\ttotal: 13.9s\tremaining: 37.9s\n",
            "268:\tlearn: 0.4697343\ttotal: 13.9s\tremaining: 37.9s\n",
            "269:\tlearn: 0.4696627\ttotal: 14s\tremaining: 37.8s\n",
            "270:\tlearn: 0.4696107\ttotal: 14s\tremaining: 37.8s\n",
            "271:\tlearn: 0.4695434\ttotal: 14.1s\tremaining: 37.7s\n",
            "272:\tlearn: 0.4694901\ttotal: 14.1s\tremaining: 37.7s\n",
            "273:\tlearn: 0.4693899\ttotal: 14.2s\tremaining: 37.6s\n",
            "274:\tlearn: 0.4693195\ttotal: 14.2s\tremaining: 37.6s\n",
            "275:\tlearn: 0.4693006\ttotal: 14.3s\tremaining: 37.5s\n",
            "276:\tlearn: 0.4692748\ttotal: 14.3s\tremaining: 37.4s\n",
            "277:\tlearn: 0.4692171\ttotal: 14.4s\tremaining: 37.4s\n",
            "278:\tlearn: 0.4691342\ttotal: 14.5s\tremaining: 37.3s\n",
            "279:\tlearn: 0.4691018\ttotal: 14.5s\tremaining: 37.3s\n",
            "280:\tlearn: 0.4690506\ttotal: 14.6s\tremaining: 37.2s\n",
            "281:\tlearn: 0.4689742\ttotal: 14.6s\tremaining: 37.2s\n",
            "282:\tlearn: 0.4689212\ttotal: 14.7s\tremaining: 37.1s\n",
            "283:\tlearn: 0.4688906\ttotal: 14.7s\tremaining: 37.1s\n",
            "284:\tlearn: 0.4688587\ttotal: 14.8s\tremaining: 37s\n",
            "285:\tlearn: 0.4687854\ttotal: 14.8s\tremaining: 37s\n",
            "286:\tlearn: 0.4686709\ttotal: 14.9s\tremaining: 36.9s\n",
            "287:\tlearn: 0.4686504\ttotal: 14.9s\tremaining: 36.8s\n",
            "288:\tlearn: 0.4686036\ttotal: 15s\tremaining: 36.8s\n",
            "289:\tlearn: 0.4685414\ttotal: 15s\tremaining: 36.7s\n",
            "290:\tlearn: 0.4684995\ttotal: 15.1s\tremaining: 36.7s\n",
            "291:\tlearn: 0.4684083\ttotal: 15.1s\tremaining: 36.6s\n",
            "292:\tlearn: 0.4683478\ttotal: 15.2s\tremaining: 36.6s\n",
            "293:\tlearn: 0.4683203\ttotal: 15.2s\tremaining: 36.5s\n",
            "294:\tlearn: 0.4682497\ttotal: 15.3s\tremaining: 36.5s\n",
            "295:\tlearn: 0.4681957\ttotal: 15.3s\tremaining: 36.4s\n",
            "296:\tlearn: 0.4681202\ttotal: 15.4s\tremaining: 36.3s\n",
            "297:\tlearn: 0.4680571\ttotal: 15.4s\tremaining: 36.3s\n",
            "298:\tlearn: 0.4680052\ttotal: 15.5s\tremaining: 36.3s\n",
            "299:\tlearn: 0.4679572\ttotal: 15.5s\tremaining: 36.2s\n",
            "300:\tlearn: 0.4679346\ttotal: 15.6s\tremaining: 36.2s\n",
            "301:\tlearn: 0.4678920\ttotal: 15.6s\tremaining: 36.1s\n",
            "302:\tlearn: 0.4678031\ttotal: 15.7s\tremaining: 36.1s\n",
            "303:\tlearn: 0.4677672\ttotal: 15.7s\tremaining: 36s\n",
            "304:\tlearn: 0.4677148\ttotal: 15.8s\tremaining: 36s\n",
            "305:\tlearn: 0.4676858\ttotal: 15.8s\tremaining: 35.9s\n",
            "306:\tlearn: 0.4676456\ttotal: 15.9s\tremaining: 35.8s\n",
            "307:\tlearn: 0.4675855\ttotal: 15.9s\tremaining: 35.8s\n",
            "308:\tlearn: 0.4675212\ttotal: 16s\tremaining: 35.8s\n",
            "309:\tlearn: 0.4674477\ttotal: 16s\tremaining: 35.7s\n",
            "310:\tlearn: 0.4673934\ttotal: 16.1s\tremaining: 35.6s\n",
            "311:\tlearn: 0.4673305\ttotal: 16.1s\tremaining: 35.6s\n",
            "312:\tlearn: 0.4672765\ttotal: 16.2s\tremaining: 35.6s\n",
            "313:\tlearn: 0.4672220\ttotal: 16.3s\tremaining: 35.5s\n",
            "314:\tlearn: 0.4671814\ttotal: 16.3s\tremaining: 35.5s\n",
            "315:\tlearn: 0.4671429\ttotal: 16.4s\tremaining: 35.4s\n",
            "316:\tlearn: 0.4671281\ttotal: 16.4s\tremaining: 35.3s\n",
            "317:\tlearn: 0.4670820\ttotal: 16.5s\tremaining: 35.3s\n",
            "318:\tlearn: 0.4670355\ttotal: 16.5s\tremaining: 35.3s\n",
            "319:\tlearn: 0.4669481\ttotal: 16.6s\tremaining: 35.2s\n",
            "320:\tlearn: 0.4668661\ttotal: 16.6s\tremaining: 35.1s\n",
            "321:\tlearn: 0.4668282\ttotal: 16.7s\tremaining: 35.1s\n",
            "322:\tlearn: 0.4667762\ttotal: 16.7s\tremaining: 35.1s\n",
            "323:\tlearn: 0.4667308\ttotal: 16.8s\tremaining: 35s\n",
            "324:\tlearn: 0.4667019\ttotal: 16.8s\tremaining: 34.9s\n",
            "325:\tlearn: 0.4666631\ttotal: 16.9s\tremaining: 34.9s\n",
            "326:\tlearn: 0.4666018\ttotal: 16.9s\tremaining: 34.8s\n",
            "327:\tlearn: 0.4665482\ttotal: 17s\tremaining: 34.8s\n",
            "328:\tlearn: 0.4665106\ttotal: 17s\tremaining: 34.7s\n",
            "329:\tlearn: 0.4664329\ttotal: 17.1s\tremaining: 34.7s\n",
            "330:\tlearn: 0.4663974\ttotal: 17.1s\tremaining: 34.6s\n",
            "331:\tlearn: 0.4663524\ttotal: 17.2s\tremaining: 34.6s\n",
            "332:\tlearn: 0.4663170\ttotal: 17.2s\tremaining: 34.5s\n",
            "333:\tlearn: 0.4662808\ttotal: 17.3s\tremaining: 34.5s\n",
            "334:\tlearn: 0.4662349\ttotal: 17.3s\tremaining: 34.4s\n",
            "335:\tlearn: 0.4662190\ttotal: 17.4s\tremaining: 34.4s\n",
            "336:\tlearn: 0.4661645\ttotal: 17.5s\tremaining: 34.4s\n",
            "337:\tlearn: 0.4661409\ttotal: 17.5s\tremaining: 34.3s\n",
            "338:\tlearn: 0.4661031\ttotal: 17.6s\tremaining: 34.2s\n",
            "339:\tlearn: 0.4660588\ttotal: 17.6s\tremaining: 34.2s\n",
            "340:\tlearn: 0.4659617\ttotal: 17.7s\tremaining: 34.1s\n",
            "341:\tlearn: 0.4658964\ttotal: 17.7s\tremaining: 34.1s\n",
            "342:\tlearn: 0.4658875\ttotal: 17.8s\tremaining: 34s\n",
            "343:\tlearn: 0.4658515\ttotal: 17.8s\tremaining: 34s\n",
            "344:\tlearn: 0.4658110\ttotal: 17.9s\tremaining: 33.9s\n",
            "345:\tlearn: 0.4657749\ttotal: 17.9s\tremaining: 33.8s\n",
            "346:\tlearn: 0.4657531\ttotal: 18s\tremaining: 33.8s\n",
            "347:\tlearn: 0.4657019\ttotal: 18s\tremaining: 33.7s\n",
            "348:\tlearn: 0.4656712\ttotal: 18.1s\tremaining: 33.7s\n",
            "349:\tlearn: 0.4656537\ttotal: 18.1s\tremaining: 33.6s\n",
            "350:\tlearn: 0.4656288\ttotal: 18.2s\tremaining: 33.6s\n",
            "351:\tlearn: 0.4655655\ttotal: 18.2s\tremaining: 33.6s\n",
            "352:\tlearn: 0.4654952\ttotal: 18.3s\tremaining: 33.5s\n",
            "353:\tlearn: 0.4654346\ttotal: 18.3s\tremaining: 33.5s\n",
            "354:\tlearn: 0.4654197\ttotal: 18.4s\tremaining: 33.4s\n",
            "355:\tlearn: 0.4653273\ttotal: 18.4s\tremaining: 33.4s\n",
            "356:\tlearn: 0.4652833\ttotal: 18.5s\tremaining: 33.3s\n",
            "357:\tlearn: 0.4652707\ttotal: 18.5s\tremaining: 33.3s\n",
            "358:\tlearn: 0.4651460\ttotal: 18.6s\tremaining: 33.2s\n",
            "359:\tlearn: 0.4651083\ttotal: 18.7s\tremaining: 33.2s\n",
            "360:\tlearn: 0.4650862\ttotal: 18.7s\tremaining: 33.1s\n",
            "361:\tlearn: 0.4650362\ttotal: 18.8s\tremaining: 33.1s\n",
            "362:\tlearn: 0.4650036\ttotal: 18.8s\tremaining: 33s\n",
            "363:\tlearn: 0.4649745\ttotal: 18.9s\tremaining: 33s\n",
            "364:\tlearn: 0.4649449\ttotal: 18.9s\tremaining: 32.9s\n",
            "365:\tlearn: 0.4648898\ttotal: 19s\tremaining: 32.9s\n",
            "366:\tlearn: 0.4648563\ttotal: 19s\tremaining: 32.8s\n",
            "367:\tlearn: 0.4648206\ttotal: 19.1s\tremaining: 32.8s\n",
            "368:\tlearn: 0.4647996\ttotal: 19.1s\tremaining: 32.7s\n",
            "369:\tlearn: 0.4647434\ttotal: 19.2s\tremaining: 32.7s\n",
            "370:\tlearn: 0.4647136\ttotal: 19.2s\tremaining: 32.6s\n",
            "371:\tlearn: 0.4646254\ttotal: 19.3s\tremaining: 32.5s\n",
            "372:\tlearn: 0.4645687\ttotal: 19.3s\tremaining: 32.5s\n",
            "373:\tlearn: 0.4645196\ttotal: 19.4s\tremaining: 32.4s\n",
            "374:\tlearn: 0.4644933\ttotal: 19.4s\tremaining: 32.4s\n",
            "375:\tlearn: 0.4644414\ttotal: 19.5s\tremaining: 32.4s\n",
            "376:\tlearn: 0.4644078\ttotal: 19.5s\tremaining: 32.3s\n",
            "377:\tlearn: 0.4643749\ttotal: 19.6s\tremaining: 32.2s\n",
            "378:\tlearn: 0.4642948\ttotal: 19.6s\tremaining: 32.2s\n",
            "379:\tlearn: 0.4642793\ttotal: 19.7s\tremaining: 32.1s\n",
            "380:\tlearn: 0.4642688\ttotal: 19.7s\tremaining: 32.1s\n",
            "381:\tlearn: 0.4642086\ttotal: 19.8s\tremaining: 32s\n",
            "382:\tlearn: 0.4641731\ttotal: 19.9s\tremaining: 32s\n",
            "383:\tlearn: 0.4641337\ttotal: 19.9s\tremaining: 31.9s\n",
            "384:\tlearn: 0.4640567\ttotal: 20s\tremaining: 31.9s\n",
            "385:\tlearn: 0.4640255\ttotal: 20s\tremaining: 31.8s\n",
            "386:\tlearn: 0.4639792\ttotal: 20.1s\tremaining: 31.8s\n",
            "387:\tlearn: 0.4639245\ttotal: 20.1s\tremaining: 31.7s\n",
            "388:\tlearn: 0.4638911\ttotal: 20.2s\tremaining: 31.7s\n",
            "389:\tlearn: 0.4638171\ttotal: 20.2s\tremaining: 31.6s\n",
            "390:\tlearn: 0.4637721\ttotal: 20.3s\tremaining: 31.6s\n",
            "391:\tlearn: 0.4637659\ttotal: 20.3s\tremaining: 31.5s\n",
            "392:\tlearn: 0.4637450\ttotal: 20.4s\tremaining: 31.4s\n",
            "393:\tlearn: 0.4636862\ttotal: 20.4s\tremaining: 31.4s\n",
            "394:\tlearn: 0.4636474\ttotal: 20.5s\tremaining: 31.4s\n",
            "395:\tlearn: 0.4635880\ttotal: 20.5s\tremaining: 31.3s\n",
            "396:\tlearn: 0.4635431\ttotal: 20.6s\tremaining: 31.3s\n",
            "397:\tlearn: 0.4634774\ttotal: 20.6s\tremaining: 31.2s\n",
            "398:\tlearn: 0.4634454\ttotal: 20.7s\tremaining: 31.2s\n",
            "399:\tlearn: 0.4633997\ttotal: 20.7s\tremaining: 31.1s\n",
            "400:\tlearn: 0.4633188\ttotal: 20.8s\tremaining: 31.1s\n",
            "401:\tlearn: 0.4632777\ttotal: 20.8s\tremaining: 31s\n",
            "402:\tlearn: 0.4632676\ttotal: 20.9s\tremaining: 30.9s\n",
            "403:\tlearn: 0.4632028\ttotal: 20.9s\tremaining: 30.9s\n",
            "404:\tlearn: 0.4631689\ttotal: 21s\tremaining: 30.9s\n",
            "405:\tlearn: 0.4631259\ttotal: 21.1s\tremaining: 30.8s\n",
            "406:\tlearn: 0.4630735\ttotal: 21.1s\tremaining: 30.8s\n",
            "407:\tlearn: 0.4630365\ttotal: 21.2s\tremaining: 30.7s\n",
            "408:\tlearn: 0.4629343\ttotal: 21.2s\tremaining: 30.7s\n",
            "409:\tlearn: 0.4628726\ttotal: 21.3s\tremaining: 30.6s\n",
            "410:\tlearn: 0.4628410\ttotal: 21.3s\tremaining: 30.6s\n",
            "411:\tlearn: 0.4628154\ttotal: 21.4s\tremaining: 30.5s\n",
            "412:\tlearn: 0.4627722\ttotal: 21.4s\tremaining: 30.4s\n",
            "413:\tlearn: 0.4627237\ttotal: 21.5s\tremaining: 30.4s\n",
            "414:\tlearn: 0.4626987\ttotal: 21.5s\tremaining: 30.4s\n",
            "415:\tlearn: 0.4626694\ttotal: 21.6s\tremaining: 30.3s\n",
            "416:\tlearn: 0.4626523\ttotal: 21.6s\tremaining: 30.2s\n",
            "417:\tlearn: 0.4626060\ttotal: 21.7s\tremaining: 30.2s\n",
            "418:\tlearn: 0.4625733\ttotal: 21.7s\tremaining: 30.1s\n",
            "419:\tlearn: 0.4625370\ttotal: 21.8s\tremaining: 30.1s\n",
            "420:\tlearn: 0.4624890\ttotal: 21.8s\tremaining: 30s\n",
            "421:\tlearn: 0.4624699\ttotal: 21.9s\tremaining: 30s\n",
            "422:\tlearn: 0.4623997\ttotal: 21.9s\tremaining: 29.9s\n",
            "423:\tlearn: 0.4623398\ttotal: 22s\tremaining: 29.9s\n",
            "424:\tlearn: 0.4622974\ttotal: 22s\tremaining: 29.8s\n",
            "425:\tlearn: 0.4622769\ttotal: 22.1s\tremaining: 29.8s\n",
            "426:\tlearn: 0.4622522\ttotal: 22.1s\tremaining: 29.7s\n",
            "427:\tlearn: 0.4621871\ttotal: 22.2s\tremaining: 29.6s\n",
            "428:\tlearn: 0.4621571\ttotal: 22.2s\tremaining: 29.6s\n",
            "429:\tlearn: 0.4620971\ttotal: 22.3s\tremaining: 29.5s\n",
            "430:\tlearn: 0.4620565\ttotal: 22.3s\tremaining: 29.5s\n",
            "431:\tlearn: 0.4620214\ttotal: 22.4s\tremaining: 29.5s\n",
            "432:\tlearn: 0.4619736\ttotal: 22.5s\tremaining: 29.4s\n",
            "433:\tlearn: 0.4619480\ttotal: 22.5s\tremaining: 29.4s\n",
            "434:\tlearn: 0.4619320\ttotal: 22.6s\tremaining: 29.3s\n",
            "435:\tlearn: 0.4619217\ttotal: 22.6s\tremaining: 29.2s\n",
            "436:\tlearn: 0.4618944\ttotal: 22.7s\tremaining: 29.2s\n",
            "437:\tlearn: 0.4618643\ttotal: 22.7s\tremaining: 29.1s\n",
            "438:\tlearn: 0.4618330\ttotal: 22.8s\tremaining: 29.1s\n",
            "439:\tlearn: 0.4618038\ttotal: 22.8s\tremaining: 29.1s\n",
            "440:\tlearn: 0.4617540\ttotal: 22.9s\tremaining: 29s\n",
            "441:\tlearn: 0.4617056\ttotal: 22.9s\tremaining: 28.9s\n",
            "442:\tlearn: 0.4616521\ttotal: 23s\tremaining: 28.9s\n",
            "443:\tlearn: 0.4616234\ttotal: 23s\tremaining: 28.9s\n",
            "444:\tlearn: 0.4615782\ttotal: 23.1s\tremaining: 28.8s\n",
            "445:\tlearn: 0.4615349\ttotal: 23.1s\tremaining: 28.7s\n",
            "446:\tlearn: 0.4615027\ttotal: 23.2s\tremaining: 28.7s\n",
            "447:\tlearn: 0.4614694\ttotal: 23.2s\tremaining: 28.6s\n",
            "448:\tlearn: 0.4614205\ttotal: 23.3s\tremaining: 28.6s\n",
            "449:\tlearn: 0.4613978\ttotal: 23.3s\tremaining: 28.5s\n",
            "450:\tlearn: 0.4613617\ttotal: 23.4s\tremaining: 28.5s\n",
            "451:\tlearn: 0.4613209\ttotal: 23.5s\tremaining: 28.4s\n",
            "452:\tlearn: 0.4612788\ttotal: 23.5s\tremaining: 28.4s\n",
            "453:\tlearn: 0.4612491\ttotal: 23.6s\tremaining: 28.3s\n",
            "454:\tlearn: 0.4612233\ttotal: 23.6s\tremaining: 28.3s\n",
            "455:\tlearn: 0.4611813\ttotal: 23.7s\tremaining: 28.2s\n",
            "456:\tlearn: 0.4611516\ttotal: 23.7s\tremaining: 28.2s\n",
            "457:\tlearn: 0.4611191\ttotal: 23.8s\tremaining: 28.1s\n",
            "458:\tlearn: 0.4610907\ttotal: 23.8s\tremaining: 28.1s\n",
            "459:\tlearn: 0.4610633\ttotal: 23.9s\tremaining: 28s\n",
            "460:\tlearn: 0.4610154\ttotal: 23.9s\tremaining: 28s\n",
            "461:\tlearn: 0.4609631\ttotal: 24s\tremaining: 27.9s\n",
            "462:\tlearn: 0.4609157\ttotal: 24s\tremaining: 27.8s\n",
            "463:\tlearn: 0.4608764\ttotal: 24.1s\tremaining: 27.8s\n",
            "464:\tlearn: 0.4608583\ttotal: 24.1s\tremaining: 27.7s\n",
            "465:\tlearn: 0.4608000\ttotal: 24.1s\tremaining: 27.7s\n",
            "466:\tlearn: 0.4607649\ttotal: 24.2s\tremaining: 27.6s\n",
            "467:\tlearn: 0.4607167\ttotal: 24.3s\tremaining: 27.6s\n",
            "468:\tlearn: 0.4607027\ttotal: 24.3s\tremaining: 27.5s\n",
            "469:\tlearn: 0.4606795\ttotal: 24.4s\tremaining: 27.5s\n",
            "470:\tlearn: 0.4606620\ttotal: 24.4s\tremaining: 27.4s\n",
            "471:\tlearn: 0.4606500\ttotal: 24.5s\tremaining: 27.4s\n",
            "472:\tlearn: 0.4606119\ttotal: 24.5s\tremaining: 27.3s\n",
            "473:\tlearn: 0.4605720\ttotal: 24.6s\tremaining: 27.3s\n",
            "474:\tlearn: 0.4605437\ttotal: 24.6s\tremaining: 27.2s\n",
            "475:\tlearn: 0.4605319\ttotal: 24.7s\tremaining: 27.1s\n",
            "476:\tlearn: 0.4605063\ttotal: 24.7s\tremaining: 27.1s\n",
            "477:\tlearn: 0.4604465\ttotal: 24.8s\tremaining: 27s\n",
            "478:\tlearn: 0.4604068\ttotal: 24.8s\tremaining: 27s\n",
            "479:\tlearn: 0.4603723\ttotal: 24.9s\tremaining: 26.9s\n",
            "480:\tlearn: 0.4603332\ttotal: 24.9s\tremaining: 26.9s\n",
            "481:\tlearn: 0.4602757\ttotal: 25s\tremaining: 26.8s\n",
            "482:\tlearn: 0.4602545\ttotal: 25s\tremaining: 26.8s\n",
            "483:\tlearn: 0.4602181\ttotal: 25.1s\tremaining: 26.7s\n",
            "484:\tlearn: 0.4601909\ttotal: 25.1s\tremaining: 26.7s\n",
            "485:\tlearn: 0.4601718\ttotal: 25.2s\tremaining: 26.6s\n",
            "486:\tlearn: 0.4601512\ttotal: 25.2s\tremaining: 26.6s\n",
            "487:\tlearn: 0.4601106\ttotal: 25.3s\tremaining: 26.5s\n",
            "488:\tlearn: 0.4600726\ttotal: 25.3s\tremaining: 26.5s\n",
            "489:\tlearn: 0.4600526\ttotal: 25.4s\tremaining: 26.4s\n",
            "490:\tlearn: 0.4600060\ttotal: 25.4s\tremaining: 26.4s\n",
            "491:\tlearn: 0.4599600\ttotal: 25.5s\tremaining: 26.3s\n",
            "492:\tlearn: 0.4599379\ttotal: 25.6s\tremaining: 26.3s\n",
            "493:\tlearn: 0.4598992\ttotal: 25.6s\tremaining: 26.2s\n",
            "494:\tlearn: 0.4598675\ttotal: 25.7s\tremaining: 26.2s\n",
            "495:\tlearn: 0.4598286\ttotal: 25.7s\tremaining: 26.1s\n",
            "496:\tlearn: 0.4597984\ttotal: 25.8s\tremaining: 26.1s\n",
            "497:\tlearn: 0.4597624\ttotal: 25.8s\tremaining: 26s\n",
            "498:\tlearn: 0.4597138\ttotal: 25.9s\tremaining: 26s\n",
            "499:\tlearn: 0.4596743\ttotal: 25.9s\tremaining: 25.9s\n",
            "500:\tlearn: 0.4596628\ttotal: 26s\tremaining: 25.9s\n",
            "501:\tlearn: 0.4596187\ttotal: 26s\tremaining: 25.8s\n",
            "502:\tlearn: 0.4595921\ttotal: 26.1s\tremaining: 25.8s\n",
            "503:\tlearn: 0.4595479\ttotal: 26.1s\tremaining: 25.7s\n",
            "504:\tlearn: 0.4595157\ttotal: 26.2s\tremaining: 25.7s\n",
            "505:\tlearn: 0.4594836\ttotal: 26.2s\tremaining: 25.6s\n",
            "506:\tlearn: 0.4594542\ttotal: 26.3s\tremaining: 25.6s\n",
            "507:\tlearn: 0.4593712\ttotal: 26.3s\tremaining: 25.5s\n",
            "508:\tlearn: 0.4593304\ttotal: 26.4s\tremaining: 25.5s\n",
            "509:\tlearn: 0.4593102\ttotal: 26.5s\tremaining: 25.4s\n",
            "510:\tlearn: 0.4593006\ttotal: 26.5s\tremaining: 25.4s\n",
            "511:\tlearn: 0.4592626\ttotal: 26.6s\tremaining: 25.3s\n",
            "512:\tlearn: 0.4592249\ttotal: 26.6s\tremaining: 25.3s\n",
            "513:\tlearn: 0.4591912\ttotal: 26.7s\tremaining: 25.2s\n",
            "514:\tlearn: 0.4591731\ttotal: 26.7s\tremaining: 25.2s\n",
            "515:\tlearn: 0.4591223\ttotal: 26.8s\tremaining: 25.1s\n",
            "516:\tlearn: 0.4590951\ttotal: 26.8s\tremaining: 25.1s\n",
            "517:\tlearn: 0.4590848\ttotal: 26.9s\tremaining: 25s\n",
            "518:\tlearn: 0.4590587\ttotal: 26.9s\tremaining: 25s\n",
            "519:\tlearn: 0.4590138\ttotal: 27s\tremaining: 24.9s\n",
            "520:\tlearn: 0.4589960\ttotal: 27.1s\tremaining: 24.9s\n",
            "521:\tlearn: 0.4589687\ttotal: 27.1s\tremaining: 24.8s\n",
            "522:\tlearn: 0.4589253\ttotal: 27.2s\tremaining: 24.8s\n",
            "523:\tlearn: 0.4588912\ttotal: 27.2s\tremaining: 24.7s\n",
            "524:\tlearn: 0.4588799\ttotal: 27.3s\tremaining: 24.7s\n",
            "525:\tlearn: 0.4588591\ttotal: 27.3s\tremaining: 24.6s\n",
            "526:\tlearn: 0.4588276\ttotal: 27.4s\tremaining: 24.5s\n",
            "527:\tlearn: 0.4588085\ttotal: 27.4s\tremaining: 24.5s\n",
            "528:\tlearn: 0.4587883\ttotal: 27.5s\tremaining: 24.4s\n",
            "529:\tlearn: 0.4587565\ttotal: 27.5s\tremaining: 24.4s\n",
            "530:\tlearn: 0.4587418\ttotal: 27.6s\tremaining: 24.4s\n",
            "531:\tlearn: 0.4586762\ttotal: 27.6s\tremaining: 24.3s\n",
            "532:\tlearn: 0.4586546\ttotal: 27.7s\tremaining: 24.3s\n",
            "533:\tlearn: 0.4586405\ttotal: 27.7s\tremaining: 24.2s\n",
            "534:\tlearn: 0.4586171\ttotal: 27.8s\tremaining: 24.1s\n",
            "535:\tlearn: 0.4585615\ttotal: 27.8s\tremaining: 24.1s\n",
            "536:\tlearn: 0.4585319\ttotal: 27.9s\tremaining: 24s\n",
            "537:\tlearn: 0.4584953\ttotal: 27.9s\tremaining: 24s\n",
            "538:\tlearn: 0.4584517\ttotal: 28s\tremaining: 23.9s\n",
            "539:\tlearn: 0.4584125\ttotal: 28s\tremaining: 23.9s\n",
            "540:\tlearn: 0.4583868\ttotal: 28.1s\tremaining: 23.8s\n",
            "541:\tlearn: 0.4583638\ttotal: 28.1s\tremaining: 23.8s\n",
            "542:\tlearn: 0.4583394\ttotal: 28.2s\tremaining: 23.7s\n",
            "543:\tlearn: 0.4583142\ttotal: 28.2s\tremaining: 23.7s\n",
            "544:\tlearn: 0.4582894\ttotal: 28.3s\tremaining: 23.6s\n",
            "545:\tlearn: 0.4582437\ttotal: 28.3s\tremaining: 23.6s\n",
            "546:\tlearn: 0.4581976\ttotal: 28.4s\tremaining: 23.5s\n",
            "547:\tlearn: 0.4581679\ttotal: 28.4s\tremaining: 23.5s\n",
            "548:\tlearn: 0.4581465\ttotal: 28.5s\tremaining: 23.4s\n",
            "549:\tlearn: 0.4581085\ttotal: 28.6s\tremaining: 23.4s\n",
            "550:\tlearn: 0.4580874\ttotal: 28.6s\tremaining: 23.3s\n",
            "551:\tlearn: 0.4580729\ttotal: 28.7s\tremaining: 23.3s\n",
            "552:\tlearn: 0.4580537\ttotal: 28.7s\tremaining: 23.2s\n",
            "553:\tlearn: 0.4580174\ttotal: 28.7s\tremaining: 23.1s\n",
            "554:\tlearn: 0.4579884\ttotal: 28.8s\tremaining: 23.1s\n",
            "555:\tlearn: 0.4579431\ttotal: 28.8s\tremaining: 23s\n",
            "556:\tlearn: 0.4579053\ttotal: 28.9s\tremaining: 23s\n",
            "557:\tlearn: 0.4578928\ttotal: 28.9s\tremaining: 22.9s\n",
            "558:\tlearn: 0.4578623\ttotal: 29s\tremaining: 22.9s\n",
            "559:\tlearn: 0.4578049\ttotal: 29.1s\tremaining: 22.8s\n",
            "560:\tlearn: 0.4577777\ttotal: 29.1s\tremaining: 22.8s\n",
            "561:\tlearn: 0.4577417\ttotal: 29.2s\tremaining: 22.7s\n",
            "562:\tlearn: 0.4577192\ttotal: 29.2s\tremaining: 22.7s\n",
            "563:\tlearn: 0.4577004\ttotal: 29.3s\tremaining: 22.6s\n",
            "564:\tlearn: 0.4576836\ttotal: 29.3s\tremaining: 22.6s\n",
            "565:\tlearn: 0.4576604\ttotal: 29.4s\tremaining: 22.5s\n",
            "566:\tlearn: 0.4576169\ttotal: 29.4s\tremaining: 22.5s\n",
            "567:\tlearn: 0.4575754\ttotal: 29.5s\tremaining: 22.4s\n",
            "568:\tlearn: 0.4575376\ttotal: 29.5s\tremaining: 22.4s\n",
            "569:\tlearn: 0.4575060\ttotal: 29.6s\tremaining: 22.3s\n",
            "570:\tlearn: 0.4574888\ttotal: 29.6s\tremaining: 22.3s\n",
            "571:\tlearn: 0.4574445\ttotal: 29.7s\tremaining: 22.2s\n",
            "572:\tlearn: 0.4574277\ttotal: 29.7s\tremaining: 22.2s\n",
            "573:\tlearn: 0.4574075\ttotal: 29.8s\tremaining: 22.1s\n",
            "574:\tlearn: 0.4573633\ttotal: 29.9s\tremaining: 22.1s\n",
            "575:\tlearn: 0.4573381\ttotal: 29.9s\tremaining: 22s\n",
            "576:\tlearn: 0.4573226\ttotal: 30s\tremaining: 22s\n",
            "577:\tlearn: 0.4573162\ttotal: 30s\tremaining: 21.9s\n",
            "578:\tlearn: 0.4572694\ttotal: 30.1s\tremaining: 21.9s\n",
            "579:\tlearn: 0.4572474\ttotal: 30.1s\tremaining: 21.8s\n",
            "580:\tlearn: 0.4571878\ttotal: 30.2s\tremaining: 21.7s\n",
            "581:\tlearn: 0.4571419\ttotal: 30.2s\tremaining: 21.7s\n",
            "582:\tlearn: 0.4570922\ttotal: 30.3s\tremaining: 21.6s\n",
            "583:\tlearn: 0.4570768\ttotal: 30.3s\tremaining: 21.6s\n",
            "584:\tlearn: 0.4570529\ttotal: 30.4s\tremaining: 21.5s\n",
            "585:\tlearn: 0.4570351\ttotal: 30.4s\tremaining: 21.5s\n",
            "586:\tlearn: 0.4570125\ttotal: 30.5s\tremaining: 21.4s\n",
            "587:\tlearn: 0.4570045\ttotal: 30.5s\tremaining: 21.4s\n",
            "588:\tlearn: 0.4569816\ttotal: 30.6s\tremaining: 21.3s\n",
            "589:\tlearn: 0.4569343\ttotal: 30.6s\tremaining: 21.3s\n",
            "590:\tlearn: 0.4569096\ttotal: 30.7s\tremaining: 21.2s\n",
            "591:\tlearn: 0.4568706\ttotal: 30.7s\tremaining: 21.2s\n",
            "592:\tlearn: 0.4568479\ttotal: 30.8s\tremaining: 21.1s\n",
            "593:\tlearn: 0.4568230\ttotal: 30.8s\tremaining: 21.1s\n",
            "594:\tlearn: 0.4567825\ttotal: 30.9s\tremaining: 21s\n",
            "595:\tlearn: 0.4567667\ttotal: 30.9s\tremaining: 21s\n",
            "596:\tlearn: 0.4567464\ttotal: 31s\tremaining: 20.9s\n",
            "597:\tlearn: 0.4567156\ttotal: 31s\tremaining: 20.9s\n",
            "598:\tlearn: 0.4567087\ttotal: 31.1s\tremaining: 20.8s\n",
            "599:\tlearn: 0.4566944\ttotal: 31.1s\tremaining: 20.8s\n",
            "600:\tlearn: 0.4566852\ttotal: 31.2s\tremaining: 20.7s\n",
            "601:\tlearn: 0.4566524\ttotal: 31.3s\tremaining: 20.7s\n",
            "602:\tlearn: 0.4566282\ttotal: 31.3s\tremaining: 20.6s\n",
            "603:\tlearn: 0.4565848\ttotal: 31.4s\tremaining: 20.6s\n",
            "604:\tlearn: 0.4565641\ttotal: 31.4s\tremaining: 20.5s\n",
            "605:\tlearn: 0.4565434\ttotal: 31.5s\tremaining: 20.5s\n",
            "606:\tlearn: 0.4565198\ttotal: 31.5s\tremaining: 20.4s\n",
            "607:\tlearn: 0.4564877\ttotal: 31.6s\tremaining: 20.4s\n",
            "608:\tlearn: 0.4564521\ttotal: 31.7s\tremaining: 20.3s\n",
            "609:\tlearn: 0.4564155\ttotal: 31.7s\tremaining: 20.3s\n",
            "610:\tlearn: 0.4564064\ttotal: 31.8s\tremaining: 20.2s\n",
            "611:\tlearn: 0.4563768\ttotal: 31.8s\tremaining: 20.2s\n",
            "612:\tlearn: 0.4563481\ttotal: 31.9s\tremaining: 20.1s\n",
            "613:\tlearn: 0.4563321\ttotal: 31.9s\tremaining: 20.1s\n",
            "614:\tlearn: 0.4563117\ttotal: 32s\tremaining: 20s\n",
            "615:\tlearn: 0.4562695\ttotal: 32.1s\tremaining: 20s\n",
            "616:\tlearn: 0.4562346\ttotal: 32.1s\tremaining: 19.9s\n",
            "617:\tlearn: 0.4561937\ttotal: 32.2s\tremaining: 19.9s\n",
            "618:\tlearn: 0.4561639\ttotal: 32.2s\tremaining: 19.8s\n",
            "619:\tlearn: 0.4561260\ttotal: 32.3s\tremaining: 19.8s\n",
            "620:\tlearn: 0.4560931\ttotal: 32.3s\tremaining: 19.7s\n",
            "621:\tlearn: 0.4560561\ttotal: 32.4s\tremaining: 19.7s\n",
            "622:\tlearn: 0.4560218\ttotal: 32.4s\tremaining: 19.6s\n",
            "623:\tlearn: 0.4559617\ttotal: 32.5s\tremaining: 19.6s\n",
            "624:\tlearn: 0.4559224\ttotal: 32.5s\tremaining: 19.5s\n",
            "625:\tlearn: 0.4558895\ttotal: 32.6s\tremaining: 19.5s\n",
            "626:\tlearn: 0.4558695\ttotal: 32.7s\tremaining: 19.4s\n",
            "627:\tlearn: 0.4558478\ttotal: 32.7s\tremaining: 19.4s\n",
            "628:\tlearn: 0.4558337\ttotal: 32.7s\tremaining: 19.3s\n",
            "629:\tlearn: 0.4558099\ttotal: 32.8s\tremaining: 19.3s\n",
            "630:\tlearn: 0.4557803\ttotal: 32.8s\tremaining: 19.2s\n",
            "631:\tlearn: 0.4557540\ttotal: 32.9s\tremaining: 19.2s\n",
            "632:\tlearn: 0.4557298\ttotal: 33s\tremaining: 19.1s\n",
            "633:\tlearn: 0.4556993\ttotal: 33s\tremaining: 19.1s\n",
            "634:\tlearn: 0.4556613\ttotal: 33s\tremaining: 19s\n",
            "635:\tlearn: 0.4556537\ttotal: 33.1s\tremaining: 18.9s\n",
            "636:\tlearn: 0.4556231\ttotal: 33.2s\tremaining: 18.9s\n",
            "637:\tlearn: 0.4556088\ttotal: 33.2s\tremaining: 18.8s\n",
            "638:\tlearn: 0.4555965\ttotal: 33.2s\tremaining: 18.8s\n",
            "639:\tlearn: 0.4555825\ttotal: 33.3s\tremaining: 18.7s\n",
            "640:\tlearn: 0.4555758\ttotal: 33.4s\tremaining: 18.7s\n",
            "641:\tlearn: 0.4555608\ttotal: 33.4s\tremaining: 18.6s\n",
            "642:\tlearn: 0.4555407\ttotal: 33.5s\tremaining: 18.6s\n",
            "643:\tlearn: 0.4555251\ttotal: 33.5s\tremaining: 18.5s\n",
            "644:\tlearn: 0.4555185\ttotal: 33.6s\tremaining: 18.5s\n",
            "645:\tlearn: 0.4554924\ttotal: 33.6s\tremaining: 18.4s\n",
            "646:\tlearn: 0.4554454\ttotal: 33.7s\tremaining: 18.4s\n",
            "647:\tlearn: 0.4554149\ttotal: 33.7s\tremaining: 18.3s\n",
            "648:\tlearn: 0.4554039\ttotal: 33.8s\tremaining: 18.3s\n",
            "649:\tlearn: 0.4553912\ttotal: 33.8s\tremaining: 18.2s\n",
            "650:\tlearn: 0.4553703\ttotal: 33.9s\tremaining: 18.2s\n",
            "651:\tlearn: 0.4553284\ttotal: 33.9s\tremaining: 18.1s\n",
            "652:\tlearn: 0.4553105\ttotal: 34s\tremaining: 18.1s\n",
            "653:\tlearn: 0.4552922\ttotal: 34s\tremaining: 18s\n",
            "654:\tlearn: 0.4552571\ttotal: 34.1s\tremaining: 18s\n",
            "655:\tlearn: 0.4552324\ttotal: 34.1s\tremaining: 17.9s\n",
            "656:\tlearn: 0.4552165\ttotal: 34.2s\tremaining: 17.8s\n",
            "657:\tlearn: 0.4551831\ttotal: 34.2s\tremaining: 17.8s\n",
            "658:\tlearn: 0.4551576\ttotal: 34.3s\tremaining: 17.7s\n",
            "659:\tlearn: 0.4551399\ttotal: 34.3s\tremaining: 17.7s\n",
            "660:\tlearn: 0.4551089\ttotal: 34.4s\tremaining: 17.6s\n",
            "661:\tlearn: 0.4550910\ttotal: 34.4s\tremaining: 17.6s\n",
            "662:\tlearn: 0.4550682\ttotal: 34.5s\tremaining: 17.5s\n",
            "663:\tlearn: 0.4550364\ttotal: 34.5s\tremaining: 17.5s\n",
            "664:\tlearn: 0.4550155\ttotal: 34.6s\tremaining: 17.4s\n",
            "665:\tlearn: 0.4549909\ttotal: 34.7s\tremaining: 17.4s\n",
            "666:\tlearn: 0.4549794\ttotal: 34.7s\tremaining: 17.3s\n",
            "667:\tlearn: 0.4549630\ttotal: 34.8s\tremaining: 17.3s\n",
            "668:\tlearn: 0.4549469\ttotal: 34.8s\tremaining: 17.2s\n",
            "669:\tlearn: 0.4549258\ttotal: 34.9s\tremaining: 17.2s\n",
            "670:\tlearn: 0.4549032\ttotal: 34.9s\tremaining: 17.1s\n",
            "671:\tlearn: 0.4548656\ttotal: 35s\tremaining: 17.1s\n",
            "672:\tlearn: 0.4548161\ttotal: 35s\tremaining: 17s\n",
            "673:\tlearn: 0.4547877\ttotal: 35.1s\tremaining: 17s\n",
            "674:\tlearn: 0.4547587\ttotal: 35.1s\tremaining: 16.9s\n",
            "675:\tlearn: 0.4547436\ttotal: 35.2s\tremaining: 16.9s\n",
            "676:\tlearn: 0.4547271\ttotal: 35.2s\tremaining: 16.8s\n",
            "677:\tlearn: 0.4546788\ttotal: 35.3s\tremaining: 16.8s\n",
            "678:\tlearn: 0.4546607\ttotal: 35.3s\tremaining: 16.7s\n",
            "679:\tlearn: 0.4546405\ttotal: 35.4s\tremaining: 16.6s\n",
            "680:\tlearn: 0.4546130\ttotal: 35.4s\tremaining: 16.6s\n",
            "681:\tlearn: 0.4545812\ttotal: 35.5s\tremaining: 16.5s\n",
            "682:\tlearn: 0.4545621\ttotal: 35.5s\tremaining: 16.5s\n",
            "683:\tlearn: 0.4545293\ttotal: 35.6s\tremaining: 16.4s\n",
            "684:\tlearn: 0.4544924\ttotal: 35.6s\tremaining: 16.4s\n",
            "685:\tlearn: 0.4544689\ttotal: 35.7s\tremaining: 16.3s\n",
            "686:\tlearn: 0.4544585\ttotal: 35.7s\tremaining: 16.3s\n",
            "687:\tlearn: 0.4544389\ttotal: 35.8s\tremaining: 16.2s\n",
            "688:\tlearn: 0.4544248\ttotal: 35.9s\tremaining: 16.2s\n",
            "689:\tlearn: 0.4544025\ttotal: 35.9s\tremaining: 16.1s\n",
            "690:\tlearn: 0.4543916\ttotal: 36s\tremaining: 16.1s\n",
            "691:\tlearn: 0.4543576\ttotal: 36s\tremaining: 16s\n",
            "692:\tlearn: 0.4543387\ttotal: 36.1s\tremaining: 16s\n",
            "693:\tlearn: 0.4543316\ttotal: 36.1s\tremaining: 15.9s\n",
            "694:\tlearn: 0.4543224\ttotal: 36.2s\tremaining: 15.9s\n",
            "695:\tlearn: 0.4543058\ttotal: 36.2s\tremaining: 15.8s\n",
            "696:\tlearn: 0.4542906\ttotal: 36.3s\tremaining: 15.8s\n",
            "697:\tlearn: 0.4542691\ttotal: 36.3s\tremaining: 15.7s\n",
            "698:\tlearn: 0.4542545\ttotal: 36.4s\tremaining: 15.7s\n",
            "699:\tlearn: 0.4542433\ttotal: 36.4s\tremaining: 15.6s\n",
            "700:\tlearn: 0.4542313\ttotal: 36.5s\tremaining: 15.6s\n",
            "701:\tlearn: 0.4542151\ttotal: 36.5s\tremaining: 15.5s\n",
            "702:\tlearn: 0.4542022\ttotal: 36.6s\tremaining: 15.4s\n",
            "703:\tlearn: 0.4541856\ttotal: 36.6s\tremaining: 15.4s\n",
            "704:\tlearn: 0.4541439\ttotal: 36.7s\tremaining: 15.3s\n",
            "705:\tlearn: 0.4541361\ttotal: 36.7s\tremaining: 15.3s\n",
            "706:\tlearn: 0.4541079\ttotal: 36.8s\tremaining: 15.2s\n",
            "707:\tlearn: 0.4540876\ttotal: 36.8s\tremaining: 15.2s\n",
            "708:\tlearn: 0.4540644\ttotal: 36.9s\tremaining: 15.1s\n",
            "709:\tlearn: 0.4540431\ttotal: 36.9s\tremaining: 15.1s\n",
            "710:\tlearn: 0.4540230\ttotal: 37s\tremaining: 15s\n",
            "711:\tlearn: 0.4539838\ttotal: 37s\tremaining: 15s\n",
            "712:\tlearn: 0.4539556\ttotal: 37.1s\tremaining: 14.9s\n",
            "713:\tlearn: 0.4539472\ttotal: 37.1s\tremaining: 14.9s\n",
            "714:\tlearn: 0.4538946\ttotal: 37.2s\tremaining: 14.8s\n",
            "715:\tlearn: 0.4538813\ttotal: 37.2s\tremaining: 14.8s\n",
            "716:\tlearn: 0.4538460\ttotal: 37.3s\tremaining: 14.7s\n",
            "717:\tlearn: 0.4538351\ttotal: 37.4s\tremaining: 14.7s\n",
            "718:\tlearn: 0.4538050\ttotal: 37.4s\tremaining: 14.6s\n",
            "719:\tlearn: 0.4537783\ttotal: 37.5s\tremaining: 14.6s\n",
            "720:\tlearn: 0.4537625\ttotal: 37.5s\tremaining: 14.5s\n",
            "721:\tlearn: 0.4537291\ttotal: 37.6s\tremaining: 14.5s\n",
            "722:\tlearn: 0.4537142\ttotal: 37.6s\tremaining: 14.4s\n",
            "723:\tlearn: 0.4536883\ttotal: 37.7s\tremaining: 14.4s\n",
            "724:\tlearn: 0.4536823\ttotal: 37.7s\tremaining: 14.3s\n",
            "725:\tlearn: 0.4536672\ttotal: 37.8s\tremaining: 14.3s\n",
            "726:\tlearn: 0.4536425\ttotal: 37.8s\tremaining: 14.2s\n",
            "727:\tlearn: 0.4536313\ttotal: 37.9s\tremaining: 14.2s\n",
            "728:\tlearn: 0.4535971\ttotal: 37.9s\tremaining: 14.1s\n",
            "729:\tlearn: 0.4535881\ttotal: 38s\tremaining: 14.1s\n",
            "730:\tlearn: 0.4535571\ttotal: 38.1s\tremaining: 14s\n",
            "731:\tlearn: 0.4535486\ttotal: 38.1s\tremaining: 13.9s\n",
            "732:\tlearn: 0.4535272\ttotal: 38.2s\tremaining: 13.9s\n",
            "733:\tlearn: 0.4535057\ttotal: 38.2s\tremaining: 13.8s\n",
            "734:\tlearn: 0.4534805\ttotal: 38.3s\tremaining: 13.8s\n",
            "735:\tlearn: 0.4534452\ttotal: 38.3s\tremaining: 13.7s\n",
            "736:\tlearn: 0.4534285\ttotal: 38.4s\tremaining: 13.7s\n",
            "737:\tlearn: 0.4534046\ttotal: 38.4s\tremaining: 13.6s\n",
            "738:\tlearn: 0.4533781\ttotal: 38.5s\tremaining: 13.6s\n",
            "739:\tlearn: 0.4533592\ttotal: 38.5s\tremaining: 13.5s\n",
            "740:\tlearn: 0.4533415\ttotal: 38.6s\tremaining: 13.5s\n",
            "741:\tlearn: 0.4533155\ttotal: 38.6s\tremaining: 13.4s\n",
            "742:\tlearn: 0.4533016\ttotal: 38.7s\tremaining: 13.4s\n",
            "743:\tlearn: 0.4532793\ttotal: 38.7s\tremaining: 13.3s\n",
            "744:\tlearn: 0.4532690\ttotal: 38.8s\tremaining: 13.3s\n",
            "745:\tlearn: 0.4532589\ttotal: 38.9s\tremaining: 13.2s\n",
            "746:\tlearn: 0.4532555\ttotal: 38.9s\tremaining: 13.2s\n",
            "747:\tlearn: 0.4532457\ttotal: 38.9s\tremaining: 13.1s\n",
            "748:\tlearn: 0.4532323\ttotal: 39s\tremaining: 13.1s\n",
            "749:\tlearn: 0.4532055\ttotal: 39s\tremaining: 13s\n",
            "750:\tlearn: 0.4531637\ttotal: 39.1s\tremaining: 13s\n",
            "751:\tlearn: 0.4531459\ttotal: 39.2s\tremaining: 12.9s\n",
            "752:\tlearn: 0.4531251\ttotal: 39.2s\tremaining: 12.9s\n",
            "753:\tlearn: 0.4530938\ttotal: 39.3s\tremaining: 12.8s\n",
            "754:\tlearn: 0.4530743\ttotal: 39.3s\tremaining: 12.8s\n",
            "755:\tlearn: 0.4530604\ttotal: 39.4s\tremaining: 12.7s\n",
            "756:\tlearn: 0.4530207\ttotal: 39.4s\tremaining: 12.7s\n",
            "757:\tlearn: 0.4529932\ttotal: 39.5s\tremaining: 12.6s\n",
            "758:\tlearn: 0.4529721\ttotal: 39.5s\tremaining: 12.6s\n",
            "759:\tlearn: 0.4529552\ttotal: 39.6s\tremaining: 12.5s\n",
            "760:\tlearn: 0.4529150\ttotal: 39.6s\tremaining: 12.4s\n",
            "761:\tlearn: 0.4528929\ttotal: 39.7s\tremaining: 12.4s\n",
            "762:\tlearn: 0.4528691\ttotal: 39.8s\tremaining: 12.3s\n",
            "763:\tlearn: 0.4528494\ttotal: 39.8s\tremaining: 12.3s\n",
            "764:\tlearn: 0.4528354\ttotal: 39.8s\tremaining: 12.2s\n",
            "765:\tlearn: 0.4528312\ttotal: 39.9s\tremaining: 12.2s\n",
            "766:\tlearn: 0.4528148\ttotal: 39.9s\tremaining: 12.1s\n",
            "767:\tlearn: 0.4527990\ttotal: 40s\tremaining: 12.1s\n",
            "768:\tlearn: 0.4527683\ttotal: 40s\tremaining: 12s\n",
            "769:\tlearn: 0.4527510\ttotal: 40.1s\tremaining: 12s\n",
            "770:\tlearn: 0.4527186\ttotal: 40.1s\tremaining: 11.9s\n",
            "771:\tlearn: 0.4526983\ttotal: 40.2s\tremaining: 11.9s\n",
            "772:\tlearn: 0.4526851\ttotal: 40.3s\tremaining: 11.8s\n",
            "773:\tlearn: 0.4526533\ttotal: 40.3s\tremaining: 11.8s\n",
            "774:\tlearn: 0.4526394\ttotal: 40.4s\tremaining: 11.7s\n",
            "775:\tlearn: 0.4526032\ttotal: 40.4s\tremaining: 11.7s\n",
            "776:\tlearn: 0.4525963\ttotal: 40.5s\tremaining: 11.6s\n",
            "777:\tlearn: 0.4525692\ttotal: 40.5s\tremaining: 11.6s\n",
            "778:\tlearn: 0.4525564\ttotal: 40.6s\tremaining: 11.5s\n",
            "779:\tlearn: 0.4525500\ttotal: 40.6s\tremaining: 11.5s\n",
            "780:\tlearn: 0.4525386\ttotal: 40.7s\tremaining: 11.4s\n",
            "781:\tlearn: 0.4525252\ttotal: 40.8s\tremaining: 11.4s\n",
            "782:\tlearn: 0.4525016\ttotal: 40.8s\tremaining: 11.3s\n",
            "783:\tlearn: 0.4524892\ttotal: 40.9s\tremaining: 11.3s\n",
            "784:\tlearn: 0.4524594\ttotal: 40.9s\tremaining: 11.2s\n",
            "785:\tlearn: 0.4524439\ttotal: 41s\tremaining: 11.2s\n",
            "786:\tlearn: 0.4524036\ttotal: 41s\tremaining: 11.1s\n",
            "787:\tlearn: 0.4523489\ttotal: 41.1s\tremaining: 11.1s\n",
            "788:\tlearn: 0.4523369\ttotal: 41.1s\tremaining: 11s\n",
            "789:\tlearn: 0.4523177\ttotal: 41.2s\tremaining: 10.9s\n",
            "790:\tlearn: 0.4523046\ttotal: 41.2s\tremaining: 10.9s\n",
            "791:\tlearn: 0.4522919\ttotal: 41.3s\tremaining: 10.8s\n",
            "792:\tlearn: 0.4522800\ttotal: 41.3s\tremaining: 10.8s\n",
            "793:\tlearn: 0.4522437\ttotal: 41.4s\tremaining: 10.7s\n",
            "794:\tlearn: 0.4522238\ttotal: 41.4s\tremaining: 10.7s\n",
            "795:\tlearn: 0.4521969\ttotal: 41.5s\tremaining: 10.6s\n",
            "796:\tlearn: 0.4521577\ttotal: 41.6s\tremaining: 10.6s\n",
            "797:\tlearn: 0.4521437\ttotal: 41.6s\tremaining: 10.5s\n",
            "798:\tlearn: 0.4521308\ttotal: 41.7s\tremaining: 10.5s\n",
            "799:\tlearn: 0.4521261\ttotal: 41.7s\tremaining: 10.4s\n",
            "800:\tlearn: 0.4521164\ttotal: 41.8s\tremaining: 10.4s\n",
            "801:\tlearn: 0.4521059\ttotal: 41.8s\tremaining: 10.3s\n",
            "802:\tlearn: 0.4520732\ttotal: 41.9s\tremaining: 10.3s\n",
            "803:\tlearn: 0.4520424\ttotal: 41.9s\tremaining: 10.2s\n",
            "804:\tlearn: 0.4520277\ttotal: 42s\tremaining: 10.2s\n",
            "805:\tlearn: 0.4519852\ttotal: 42s\tremaining: 10.1s\n",
            "806:\tlearn: 0.4519570\ttotal: 42.1s\tremaining: 10.1s\n",
            "807:\tlearn: 0.4519308\ttotal: 42.1s\tremaining: 10s\n",
            "808:\tlearn: 0.4519050\ttotal: 42.2s\tremaining: 9.96s\n",
            "809:\tlearn: 0.4518619\ttotal: 42.3s\tremaining: 9.91s\n",
            "810:\tlearn: 0.4518491\ttotal: 42.3s\tremaining: 9.86s\n",
            "811:\tlearn: 0.4518362\ttotal: 42.4s\tremaining: 9.81s\n",
            "812:\tlearn: 0.4518266\ttotal: 42.4s\tremaining: 9.76s\n",
            "813:\tlearn: 0.4518182\ttotal: 42.5s\tremaining: 9.7s\n",
            "814:\tlearn: 0.4518020\ttotal: 42.5s\tremaining: 9.65s\n",
            "815:\tlearn: 0.4517950\ttotal: 42.6s\tremaining: 9.6s\n",
            "816:\tlearn: 0.4517722\ttotal: 42.6s\tremaining: 9.54s\n",
            "817:\tlearn: 0.4517527\ttotal: 42.7s\tremaining: 9.49s\n",
            "818:\tlearn: 0.4517487\ttotal: 42.7s\tremaining: 9.44s\n",
            "819:\tlearn: 0.4517320\ttotal: 42.8s\tremaining: 9.39s\n",
            "820:\tlearn: 0.4517165\ttotal: 42.8s\tremaining: 9.33s\n",
            "821:\tlearn: 0.4517023\ttotal: 42.9s\tremaining: 9.28s\n",
            "822:\tlearn: 0.4516714\ttotal: 42.9s\tremaining: 9.23s\n",
            "823:\tlearn: 0.4516499\ttotal: 43s\tremaining: 9.18s\n",
            "824:\tlearn: 0.4516383\ttotal: 43s\tremaining: 9.12s\n",
            "825:\tlearn: 0.4516261\ttotal: 43.1s\tremaining: 9.07s\n",
            "826:\tlearn: 0.4515961\ttotal: 43.1s\tremaining: 9.02s\n",
            "827:\tlearn: 0.4515841\ttotal: 43.2s\tremaining: 8.97s\n",
            "828:\tlearn: 0.4515739\ttotal: 43.2s\tremaining: 8.91s\n",
            "829:\tlearn: 0.4515530\ttotal: 43.3s\tremaining: 8.86s\n",
            "830:\tlearn: 0.4515413\ttotal: 43.3s\tremaining: 8.81s\n",
            "831:\tlearn: 0.4515188\ttotal: 43.4s\tremaining: 8.76s\n",
            "832:\tlearn: 0.4514993\ttotal: 43.4s\tremaining: 8.7s\n",
            "833:\tlearn: 0.4514893\ttotal: 43.5s\tremaining: 8.65s\n",
            "834:\tlearn: 0.4514673\ttotal: 43.5s\tremaining: 8.6s\n",
            "835:\tlearn: 0.4514619\ttotal: 43.6s\tremaining: 8.55s\n",
            "836:\tlearn: 0.4514507\ttotal: 43.6s\tremaining: 8.5s\n",
            "837:\tlearn: 0.4514317\ttotal: 43.7s\tremaining: 8.45s\n",
            "838:\tlearn: 0.4514124\ttotal: 43.8s\tremaining: 8.39s\n",
            "839:\tlearn: 0.4513966\ttotal: 43.8s\tremaining: 8.34s\n",
            "840:\tlearn: 0.4513733\ttotal: 43.9s\tremaining: 8.29s\n",
            "841:\tlearn: 0.4513478\ttotal: 43.9s\tremaining: 8.24s\n",
            "842:\tlearn: 0.4513370\ttotal: 44s\tremaining: 8.19s\n",
            "843:\tlearn: 0.4513222\ttotal: 44s\tremaining: 8.13s\n",
            "844:\tlearn: 0.4513095\ttotal: 44.1s\tremaining: 8.08s\n",
            "845:\tlearn: 0.4512701\ttotal: 44.1s\tremaining: 8.03s\n",
            "846:\tlearn: 0.4512401\ttotal: 44.2s\tremaining: 7.98s\n",
            "847:\tlearn: 0.4512159\ttotal: 44.2s\tremaining: 7.93s\n",
            "848:\tlearn: 0.4512034\ttotal: 44.3s\tremaining: 7.88s\n",
            "849:\tlearn: 0.4511749\ttotal: 44.3s\tremaining: 7.83s\n",
            "850:\tlearn: 0.4511600\ttotal: 44.4s\tremaining: 7.77s\n",
            "851:\tlearn: 0.4511521\ttotal: 44.4s\tremaining: 7.72s\n",
            "852:\tlearn: 0.4511466\ttotal: 44.5s\tremaining: 7.67s\n",
            "853:\tlearn: 0.4511167\ttotal: 44.5s\tremaining: 7.62s\n",
            "854:\tlearn: 0.4511049\ttotal: 44.6s\tremaining: 7.56s\n",
            "855:\tlearn: 0.4510944\ttotal: 44.7s\tremaining: 7.51s\n",
            "856:\tlearn: 0.4510725\ttotal: 44.7s\tremaining: 7.46s\n",
            "857:\tlearn: 0.4510499\ttotal: 44.8s\tremaining: 7.41s\n",
            "858:\tlearn: 0.4510139\ttotal: 44.8s\tremaining: 7.36s\n",
            "859:\tlearn: 0.4509936\ttotal: 44.9s\tremaining: 7.3s\n",
            "860:\tlearn: 0.4509707\ttotal: 44.9s\tremaining: 7.25s\n",
            "861:\tlearn: 0.4509540\ttotal: 45s\tremaining: 7.2s\n",
            "862:\tlearn: 0.4509469\ttotal: 45s\tremaining: 7.15s\n",
            "863:\tlearn: 0.4509332\ttotal: 45.1s\tremaining: 7.09s\n",
            "864:\tlearn: 0.4509164\ttotal: 45.1s\tremaining: 7.04s\n",
            "865:\tlearn: 0.4508924\ttotal: 45.2s\tremaining: 6.99s\n",
            "866:\tlearn: 0.4508793\ttotal: 45.2s\tremaining: 6.94s\n",
            "867:\tlearn: 0.4508635\ttotal: 45.3s\tremaining: 6.89s\n",
            "868:\tlearn: 0.4508503\ttotal: 45.4s\tremaining: 6.84s\n",
            "869:\tlearn: 0.4508445\ttotal: 45.4s\tremaining: 6.78s\n",
            "870:\tlearn: 0.4508312\ttotal: 45.5s\tremaining: 6.73s\n",
            "871:\tlearn: 0.4508132\ttotal: 45.5s\tremaining: 6.68s\n",
            "872:\tlearn: 0.4507988\ttotal: 45.6s\tremaining: 6.63s\n",
            "873:\tlearn: 0.4507755\ttotal: 45.6s\tremaining: 6.58s\n",
            "874:\tlearn: 0.4507529\ttotal: 45.7s\tremaining: 6.52s\n",
            "875:\tlearn: 0.4507449\ttotal: 45.7s\tremaining: 6.47s\n",
            "876:\tlearn: 0.4507383\ttotal: 45.8s\tremaining: 6.42s\n",
            "877:\tlearn: 0.4507269\ttotal: 45.8s\tremaining: 6.37s\n",
            "878:\tlearn: 0.4507058\ttotal: 45.9s\tremaining: 6.31s\n",
            "879:\tlearn: 0.4506921\ttotal: 45.9s\tremaining: 6.26s\n",
            "880:\tlearn: 0.4506635\ttotal: 46s\tremaining: 6.21s\n",
            "881:\tlearn: 0.4506488\ttotal: 46s\tremaining: 6.16s\n",
            "882:\tlearn: 0.4506420\ttotal: 46.1s\tremaining: 6.11s\n",
            "883:\tlearn: 0.4506328\ttotal: 46.1s\tremaining: 6.05s\n",
            "884:\tlearn: 0.4506216\ttotal: 46.2s\tremaining: 6s\n",
            "885:\tlearn: 0.4506125\ttotal: 46.2s\tremaining: 5.95s\n",
            "886:\tlearn: 0.4506068\ttotal: 46.3s\tremaining: 5.9s\n",
            "887:\tlearn: 0.4505836\ttotal: 46.3s\tremaining: 5.84s\n",
            "888:\tlearn: 0.4505621\ttotal: 46.4s\tremaining: 5.79s\n",
            "889:\tlearn: 0.4505546\ttotal: 46.5s\tremaining: 5.74s\n",
            "890:\tlearn: 0.4505327\ttotal: 46.5s\tremaining: 5.69s\n",
            "891:\tlearn: 0.4505167\ttotal: 46.5s\tremaining: 5.63s\n",
            "892:\tlearn: 0.4505082\ttotal: 46.6s\tremaining: 5.58s\n",
            "893:\tlearn: 0.4504860\ttotal: 46.7s\tremaining: 5.53s\n",
            "894:\tlearn: 0.4504755\ttotal: 46.7s\tremaining: 5.48s\n",
            "895:\tlearn: 0.4504591\ttotal: 46.8s\tremaining: 5.43s\n",
            "896:\tlearn: 0.4504348\ttotal: 46.8s\tremaining: 5.38s\n",
            "897:\tlearn: 0.4504025\ttotal: 46.9s\tremaining: 5.33s\n",
            "898:\tlearn: 0.4503834\ttotal: 46.9s\tremaining: 5.27s\n",
            "899:\tlearn: 0.4503740\ttotal: 47s\tremaining: 5.22s\n",
            "900:\tlearn: 0.4503325\ttotal: 47s\tremaining: 5.17s\n",
            "901:\tlearn: 0.4503143\ttotal: 47.1s\tremaining: 5.12s\n",
            "902:\tlearn: 0.4503064\ttotal: 47.1s\tremaining: 5.06s\n",
            "903:\tlearn: 0.4502894\ttotal: 47.2s\tremaining: 5.01s\n",
            "904:\tlearn: 0.4502805\ttotal: 47.2s\tremaining: 4.96s\n",
            "905:\tlearn: 0.4502514\ttotal: 47.3s\tremaining: 4.91s\n",
            "906:\tlearn: 0.4502160\ttotal: 47.4s\tremaining: 4.86s\n",
            "907:\tlearn: 0.4501972\ttotal: 47.4s\tremaining: 4.8s\n",
            "908:\tlearn: 0.4501757\ttotal: 47.5s\tremaining: 4.75s\n",
            "909:\tlearn: 0.4501422\ttotal: 47.5s\tremaining: 4.7s\n",
            "910:\tlearn: 0.4501290\ttotal: 47.6s\tremaining: 4.65s\n",
            "911:\tlearn: 0.4501128\ttotal: 47.6s\tremaining: 4.59s\n",
            "912:\tlearn: 0.4500876\ttotal: 47.7s\tremaining: 4.54s\n",
            "913:\tlearn: 0.4500755\ttotal: 47.7s\tremaining: 4.49s\n",
            "914:\tlearn: 0.4500592\ttotal: 47.8s\tremaining: 4.44s\n",
            "915:\tlearn: 0.4500350\ttotal: 47.8s\tremaining: 4.38s\n",
            "916:\tlearn: 0.4500277\ttotal: 47.9s\tremaining: 4.33s\n",
            "917:\tlearn: 0.4500131\ttotal: 47.9s\tremaining: 4.28s\n",
            "918:\tlearn: 0.4500053\ttotal: 48s\tremaining: 4.23s\n",
            "919:\tlearn: 0.4499944\ttotal: 48.1s\tremaining: 4.18s\n",
            "920:\tlearn: 0.4499904\ttotal: 48.1s\tremaining: 4.13s\n",
            "921:\tlearn: 0.4499777\ttotal: 48.2s\tremaining: 4.07s\n",
            "922:\tlearn: 0.4499658\ttotal: 48.2s\tremaining: 4.02s\n",
            "923:\tlearn: 0.4499618\ttotal: 48.3s\tremaining: 3.97s\n",
            "924:\tlearn: 0.4499506\ttotal: 48.3s\tremaining: 3.92s\n",
            "925:\tlearn: 0.4499393\ttotal: 48.4s\tremaining: 3.87s\n",
            "926:\tlearn: 0.4499312\ttotal: 48.5s\tremaining: 3.81s\n",
            "927:\tlearn: 0.4499198\ttotal: 48.5s\tremaining: 3.76s\n",
            "928:\tlearn: 0.4499037\ttotal: 48.5s\tremaining: 3.71s\n",
            "929:\tlearn: 0.4498804\ttotal: 48.6s\tremaining: 3.66s\n",
            "930:\tlearn: 0.4498762\ttotal: 48.6s\tremaining: 3.6s\n",
            "931:\tlearn: 0.4498590\ttotal: 48.7s\tremaining: 3.55s\n",
            "932:\tlearn: 0.4498552\ttotal: 48.8s\tremaining: 3.5s\n",
            "933:\tlearn: 0.4498409\ttotal: 48.8s\tremaining: 3.45s\n",
            "934:\tlearn: 0.4498311\ttotal: 48.9s\tremaining: 3.4s\n",
            "935:\tlearn: 0.4498174\ttotal: 48.9s\tremaining: 3.34s\n",
            "936:\tlearn: 0.4497812\ttotal: 49s\tremaining: 3.29s\n",
            "937:\tlearn: 0.4497660\ttotal: 49s\tremaining: 3.24s\n",
            "938:\tlearn: 0.4497580\ttotal: 49.1s\tremaining: 3.19s\n",
            "939:\tlearn: 0.4497338\ttotal: 49.1s\tremaining: 3.14s\n",
            "940:\tlearn: 0.4497150\ttotal: 49.2s\tremaining: 3.08s\n",
            "941:\tlearn: 0.4497043\ttotal: 49.2s\tremaining: 3.03s\n",
            "942:\tlearn: 0.4496807\ttotal: 49.3s\tremaining: 2.98s\n",
            "943:\tlearn: 0.4496583\ttotal: 49.3s\tremaining: 2.93s\n",
            "944:\tlearn: 0.4496354\ttotal: 49.4s\tremaining: 2.87s\n",
            "945:\tlearn: 0.4496080\ttotal: 49.4s\tremaining: 2.82s\n",
            "946:\tlearn: 0.4495950\ttotal: 49.5s\tremaining: 2.77s\n",
            "947:\tlearn: 0.4495842\ttotal: 49.6s\tremaining: 2.72s\n",
            "948:\tlearn: 0.4495650\ttotal: 49.6s\tremaining: 2.67s\n",
            "949:\tlearn: 0.4495478\ttotal: 49.7s\tremaining: 2.61s\n",
            "950:\tlearn: 0.4495278\ttotal: 49.7s\tremaining: 2.56s\n",
            "951:\tlearn: 0.4495213\ttotal: 49.8s\tremaining: 2.51s\n",
            "952:\tlearn: 0.4494996\ttotal: 49.8s\tremaining: 2.46s\n",
            "953:\tlearn: 0.4494878\ttotal: 49.9s\tremaining: 2.4s\n",
            "954:\tlearn: 0.4494780\ttotal: 49.9s\tremaining: 2.35s\n",
            "955:\tlearn: 0.4494692\ttotal: 50s\tremaining: 2.3s\n",
            "956:\tlearn: 0.4494552\ttotal: 50s\tremaining: 2.25s\n",
            "957:\tlearn: 0.4494486\ttotal: 50.1s\tremaining: 2.19s\n",
            "958:\tlearn: 0.4494422\ttotal: 50.1s\tremaining: 2.14s\n",
            "959:\tlearn: 0.4494140\ttotal: 50.2s\tremaining: 2.09s\n",
            "960:\tlearn: 0.4494021\ttotal: 50.2s\tremaining: 2.04s\n",
            "961:\tlearn: 0.4493898\ttotal: 50.3s\tremaining: 1.99s\n",
            "962:\tlearn: 0.4493645\ttotal: 50.3s\tremaining: 1.93s\n",
            "963:\tlearn: 0.4493570\ttotal: 50.4s\tremaining: 1.88s\n",
            "964:\tlearn: 0.4493417\ttotal: 50.4s\tremaining: 1.83s\n",
            "965:\tlearn: 0.4493207\ttotal: 50.5s\tremaining: 1.78s\n",
            "966:\tlearn: 0.4493069\ttotal: 50.5s\tremaining: 1.72s\n",
            "967:\tlearn: 0.4492921\ttotal: 50.6s\tremaining: 1.67s\n",
            "968:\tlearn: 0.4492700\ttotal: 50.6s\tremaining: 1.62s\n",
            "969:\tlearn: 0.4492479\ttotal: 50.7s\tremaining: 1.57s\n",
            "970:\tlearn: 0.4492393\ttotal: 50.8s\tremaining: 1.51s\n",
            "971:\tlearn: 0.4492185\ttotal: 50.8s\tremaining: 1.46s\n",
            "972:\tlearn: 0.4491879\ttotal: 50.9s\tremaining: 1.41s\n",
            "973:\tlearn: 0.4491772\ttotal: 50.9s\tremaining: 1.36s\n",
            "974:\tlearn: 0.4491667\ttotal: 51s\tremaining: 1.31s\n",
            "975:\tlearn: 0.4491505\ttotal: 51s\tremaining: 1.25s\n",
            "976:\tlearn: 0.4491391\ttotal: 51.1s\tremaining: 1.2s\n",
            "977:\tlearn: 0.4491303\ttotal: 51.1s\tremaining: 1.15s\n",
            "978:\tlearn: 0.4491089\ttotal: 51.2s\tremaining: 1.1s\n",
            "979:\tlearn: 0.4490900\ttotal: 51.2s\tremaining: 1.04s\n",
            "980:\tlearn: 0.4490819\ttotal: 51.3s\tremaining: 993ms\n",
            "981:\tlearn: 0.4490740\ttotal: 51.3s\tremaining: 941ms\n",
            "982:\tlearn: 0.4490619\ttotal: 51.4s\tremaining: 889ms\n",
            "983:\tlearn: 0.4490386\ttotal: 51.4s\tremaining: 836ms\n",
            "984:\tlearn: 0.4490335\ttotal: 51.5s\tremaining: 784ms\n",
            "985:\tlearn: 0.4490246\ttotal: 51.5s\tremaining: 732ms\n",
            "986:\tlearn: 0.4490099\ttotal: 51.6s\tremaining: 679ms\n",
            "987:\tlearn: 0.4490020\ttotal: 51.6s\tremaining: 627ms\n",
            "988:\tlearn: 0.4489920\ttotal: 51.7s\tremaining: 575ms\n",
            "989:\tlearn: 0.4489731\ttotal: 51.7s\tremaining: 523ms\n",
            "990:\tlearn: 0.4489536\ttotal: 51.8s\tremaining: 470ms\n",
            "991:\tlearn: 0.4489414\ttotal: 51.9s\tremaining: 418ms\n",
            "992:\tlearn: 0.4489236\ttotal: 51.9s\tremaining: 366ms\n",
            "993:\tlearn: 0.4489181\ttotal: 52s\tremaining: 314ms\n",
            "994:\tlearn: 0.4489059\ttotal: 52s\tremaining: 261ms\n",
            "995:\tlearn: 0.4488898\ttotal: 52.1s\tremaining: 209ms\n",
            "996:\tlearn: 0.4488706\ttotal: 52.1s\tremaining: 157ms\n",
            "997:\tlearn: 0.4488606\ttotal: 52.2s\tremaining: 105ms\n",
            "998:\tlearn: 0.4488543\ttotal: 52.3s\tremaining: 52.3ms\n",
            "999:\tlearn: 0.4488421\ttotal: 52.3s\tremaining: 0us\n"
          ],
          "name": "stdout"
        },
        {
          "output_type": "execute_result",
          "data": {
            "text/plain": [
              "<catboost.core.CatBoostClassifier at 0x7f645405b710>"
            ]
          },
          "metadata": {
            "tags": []
          },
          "execution_count": 42
        }
      ]
    },
    {
      "cell_type": "markdown",
      "metadata": {
        "id": "rgTIQSYB7NUT"
      },
      "source": [
        "Сделаем предсказания на тестовой выборке, сформируем из них рекомендации. "
      ]
    },
    {
      "cell_type": "code",
      "metadata": {
        "colab": {
          "base_uri": "https://localhost:8080/",
          "height": 119,
          "referenced_widgets": [
            "67ec730a39c8423ab3582a31ce11710a",
            "e1c3a60b8cd14545b10a6359e5db0caf",
            "8cb76622632f4616886c93b739eeb8fa",
            "aa0b67fbc8ca486b87cf384c946b7f45",
            "d0a113abe0cd458794ffb98192fea209",
            "1ea7971560124fa3a3efa81b6d51e67a",
            "f77642c195a544598c1f0fe7649a1b59",
            "7bef45ec430a437890868abcd967ded4"
          ]
        },
        "id": "oiL_M4uu7NUU",
        "outputId": "822148cf-a87e-4202-ca60-837926c8bcb8"
      },
      "source": [
        "####### Здесь ваш код ##########\n",
        "predictions = model.predict_proba(test[interactions_train_df.columns[features_start:]])[:, 1]\n",
        "test['predictions'] = predictions\n",
        "\n",
        "test = test.sort_values('predictions', ascending=False)\n",
        "predictions = test.groupby('personId')['contentId'].aggregate(list)\n",
        "tmp_predictions = []\n",
        "\n",
        "for personId in tqdm_notebook(interactions.index):\n",
        "    prediction = np.array(predictions.loc[personId])\n",
        "    \n",
        "    tmp_predictions.append(\n",
        "        list(prediction[~np.in1d(\n",
        "            prediction,\n",
        "            interactions.loc[personId, 'true_train'])])[:top_k])\n",
        "    \n",
        "interactions['prediction_content'] = tmp_predictions\n",
        "################################"
      ],
      "execution_count": null,
      "outputs": [
        {
          "output_type": "stream",
          "text": [
            "/usr/local/lib/python3.7/dist-packages/ipykernel_launcher.py:9: TqdmDeprecationWarning: This function will be removed in tqdm==5.0.0\n",
            "Please use `tqdm.notebook.tqdm` instead of `tqdm.tqdm_notebook`\n",
            "  if __name__ == '__main__':\n"
          ],
          "name": "stderr"
        },
        {
          "output_type": "display_data",
          "data": {
            "application/vnd.jupyter.widget-view+json": {
              "model_id": "67ec730a39c8423ab3582a31ce11710a",
              "version_major": 2,
              "version_minor": 0
            },
            "text/plain": [
              "HBox(children=(FloatProgress(value=0.0, max=1112.0), HTML(value='')))"
            ]
          },
          "metadata": {
            "tags": []
          }
        },
        {
          "output_type": "stream",
          "text": [
            "\n"
          ],
          "name": "stdout"
        }
      ]
    },
    {
      "cell_type": "markdown",
      "metadata": {
        "id": "bV6jzq8n7NUU"
      },
      "source": [
        "Оценим их качество."
      ]
    },
    {
      "cell_type": "code",
      "metadata": {
        "colab": {
          "base_uri": "https://localhost:8080/"
        },
        "id": "8Fh36H-l7NUU",
        "scrolled": true,
        "outputId": "ca880489-ec0a-4ccf-eda8-0310dcb7ff59"
      },
      "source": [
        "# calc_precision(...)\n",
        "####### Здесь ваш код ##########\n",
        "calc_precision('prediction_content')\n",
        "################################"
      ],
      "execution_count": null,
      "outputs": [
        {
          "output_type": "execute_result",
          "data": {
            "text/plain": [
              "0.00528521490248008"
            ]
          },
          "metadata": {
            "tags": []
          },
          "execution_count": 44
        }
      ]
    },
    {
      "cell_type": "markdown",
      "metadata": {
        "id": "hw46t8eo7NUU"
      },
      "source": [
        "## Часть 4. Факторизационная машина"
      ]
    },
    {
      "cell_type": "markdown",
      "metadata": {
        "id": "1ghXuccn7NUU"
      },
      "source": [
        "Вспомним, что факторизационная машина учитывает попарные взаимодействия признаков, что приводит сразу и к использованию контента (сами признаки), и к обучению скрытых представлений (индикаторы пользователей и статей).\n",
        "\n",
        "Попробуем факторизационные машины из библиотеки pyFM (так как можно работать прямо из питона). https://github.com/coreylynch/pyFM"
      ]
    },
    {
      "cell_type": "code",
      "metadata": {
        "id": "IG-5ehv17NUU"
      },
      "source": [
        "from pyfm import pylibfm\n",
        "from sklearn.feature_extraction import DictVectorizer"
      ],
      "execution_count": null,
      "outputs": []
    },
    {
      "cell_type": "markdown",
      "metadata": {
        "id": "TZmaTCfW7NUU"
      },
      "source": [
        "Перейдём к обобщению матричных разложений — факторизационным машинам, которые могут работать с контентной информацией. Вспомним, какие данные у нас изначально были:"
      ]
    },
    {
      "cell_type": "markdown",
      "metadata": {
        "id": "ZXGEQEDY7NUV"
      },
      "source": [
        "В факторизационную машину можно загрузить \"айдишники\" пользователей и статей (то есть сделать аналог коллаборативной фильтрации) и одновременно различные признаки.\n",
        "\n",
        "Удобно обрабатывать категориальные переменные (id и другие) можно с помощью DictVectorizer. Например, процесс может выглядить вот так:\n",
        "```python\n",
        "train = [\n",
        "    {\"user\": \"1\", \"item\": \"5\", \"age\": 19},\n",
        "    {\"user\": \"2\", \"item\": \"43\", \"age\": 33},\n",
        "    {\"user\": \"3\", \"item\": \"20\", \"age\": 55},\n",
        "    {\"user\": \"4\", \"item\": \"10\", \"age\": 20},\n",
        "]\n",
        "v = DictVectorizer()\n",
        "X = v.fit_transform(train)\n",
        "y = np.repeat(1.0, X.shape[0])\n",
        "fm = pylibfm.FM()\n",
        "fm.fit(X,y)\n",
        "fm.predict(v.transform({\"user\": \"1\", \"item\": \"10\", \"age\": 24}))\n",
        "```"
      ]
    },
    {
      "cell_type": "markdown",
      "metadata": {
        "id": "Su_a3Zqa7NUV"
      },
      "source": [
        "Сгенерируем таблицу с признаками в таком виде, где будут id пользователя, статьи и автора статьи и несколько признаков, которые вы сможете придумать."
      ]
    },
    {
      "cell_type": "code",
      "metadata": {
        "colab": {
          "base_uri": "https://localhost:8080/",
          "height": 119,
          "referenced_widgets": [
            "d17cb63600374c26ab0d281375d15876",
            "36137f4db5f3486c85669219b7caf18e",
            "13d283f18dd946a6949bb9607b47ed84",
            "c83612af471143ecb9a740b6844a4026",
            "b3b7c0e1269d4cc9afbc584c49cec22a",
            "62b9e044fe0e4ea19cafef5ff3591624",
            "b077fc5cbdf541b1a460c11c08c4e19b",
            "04193592044345f69e8458706b3aeb08"
          ]
        },
        "id": "1lXklZjO7NUV",
        "outputId": "1aeb92bf-b88b-41de-e470-4f7a9cd78b64"
      },
      "source": [
        "train_data = []\n",
        "\n",
        "for i in tqdm_notebook(range(len(interactions_train_df))):\n",
        "    features = {}\n",
        "    features['personId'] = str(interactions_train_df.iloc[i].personId)\n",
        "    features['contentId'] = str(interactions_train_df.iloc[i].contentId)\n",
        "    ####### Здесь ваш код ##########\n",
        "    try:\n",
        "        article = articles_df.loc[features['contentId']]\n",
        "        features['authorId'] = str(article.authorPersonId)\n",
        "        features['authorCountry'] = str(article.authorCountry)\n",
        "        features['lang'] = str(article.lang)\n",
        "    except:\n",
        "        features['authorId'] = 'unknown'\n",
        "        features['authorCountry'] = 'unknown'\n",
        "        features['lang'] = 'unknown'\n",
        "    ################################\n",
        "    train_data.append(features)"
      ],
      "execution_count": null,
      "outputs": [
        {
          "output_type": "stream",
          "text": [
            "/usr/local/lib/python3.7/dist-packages/ipykernel_launcher.py:3: TqdmDeprecationWarning: This function will be removed in tqdm==5.0.0\n",
            "Please use `tqdm.notebook.tqdm` instead of `tqdm.tqdm_notebook`\n",
            "  This is separate from the ipykernel package so we can avoid doing imports until\n"
          ],
          "name": "stderr"
        },
        {
          "output_type": "display_data",
          "data": {
            "application/vnd.jupyter.widget-view+json": {
              "model_id": "d17cb63600374c26ab0d281375d15876",
              "version_major": 2,
              "version_minor": 0
            },
            "text/plain": [
              "HBox(children=(FloatProgress(value=0.0, max=146645.0), HTML(value='')))"
            ]
          },
          "metadata": {
            "tags": []
          }
        },
        {
          "output_type": "stream",
          "text": [
            "\n"
          ],
          "name": "stdout"
        }
      ]
    },
    {
      "cell_type": "markdown",
      "metadata": {
        "id": "KAiWGhdL7NUV"
      },
      "source": [
        "Повторим эту процедуру для тестовой выборки. Заметим, что модель оценивает каждую пару потенциального взаимодействия, а значит, надо подготовить выборку из всех возможных пар из пользователей и статей."
      ]
    },
    {
      "cell_type": "code",
      "metadata": {
        "colab": {
          "base_uri": "https://localhost:8080/",
          "height": 119,
          "referenced_widgets": [
            "1f089d7029d54b9e9c32c4ea6f966dbf",
            "74a33172fe4441bd8648345afee51c8e",
            "1f0f4720bc3447188614d9ae51cd94d1",
            "e9288665a80d429785fd89abc6567cfd",
            "5a44c522db624e20a67c1851dde4c434",
            "64b32f7f09b846d5aa7c25e8a4671020",
            "c3398de5c6354b72807d9a03a7a6ee28",
            "143051d244b340e199c06229053f6ff0"
          ]
        },
        "id": "uJZpRg5F7NUV",
        "outputId": "00d836bb-0835-4917-f7d5-9b4b01591148"
      },
      "source": [
        "from copy import deepcopy\n",
        "\n",
        "test_data = []\n",
        "\n",
        "for i in tqdm_notebook(range(len(interactions))):\n",
        "    features = {}\n",
        "    features['personId'] = str(interactions.index[i])  \n",
        "    for j in range(len(ratings.columns)):\n",
        "        ####### Здесь ваш код ##########\n",
        "        features['contentId'] = str(ratings.columns[j])\n",
        "        \n",
        "        try:\n",
        "            article = articles_df.loc[features['contentId']]\n",
        "            features['authorId'] = str(article.authorPersonId)\n",
        "            features['authorCountry'] = str(article.authorCountry)\n",
        "            features['lang'] = str(article.lang)\n",
        "        except:\n",
        "            features['authorId'] = 'unknown'\n",
        "            features['authorCountry'] = 'unknown'\n",
        "            features['lang'] = 'unknown'\n",
        "        ################################\n",
        "        test_data.append(deepcopy(features))"
      ],
      "execution_count": null,
      "outputs": [
        {
          "output_type": "stream",
          "text": [
            "/usr/local/lib/python3.7/dist-packages/ipykernel_launcher.py:5: TqdmDeprecationWarning: This function will be removed in tqdm==5.0.0\n",
            "Please use `tqdm.notebook.tqdm` instead of `tqdm.tqdm_notebook`\n",
            "  \"\"\"\n"
          ],
          "name": "stderr"
        },
        {
          "output_type": "display_data",
          "data": {
            "application/vnd.jupyter.widget-view+json": {
              "model_id": "1f089d7029d54b9e9c32c4ea6f966dbf",
              "version_major": 2,
              "version_minor": 0
            },
            "text/plain": [
              "HBox(children=(FloatProgress(value=0.0, max=1112.0), HTML(value='')))"
            ]
          },
          "metadata": {
            "tags": []
          }
        },
        {
          "output_type": "stream",
          "text": [
            "\n"
          ],
          "name": "stdout"
        }
      ]
    },
    {
      "cell_type": "markdown",
      "metadata": {
        "id": "GEx1aZyz7NUV"
      },
      "source": [
        "Векторизуем, получим разреженные матрицы.\n",
        "\n",
        "Мы будем обучать регрессор на силу взаимодействия, а для него нужны отрицательные примеры. Добавим некоторое количество случайных примеров как негативные (матрица взаимодействий разреженная, поэтому шансы взять как негативное взаимодействие некоторое положительное мало)."
      ]
    },
    {
      "cell_type": "code",
      "metadata": {
        "id": "_kfBG_vr7NUV"
      },
      "source": [
        "dv = DictVectorizer()\n",
        "\n",
        "train_features = dv.fit_transform(\n",
        "    train_data + list(np.random.permutation(test_data)[:100000]))\n",
        "test_features = dv.transform(test_data)"
      ],
      "execution_count": null,
      "outputs": []
    },
    {
      "cell_type": "code",
      "metadata": {
        "colab": {
          "base_uri": "https://localhost:8080/"
        },
        "id": "r1ORxv-K7NUW",
        "outputId": "91acf759-4568-449e-fc44-896caa611fc1"
      },
      "source": [
        "train_features"
      ],
      "execution_count": null,
      "outputs": [
        {
          "output_type": "execute_result",
          "data": {
            "text/plain": [
              "<246645x3481 sparse matrix of type '<class 'numpy.float64'>'\n",
              "\twith 1233225 stored elements in Compressed Sparse Row format>"
            ]
          },
          "metadata": {
            "tags": []
          },
          "execution_count": 49
        }
      ]
    },
    {
      "cell_type": "code",
      "metadata": {
        "id": "54uYFuXL7NUW"
      },
      "source": [
        "y_train = list(interactions_train_df.eventStrength.values) + list(np.zeros(100000))"
      ],
      "execution_count": null,
      "outputs": []
    },
    {
      "cell_type": "markdown",
      "metadata": {
        "id": "JvCCpAly7NUW"
      },
      "source": [
        "Укажем размером скрытого представления 10, сделаем 10 итераций."
      ]
    },
    {
      "cell_type": "code",
      "metadata": {
        "colab": {
          "background_save": true,
          "base_uri": "https://localhost:8080/"
        },
        "id": "Htd7DQlA7NUW",
        "scrolled": true,
        "outputId": "f5c26041-8287-45ea-e216-e8fa90499b5c"
      },
      "source": [
        "# fm = pylibfm.FM(...\n",
        "####### Здесь ваш код ##########\n",
        "fm = pylibfm.FM(num_factors=10, num_iter=30, task='regression')\n",
        "################################\n",
        "fm.fit(train_features, y_train)"
      ],
      "execution_count": null,
      "outputs": [
        {
          "output_type": "stream",
          "text": [
            "Creating validation dataset of 0.01 of training for adaptive regularization\n",
            "-- Epoch 1\n",
            "Training MSE: 0.11752\n",
            "-- Epoch 2\n",
            "Training MSE: 0.11061\n",
            "-- Epoch 3\n",
            "Training MSE: 0.10978\n",
            "-- Epoch 4\n",
            "Training MSE: 0.10920\n",
            "-- Epoch 5\n",
            "Training MSE: 0.10875\n",
            "-- Epoch 6\n",
            "Training MSE: 0.10817\n",
            "-- Epoch 7\n",
            "Training MSE: 0.10780\n",
            "-- Epoch 8\n",
            "Training MSE: 0.10741\n",
            "-- Epoch 9\n",
            "Training MSE: 0.10672\n",
            "-- Epoch 10\n",
            "Training MSE: 0.10567\n",
            "-- Epoch 11\n",
            "Training MSE: 0.10462\n",
            "-- Epoch 12\n",
            "Training MSE: 0.10430\n",
            "-- Epoch 13\n",
            "Training MSE: 0.10428\n",
            "-- Epoch 14\n",
            "Training MSE: 0.10400\n",
            "-- Epoch 15\n",
            "Training MSE: 0.10299\n",
            "-- Epoch 16\n",
            "Training MSE: 0.10223\n",
            "-- Epoch 17\n",
            "Training MSE: 0.10129\n",
            "-- Epoch 18\n",
            "Training MSE: 0.10044\n",
            "-- Epoch 19\n",
            "Training MSE: 0.10024\n",
            "-- Epoch 20\n",
            "Training MSE: 0.10013\n",
            "-- Epoch 21\n",
            "Training MSE: 0.09991\n",
            "-- Epoch 22\n",
            "Training MSE: 0.09973\n",
            "-- Epoch 23\n",
            "Training MSE: 0.09931\n",
            "-- Epoch 24\n",
            "Training MSE: 0.09915\n",
            "-- Epoch 25\n",
            "Training MSE: 0.09903\n",
            "-- Epoch 26\n",
            "Training MSE: 0.09873\n",
            "-- Epoch 27\n",
            "Training MSE: 0.09905\n",
            "-- Epoch 28\n",
            "Training MSE: 0.09864\n",
            "-- Epoch 29\n",
            "Training MSE: 0.09870\n",
            "-- Epoch 30\n",
            "Training MSE: 0.09895\n"
          ],
          "name": "stdout"
        }
      ]
    },
    {
      "cell_type": "markdown",
      "metadata": {
        "id": "LctegjZ-7NUW"
      },
      "source": [
        "Предскажем и оценим качество."
      ]
    },
    {
      "cell_type": "code",
      "metadata": {
        "colab": {
          "background_save": true
        },
        "id": "MBqPsN3m7NUW"
      },
      "source": [
        "####### Здесь ваш код ##########\n",
        "test_features = dv.transform(test_data)\n",
        "\n",
        "y_predict = fm.predict(test_features)\n",
        "\n",
        "new_ratings = y_predict.reshape((1112, 2366))\n",
        "################################"
      ],
      "execution_count": null,
      "outputs": []
    },
    {
      "cell_type": "code",
      "metadata": {
        "colab": {
          "background_save": true
        },
        "id": "OWF2OM_-7NUW"
      },
      "source": [
        "predictions = []\n",
        "\n",
        "for i, person in enumerate(interactions.index):\n",
        "    user_prediction = ratings.columns[np.argsort(new_ratings[i])[::-1]]\n",
        "    predictions.append(\n",
        "        user_prediction[~np.in1d(user_prediction,\n",
        "                                 interactions.loc[person, 'true_train'])][:top_k])\n",
        "    \n",
        "interactions['fm_prediction'] = predictions"
      ],
      "execution_count": null,
      "outputs": []
    },
    {
      "cell_type": "code",
      "metadata": {
        "colab": {
          "background_save": true
        },
        "id": "n6wF5i-27NUX",
        "outputId": "f9cb8a23-014c-45d7-bdd8-cc67c04161a6"
      },
      "source": [
        "calc_precision('fm_prediction')"
      ],
      "execution_count": null,
      "outputs": [
        {
          "output_type": "execute_result",
          "data": {
            "text/plain": [
              "0.006619782168543219"
            ]
          },
          "metadata": {
            "tags": []
          },
          "execution_count": 0
        }
      ]
    },
    {
      "cell_type": "code",
      "metadata": {
        "id": "kf6-aHAO7NUX"
      },
      "source": [
        "\n",
        "\n"
      ],
      "execution_count": null,
      "outputs": []
    }
  ]
}