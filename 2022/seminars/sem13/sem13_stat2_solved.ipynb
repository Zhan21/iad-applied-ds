{
  "cells": [
    {
      "cell_type": "markdown",
      "metadata": {
        "id": "NhatdYdbuxE4"
      },
      "source": [
        "## Семинар 13: AB, Статистика 2"
      ]
    },
    {
      "cell_type": "markdown",
      "metadata": {
        "id": "dptg3dsQuxE7"
      },
      "source": [
        "## План семинара\n",
        "- [Часть 0. Идея статистического вывода](#Часть-0.-Идея-статистического-вывода)\n",
        "    - [Статистические гипотезы](#Статистические-гипотезы)\n",
        "    - [Статистический критерий](#Статистический-критерий)\n",
        "    - [Уровень статистической значимости (p-value)](#Уровень-статистической-значимости-(p-value))\n",
        "    - [Ошибки первого и второго рода](#Ошибки-первого-и-второго-рода)\n",
        "    - [Мощность критерия](#Мощность-критерия)\n",
        "- [Часть 1. Сравнение средних и t-тест](#Часть-1.-Сравнение-средних-и-t-тест)\n",
        "    - [Случай несвязных выборок](#Случай-несвязных-выборок)\n",
        "    - [Случай связных выборок](#Случай-связных-выборок)\n",
        "    - [Требования к данным](#Требования-к-данным)\n",
        "- [Часть 2. Хи-квадрат](#Часть-2.-Хи-квадрат)\n",
        "    - [Сравнение эмпирического распределения с теоретическим](#Сравнение-эмпирического-распределения-с-теоретическим)\n",
        "    - [Сравнение двух экспериментальных распределений](#Сравнение-двух-экспериментальных-распределений)"
      ]
    },
    {
      "cell_type": "code",
      "execution_count": 1,
      "metadata": {
        "collapsed": true,
        "id": "jiombVzauxE9"
      },
      "outputs": [],
      "source": [
        "import numpy as np\n",
        "import matplotlib.pyplot as plt\n",
        "%matplotlib inline"
      ]
    },
    {
      "cell_type": "markdown",
      "metadata": {
        "id": "fXeEOZ9iuxE_"
      },
      "source": [
        "## Часть 0. Идея статистического вывода"
      ]
    },
    {
      "cell_type": "markdown",
      "metadata": {
        "id": "dBq9QF20uxFA"
      },
      "source": [
        "Для начала, вспомним некоторые понятия из математической статистики."
      ]
    },
    {
      "cell_type": "markdown",
      "metadata": {
        "id": "TV6VmqxjuxFA"
      },
      "source": [
        "### Статистические гипотезы"
      ]
    },
    {
      "cell_type": "markdown",
      "metadata": {
        "id": "56cGlwpjuxFB"
      },
      "source": [
        "Исследователю в процессе работы часто приходится отвечать на вопросы типа:\n",
        "1. Можно ли утверждать, что новый баннер увеличивает CTR (click-through rate)?\n",
        "2. Действительно ли разаботанное лекарство ускоряет процесс выздоравления пациентов?\n",
        "3. Правда ли, что средняя продолжительность жизни в двух конкретных странах разная?\n",
        "4. И др.\n",
        "\n",
        "Для того, чтобы ответить на эти вопросы необходимо сформулировать статистические гипотезы. Формулирование гипотез систематизирует предположения исследователя и представляет их в четком и лаконичном виде.\n",
        "\n",
        "\n",
        "Статистические гипотезы разделяют на **нулевые** и **альтернативные**:\n",
        "1. **Нулевая гипотеза $H_0$** - это гипотеза об отсутствии различий. Нулевая гипотеза - это то, что мы хотим опровергнуть, если перед нами стоит задача доказать значимость различий.\n",
        "2. **Альтернативная гипотеза $H_1$** - это гипотеза о значимости различий, то, что мы хотим доказать.\n",
        "\n",
        "\n",
        "Например, для третьего вопроса гипотезы можно сформулировать следующим образом:\n",
        "1. **Нулевая гипотеза $H_0$**: среднии продолжительности жизни в этих странах **равны**.\n",
        "2. **Альтернативная гипотеза $H_1$**: среднии продолжительности жизни в этих странах **не равны**."
      ]
    },
    {
      "cell_type": "markdown",
      "metadata": {
        "id": "2Dhnz3CcuxFB"
      },
      "source": [
        "**Задание:** Сформулируйте нулевую и альтернативную гипотезы для первого и второго вопроса."
      ]
    },
    {
      "cell_type": "markdown",
      "metadata": {
        "id": "b8iCiV8vuxFC"
      },
      "source": [
        "### Статистический критерий"
      ]
    },
    {
      "cell_type": "markdown",
      "metadata": {
        "id": "bcQRTHFNuxFD"
      },
      "source": [
        "Статистический критерий - это решающее правило, обеспечивающее надежное поведение, то есть принятие истинной и отклонение ложной гипотезы с высокой вероятностью. Статистические критерии обозначают также метод расчета определенного числа и само это число."
      ]
    },
    {
      "cell_type": "markdown",
      "metadata": {
        "id": "iFQpH0zGuxFD"
      },
      "source": [
        "### Уровень статистической значимости (p-value)"
      ]
    },
    {
      "cell_type": "markdown",
      "metadata": {
        "id": "I-OWPsCnuxFE"
      },
      "source": [
        "**Уровень значимости** - это вероятность того, что мы сочли различия существенными, а они на самом деле случайны.\n",
        "Когда мы указываем, что различия достоверны на $5\\%$-ом уровне значимости, или при $р<0,05$, то мы имеем виду, что вероятность того,\n",
        "что они все-таки недостоверны, составляет $0,05$.\n",
        "\n",
        "Если перевести все это на более формализованный язык, то уровень значимости - это вероятность отклонения нулевой гипотезы, в то\n",
        "время как она верна.\n",
        "\n",
        "Нулевую гипотезу отклоняют (обычно), если достигнутый уровень значимости $р<0,05$."
      ]
    },
    {
      "cell_type": "markdown",
      "metadata": {
        "id": "iM_PU8yhuxFF"
      },
      "source": [
        "### Ошибки первого и второго рода"
      ]
    },
    {
      "cell_type": "markdown",
      "metadata": {
        "id": "XxPUVmmKuxFF"
      },
      "source": [
        "- **Ошибкой I рода** называется ошибка, состоящая в том, что мы **отклонили** нулевую гипотезу, в то время как она верна.\n",
        "- **Ошибкой II рода** называется ошибка, состоящая в том, что мы **приняли** нулевую гипотезу, в то время как она неверна."
      ]
    },
    {
      "cell_type": "markdown",
      "metadata": {
        "id": "tKPL6fcWuxFG"
      },
      "source": [
        "### Мощность критерия"
      ]
    },
    {
      "cell_type": "markdown",
      "metadata": {
        "id": "GQ_KLxeQuxFH"
      },
      "source": [
        "**Мощность критерия** - это его способность выявлять различия, если они есть. Иными словами, это его способность отклонить нулевую гипотезу об отсутствии различий, если она неверна.\n",
        "\n",
        "\n",
        "Вероятность ошибки II рода обозначается как $\\beta$.\n",
        "\n",
        "Мощность критерия - это его способность не допустить ошибку II рода, поэтому:\n",
        "\n",
        "   - Мощность $ = 1 - \\beta$.\n",
        "\n",
        "Мощность критерия определяется эмпирическим путем. Одни и те же задачи могут быть решены с помощью разных критериев, при\n",
        "этом обнаруживается, что некоторые критерии позволяют выявить различия там, где другие оказываются неспособными это сделать, или выявляют более высокий уровень значимости различий. Возникает вопрос:\n",
        "а зачем же тогда использовать менее мощные критерии? Дело в том,\n",
        "что основанием для выбора критерия может быть не только мощность,\n",
        "но и другие его характеристики, а именно:\n",
        "- простота\n",
        "- более широкий диапазон использования (например, по отношению к данным, определенным по номинативной шкале, или по отношению к\n",
        "большим $n$)\n",
        "- применимость по отношению к неравным по объему выборкам"
      ]
    },
    {
      "cell_type": "markdown",
      "metadata": {
        "id": "2BAb2w5AuxFI"
      },
      "source": [
        "## Часть 1. Сравнение средних и t-тест"
      ]
    },
    {
      "cell_type": "code",
      "execution_count": 2,
      "metadata": {
        "collapsed": true,
        "id": "aM_FvpTeuxFI"
      },
      "outputs": [],
      "source": [
        "from scipy.stats import ttest_ind, ttest_rel\n",
        "from scipy.stats import t, norm"
      ]
    },
    {
      "cell_type": "markdown",
      "metadata": {
        "id": "hpJWPhJkuxFJ"
      },
      "source": [
        "**t-критерий Стьюдента** (или **t-тест**) направлен на оценку различий велечин средних $\\bar{X}$ и $\\bar{Y}$ двух выборок $X$ и $Y$, которые распределенны по нормальному закону. Критерий может быть использован для сопоставления средних у связных и несвязных выборок, причем выборки могут быть не равны по величине.\n",
        "\n",
        "t-критерий Стьюдента основан на **распределении Стьюдента** - однопараметрическом непрерывном распредлении, где в качестве параметра выступает **число степеней свободы $n$**. Число степений свободы считается как количество элементов выборки минус 1.\n",
        "\n",
        "Распределение Стьюдента очень похоже на нормальное распределение, но его график плотности при малом количестве степеней свободы имеет более тяжелые хвосты - случайная величина чаще **сильно** отклоняется от своего среднего значения. При $n\\geq30$ практически полностью совпадает с нормальным распределением."
      ]
    },
    {
      "cell_type": "code",
      "execution_count": 3,
      "metadata": {
        "id": "9Y9lwUhHuxFJ",
        "colab": {
          "base_uri": "https://localhost:8080/",
          "height": 428
        },
        "outputId": "a5d1c6d5-44c6-43d8-e777-cc462dddb498"
      },
      "outputs": [
        {
          "output_type": "display_data",
          "data": {
            "text/plain": [
              "<Figure size 720x504 with 1 Axes>"
            ],
            "image/png": "[encoded data removed]"
          },
          "metadata": {
            "needs_background": "light"
          }
        }
      ],
      "source": [
        "fig, ax = plt.subplots(1, 1, figsize=(10,7))\n",
        "x = np.linspace(t.ppf(0.01, 3), t.ppf(0.99, 3), 100)\n",
        "ax.plot(x, t.pdf(x, 1), 'r', lw=1, label='n = 1')\n",
        "ax.plot(x, t.pdf(x, 5), 'b-', lw=1, label='n = 5')\n",
        "ax.plot(x, t.pdf(x, 30), 'g-', lw=1, label='n = 30')\n",
        "ax.plot(x, t.pdf(x, 100), 'r+', lw=1, label='n = 100')\n",
        "ax.plot(x, norm.pdf(x), 'black', lw=1, label='normal')\n",
        "ax.legend();"
      ]
    },
    {
      "cell_type": "markdown",
      "metadata": {
        "id": "efOlmxbRuxFK"
      },
      "source": [
        "### Случай несвязных выборок"
      ]
    },
    {
      "cell_type": "markdown",
      "metadata": {
        "id": "QKIJ_0x-uxFK"
      },
      "source": [
        "Рассмотрим следующий пример:\n",
        "\n",
        "Психолог измерял время сложной сенсомотороной реакции выбора (в мс) в контрольной и эксперментальной группах. В экспериментальную группу ($X$) входили 9 спортсменов высокой квалификации. Контрольной группой ($Y$) являлись 8 человек, активно не занимающиеся спортом. Психолог проверяет гипотезу о том, что средняя скорость сложной сенсомоторной реакции выбора у спортсменов выше, чем эта же величина у людей, не занимающихся спортом.\n",
        "\n",
        "В результате эксперимента получились следующие средние значения:\n",
        "- Для спортсменов: $\\bar{X} = 526$\n",
        "- Для не занимающихся спортом: $\\bar{Y} = 638$\n",
        "\n",
        "Сырые данные эксперимента приведены ниже."
      ]
    },
    {
      "cell_type": "code",
      "execution_count": 4,
      "metadata": {
        "collapsed": true,
        "id": "v_TbArq_uxFK"
      },
      "outputs": [],
      "source": [
        "# Экспериментальная группа\n",
        "X_1 = [504, 560, 420, 600, 580, 530, 490, 580, 470]\n",
        "# Контрольная группа\n",
        "Y_1 = [580, 692, 700, 621, 640, 561, 680, 630]"
      ]
    },
    {
      "cell_type": "markdown",
      "metadata": {
        "id": "YViBF62luxFL"
      },
      "source": [
        "**Задание:** Сформулируйте нулевую и альтернативную гипотезы."
      ]
    },
    {
      "cell_type": "markdown",
      "metadata": {
        "id": "c_tvNS8PuxFL"
      },
      "source": [
        "Проверим, является ли различие в средних статистически значимым.  Для этого воспользуемся функцией [`ttest_ind`](https://docs.scipy.org/doc/scipy/reference/generated/scipy.stats.ttest_ind.html) для **несвязных** выборок."
      ]
    },
    {
      "cell_type": "code",
      "execution_count": 5,
      "metadata": {
        "id": "Vb93cWx4uxFM",
        "colab": {
          "base_uri": "https://localhost:8080/"
        },
        "outputId": "75902f4c-4137-473a-ee9b-b20919a1c2b5"
      },
      "outputs": [
        {
          "output_type": "execute_result",
          "data": {
            "text/plain": [
              "Ttest_indResult(statistic=-4.12624181242505, pvalue=0.0008972556364194241)"
            ]
          },
          "metadata": {},
          "execution_count": 5
        }
      ],
      "source": [
        "###################################################\n",
        "# Ваш код здесь\n",
        "ttest_ind(X_1, Y_1)\n",
        "###################################################"
      ]
    },
    {
      "cell_type": "markdown",
      "metadata": {
        "id": "DtOwF_hcuxFM"
      },
      "source": [
        "**Вопрос:** Что можно сказать про результаты теста?"
      ]
    },
    {
      "cell_type": "markdown",
      "metadata": {
        "id": "raR--P8ZuxFM"
      },
      "source": [
        "**Задание:** Допустим, в ходе исследования мы хотели выяснить, влияет ли новый разработанный препарат на скорость выздоравления. Экспериментальная группа получала разработанный препарат, а контрольная - нет. Мы замеряли время выздоравления и применили t-тест к полученным данным. И в итоге получили $p = 0.004$.\n",
        "\n",
        "Выберете правильные утверждения:\n",
        "\n",
        "1. Т.к. в нашем исследовании $p$ уровень значимости равен 0,004, то вероятность того, что верна нулевая гипотеза (новый препарат не влияет на скорость выздоровления) также равняется всего-лишь 0,004.\n",
        "2. Если бы в исследовании мы получили $p=0,9$, это означало бы, что верна нулевая гипотеза, и новый препарат не влияет на скорость выздоровления.\n",
        "3. Чем меньше p уровень значимости, тем сильнее получаемые различия. Например, если бы p уровень значимости в нашем исследовании был бы равен 0,0001, значит новый препарат еще сильнее бы влиял на скорость выздоровления.\n",
        "4. Вероятность получить такие (как в эксперименте) или большие различия между среднем временнем выздоравления в экспериментальной и контрольной группе, при условии того, что нулевая гипотеза верна, равна 0.004."
      ]
    },
    {
      "cell_type": "markdown",
      "metadata": {
        "id": "1QBe9Z0wuxFN"
      },
      "source": [
        "### Случай связных выборок"
      ]
    },
    {
      "cell_type": "markdown",
      "metadata": {
        "id": "QsmCLoYIuxFN"
      },
      "source": [
        "Рассмотрим следующий пример:\n",
        "\n",
        "Психолог предположил, что в результате обучения время решения эквивалентных задач (т.е. имеющих один и тот же алгоритм решения) будет значимо уменьшаться. Для проверки гипотезы у восьми испытуемых сравнивалось время решения (в минутах) первой и третьей задач.\n",
        "\n",
        "В результате эксперимента получились следующие средние значения:\n",
        "- Для первой задачи: $\\bar{X} = 4.6375$\n",
        "- Для третьей задачи: $\\bar{Y} = 3.4875$\n",
        "\n",
        "Сырые данные приведены ниже."
      ]
    },
    {
      "cell_type": "code",
      "execution_count": 6,
      "metadata": {
        "collapsed": true,
        "id": "-wCf-u90uxFO"
      },
      "outputs": [],
      "source": [
        "# Время, потраченое на решение первой задачи\n",
        "X_2 = [4.0, 3.5, 4.1, 5.5, 4.6, 6.0, 5.1, 4.3]\n",
        "# Время, потраченое на решение третьей задачи\n",
        "Y_2 = [3.0, 3.0, 3.8, 2.1, 4.9, 5.3, 3.1, 2.7]"
      ]
    },
    {
      "cell_type": "markdown",
      "metadata": {
        "id": "DdiLlB0suxFO"
      },
      "source": [
        "**Задание:** Сформулируйте нулевую и альтернативную гипотезы."
      ]
    },
    {
      "cell_type": "markdown",
      "metadata": {
        "id": "U0g2JU1VuxFO"
      },
      "source": [
        "Проверим, являются ли различие в средних статистически значимым.  Для этого воспользуемся функцией [`ttest_rel`](https://docs.scipy.org/doc/scipy/reference/generated/scipy.stats.ttest_rel.html#scipy.stats.ttest_rel) для **связных** выборок."
      ]
    },
    {
      "cell_type": "code",
      "execution_count": 7,
      "metadata": {
        "id": "1v8n7NL1uxFP",
        "colab": {
          "base_uri": "https://localhost:8080/"
        },
        "outputId": "0d9e0a52-3273-495c-8e83-ca2a0415c6fa"
      },
      "outputs": [
        {
          "output_type": "execute_result",
          "data": {
            "text/plain": [
              "Ttest_relResult(statistic=2.7979908224842562, pvalue=0.02660095438966255)"
            ]
          },
          "metadata": {},
          "execution_count": 7
        }
      ],
      "source": [
        "###################################################\n",
        "# Ваш код здесь\n",
        "ttest_rel(X_2, Y_2)\n",
        "###################################################"
      ]
    },
    {
      "cell_type": "markdown",
      "metadata": {
        "id": "ZPjDwKl1uxFP"
      },
      "source": [
        "**Вопрос:** Что можно сказать про результаты теста?"
      ]
    },
    {
      "cell_type": "markdown",
      "metadata": {
        "id": "1fg8vqfYuxFP"
      },
      "source": [
        "### Требования к данным"
      ]
    },
    {
      "cell_type": "markdown",
      "metadata": {
        "id": "Z-BvHAnTuxFQ"
      },
      "source": [
        "Для применения t-критерия Стьюдента данные должны удовлетворять следующим условиям:\n",
        "- **несвязные выборки**:\n",
        "    1. Гомогенность дисперсий - дисперсии внутри наших групп должны быть приблизительно одинаковыми\n",
        "    2. Нормальность распределения (особенно важно для выборок с количеством наблюдений меньше 30)\n",
        "    \n",
        "    \n",
        "- **связные выборки**:\n",
        "    1. Нормальность распределения (особенно важно для выборок с количеством наблюдений меньше 30)"
      ]
    },
    {
      "cell_type": "markdown",
      "metadata": {
        "id": "_V_nI4LzuxFQ"
      },
      "source": [
        "#### Проверка гомогенности дисперсий"
      ]
    },
    {
      "cell_type": "code",
      "execution_count": 8,
      "metadata": {
        "collapsed": true,
        "id": "oTP0vOGLuxFQ"
      },
      "outputs": [],
      "source": [
        "from scipy.stats import levene"
      ]
    },
    {
      "cell_type": "markdown",
      "metadata": {
        "id": "aQM0uUwUuxFR"
      },
      "source": [
        "Проверить гомогенность дисперсий можно с помощью **критерия Левена**. Проделаем это для примера с несвязными выборками, используя функцию [`levene`](https://docs.scipy.org/doc/scipy/reference/generated/scipy.stats.levene.html#scipy.stats.levene)."
      ]
    },
    {
      "cell_type": "code",
      "execution_count": 9,
      "metadata": {
        "id": "KjtKN5FxuxFR",
        "colab": {
          "base_uri": "https://localhost:8080/"
        },
        "outputId": "0e6b2da0-6d26-4dc8-aee2-55767516becb"
      },
      "outputs": [
        {
          "output_type": "execute_result",
          "data": {
            "text/plain": [
              "LeveneResult(statistic=0.34581062836832566, pvalue=0.5652436096974973)"
            ]
          },
          "metadata": {},
          "execution_count": 9
        }
      ],
      "source": [
        "###################################################\n",
        "# Ваш код здесь\n",
        "levene(X_1, Y_1)\n",
        "###################################################"
      ]
    },
    {
      "cell_type": "markdown",
      "metadata": {
        "id": "ZRAMXIdbuxFS"
      },
      "source": [
        "**Вопрос:** Что можно сказать про результаты теста?"
      ]
    },
    {
      "cell_type": "markdown",
      "metadata": {
        "id": "xCOW58P_uxFS"
      },
      "source": [
        "#### Проверка нормальности распределения"
      ]
    },
    {
      "cell_type": "code",
      "execution_count": 10,
      "metadata": {
        "collapsed": true,
        "id": "E2BJc8wFuxFS"
      },
      "outputs": [],
      "source": [
        "from scipy.stats import shapiro"
      ]
    },
    {
      "cell_type": "markdown",
      "metadata": {
        "id": "nyKoA6GZuxFT"
      },
      "source": [
        "Проверить распределение на нормальность можно:\n",
        "- визуально с помощью **графика квантиль-квантиль (Q-Q plot)** или\n",
        "- с помощью **кретерия Шапиро-Уилка**\n",
        "\n",
        "Давайте сначала проверим наши выборки по критерию Шапиро-Уилка ([`shapiro`](https://docs.scipy.org/doc/scipy/reference/generated/scipy.stats.shapiro.html#scipy.stats.shapiro))"
      ]
    },
    {
      "cell_type": "code",
      "execution_count": 11,
      "metadata": {
        "id": "t8zz2u6WuxFT",
        "colab": {
          "base_uri": "https://localhost:8080/"
        },
        "outputId": "db7023a8-87c6-48cd-8d7b-437717dd8a52"
      },
      "outputs": [
        {
          "output_type": "execute_result",
          "data": {
            "text/plain": [
              "(0.9484575390815735, 0.6731352210044861)"
            ]
          },
          "metadata": {},
          "execution_count": 11
        }
      ],
      "source": [
        "###################################################\n",
        "# Ваш код здесь\n",
        "shapiro(X_1)\n",
        "###################################################"
      ]
    },
    {
      "cell_type": "markdown",
      "metadata": {
        "id": "OJuhjXMYuxFT"
      },
      "source": [
        "**Вопрос:** Что можно сказать про результаты теста?"
      ]
    },
    {
      "cell_type": "markdown",
      "metadata": {
        "id": "-Ai_16c2uxFU"
      },
      "source": [
        "Теперь давайте для начала потренируемся в интерпретации [Q-Q plot](https://en.wikipedia.org/wiki/Q%E2%80%93Q_plot) на синтетических данных. Воспользуемся функцией [`qqplot`](https://www.statsmodels.org/stable/generated/statsmodels.graphics.gofplots.qqplot.html)."
      ]
    },
    {
      "cell_type": "markdown",
      "metadata": {
        "id": "NQ_qeiYBuxFU"
      },
      "source": [
        "<img src=\"https://upload.wikimedia.org/wikipedia/commons/0/08/Normal_normal_qq.svg\" width=\"400\">"
      ]
    },
    {
      "cell_type": "code",
      "execution_count": 12,
      "metadata": {
        "id": "oSGmAGLruxFU",
        "colab": {
          "base_uri": "https://localhost:8080/"
        },
        "outputId": "7864648a-1b48-4aad-d94f-53e2a3a9494d"
      },
      "outputs": [
        {
          "output_type": "stream",
          "name": "stderr",
          "text": [
            "/usr/local/lib/python3.7/dist-packages/statsmodels/tools/_testing.py:19: FutureWarning: pandas.util.testing is deprecated. Use the functions in the public API at pandas.testing instead.\n",
            "  import pandas.util.testing as tm\n"
          ]
        }
      ],
      "source": [
        "from statsmodels.api import qqplot"
      ]
    },
    {
      "cell_type": "markdown",
      "metadata": {
        "id": "9OCucxv4uxFV"
      },
      "source": [
        "1. Сгенерируем четыре выборки размером 1000:\n",
        "    - из нормального распределения\n",
        "    - из нормального распределения, скошенного впрово [`skewnorm`](https://docs.scipy.org/doc/scipy/reference/generated/scipy.stats.skewnorm.html),  с коэффициентом ассиметрии $= 2$\n",
        "    - из нормального распруделения, скошенного влево, с коэффициентом ассиметрии $= -2$\n",
        "    - из распределения Стьюдента с двумя степенями свободы\n",
        "2. Для каждой выборки построим Q-Q plot. Будем сравнивать с нормальным распределением, так же будем отображать контрольную линию.\n",
        "3. Также, для каждой выборки построим график её плостности распределения и плотности нормального распределения.\n",
        "\n",
        "3. Проинтерпретируем графики"
      ]
    },
    {
      "cell_type": "code",
      "execution_count": 13,
      "metadata": {
        "id": "Usef9oa6uxFV",
        "colab": {
          "base_uri": "https://localhost:8080/",
          "height": 279
        },
        "outputId": "b68fc938-e87a-41df-8df7-01f54a622021"
      },
      "outputs": [
        {
          "output_type": "display_data",
          "data": {
            "text/plain": [
              "<Figure size 432x288 with 1 Axes>"
            ],
            "image/png": "[encoded data removed]"
          },
          "metadata": {
            "needs_background": "light"
          }
        }
      ],
      "source": [
        "# Нормальное распределение\n",
        "###################################################\n",
        "# Ваш код здесь\n",
        "norm_dist = norm.rvs(size=1000)\n",
        "fig = qqplot(norm_dist, norm, line='45', fit=True)\n",
        "###################################################"
      ]
    },
    {
      "cell_type": "code",
      "execution_count": 14,
      "metadata": {
        "id": "sHYBXytxuxFW",
        "scrolled": true,
        "colab": {
          "base_uri": "https://localhost:8080/",
          "height": 582
        },
        "outputId": "8417b2de-9ad3-47ba-e8ef-7b3916acfba0"
      },
      "outputs": [
        {
          "output_type": "display_data",
          "data": {
            "text/plain": [
              "<Figure size 576x360 with 1 Axes>"
            ],
            "image/png": "[encoded data removed]"
          },
          "metadata": {
            "needs_background": "light"
          }
        },
        {
          "output_type": "display_data",
          "data": {
            "text/plain": [
              "<Figure size 432x288 with 1 Axes>"
            ],
            "image/png": "[encoded data removed]"
          },
          "metadata": {
            "needs_background": "light"
          }
        }
      ],
      "source": [
        "# Нормальное распределение, скошенное вправо\n",
        "###################################################\n",
        "# Ваш код здесь\n",
        "from scipy.stats import skewnorm\n",
        "fig, ax = plt.subplots(1, 1, figsize=(8, 5))\n",
        "x = np.linspace(norm.ppf(0.001), norm.ppf(0.999), 1000)\n",
        "ax.plot(x, norm.pdf(x), 'r-', label='norm')\n",
        "ax.plot(x, skewnorm(a=2).pdf(x), 'b-', label='skew')\n",
        "ax.legend()\n",
        "\n",
        "fig = qqplot(skewnorm(a=2).rvs(1000), norm, line='45', fit=True)\n",
        "\n",
        "###################################################"
      ]
    },
    {
      "cell_type": "code",
      "execution_count": 15,
      "metadata": {
        "id": "3k5L4TpFuxFW",
        "colab": {
          "base_uri": "https://localhost:8080/",
          "height": 582
        },
        "outputId": "560ce4e4-4cbf-4559-dc54-bd0c0ca82fe7"
      },
      "outputs": [
        {
          "output_type": "display_data",
          "data": {
            "text/plain": [
              "<Figure size 576x360 with 1 Axes>"
            ],
            "image/png": "[encoded data removed]"
          },
          "metadata": {
            "needs_background": "light"
          }
        },
        {
          "output_type": "display_data",
          "data": {
            "text/plain": [
              "<Figure size 432x288 with 1 Axes>"
            ],
            "image/png": "[encoded data removed]"
          },
          "metadata": {
            "needs_background": "light"
          }
        }
      ],
      "source": [
        "# Нормальное распределение, скошенное влево\n",
        "###################################################\n",
        "# Ваш код здесь\n",
        "from scipy.stats import skewnorm\n",
        "fig, ax = plt.subplots(1, 1, figsize=(8, 5))\n",
        "x = np.linspace(norm.ppf(0.001), norm.ppf(0.999), 1000)\n",
        "ax.plot(x, norm.pdf(x), 'r-', label='norm')\n",
        "ax.plot(x, skewnorm(a=-2).pdf(x), 'b-', label='skew')\n",
        "ax.legend()\n",
        "\n",
        "fig = qqplot(skewnorm(a=-2).rvs(1000), norm, line='45', fit=True)\n",
        "\n",
        "###################################################"
      ]
    },
    {
      "cell_type": "code",
      "execution_count": 16,
      "metadata": {
        "id": "AbwoaCHmuxFW",
        "colab": {
          "base_uri": "https://localhost:8080/",
          "height": 582
        },
        "outputId": "37beaaa6-762a-4f27-fc89-2ce341907012"
      },
      "outputs": [
        {
          "output_type": "display_data",
          "data": {
            "text/plain": [
              "<Figure size 576x360 with 1 Axes>"
            ],
            "image/png": "[encoded data removed]"
          },
          "metadata": {
            "needs_background": "light"
          }
        },
        {
          "output_type": "display_data",
          "data": {
            "text/plain": [
              "<Figure size 432x288 with 1 Axes>"
            ],
            "image/png": "[encoded data removed]"
          },
          "metadata": {
            "needs_background": "light"
          }
        }
      ],
      "source": [
        "# Распределение Стьюдента, n = 2\n",
        "###################################################\n",
        "# Ваш код здесь\n",
        "from scipy.stats import skewnorm\n",
        "fig, ax = plt.subplots(1, 1, figsize=(8, 5))\n",
        "x = np.linspace(norm.ppf(0.001), norm.ppf(0.999), 1000)\n",
        "ax.plot(x, norm.pdf(x), 'r-', label='norm')\n",
        "ax.plot(x, t(2).pdf(x), 'b-', label='t')\n",
        "ax.legend()\n",
        "\n",
        "fig = qqplot(t(2).rvs(1000), norm, line='45', fit=True)\n",
        "\n",
        "###################################################"
      ]
    },
    {
      "cell_type": "markdown",
      "metadata": {
        "id": "tXLdoqx3uxFX"
      },
      "source": [
        "Теперь проверим наши данные на нормальность с помошью Q-Q plot."
      ]
    },
    {
      "cell_type": "code",
      "execution_count": 17,
      "metadata": {
        "id": "p0gR6-U3uxFX",
        "colab": {
          "base_uri": "https://localhost:8080/",
          "height": 279
        },
        "outputId": "a60c1cb8-b1c6-4adb-a81a-50ceaa6b5138"
      },
      "outputs": [
        {
          "output_type": "display_data",
          "data": {
            "text/plain": [
              "<Figure size 432x288 with 1 Axes>"
            ],
            "image/png": "[encoded data removed]"
          },
          "metadata": {
            "needs_background": "light"
          }
        }
      ],
      "source": [
        "###################################################\n",
        "# Ваш код здесь\n",
        "fig = qqplot(np.array(X_1), norm, line='45', fit=True)\n",
        "\n",
        "###################################################"
      ]
    },
    {
      "cell_type": "markdown",
      "metadata": {
        "id": "kj5CcwuduxFX"
      },
      "source": [
        "## Часть 2. Хи-квадрат"
      ]
    },
    {
      "cell_type": "markdown",
      "metadata": {
        "id": "LS8PbmODuxFY"
      },
      "source": [
        "Критерий $\\chi^2$ используют в двух случаях:\n",
        "1. Для расчета согласия эмперического распределения и предполагаемого теоретического. В этом случае проверяется нулевая гипотеза об отсутствии различий между теоретическим и эмперическим распределениями.\n",
        "\n",
        "2. Для расчета однородности двух независимых экспериментальных выборок. В этом случае проверятеся гипотеза $H_0$ об отсутствии различий между двумя эмпирическими (экспериментальными) распределениями.\n",
        "\n",
        "\n",
        "Критерий основан на **распределении $\\chi^2$**. **Распределении $\\chi^2$ с $k$ степенями свободы** - это распределение суммы квадратов $k$ независимых стандартных нормальных случайных величин.\n",
        "\n",
        "Если\n",
        "$$Y = \\sum\\limits_{i=1}^{k} X_i$$ и $$X_i \\sim N(0, 1)$$ то $$Y \\sim \\chi^2_k$$\n",
        "\n",
        "По выборке параметр $k$ определяется как число элементов в выборке минус 1.\n",
        "\n",
        "Графики плотности распределения для разных значений $k$.\n",
        "<img src=\"https://upload.wikimedia.org/wikipedia/commons/2/21/Chi-square_distributionPDF.png?uselang=ru\" width=500>\n",
        "\n",
        "Исходнык данные для $\\chi^2$ могут буть представлены в любой шкале, например категоральной. Тогда, решаемый вопрос можно было бы сформулировать так: с одинаковой ли частотой встречаются разные значения признака в эмпирическом и теоретическом распределениях.\n",
        "\n",
        "\n",
        "Критерий построен так, что при полном совпадении экспериментального и теоретического (или двух экспериментальных) распределений величина $\\chi^2_{эмп}$ (*хи*-квадрат эмпирическое) $=0$, и чем больше расхождение между сопоставляемыми распределениями, тем больше величина значения $\\chi^2_{эмп}$."
      ]
    },
    {
      "cell_type": "markdown",
      "metadata": {
        "id": "rP0rqN1ouxFY"
      },
      "source": [
        "### Сравнение эмпирического распределения с теоретическим"
      ]
    },
    {
      "cell_type": "markdown",
      "metadata": {
        "id": "kymMLnDYuxFY"
      },
      "source": [
        "#### Пример с игральной костью\n",
        "Предположим, что исследователю в эксперименте необходимо использовать игральный кубик (шестигранный). Для чистоты эксперимента кубик должен быть \"идеальным\", т.е. таким, чтобы при достаточно большом числе подбрасываний, каждая грань выпадала бы примерно равное число раз. Задача состоит в выяснении того, будет ли данный кубик близок к идеальному?\n",
        "\n",
        "Чтобы это проверить, исследователь подбросил кубик 60 раз, при этом количество выпадений каждой грани распределилось следующим образом:\n",
        "\n",
        "| **Грани кубика**| 1 | 2 | 3 | 4 | 5 | 6 |\n",
        "|------|------|------|------|------|------|------|\n",
        "|**Эмпирические частоты** | 12 | 9 | 11 | 14 | 8 | 6 |\n",
        "|**Теоретические частоты** | 10 | 10 | 10 | 10 | 10 | 10 |\n",
        "\n",
        "**Задание:** Сформулируйте нулевую и альтернативную гипотезы.\n",
        "\n",
        "Применим критерий $\\chi^2$, воспользовавшись функцией [`chisquare`](https://docs.scipy.org/doc/scipy/reference/generated/scipy.stats.chisquare.html#scipy.stats.chisquare)"
      ]
    },
    {
      "cell_type": "code",
      "execution_count": 18,
      "metadata": {
        "id": "_38ilBMkuxFZ",
        "colab": {
          "base_uri": "https://localhost:8080/"
        },
        "outputId": "4c16bde7-c672-41c0-dd3c-2cacefd16a58"
      },
      "outputs": [
        {
          "output_type": "execute_result",
          "data": {
            "text/plain": [
              "Power_divergenceResult(statistic=4.2, pvalue=0.5209949534314051)"
            ]
          },
          "metadata": {},
          "execution_count": 18
        }
      ],
      "source": [
        "from scipy.stats import chisquare\n",
        "###################################################\n",
        "# Ваш код здесь\n",
        "chisquare([12,  9, 11, 14, 8, 6])\n",
        "\n",
        "###################################################"
      ]
    },
    {
      "cell_type": "markdown",
      "metadata": {
        "id": "_ecqO3kBuxFZ"
      },
      "source": [
        "**Вопрос:** Что можно сказать про результаты теста?"
      ]
    },
    {
      "cell_type": "markdown",
      "metadata": {
        "id": "VRrEL56auxFZ"
      },
      "source": [
        "### Сравнение двух экспериментальных распределений"
      ]
    },
    {
      "cell_type": "markdown",
      "metadata": {
        "id": "RJ-RrivSuxFa"
      },
      "source": [
        "На практике часто встречаются задачи, в которых необходимо сравнивать не теоретическое распределение с эмпирическим, а два и более эмпирических распределения между собой.\n",
        "\n",
        "Рассмотрим задачу:\n",
        "\n",
        "Одинаков ли уровень подготовленности учащихся в двух школах, если в первой школе из 100 человек поступило в вуз 82 человека, а во второй школе из 87 поступили 44?\n",
        "\n",
        "**Таблица сопряженности:**\n",
        "\n",
        "|№ школы|школа 1|школа 2|\n",
        "|------|------|------|\n",
        "|**Число поступивших**|82|18|\n",
        "|**Число не поступивших**|44|43|\n",
        "|**Всего**|100|87|\n",
        "\n",
        "**Задание:** Сформулируйте нулевую и альтернативную гипотезы.\n",
        "\n",
        "Применим критерий $\\chi^2$, воспользовавшись функцией [`chi2_contingency`](https://docs.scipy.org/doc/scipy/reference/generated/scipy.stats.chi2_contingency.html#scipy.stats.chi2_contingency)"
      ]
    },
    {
      "cell_type": "code",
      "execution_count": 19,
      "metadata": {
        "id": "53USs6MyuxFa",
        "colab": {
          "base_uri": "https://localhost:8080/"
        },
        "outputId": "d5a141c1-c486-429f-f18d-fefa3b82d0cb"
      },
      "outputs": [
        {
          "output_type": "execute_result",
          "data": {
            "text/plain": [
              "(19.498190870249235,\n",
              " 1.0069500556409318e-05,\n",
              " 1,\n",
              " array([[67.37967914, 32.62032086],\n",
              "        [58.62032086, 28.37967914]]))"
            ]
          },
          "metadata": {},
          "execution_count": 19
        }
      ],
      "source": [
        "from scipy.stats import chi2_contingency\n",
        "###################################################\n",
        "# Ваш код здесь\n",
        "c_table = np.array([[82, 18], [44, 43]])\n",
        "chi2_contingency(c_table)\n",
        "###################################################"
      ]
    },
    {
      "cell_type": "markdown",
      "metadata": {
        "id": "S4Cdz4nRuxFb"
      },
      "source": [
        "**Вопрос:** Что можно сказать про результаты теста?"
      ]
    },
    {
      "cell_type": "code",
      "execution_count": 19,
      "metadata": {
        "collapsed": true,
        "id": "68xPaXx3uxFb"
      },
      "outputs": [],
      "source": [
        ""
      ]
    }
  ],
  "metadata": {
    "colab": {
      "name": "sem13_stat2.ipynb",
      "provenance": []
    },
    "kernelspec": {
      "display_name": "Python 2",
      "language": "python",
      "name": "python2"
    },
    "language_info": {
      "codemirror_mode": {
        "name": "ipython",
        "version": 2
      },
      "file_extension": ".py",
      "mimetype": "text/x-python",
      "name": "python",
      "nbconvert_exporter": "python",
      "pygments_lexer": "ipython2",
      "version": "2.7.14"
    }
  },
  "nbformat": 4,
  "nbformat_minor": 0
}
