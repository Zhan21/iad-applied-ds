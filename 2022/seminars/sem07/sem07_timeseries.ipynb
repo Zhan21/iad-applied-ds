{
  "cells": [
    {
      "cell_type": "markdown",
      "metadata": {
        "id": "korKGO4EeZnO"
      },
      "source": [
        "# Семинар 7. Временные ряды"
      ]
    },
    {
      "cell_type": "markdown",
      "metadata": {
        "id": "Pl711sp3eZnR"
      },
      "source": [
        "### План\n",
        "#### 1 Прогнозирование временного ряда\n",
        "#### 1.1 Прогнозирование средним (Mean Constant Model)\n",
        "#### 1.2. Линейная модель (Linear Trend Model)\n",
        "#### 1.3. Линейная модель с регрессией (Linear Regression Model)\n",
        "#### 2 Выделение тренда и сезонности\n",
        "#### 3 Стационарность ряда\n",
        "#### 4 ARIMA\n"
      ]
    },
    {
      "cell_type": "markdown",
      "metadata": {
        "id": "opdOmadOeZnR"
      },
      "source": [
        "## Временной ряд"
      ]
    },
    {
      "cell_type": "markdown",
      "metadata": {
        "id": "dGLbyvaleZnS"
      },
      "source": [
        "Временно́й ряд — собранный в разные моменты времени статистический материал о значении каких-либо параметров исследуемого процесса."
      ]
    },
    {
      "cell_type": "markdown",
      "metadata": {
        "id": "bV_0uhlXeZnT"
      },
      "source": [
        "Скалярным временным рядом \n",
        "$$\\{x_i\\}_{i=1}^N$$\n",
        "называется массив из $N$ чисел, представляющих собой значения некоторой измеренной (наблюдаемой) динамической переменной $x(t)$ с некоторым постоянным шагом $τ$ по времени, $$t_i = t_0 + (i − 1)τ : x_i = x(t_i), i = 1, . . . , N.$$  "
      ]
    },
    {
      "cell_type": "markdown",
      "metadata": {
        "id": "E-XFDpszeZnT"
      },
      "source": [
        "Такой подход используется, когда нет возможности построить уравнения движения.  \n",
        "\n",
        "Примеры: \n",
        "- объёмы продаж в торговых сетях\n",
        "- объёмы потребления и цены электроэнергии\n",
        "- остатки складских запасов\n",
        "- рыночные цены\n",
        "- дорожный трафик (прогнозирование пробок)\n"
      ]
    },
    {
      "cell_type": "markdown",
      "metadata": {
        "id": "dn9zwqPfeZnU"
      },
      "source": [
        "Перейдем к данным."
      ]
    },
    {
      "cell_type": "markdown",
      "metadata": {
        "id": "5pE9JHBAeZnU"
      },
      "source": [
        "## Чтение данных"
      ]
    },
    {
      "cell_type": "code",
      "execution_count": 1,
      "metadata": {
        "colab": {
          "base_uri": "https://localhost:8080/"
        },
        "id": "lPUFcwJReZnU",
        "outputId": "2bc8104b-4d0e-469f-ec60-9c0b90a85cbf"
      },
      "outputs": [
        {
          "output_type": "stream",
          "name": "stderr",
          "text": [
            "/usr/local/lib/python3.7/dist-packages/statsmodels/tools/_testing.py:19: FutureWarning: pandas.util.testing is deprecated. Use the functions in the public API at pandas.testing instead.\n",
            "  import pandas.util.testing as tm\n"
          ]
        }
      ],
      "source": [
        "import pandas as pd\n",
        "import numpy as np\n",
        "import matplotlib.pyplot as plt\n",
        "\n",
        "import statsmodels.api as sm\n",
        "import statsmodels.formula.api as smf\n",
        "from statsmodels.tsa.stattools import adfuller\n",
        "%matplotlib inline\n",
        "\n",
        "pd.options.display.float_format = '{:.2f}'.format\n",
        "\n",
        "plt.style.use('ggplot')\n",
        "plt.rcParams['figure.figsize'] = (15, 15)\n",
        "\n",
        "# данные по продажам в Индии в различных городах и штатах\n",
        "df = pd.read_csv('MarketArrivals_Ind.csv')"
      ]
    },
    {
      "cell_type": "code",
      "execution_count": 2,
      "metadata": {
        "id": "pwJBb3YBeZnW"
      },
      "outputs": [],
      "source": [
        "df.date = pd.DatetimeIndex(df.date)\n",
        "\n",
        "# Отсортируем и добавим date в индекс\n",
        "df = df.sort_values(by = \"date\")\n",
        "df.index = pd.PeriodIndex(df.date, freq='M')"
      ]
    },
    {
      "cell_type": "code",
      "execution_count": 3,
      "metadata": {
        "colab": {
          "base_uri": "https://localhost:8080/",
          "height": 238
        },
        "id": "Wvzx6rg4eZnW",
        "outputId": "9a76e242-faf5-4b24-c41c-5fd49ec55da4"
      },
      "outputs": [
        {
          "output_type": "execute_result",
          "data": {
            "text/plain": [
              "                market     month  year  quantity  priceMin  priceMax  \\\n",
              "date                                                                   \n",
              "1996-01  LASALGAON(MS)   January  1996    225063       160       257   \n",
              "1996-02  LASALGAON(MS)  February  1996    196164       133       229   \n",
              "1996-03  LASALGAON(MS)     March  1996    178992       155       274   \n",
              "1996-04  LASALGAON(MS)     April  1996    192592       136       279   \n",
              "1996-05  LASALGAON(MS)       May  1996    237574       154       312   \n",
              "\n",
              "         priceMod state       city       date  \n",
              "date                                           \n",
              "1996-01       226    MS  LASALGAON 1996-01-01  \n",
              "1996-02       186    MS  LASALGAON 1996-02-01  \n",
              "1996-03       243    MS  LASALGAON 1996-03-01  \n",
              "1996-04       254    MS  LASALGAON 1996-04-01  \n",
              "1996-05       269    MS  LASALGAON 1996-05-01  "
            ],
            "text/html": [
              "\n",
              "  <div id=\"df-c5849b98-784e-49f3-b594-93550e1e15a7\">\n",
              "    <div class=\"colab-df-container\">\n",
              "      <div>\n",
              "<style scoped>\n",
              "    .dataframe tbody tr th:only-of-type {\n",
              "        vertical-align: middle;\n",
              "    }\n",
              "\n",
              "    .dataframe tbody tr th {\n",
              "        vertical-align: top;\n",
              "    }\n",
              "\n",
              "    .dataframe thead th {\n",
              "        text-align: right;\n",
              "    }\n",
              "</style>\n",
              "<table border=\"1\" class=\"dataframe\">\n",
              "  <thead>\n",
              "    <tr style=\"text-align: right;\">\n",
              "      <th></th>\n",
              "      <th>market</th>\n",
              "      <th>month</th>\n",
              "      <th>year</th>\n",
              "      <th>quantity</th>\n",
              "      <th>priceMin</th>\n",
              "      <th>priceMax</th>\n",
              "      <th>priceMod</th>\n",
              "      <th>state</th>\n",
              "      <th>city</th>\n",
              "      <th>date</th>\n",
              "    </tr>\n",
              "    <tr>\n",
              "      <th>date</th>\n",
              "      <th></th>\n",
              "      <th></th>\n",
              "      <th></th>\n",
              "      <th></th>\n",
              "      <th></th>\n",
              "      <th></th>\n",
              "      <th></th>\n",
              "      <th></th>\n",
              "      <th></th>\n",
              "      <th></th>\n",
              "    </tr>\n",
              "  </thead>\n",
              "  <tbody>\n",
              "    <tr>\n",
              "      <th>1996-01</th>\n",
              "      <td>LASALGAON(MS)</td>\n",
              "      <td>January</td>\n",
              "      <td>1996</td>\n",
              "      <td>225063</td>\n",
              "      <td>160</td>\n",
              "      <td>257</td>\n",
              "      <td>226</td>\n",
              "      <td>MS</td>\n",
              "      <td>LASALGAON</td>\n",
              "      <td>1996-01-01</td>\n",
              "    </tr>\n",
              "    <tr>\n",
              "      <th>1996-02</th>\n",
              "      <td>LASALGAON(MS)</td>\n",
              "      <td>February</td>\n",
              "      <td>1996</td>\n",
              "      <td>196164</td>\n",
              "      <td>133</td>\n",
              "      <td>229</td>\n",
              "      <td>186</td>\n",
              "      <td>MS</td>\n",
              "      <td>LASALGAON</td>\n",
              "      <td>1996-02-01</td>\n",
              "    </tr>\n",
              "    <tr>\n",
              "      <th>1996-03</th>\n",
              "      <td>LASALGAON(MS)</td>\n",
              "      <td>March</td>\n",
              "      <td>1996</td>\n",
              "      <td>178992</td>\n",
              "      <td>155</td>\n",
              "      <td>274</td>\n",
              "      <td>243</td>\n",
              "      <td>MS</td>\n",
              "      <td>LASALGAON</td>\n",
              "      <td>1996-03-01</td>\n",
              "    </tr>\n",
              "    <tr>\n",
              "      <th>1996-04</th>\n",
              "      <td>LASALGAON(MS)</td>\n",
              "      <td>April</td>\n",
              "      <td>1996</td>\n",
              "      <td>192592</td>\n",
              "      <td>136</td>\n",
              "      <td>279</td>\n",
              "      <td>254</td>\n",
              "      <td>MS</td>\n",
              "      <td>LASALGAON</td>\n",
              "      <td>1996-04-01</td>\n",
              "    </tr>\n",
              "    <tr>\n",
              "      <th>1996-05</th>\n",
              "      <td>LASALGAON(MS)</td>\n",
              "      <td>May</td>\n",
              "      <td>1996</td>\n",
              "      <td>237574</td>\n",
              "      <td>154</td>\n",
              "      <td>312</td>\n",
              "      <td>269</td>\n",
              "      <td>MS</td>\n",
              "      <td>LASALGAON</td>\n",
              "      <td>1996-05-01</td>\n",
              "    </tr>\n",
              "  </tbody>\n",
              "</table>\n",
              "</div>\n",
              "      <button class=\"colab-df-convert\" onclick=\"convertToInteractive('df-c5849b98-784e-49f3-b594-93550e1e15a7')\"\n",
              "              title=\"Convert this dataframe to an interactive table.\"\n",
              "              style=\"display:none;\">\n",
              "        \n",
              "  <svg xmlns=\"http://www.w3.org/2000/svg\" height=\"24px\"viewBox=\"0 0 24 24\"\n",
              "       width=\"24px\">\n",
              "    <path d=\"M0 0h24v24H0V0z\" fill=\"none\"/>\n",
              "    <path d=\"M18.56 5.44l.94 2.06.94-2.06 2.06-.94-2.06-.94-.94-2.06-.94 2.06-2.06.94zm-11 1L8.5 8.5l.94-2.06 2.06-.94-2.06-.94L8.5 2.5l-.94 2.06-2.06.94zm10 10l.94 2.06.94-2.06 2.06-.94-2.06-.94-.94-2.06-.94 2.06-2.06.94z\"/><path d=\"M17.41 7.96l-1.37-1.37c-.4-.4-.92-.59-1.43-.59-.52 0-1.04.2-1.43.59L10.3 9.45l-7.72 7.72c-.78.78-.78 2.05 0 2.83L4 21.41c.39.39.9.59 1.41.59.51 0 1.02-.2 1.41-.59l7.78-7.78 2.81-2.81c.8-.78.8-2.07 0-2.86zM5.41 20L4 18.59l7.72-7.72 1.47 1.35L5.41 20z\"/>\n",
              "  </svg>\n",
              "      </button>\n",
              "      \n",
              "  <style>\n",
              "    .colab-df-container {\n",
              "      display:flex;\n",
              "      flex-wrap:wrap;\n",
              "      gap: 12px;\n",
              "    }\n",
              "\n",
              "    .colab-df-convert {\n",
              "      background-color: #E8F0FE;\n",
              "      border: none;\n",
              "      border-radius: 50%;\n",
              "      cursor: pointer;\n",
              "      display: none;\n",
              "      fill: #1967D2;\n",
              "      height: 32px;\n",
              "      padding: 0 0 0 0;\n",
              "      width: 32px;\n",
              "    }\n",
              "\n",
              "    .colab-df-convert:hover {\n",
              "      background-color: #E2EBFA;\n",
              "      box-shadow: 0px 1px 2px rgba(60, 64, 67, 0.3), 0px 1px 3px 1px rgba(60, 64, 67, 0.15);\n",
              "      fill: #174EA6;\n",
              "    }\n",
              "\n",
              "    [theme=dark] .colab-df-convert {\n",
              "      background-color: #3B4455;\n",
              "      fill: #D2E3FC;\n",
              "    }\n",
              "\n",
              "    [theme=dark] .colab-df-convert:hover {\n",
              "      background-color: #434B5C;\n",
              "      box-shadow: 0px 1px 3px 1px rgba(0, 0, 0, 0.15);\n",
              "      filter: drop-shadow(0px 1px 2px rgba(0, 0, 0, 0.3));\n",
              "      fill: #FFFFFF;\n",
              "    }\n",
              "  </style>\n",
              "\n",
              "      <script>\n",
              "        const buttonEl =\n",
              "          document.querySelector('#df-c5849b98-784e-49f3-b594-93550e1e15a7 button.colab-df-convert');\n",
              "        buttonEl.style.display =\n",
              "          google.colab.kernel.accessAllowed ? 'block' : 'none';\n",
              "\n",
              "        async function convertToInteractive(key) {\n",
              "          const element = document.querySelector('#df-c5849b98-784e-49f3-b594-93550e1e15a7');\n",
              "          const dataTable =\n",
              "            await google.colab.kernel.invokeFunction('convertToInteractive',\n",
              "                                                     [key], {});\n",
              "          if (!dataTable) return;\n",
              "\n",
              "          const docLinkHtml = 'Like what you see? Visit the ' +\n",
              "            '<a target=\"_blank\" href=https://colab.research.google.com/notebooks/data_table.ipynb>data table notebook</a>'\n",
              "            + ' to learn more about interactive tables.';\n",
              "          element.innerHTML = '';\n",
              "          dataTable['output_type'] = 'display_data';\n",
              "          await google.colab.output.renderOutput(dataTable, element);\n",
              "          const docLink = document.createElement('div');\n",
              "          docLink.innerHTML = docLinkHtml;\n",
              "          element.appendChild(docLink);\n",
              "        }\n",
              "      </script>\n",
              "    </div>\n",
              "  </div>\n",
              "  "
            ]
          },
          "metadata": {},
          "execution_count": 3
        }
      ],
      "source": [
        "df.head()"
      ]
    },
    {
      "cell_type": "markdown",
      "metadata": {
        "id": "tYHoGzjteZnW"
      },
      "source": [
        "Будем работать с данными в городе Бангалор"
      ]
    },
    {
      "cell_type": "code",
      "execution_count": 5,
      "metadata": {
        "id": "Wf7INZ_DeZnX"
      },
      "outputs": [],
      "source": [
        "dfBang = df.loc[df.city == \"BANGALORE\"].copy()"
      ]
    },
    {
      "cell_type": "code",
      "execution_count": 6,
      "metadata": {
        "colab": {
          "base_uri": "https://localhost:8080/",
          "height": 238
        },
        "id": "gCxtGMfKeZnX",
        "outputId": "0f53c8e1-c81d-4ac4-e4ce-a23e0a1e3d7c"
      },
      "outputs": [
        {
          "output_type": "execute_result",
          "data": {
            "text/plain": [
              "            market     month  year  quantity  priceMin  priceMax  priceMod  \\\n",
              "date                                                                         \n",
              "2004-01  BANGALORE   January  2004    227832       916      1066       991   \n",
              "2004-02  BANGALORE  February  2004    225133       741       870       793   \n",
              "2004-03  BANGALORE     March  2004    221952       527       586       556   \n",
              "2004-04  BANGALORE     April  2004    185150       419       518       465   \n",
              "2004-05  BANGALORE       May  2004    137390       400       516       455   \n",
              "\n",
              "        state       city       date  \n",
              "date                                 \n",
              "2004-01   KNT  BANGALORE 2004-01-01  \n",
              "2004-02   KNT  BANGALORE 2004-02-01  \n",
              "2004-03   KNT  BANGALORE 2004-03-01  \n",
              "2004-04   KNT  BANGALORE 2004-04-01  \n",
              "2004-05   KNT  BANGALORE 2004-05-01  "
            ],
            "text/html": [
              "\n",
              "  <div id=\"df-84866959-7a92-4b1a-9837-9e9d75dbde6a\">\n",
              "    <div class=\"colab-df-container\">\n",
              "      <div>\n",
              "<style scoped>\n",
              "    .dataframe tbody tr th:only-of-type {\n",
              "        vertical-align: middle;\n",
              "    }\n",
              "\n",
              "    .dataframe tbody tr th {\n",
              "        vertical-align: top;\n",
              "    }\n",
              "\n",
              "    .dataframe thead th {\n",
              "        text-align: right;\n",
              "    }\n",
              "</style>\n",
              "<table border=\"1\" class=\"dataframe\">\n",
              "  <thead>\n",
              "    <tr style=\"text-align: right;\">\n",
              "      <th></th>\n",
              "      <th>market</th>\n",
              "      <th>month</th>\n",
              "      <th>year</th>\n",
              "      <th>quantity</th>\n",
              "      <th>priceMin</th>\n",
              "      <th>priceMax</th>\n",
              "      <th>priceMod</th>\n",
              "      <th>state</th>\n",
              "      <th>city</th>\n",
              "      <th>date</th>\n",
              "    </tr>\n",
              "    <tr>\n",
              "      <th>date</th>\n",
              "      <th></th>\n",
              "      <th></th>\n",
              "      <th></th>\n",
              "      <th></th>\n",
              "      <th></th>\n",
              "      <th></th>\n",
              "      <th></th>\n",
              "      <th></th>\n",
              "      <th></th>\n",
              "      <th></th>\n",
              "    </tr>\n",
              "  </thead>\n",
              "  <tbody>\n",
              "    <tr>\n",
              "      <th>2004-01</th>\n",
              "      <td>BANGALORE</td>\n",
              "      <td>January</td>\n",
              "      <td>2004</td>\n",
              "      <td>227832</td>\n",
              "      <td>916</td>\n",
              "      <td>1066</td>\n",
              "      <td>991</td>\n",
              "      <td>KNT</td>\n",
              "      <td>BANGALORE</td>\n",
              "      <td>2004-01-01</td>\n",
              "    </tr>\n",
              "    <tr>\n",
              "      <th>2004-02</th>\n",
              "      <td>BANGALORE</td>\n",
              "      <td>February</td>\n",
              "      <td>2004</td>\n",
              "      <td>225133</td>\n",
              "      <td>741</td>\n",
              "      <td>870</td>\n",
              "      <td>793</td>\n",
              "      <td>KNT</td>\n",
              "      <td>BANGALORE</td>\n",
              "      <td>2004-02-01</td>\n",
              "    </tr>\n",
              "    <tr>\n",
              "      <th>2004-03</th>\n",
              "      <td>BANGALORE</td>\n",
              "      <td>March</td>\n",
              "      <td>2004</td>\n",
              "      <td>221952</td>\n",
              "      <td>527</td>\n",
              "      <td>586</td>\n",
              "      <td>556</td>\n",
              "      <td>KNT</td>\n",
              "      <td>BANGALORE</td>\n",
              "      <td>2004-03-01</td>\n",
              "    </tr>\n",
              "    <tr>\n",
              "      <th>2004-04</th>\n",
              "      <td>BANGALORE</td>\n",
              "      <td>April</td>\n",
              "      <td>2004</td>\n",
              "      <td>185150</td>\n",
              "      <td>419</td>\n",
              "      <td>518</td>\n",
              "      <td>465</td>\n",
              "      <td>KNT</td>\n",
              "      <td>BANGALORE</td>\n",
              "      <td>2004-04-01</td>\n",
              "    </tr>\n",
              "    <tr>\n",
              "      <th>2004-05</th>\n",
              "      <td>BANGALORE</td>\n",
              "      <td>May</td>\n",
              "      <td>2004</td>\n",
              "      <td>137390</td>\n",
              "      <td>400</td>\n",
              "      <td>516</td>\n",
              "      <td>455</td>\n",
              "      <td>KNT</td>\n",
              "      <td>BANGALORE</td>\n",
              "      <td>2004-05-01</td>\n",
              "    </tr>\n",
              "  </tbody>\n",
              "</table>\n",
              "</div>\n",
              "      <button class=\"colab-df-convert\" onclick=\"convertToInteractive('df-84866959-7a92-4b1a-9837-9e9d75dbde6a')\"\n",
              "              title=\"Convert this dataframe to an interactive table.\"\n",
              "              style=\"display:none;\">\n",
              "        \n",
              "  <svg xmlns=\"http://www.w3.org/2000/svg\" height=\"24px\"viewBox=\"0 0 24 24\"\n",
              "       width=\"24px\">\n",
              "    <path d=\"M0 0h24v24H0V0z\" fill=\"none\"/>\n",
              "    <path d=\"M18.56 5.44l.94 2.06.94-2.06 2.06-.94-2.06-.94-.94-2.06-.94 2.06-2.06.94zm-11 1L8.5 8.5l.94-2.06 2.06-.94-2.06-.94L8.5 2.5l-.94 2.06-2.06.94zm10 10l.94 2.06.94-2.06 2.06-.94-2.06-.94-.94-2.06-.94 2.06-2.06.94z\"/><path d=\"M17.41 7.96l-1.37-1.37c-.4-.4-.92-.59-1.43-.59-.52 0-1.04.2-1.43.59L10.3 9.45l-7.72 7.72c-.78.78-.78 2.05 0 2.83L4 21.41c.39.39.9.59 1.41.59.51 0 1.02-.2 1.41-.59l7.78-7.78 2.81-2.81c.8-.78.8-2.07 0-2.86zM5.41 20L4 18.59l7.72-7.72 1.47 1.35L5.41 20z\"/>\n",
              "  </svg>\n",
              "      </button>\n",
              "      \n",
              "  <style>\n",
              "    .colab-df-container {\n",
              "      display:flex;\n",
              "      flex-wrap:wrap;\n",
              "      gap: 12px;\n",
              "    }\n",
              "\n",
              "    .colab-df-convert {\n",
              "      background-color: #E8F0FE;\n",
              "      border: none;\n",
              "      border-radius: 50%;\n",
              "      cursor: pointer;\n",
              "      display: none;\n",
              "      fill: #1967D2;\n",
              "      height: 32px;\n",
              "      padding: 0 0 0 0;\n",
              "      width: 32px;\n",
              "    }\n",
              "\n",
              "    .colab-df-convert:hover {\n",
              "      background-color: #E2EBFA;\n",
              "      box-shadow: 0px 1px 2px rgba(60, 64, 67, 0.3), 0px 1px 3px 1px rgba(60, 64, 67, 0.15);\n",
              "      fill: #174EA6;\n",
              "    }\n",
              "\n",
              "    [theme=dark] .colab-df-convert {\n",
              "      background-color: #3B4455;\n",
              "      fill: #D2E3FC;\n",
              "    }\n",
              "\n",
              "    [theme=dark] .colab-df-convert:hover {\n",
              "      background-color: #434B5C;\n",
              "      box-shadow: 0px 1px 3px 1px rgba(0, 0, 0, 0.15);\n",
              "      filter: drop-shadow(0px 1px 2px rgba(0, 0, 0, 0.3));\n",
              "      fill: #FFFFFF;\n",
              "    }\n",
              "  </style>\n",
              "\n",
              "      <script>\n",
              "        const buttonEl =\n",
              "          document.querySelector('#df-84866959-7a92-4b1a-9837-9e9d75dbde6a button.colab-df-convert');\n",
              "        buttonEl.style.display =\n",
              "          google.colab.kernel.accessAllowed ? 'block' : 'none';\n",
              "\n",
              "        async function convertToInteractive(key) {\n",
              "          const element = document.querySelector('#df-84866959-7a92-4b1a-9837-9e9d75dbde6a');\n",
              "          const dataTable =\n",
              "            await google.colab.kernel.invokeFunction('convertToInteractive',\n",
              "                                                     [key], {});\n",
              "          if (!dataTable) return;\n",
              "\n",
              "          const docLinkHtml = 'Like what you see? Visit the ' +\n",
              "            '<a target=\"_blank\" href=https://colab.research.google.com/notebooks/data_table.ipynb>data table notebook</a>'\n",
              "            + ' to learn more about interactive tables.';\n",
              "          element.innerHTML = '';\n",
              "          dataTable['output_type'] = 'display_data';\n",
              "          await google.colab.output.renderOutput(dataTable, element);\n",
              "          const docLink = document.createElement('div');\n",
              "          docLink.innerHTML = docLinkHtml;\n",
              "          element.appendChild(docLink);\n",
              "        }\n",
              "      </script>\n",
              "    </div>\n",
              "  </div>\n",
              "  "
            ]
          },
          "metadata": {},
          "execution_count": 6
        }
      ],
      "source": [
        "dfBang.head()"
      ]
    },
    {
      "cell_type": "markdown",
      "source": [
        "Будем работать с временными рядами `priceMod` и `quantity`."
      ],
      "metadata": {
        "id": "3prhB1hRiNXJ"
      }
    },
    {
      "cell_type": "code",
      "execution_count": 7,
      "metadata": {
        "id": "L-z9W45neZnX"
      },
      "outputs": [],
      "source": [
        "# Удалим лишние столбцы\n",
        "dfBang = dfBang.drop([\"market\", \"month\", \"year\", \"state\", \"city\", \"priceMin\", \"priceMax\"], axis = 1)"
      ]
    },
    {
      "cell_type": "code",
      "execution_count": 8,
      "metadata": {
        "colab": {
          "base_uri": "https://localhost:8080/"
        },
        "id": "os2YtmVHeZnY",
        "outputId": "99bbb4a1-9953-4e39-f88c-7dcbee300665"
      },
      "outputs": [
        {
          "output_type": "execute_result",
          "data": {
            "text/plain": [
              "(146, 3)"
            ]
          },
          "metadata": {},
          "execution_count": 8
        }
      ],
      "source": [
        "dfBang.shape"
      ]
    },
    {
      "cell_type": "code",
      "execution_count": 9,
      "metadata": {
        "colab": {
          "base_uri": "https://localhost:8080/",
          "height": 238
        },
        "id": "ZwiiIXkzeZnY",
        "outputId": "9da289ed-c620-4889-fca7-fb510a1ac58f"
      },
      "outputs": [
        {
          "output_type": "execute_result",
          "data": {
            "text/plain": [
              "         quantity  priceMod       date\n",
              "date                                  \n",
              "2004-01    227832       991 2004-01-01\n",
              "2004-02    225133       793 2004-02-01\n",
              "2004-03    221952       556 2004-03-01\n",
              "2004-04    185150       465 2004-04-01\n",
              "2004-05    137390       455 2004-05-01"
            ],
            "text/html": [
              "\n",
              "  <div id=\"df-bd14f516-e25e-41cc-8317-8a5841bd8db2\">\n",
              "    <div class=\"colab-df-container\">\n",
              "      <div>\n",
              "<style scoped>\n",
              "    .dataframe tbody tr th:only-of-type {\n",
              "        vertical-align: middle;\n",
              "    }\n",
              "\n",
              "    .dataframe tbody tr th {\n",
              "        vertical-align: top;\n",
              "    }\n",
              "\n",
              "    .dataframe thead th {\n",
              "        text-align: right;\n",
              "    }\n",
              "</style>\n",
              "<table border=\"1\" class=\"dataframe\">\n",
              "  <thead>\n",
              "    <tr style=\"text-align: right;\">\n",
              "      <th></th>\n",
              "      <th>quantity</th>\n",
              "      <th>priceMod</th>\n",
              "      <th>date</th>\n",
              "    </tr>\n",
              "    <tr>\n",
              "      <th>date</th>\n",
              "      <th></th>\n",
              "      <th></th>\n",
              "      <th></th>\n",
              "    </tr>\n",
              "  </thead>\n",
              "  <tbody>\n",
              "    <tr>\n",
              "      <th>2004-01</th>\n",
              "      <td>227832</td>\n",
              "      <td>991</td>\n",
              "      <td>2004-01-01</td>\n",
              "    </tr>\n",
              "    <tr>\n",
              "      <th>2004-02</th>\n",
              "      <td>225133</td>\n",
              "      <td>793</td>\n",
              "      <td>2004-02-01</td>\n",
              "    </tr>\n",
              "    <tr>\n",
              "      <th>2004-03</th>\n",
              "      <td>221952</td>\n",
              "      <td>556</td>\n",
              "      <td>2004-03-01</td>\n",
              "    </tr>\n",
              "    <tr>\n",
              "      <th>2004-04</th>\n",
              "      <td>185150</td>\n",
              "      <td>465</td>\n",
              "      <td>2004-04-01</td>\n",
              "    </tr>\n",
              "    <tr>\n",
              "      <th>2004-05</th>\n",
              "      <td>137390</td>\n",
              "      <td>455</td>\n",
              "      <td>2004-05-01</td>\n",
              "    </tr>\n",
              "  </tbody>\n",
              "</table>\n",
              "</div>\n",
              "      <button class=\"colab-df-convert\" onclick=\"convertToInteractive('df-bd14f516-e25e-41cc-8317-8a5841bd8db2')\"\n",
              "              title=\"Convert this dataframe to an interactive table.\"\n",
              "              style=\"display:none;\">\n",
              "        \n",
              "  <svg xmlns=\"http://www.w3.org/2000/svg\" height=\"24px\"viewBox=\"0 0 24 24\"\n",
              "       width=\"24px\">\n",
              "    <path d=\"M0 0h24v24H0V0z\" fill=\"none\"/>\n",
              "    <path d=\"M18.56 5.44l.94 2.06.94-2.06 2.06-.94-2.06-.94-.94-2.06-.94 2.06-2.06.94zm-11 1L8.5 8.5l.94-2.06 2.06-.94-2.06-.94L8.5 2.5l-.94 2.06-2.06.94zm10 10l.94 2.06.94-2.06 2.06-.94-2.06-.94-.94-2.06-.94 2.06-2.06.94z\"/><path d=\"M17.41 7.96l-1.37-1.37c-.4-.4-.92-.59-1.43-.59-.52 0-1.04.2-1.43.59L10.3 9.45l-7.72 7.72c-.78.78-.78 2.05 0 2.83L4 21.41c.39.39.9.59 1.41.59.51 0 1.02-.2 1.41-.59l7.78-7.78 2.81-2.81c.8-.78.8-2.07 0-2.86zM5.41 20L4 18.59l7.72-7.72 1.47 1.35L5.41 20z\"/>\n",
              "  </svg>\n",
              "      </button>\n",
              "      \n",
              "  <style>\n",
              "    .colab-df-container {\n",
              "      display:flex;\n",
              "      flex-wrap:wrap;\n",
              "      gap: 12px;\n",
              "    }\n",
              "\n",
              "    .colab-df-convert {\n",
              "      background-color: #E8F0FE;\n",
              "      border: none;\n",
              "      border-radius: 50%;\n",
              "      cursor: pointer;\n",
              "      display: none;\n",
              "      fill: #1967D2;\n",
              "      height: 32px;\n",
              "      padding: 0 0 0 0;\n",
              "      width: 32px;\n",
              "    }\n",
              "\n",
              "    .colab-df-convert:hover {\n",
              "      background-color: #E2EBFA;\n",
              "      box-shadow: 0px 1px 2px rgba(60, 64, 67, 0.3), 0px 1px 3px 1px rgba(60, 64, 67, 0.15);\n",
              "      fill: #174EA6;\n",
              "    }\n",
              "\n",
              "    [theme=dark] .colab-df-convert {\n",
              "      background-color: #3B4455;\n",
              "      fill: #D2E3FC;\n",
              "    }\n",
              "\n",
              "    [theme=dark] .colab-df-convert:hover {\n",
              "      background-color: #434B5C;\n",
              "      box-shadow: 0px 1px 3px 1px rgba(0, 0, 0, 0.15);\n",
              "      filter: drop-shadow(0px 1px 2px rgba(0, 0, 0, 0.3));\n",
              "      fill: #FFFFFF;\n",
              "    }\n",
              "  </style>\n",
              "\n",
              "      <script>\n",
              "        const buttonEl =\n",
              "          document.querySelector('#df-bd14f516-e25e-41cc-8317-8a5841bd8db2 button.colab-df-convert');\n",
              "        buttonEl.style.display =\n",
              "          google.colab.kernel.accessAllowed ? 'block' : 'none';\n",
              "\n",
              "        async function convertToInteractive(key) {\n",
              "          const element = document.querySelector('#df-bd14f516-e25e-41cc-8317-8a5841bd8db2');\n",
              "          const dataTable =\n",
              "            await google.colab.kernel.invokeFunction('convertToInteractive',\n",
              "                                                     [key], {});\n",
              "          if (!dataTable) return;\n",
              "\n",
              "          const docLinkHtml = 'Like what you see? Visit the ' +\n",
              "            '<a target=\"_blank\" href=https://colab.research.google.com/notebooks/data_table.ipynb>data table notebook</a>'\n",
              "            + ' to learn more about interactive tables.';\n",
              "          element.innerHTML = '';\n",
              "          dataTable['output_type'] = 'display_data';\n",
              "          await google.colab.output.renderOutput(dataTable, element);\n",
              "          const docLink = document.createElement('div');\n",
              "          docLink.innerHTML = docLinkHtml;\n",
              "          element.appendChild(docLink);\n",
              "        }\n",
              "      </script>\n",
              "    </div>\n",
              "  </div>\n",
              "  "
            ]
          },
          "metadata": {},
          "execution_count": 9
        }
      ],
      "source": [
        "dfBang.head()"
      ]
    },
    {
      "cell_type": "markdown",
      "source": [
        "Построим графики временных рядов."
      ],
      "metadata": {
        "id": "7kk6tsOcic61"
      }
    },
    {
      "cell_type": "code",
      "execution_count": 10,
      "metadata": {
        "colab": {
          "base_uri": "https://localhost:8080/",
          "height": 299
        },
        "id": "APiGcUpzeZnY",
        "outputId": "6e481e96-686f-47eb-8949-09e0dab69370"
      },
      "outputs": [
        {
          "output_type": "execute_result",
          "data": {
            "text/plain": [
              "<matplotlib.axes._subplots.AxesSubplot at 0x7f36fe773890>"
            ]
          },
          "metadata": {},
          "execution_count": 10
        },
        {
          "output_type": "display_data",
          "data": {
            "text/plain": [
              "<Figure size 432x288 with 1 Axes>"
            ],
            "image/png": "[encoded data removed]"
          },
          "metadata": {
            "needs_background": "light"
          }
        }
      ],
      "source": [
        "dfBang.priceMod.plot()"
      ]
    },
    {
      "cell_type": "code",
      "execution_count": 11,
      "metadata": {
        "colab": {
          "base_uri": "https://localhost:8080/",
          "height": 310
        },
        "id": "pZYv4GP0eZnZ",
        "outputId": "ebe4669c-3cce-4447-b5dc-f90cb37f19da"
      },
      "outputs": [
        {
          "output_type": "execute_result",
          "data": {
            "text/plain": [
              "<matplotlib.axes._subplots.AxesSubplot at 0x7f36fe69d6d0>"
            ]
          },
          "metadata": {},
          "execution_count": 11
        },
        {
          "output_type": "display_data",
          "data": {
            "text/plain": [
              "<Figure size 432x288 with 1 Axes>"
            ],
            "image/png": "[encoded data removed]"
          },
          "metadata": {
            "needs_background": "light"
          }
        }
      ],
      "source": [
        "dfBang.quantity.plot()"
      ]
    },
    {
      "cell_type": "markdown",
      "metadata": {
        "id": "IBCkQX1GeZnZ"
      },
      "source": [
        "## Начнем с трех простых моделей прогноза цены (`priceMod`)\n",
        "\n",
        "### 1. Прогнозирование средним (Mean Constant Model)\n",
        "### 2. Линейная модель (Linear Trend Model)\n",
        "### 3. Линейная модель с регрессий (Linear Regression Model)"
      ]
    },
    {
      "cell_type": "markdown",
      "metadata": {
        "id": "-O806o__eZnZ"
      },
      "source": [
        "### Логарифмическое преобразование данных\n",
        "Логарифмирование помогает стабилизировать разброс значений."
      ]
    },
    {
      "cell_type": "code",
      "execution_count": 12,
      "metadata": {
        "colab": {
          "base_uri": "https://localhost:8080/",
          "height": 282
        },
        "id": "1lrKAE0QeZnZ",
        "outputId": "c28632d1-05a6-461e-b1e1-02d61b236912"
      },
      "outputs": [
        {
          "output_type": "execute_result",
          "data": {
            "text/plain": [
              "<matplotlib.axes._subplots.AxesSubplot at 0x7f36fe14d550>"
            ]
          },
          "metadata": {},
          "execution_count": 12
        },
        {
          "output_type": "display_data",
          "data": {
            "text/plain": [
              "<Figure size 432x288 with 1 Axes>"
            ],
            "image/png": "[encoded data removed]"
          },
          "metadata": {
            "needs_background": "light"
          }
        }
      ],
      "source": [
        "dfBang.priceMod.plot(kind = \"hist\", bins = 30)"
      ]
    },
    {
      "cell_type": "markdown",
      "metadata": {
        "id": "LOMhfdG0eZna"
      },
      "source": [
        "При визуализации можем заметить, что есть данные, далеко отстающие от среднего значения, что может искажать модель регрессии. Наша задача минимизировать влияние таких данных. Желательно не исключая их.  \n",
        "В этом случае самый распространенный вариант действия — логарифмирование переменной."
      ]
    },
    {
      "cell_type": "code",
      "execution_count": 13,
      "metadata": {
        "colab": {
          "base_uri": "https://localhost:8080/",
          "height": 238
        },
        "id": "B7QUJ72aeZna",
        "outputId": "af90790d-9091-4090-ae70-7fc99131a440"
      },
      "outputs": [
        {
          "output_type": "execute_result",
          "data": {
            "text/plain": [
              "         quantity  priceMod       date  priceModLog\n",
              "date                                               \n",
              "2004-01    227832       991 2004-01-01         6.90\n",
              "2004-02    225133       793 2004-02-01         6.68\n",
              "2004-03    221952       556 2004-03-01         6.32\n",
              "2004-04    185150       465 2004-04-01         6.14\n",
              "2004-05    137390       455 2004-05-01         6.12"
            ],
            "text/html": [
              "\n",
              "  <div id=\"df-43306946-3076-4864-b4c3-866f38f0fce5\">\n",
              "    <div class=\"colab-df-container\">\n",
              "      <div>\n",
              "<style scoped>\n",
              "    .dataframe tbody tr th:only-of-type {\n",
              "        vertical-align: middle;\n",
              "    }\n",
              "\n",
              "    .dataframe tbody tr th {\n",
              "        vertical-align: top;\n",
              "    }\n",
              "\n",
              "    .dataframe thead th {\n",
              "        text-align: right;\n",
              "    }\n",
              "</style>\n",
              "<table border=\"1\" class=\"dataframe\">\n",
              "  <thead>\n",
              "    <tr style=\"text-align: right;\">\n",
              "      <th></th>\n",
              "      <th>quantity</th>\n",
              "      <th>priceMod</th>\n",
              "      <th>date</th>\n",
              "      <th>priceModLog</th>\n",
              "    </tr>\n",
              "    <tr>\n",
              "      <th>date</th>\n",
              "      <th></th>\n",
              "      <th></th>\n",
              "      <th></th>\n",
              "      <th></th>\n",
              "    </tr>\n",
              "  </thead>\n",
              "  <tbody>\n",
              "    <tr>\n",
              "      <th>2004-01</th>\n",
              "      <td>227832</td>\n",
              "      <td>991</td>\n",
              "      <td>2004-01-01</td>\n",
              "      <td>6.90</td>\n",
              "    </tr>\n",
              "    <tr>\n",
              "      <th>2004-02</th>\n",
              "      <td>225133</td>\n",
              "      <td>793</td>\n",
              "      <td>2004-02-01</td>\n",
              "      <td>6.68</td>\n",
              "    </tr>\n",
              "    <tr>\n",
              "      <th>2004-03</th>\n",
              "      <td>221952</td>\n",
              "      <td>556</td>\n",
              "      <td>2004-03-01</td>\n",
              "      <td>6.32</td>\n",
              "    </tr>\n",
              "    <tr>\n",
              "      <th>2004-04</th>\n",
              "      <td>185150</td>\n",
              "      <td>465</td>\n",
              "      <td>2004-04-01</td>\n",
              "      <td>6.14</td>\n",
              "    </tr>\n",
              "    <tr>\n",
              "      <th>2004-05</th>\n",
              "      <td>137390</td>\n",
              "      <td>455</td>\n",
              "      <td>2004-05-01</td>\n",
              "      <td>6.12</td>\n",
              "    </tr>\n",
              "  </tbody>\n",
              "</table>\n",
              "</div>\n",
              "      <button class=\"colab-df-convert\" onclick=\"convertToInteractive('df-43306946-3076-4864-b4c3-866f38f0fce5')\"\n",
              "              title=\"Convert this dataframe to an interactive table.\"\n",
              "              style=\"display:none;\">\n",
              "        \n",
              "  <svg xmlns=\"http://www.w3.org/2000/svg\" height=\"24px\"viewBox=\"0 0 24 24\"\n",
              "       width=\"24px\">\n",
              "    <path d=\"M0 0h24v24H0V0z\" fill=\"none\"/>\n",
              "    <path d=\"M18.56 5.44l.94 2.06.94-2.06 2.06-.94-2.06-.94-.94-2.06-.94 2.06-2.06.94zm-11 1L8.5 8.5l.94-2.06 2.06-.94-2.06-.94L8.5 2.5l-.94 2.06-2.06.94zm10 10l.94 2.06.94-2.06 2.06-.94-2.06-.94-.94-2.06-.94 2.06-2.06.94z\"/><path d=\"M17.41 7.96l-1.37-1.37c-.4-.4-.92-.59-1.43-.59-.52 0-1.04.2-1.43.59L10.3 9.45l-7.72 7.72c-.78.78-.78 2.05 0 2.83L4 21.41c.39.39.9.59 1.41.59.51 0 1.02-.2 1.41-.59l7.78-7.78 2.81-2.81c.8-.78.8-2.07 0-2.86zM5.41 20L4 18.59l7.72-7.72 1.47 1.35L5.41 20z\"/>\n",
              "  </svg>\n",
              "      </button>\n",
              "      \n",
              "  <style>\n",
              "    .colab-df-container {\n",
              "      display:flex;\n",
              "      flex-wrap:wrap;\n",
              "      gap: 12px;\n",
              "    }\n",
              "\n",
              "    .colab-df-convert {\n",
              "      background-color: #E8F0FE;\n",
              "      border: none;\n",
              "      border-radius: 50%;\n",
              "      cursor: pointer;\n",
              "      display: none;\n",
              "      fill: #1967D2;\n",
              "      height: 32px;\n",
              "      padding: 0 0 0 0;\n",
              "      width: 32px;\n",
              "    }\n",
              "\n",
              "    .colab-df-convert:hover {\n",
              "      background-color: #E2EBFA;\n",
              "      box-shadow: 0px 1px 2px rgba(60, 64, 67, 0.3), 0px 1px 3px 1px rgba(60, 64, 67, 0.15);\n",
              "      fill: #174EA6;\n",
              "    }\n",
              "\n",
              "    [theme=dark] .colab-df-convert {\n",
              "      background-color: #3B4455;\n",
              "      fill: #D2E3FC;\n",
              "    }\n",
              "\n",
              "    [theme=dark] .colab-df-convert:hover {\n",
              "      background-color: #434B5C;\n",
              "      box-shadow: 0px 1px 3px 1px rgba(0, 0, 0, 0.15);\n",
              "      filter: drop-shadow(0px 1px 2px rgba(0, 0, 0, 0.3));\n",
              "      fill: #FFFFFF;\n",
              "    }\n",
              "  </style>\n",
              "\n",
              "      <script>\n",
              "        const buttonEl =\n",
              "          document.querySelector('#df-43306946-3076-4864-b4c3-866f38f0fce5 button.colab-df-convert');\n",
              "        buttonEl.style.display =\n",
              "          google.colab.kernel.accessAllowed ? 'block' : 'none';\n",
              "\n",
              "        async function convertToInteractive(key) {\n",
              "          const element = document.querySelector('#df-43306946-3076-4864-b4c3-866f38f0fce5');\n",
              "          const dataTable =\n",
              "            await google.colab.kernel.invokeFunction('convertToInteractive',\n",
              "                                                     [key], {});\n",
              "          if (!dataTable) return;\n",
              "\n",
              "          const docLinkHtml = 'Like what you see? Visit the ' +\n",
              "            '<a target=\"_blank\" href=https://colab.research.google.com/notebooks/data_table.ipynb>data table notebook</a>'\n",
              "            + ' to learn more about interactive tables.';\n",
              "          element.innerHTML = '';\n",
              "          dataTable['output_type'] = 'display_data';\n",
              "          await google.colab.output.renderOutput(dataTable, element);\n",
              "          const docLink = document.createElement('div');\n",
              "          docLink.innerHTML = docLinkHtml;\n",
              "          element.appendChild(docLink);\n",
              "        }\n",
              "      </script>\n",
              "    </div>\n",
              "  </div>\n",
              "  "
            ]
          },
          "metadata": {},
          "execution_count": 13
        }
      ],
      "source": [
        "dfBang['priceModLog'] = np.log(dfBang.priceMod)\n",
        "dfBang.head()"
      ]
    },
    {
      "cell_type": "code",
      "execution_count": 14,
      "metadata": {
        "colab": {
          "base_uri": "https://localhost:8080/",
          "height": 282
        },
        "id": "sIVJ-_F_eZna",
        "outputId": "517e810e-1b80-4559-c5d6-bbc0c9162200"
      },
      "outputs": [
        {
          "output_type": "execute_result",
          "data": {
            "text/plain": [
              "<matplotlib.axes._subplots.AxesSubplot at 0x7f36fe098f10>"
            ]
          },
          "metadata": {},
          "execution_count": 14
        },
        {
          "output_type": "display_data",
          "data": {
            "text/plain": [
              "<Figure size 432x288 with 1 Axes>"
            ],
            "image/png": "[encoded data removed]"
          },
          "metadata": {
            "needs_background": "light"
          }
        }
      ],
      "source": [
        "dfBang.priceModLog.plot(kind = \"hist\", bins = 30)"
      ]
    },
    {
      "cell_type": "code",
      "execution_count": 15,
      "metadata": {
        "colab": {
          "base_uri": "https://localhost:8080/",
          "height": 299
        },
        "id": "51gRK9PpeZna",
        "outputId": "306a41f7-377b-4dfc-df2e-c17481fce623"
      },
      "outputs": [
        {
          "output_type": "execute_result",
          "data": {
            "text/plain": [
              "<matplotlib.axes._subplots.AxesSubplot at 0x7f36fe009d90>"
            ]
          },
          "metadata": {},
          "execution_count": 15
        },
        {
          "output_type": "display_data",
          "data": {
            "text/plain": [
              "<Figure size 432x288 with 1 Axes>"
            ],
            "image/png": "[encoded data removed]"
          },
          "metadata": {
            "needs_background": "light"
          }
        }
      ],
      "source": [
        "dfBang.priceModLog.plot()"
      ]
    },
    {
      "cell_type": "markdown",
      "metadata": {
        "id": "G3NUq2JKeZna"
      },
      "source": [
        "## 1.1. Прогнозирование средним "
      ]
    },
    {
      "cell_type": "code",
      "execution_count": 16,
      "metadata": {
        "id": "It_mU-wdeZnb"
      },
      "outputs": [],
      "source": [
        "model_mean_pred = dfBang.priceModLog.mean()"
      ]
    },
    {
      "cell_type": "code",
      "execution_count": 17,
      "metadata": {
        "id": "5DV-Op5weZnb"
      },
      "outputs": [],
      "source": [
        "# Запишем это значение в priceMean\n",
        "dfBang[\"priceMean\"] = np.exp(model_mean_pred)"
      ]
    },
    {
      "cell_type": "code",
      "execution_count": 18,
      "metadata": {
        "colab": {
          "base_uri": "https://localhost:8080/",
          "height": 299
        },
        "id": "APOeO_USeZnb",
        "outputId": "3bd93acb-74d3-4734-c111-777231e3d67d"
      },
      "outputs": [
        {
          "output_type": "execute_result",
          "data": {
            "text/plain": [
              "<matplotlib.axes._subplots.AxesSubplot at 0x7f36fdf05590>"
            ]
          },
          "metadata": {},
          "execution_count": 18
        },
        {
          "output_type": "display_data",
          "data": {
            "text/plain": [
              "<Figure size 432x288 with 1 Axes>"
            ],
            "image/png": "[encoded data removed]"
          },
          "metadata": {
            "needs_background": "light"
          }
        }
      ],
      "source": [
        "dfBang.plot(kind=\"line\", x=\"date\", y = [\"priceMod\", \"priceMean\"])"
      ]
    },
    {
      "cell_type": "markdown",
      "metadata": {
        "id": "Z_y469mreZnb"
      },
      "source": [
        "**Как мерить качество?**\n",
        "\n",
        "Чтобы обучать регрессионные модели, нужно определиться, как именно измеряется качество предсказаний.   \n",
        "Будем использовать метрику RMSE (Root Mean Squared Error) — корень среднего квадрата отклонения.\n",
        "\n",
        "$$RMSE = \\sqrt{ \\frac{\\Sigma (\\hat{y} - y)^2}{n}} $$ , \n",
        "где $\\hat{y}$ это предсказанное значение y"
      ]
    },
    {
      "cell_type": "markdown",
      "metadata": {
        "id": "C7WCIvvYeZnb"
      },
      "source": [
        "#### Какие еще метрики применимы в задачах с временными рядами?"
      ]
    },
    {
      "cell_type": "code",
      "execution_count": 19,
      "metadata": {
        "id": "fd2bDHMyeZnb"
      },
      "outputs": [],
      "source": [
        "def RMSE(predicted, actual):\n",
        "    mse = (predicted - actual)**2\n",
        "    rmse = np.sqrt(mse.sum()/mse.count())\n",
        "    return rmse"
      ]
    },
    {
      "cell_type": "code",
      "execution_count": 20,
      "metadata": {
        "colab": {
          "base_uri": "https://localhost:8080/"
        },
        "id": "So9dcJzceZnc",
        "outputId": "e2320ccf-59c8-4714-a9a3-60545179ebe2"
      },
      "outputs": [
        {
          "output_type": "execute_result",
          "data": {
            "text/plain": [
              "683.9533483996255"
            ]
          },
          "metadata": {},
          "execution_count": 20
        }
      ],
      "source": [
        "model_mean_RMSE = RMSE(dfBang.priceMean, dfBang.priceMod)\n",
        "model_mean_RMSE"
      ]
    },
    {
      "cell_type": "code",
      "execution_count": 21,
      "metadata": {
        "colab": {
          "base_uri": "https://localhost:8080/",
          "height": 50
        },
        "id": "GgJfFg_7eZnc",
        "outputId": "a0bbcc04-0f1d-45d5-a551-a7850671b35a"
      },
      "outputs": [
        {
          "output_type": "execute_result",
          "data": {
            "text/plain": [
              "Empty DataFrame\n",
              "Columns: [Model, Forecast, RMSE]\n",
              "Index: []"
            ],
            "text/html": [
              "\n",
              "  <div id=\"df-d15990be-3ac1-44ec-a043-b6bc9c0290e3\">\n",
              "    <div class=\"colab-df-container\">\n",
              "      <div>\n",
              "<style scoped>\n",
              "    .dataframe tbody tr th:only-of-type {\n",
              "        vertical-align: middle;\n",
              "    }\n",
              "\n",
              "    .dataframe tbody tr th {\n",
              "        vertical-align: top;\n",
              "    }\n",
              "\n",
              "    .dataframe thead th {\n",
              "        text-align: right;\n",
              "    }\n",
              "</style>\n",
              "<table border=\"1\" class=\"dataframe\">\n",
              "  <thead>\n",
              "    <tr style=\"text-align: right;\">\n",
              "      <th></th>\n",
              "      <th>Model</th>\n",
              "      <th>Forecast</th>\n",
              "      <th>RMSE</th>\n",
              "    </tr>\n",
              "  </thead>\n",
              "  <tbody>\n",
              "  </tbody>\n",
              "</table>\n",
              "</div>\n",
              "      <button class=\"colab-df-convert\" onclick=\"convertToInteractive('df-d15990be-3ac1-44ec-a043-b6bc9c0290e3')\"\n",
              "              title=\"Convert this dataframe to an interactive table.\"\n",
              "              style=\"display:none;\">\n",
              "        \n",
              "  <svg xmlns=\"http://www.w3.org/2000/svg\" height=\"24px\"viewBox=\"0 0 24 24\"\n",
              "       width=\"24px\">\n",
              "    <path d=\"M0 0h24v24H0V0z\" fill=\"none\"/>\n",
              "    <path d=\"M18.56 5.44l.94 2.06.94-2.06 2.06-.94-2.06-.94-.94-2.06-.94 2.06-2.06.94zm-11 1L8.5 8.5l.94-2.06 2.06-.94-2.06-.94L8.5 2.5l-.94 2.06-2.06.94zm10 10l.94 2.06.94-2.06 2.06-.94-2.06-.94-.94-2.06-.94 2.06-2.06.94z\"/><path d=\"M17.41 7.96l-1.37-1.37c-.4-.4-.92-.59-1.43-.59-.52 0-1.04.2-1.43.59L10.3 9.45l-7.72 7.72c-.78.78-.78 2.05 0 2.83L4 21.41c.39.39.9.59 1.41.59.51 0 1.02-.2 1.41-.59l7.78-7.78 2.81-2.81c.8-.78.8-2.07 0-2.86zM5.41 20L4 18.59l7.72-7.72 1.47 1.35L5.41 20z\"/>\n",
              "  </svg>\n",
              "      </button>\n",
              "      \n",
              "  <style>\n",
              "    .colab-df-container {\n",
              "      display:flex;\n",
              "      flex-wrap:wrap;\n",
              "      gap: 12px;\n",
              "    }\n",
              "\n",
              "    .colab-df-convert {\n",
              "      background-color: #E8F0FE;\n",
              "      border: none;\n",
              "      border-radius: 50%;\n",
              "      cursor: pointer;\n",
              "      display: none;\n",
              "      fill: #1967D2;\n",
              "      height: 32px;\n",
              "      padding: 0 0 0 0;\n",
              "      width: 32px;\n",
              "    }\n",
              "\n",
              "    .colab-df-convert:hover {\n",
              "      background-color: #E2EBFA;\n",
              "      box-shadow: 0px 1px 2px rgba(60, 64, 67, 0.3), 0px 1px 3px 1px rgba(60, 64, 67, 0.15);\n",
              "      fill: #174EA6;\n",
              "    }\n",
              "\n",
              "    [theme=dark] .colab-df-convert {\n",
              "      background-color: #3B4455;\n",
              "      fill: #D2E3FC;\n",
              "    }\n",
              "\n",
              "    [theme=dark] .colab-df-convert:hover {\n",
              "      background-color: #434B5C;\n",
              "      box-shadow: 0px 1px 3px 1px rgba(0, 0, 0, 0.15);\n",
              "      filter: drop-shadow(0px 1px 2px rgba(0, 0, 0, 0.3));\n",
              "      fill: #FFFFFF;\n",
              "    }\n",
              "  </style>\n",
              "\n",
              "      <script>\n",
              "        const buttonEl =\n",
              "          document.querySelector('#df-d15990be-3ac1-44ec-a043-b6bc9c0290e3 button.colab-df-convert');\n",
              "        buttonEl.style.display =\n",
              "          google.colab.kernel.accessAllowed ? 'block' : 'none';\n",
              "\n",
              "        async function convertToInteractive(key) {\n",
              "          const element = document.querySelector('#df-d15990be-3ac1-44ec-a043-b6bc9c0290e3');\n",
              "          const dataTable =\n",
              "            await google.colab.kernel.invokeFunction('convertToInteractive',\n",
              "                                                     [key], {});\n",
              "          if (!dataTable) return;\n",
              "\n",
              "          const docLinkHtml = 'Like what you see? Visit the ' +\n",
              "            '<a target=\"_blank\" href=https://colab.research.google.com/notebooks/data_table.ipynb>data table notebook</a>'\n",
              "            + ' to learn more about interactive tables.';\n",
              "          element.innerHTML = '';\n",
              "          dataTable['output_type'] = 'display_data';\n",
              "          await google.colab.output.renderOutput(dataTable, element);\n",
              "          const docLink = document.createElement('div');\n",
              "          docLink.innerHTML = docLinkHtml;\n",
              "          element.appendChild(docLink);\n",
              "        }\n",
              "      </script>\n",
              "    </div>\n",
              "  </div>\n",
              "  "
            ]
          },
          "metadata": {},
          "execution_count": 21
        }
      ],
      "source": [
        "dfBangResults = pd.DataFrame(columns = [\"Model\", \"Forecast\", \"RMSE\"])\n",
        "dfBangResults.head()"
      ]
    },
    {
      "cell_type": "code",
      "execution_count": 22,
      "metadata": {
        "colab": {
          "base_uri": "https://localhost:8080/",
          "height": 81
        },
        "id": "5ksZXjREeZnc",
        "outputId": "67082abd-b273-4a35-a2d8-220eadf59aa8"
      },
      "outputs": [
        {
          "output_type": "execute_result",
          "data": {
            "text/plain": [
              "  Model Forecast   RMSE\n",
              "0  Mean   884.57 683.95"
            ],
            "text/html": [
              "\n",
              "  <div id=\"df-ad39ae36-561f-4c28-ba0e-09e6f9f639d4\">\n",
              "    <div class=\"colab-df-container\">\n",
              "      <div>\n",
              "<style scoped>\n",
              "    .dataframe tbody tr th:only-of-type {\n",
              "        vertical-align: middle;\n",
              "    }\n",
              "\n",
              "    .dataframe tbody tr th {\n",
              "        vertical-align: top;\n",
              "    }\n",
              "\n",
              "    .dataframe thead th {\n",
              "        text-align: right;\n",
              "    }\n",
              "</style>\n",
              "<table border=\"1\" class=\"dataframe\">\n",
              "  <thead>\n",
              "    <tr style=\"text-align: right;\">\n",
              "      <th></th>\n",
              "      <th>Model</th>\n",
              "      <th>Forecast</th>\n",
              "      <th>RMSE</th>\n",
              "    </tr>\n",
              "  </thead>\n",
              "  <tbody>\n",
              "    <tr>\n",
              "      <th>0</th>\n",
              "      <td>Mean</td>\n",
              "      <td>884.57</td>\n",
              "      <td>683.95</td>\n",
              "    </tr>\n",
              "  </tbody>\n",
              "</table>\n",
              "</div>\n",
              "      <button class=\"colab-df-convert\" onclick=\"convertToInteractive('df-ad39ae36-561f-4c28-ba0e-09e6f9f639d4')\"\n",
              "              title=\"Convert this dataframe to an interactive table.\"\n",
              "              style=\"display:none;\">\n",
              "        \n",
              "  <svg xmlns=\"http://www.w3.org/2000/svg\" height=\"24px\"viewBox=\"0 0 24 24\"\n",
              "       width=\"24px\">\n",
              "    <path d=\"M0 0h24v24H0V0z\" fill=\"none\"/>\n",
              "    <path d=\"M18.56 5.44l.94 2.06.94-2.06 2.06-.94-2.06-.94-.94-2.06-.94 2.06-2.06.94zm-11 1L8.5 8.5l.94-2.06 2.06-.94-2.06-.94L8.5 2.5l-.94 2.06-2.06.94zm10 10l.94 2.06.94-2.06 2.06-.94-2.06-.94-.94-2.06-.94 2.06-2.06.94z\"/><path d=\"M17.41 7.96l-1.37-1.37c-.4-.4-.92-.59-1.43-.59-.52 0-1.04.2-1.43.59L10.3 9.45l-7.72 7.72c-.78.78-.78 2.05 0 2.83L4 21.41c.39.39.9.59 1.41.59.51 0 1.02-.2 1.41-.59l7.78-7.78 2.81-2.81c.8-.78.8-2.07 0-2.86zM5.41 20L4 18.59l7.72-7.72 1.47 1.35L5.41 20z\"/>\n",
              "  </svg>\n",
              "      </button>\n",
              "      \n",
              "  <style>\n",
              "    .colab-df-container {\n",
              "      display:flex;\n",
              "      flex-wrap:wrap;\n",
              "      gap: 12px;\n",
              "    }\n",
              "\n",
              "    .colab-df-convert {\n",
              "      background-color: #E8F0FE;\n",
              "      border: none;\n",
              "      border-radius: 50%;\n",
              "      cursor: pointer;\n",
              "      display: none;\n",
              "      fill: #1967D2;\n",
              "      height: 32px;\n",
              "      padding: 0 0 0 0;\n",
              "      width: 32px;\n",
              "    }\n",
              "\n",
              "    .colab-df-convert:hover {\n",
              "      background-color: #E2EBFA;\n",
              "      box-shadow: 0px 1px 2px rgba(60, 64, 67, 0.3), 0px 1px 3px 1px rgba(60, 64, 67, 0.15);\n",
              "      fill: #174EA6;\n",
              "    }\n",
              "\n",
              "    [theme=dark] .colab-df-convert {\n",
              "      background-color: #3B4455;\n",
              "      fill: #D2E3FC;\n",
              "    }\n",
              "\n",
              "    [theme=dark] .colab-df-convert:hover {\n",
              "      background-color: #434B5C;\n",
              "      box-shadow: 0px 1px 3px 1px rgba(0, 0, 0, 0.15);\n",
              "      filter: drop-shadow(0px 1px 2px rgba(0, 0, 0, 0.3));\n",
              "      fill: #FFFFFF;\n",
              "    }\n",
              "  </style>\n",
              "\n",
              "      <script>\n",
              "        const buttonEl =\n",
              "          document.querySelector('#df-ad39ae36-561f-4c28-ba0e-09e6f9f639d4 button.colab-df-convert');\n",
              "        buttonEl.style.display =\n",
              "          google.colab.kernel.accessAllowed ? 'block' : 'none';\n",
              "\n",
              "        async function convertToInteractive(key) {\n",
              "          const element = document.querySelector('#df-ad39ae36-561f-4c28-ba0e-09e6f9f639d4');\n",
              "          const dataTable =\n",
              "            await google.colab.kernel.invokeFunction('convertToInteractive',\n",
              "                                                     [key], {});\n",
              "          if (!dataTable) return;\n",
              "\n",
              "          const docLinkHtml = 'Like what you see? Visit the ' +\n",
              "            '<a target=\"_blank\" href=https://colab.research.google.com/notebooks/data_table.ipynb>data table notebook</a>'\n",
              "            + ' to learn more about interactive tables.';\n",
              "          element.innerHTML = '';\n",
              "          dataTable['output_type'] = 'display_data';\n",
              "          await google.colab.output.renderOutput(dataTable, element);\n",
              "          const docLink = document.createElement('div');\n",
              "          docLink.innerHTML = docLinkHtml;\n",
              "          element.appendChild(docLink);\n",
              "        }\n",
              "      </script>\n",
              "    </div>\n",
              "  </div>\n",
              "  "
            ]
          },
          "metadata": {},
          "execution_count": 22
        }
      ],
      "source": [
        "dfBangResults.loc[0,\"Model\"] = \"Mean\"\n",
        "dfBangResults.loc[0,\"Forecast\"] = np.exp(model_mean_pred)\n",
        "dfBangResults.loc[0,\"RMSE\"] = model_mean_RMSE\n",
        "dfBangResults.head()"
      ]
    },
    {
      "cell_type": "markdown",
      "metadata": {
        "id": "2exYcXC7eZnc"
      },
      "source": [
        "### Задание 1. Постройте модель средних для величины `quantity`."
      ]
    },
    {
      "cell_type": "code",
      "execution_count": null,
      "metadata": {
        "id": "szN02kn1eZnc"
      },
      "outputs": [],
      "source": [
        "## your code here"
      ]
    },
    {
      "cell_type": "markdown",
      "metadata": {
        "id": "siRI9OmBeZnd"
      },
      "source": [
        "## 1.2. Линейная модель\n",
        "\n",
        "Построим линейную зависиммость между `priceModLog` и временной отметкой измерения. Для этого создадим новый столбец `timeIndex`, соответсвующий временному индексу конкретного измерения. Эти индексы получил из признака `date`.\n",
        "\n",
        "Уравнение регрессии строится с помощью метода наимменьших квадратов."
      ]
    },
    {
      "cell_type": "code",
      "execution_count": 36,
      "metadata": {
        "colab": {
          "base_uri": "https://localhost:8080/",
          "height": 238
        },
        "id": "fzYGQw8_eZnd",
        "outputId": "e1195ffd-145b-4d4d-f487-a52e106ff4bd"
      },
      "outputs": [
        {
          "output_type": "execute_result",
          "data": {
            "text/plain": [
              "         quantity  priceMod       date  priceModLog  priceMean  timeIndex\n",
              "date                                                                     \n",
              "2004-01    227832       991 2004-01-01         6.90     884.57          0\n",
              "2004-02    225133       793 2004-02-01         6.68     884.57          1\n",
              "2004-03    221952       556 2004-03-01         6.32     884.57          2\n",
              "2004-04    185150       465 2004-04-01         6.14     884.57          3\n",
              "2004-05    137390       455 2004-05-01         6.12     884.57          4"
            ],
            "text/html": [
              "\n",
              "  <div id=\"df-bcf00145-f47a-478f-9c46-1a0e4a22eeae\">\n",
              "    <div class=\"colab-df-container\">\n",
              "      <div>\n",
              "<style scoped>\n",
              "    .dataframe tbody tr th:only-of-type {\n",
              "        vertical-align: middle;\n",
              "    }\n",
              "\n",
              "    .dataframe tbody tr th {\n",
              "        vertical-align: top;\n",
              "    }\n",
              "\n",
              "    .dataframe thead th {\n",
              "        text-align: right;\n",
              "    }\n",
              "</style>\n",
              "<table border=\"1\" class=\"dataframe\">\n",
              "  <thead>\n",
              "    <tr style=\"text-align: right;\">\n",
              "      <th></th>\n",
              "      <th>quantity</th>\n",
              "      <th>priceMod</th>\n",
              "      <th>date</th>\n",
              "      <th>priceModLog</th>\n",
              "      <th>priceMean</th>\n",
              "      <th>timeIndex</th>\n",
              "    </tr>\n",
              "    <tr>\n",
              "      <th>date</th>\n",
              "      <th></th>\n",
              "      <th></th>\n",
              "      <th></th>\n",
              "      <th></th>\n",
              "      <th></th>\n",
              "      <th></th>\n",
              "    </tr>\n",
              "  </thead>\n",
              "  <tbody>\n",
              "    <tr>\n",
              "      <th>2004-01</th>\n",
              "      <td>227832</td>\n",
              "      <td>991</td>\n",
              "      <td>2004-01-01</td>\n",
              "      <td>6.90</td>\n",
              "      <td>884.57</td>\n",
              "      <td>0</td>\n",
              "    </tr>\n",
              "    <tr>\n",
              "      <th>2004-02</th>\n",
              "      <td>225133</td>\n",
              "      <td>793</td>\n",
              "      <td>2004-02-01</td>\n",
              "      <td>6.68</td>\n",
              "      <td>884.57</td>\n",
              "      <td>1</td>\n",
              "    </tr>\n",
              "    <tr>\n",
              "      <th>2004-03</th>\n",
              "      <td>221952</td>\n",
              "      <td>556</td>\n",
              "      <td>2004-03-01</td>\n",
              "      <td>6.32</td>\n",
              "      <td>884.57</td>\n",
              "      <td>2</td>\n",
              "    </tr>\n",
              "    <tr>\n",
              "      <th>2004-04</th>\n",
              "      <td>185150</td>\n",
              "      <td>465</td>\n",
              "      <td>2004-04-01</td>\n",
              "      <td>6.14</td>\n",
              "      <td>884.57</td>\n",
              "      <td>3</td>\n",
              "    </tr>\n",
              "    <tr>\n",
              "      <th>2004-05</th>\n",
              "      <td>137390</td>\n",
              "      <td>455</td>\n",
              "      <td>2004-05-01</td>\n",
              "      <td>6.12</td>\n",
              "      <td>884.57</td>\n",
              "      <td>4</td>\n",
              "    </tr>\n",
              "  </tbody>\n",
              "</table>\n",
              "</div>\n",
              "      <button class=\"colab-df-convert\" onclick=\"convertToInteractive('df-bcf00145-f47a-478f-9c46-1a0e4a22eeae')\"\n",
              "              title=\"Convert this dataframe to an interactive table.\"\n",
              "              style=\"display:none;\">\n",
              "        \n",
              "  <svg xmlns=\"http://www.w3.org/2000/svg\" height=\"24px\"viewBox=\"0 0 24 24\"\n",
              "       width=\"24px\">\n",
              "    <path d=\"M0 0h24v24H0V0z\" fill=\"none\"/>\n",
              "    <path d=\"M18.56 5.44l.94 2.06.94-2.06 2.06-.94-2.06-.94-.94-2.06-.94 2.06-2.06.94zm-11 1L8.5 8.5l.94-2.06 2.06-.94-2.06-.94L8.5 2.5l-.94 2.06-2.06.94zm10 10l.94 2.06.94-2.06 2.06-.94-2.06-.94-.94-2.06-.94 2.06-2.06.94z\"/><path d=\"M17.41 7.96l-1.37-1.37c-.4-.4-.92-.59-1.43-.59-.52 0-1.04.2-1.43.59L10.3 9.45l-7.72 7.72c-.78.78-.78 2.05 0 2.83L4 21.41c.39.39.9.59 1.41.59.51 0 1.02-.2 1.41-.59l7.78-7.78 2.81-2.81c.8-.78.8-2.07 0-2.86zM5.41 20L4 18.59l7.72-7.72 1.47 1.35L5.41 20z\"/>\n",
              "  </svg>\n",
              "      </button>\n",
              "      \n",
              "  <style>\n",
              "    .colab-df-container {\n",
              "      display:flex;\n",
              "      flex-wrap:wrap;\n",
              "      gap: 12px;\n",
              "    }\n",
              "\n",
              "    .colab-df-convert {\n",
              "      background-color: #E8F0FE;\n",
              "      border: none;\n",
              "      border-radius: 50%;\n",
              "      cursor: pointer;\n",
              "      display: none;\n",
              "      fill: #1967D2;\n",
              "      height: 32px;\n",
              "      padding: 0 0 0 0;\n",
              "      width: 32px;\n",
              "    }\n",
              "\n",
              "    .colab-df-convert:hover {\n",
              "      background-color: #E2EBFA;\n",
              "      box-shadow: 0px 1px 2px rgba(60, 64, 67, 0.3), 0px 1px 3px 1px rgba(60, 64, 67, 0.15);\n",
              "      fill: #174EA6;\n",
              "    }\n",
              "\n",
              "    [theme=dark] .colab-df-convert {\n",
              "      background-color: #3B4455;\n",
              "      fill: #D2E3FC;\n",
              "    }\n",
              "\n",
              "    [theme=dark] .colab-df-convert:hover {\n",
              "      background-color: #434B5C;\n",
              "      box-shadow: 0px 1px 3px 1px rgba(0, 0, 0, 0.15);\n",
              "      filter: drop-shadow(0px 1px 2px rgba(0, 0, 0, 0.3));\n",
              "      fill: #FFFFFF;\n",
              "    }\n",
              "  </style>\n",
              "\n",
              "      <script>\n",
              "        const buttonEl =\n",
              "          document.querySelector('#df-bcf00145-f47a-478f-9c46-1a0e4a22eeae button.colab-df-convert');\n",
              "        buttonEl.style.display =\n",
              "          google.colab.kernel.accessAllowed ? 'block' : 'none';\n",
              "\n",
              "        async function convertToInteractive(key) {\n",
              "          const element = document.querySelector('#df-bcf00145-f47a-478f-9c46-1a0e4a22eeae');\n",
              "          const dataTable =\n",
              "            await google.colab.kernel.invokeFunction('convertToInteractive',\n",
              "                                                     [key], {});\n",
              "          if (!dataTable) return;\n",
              "\n",
              "          const docLinkHtml = 'Like what you see? Visit the ' +\n",
              "            '<a target=\"_blank\" href=https://colab.research.google.com/notebooks/data_table.ipynb>data table notebook</a>'\n",
              "            + ' to learn more about interactive tables.';\n",
              "          element.innerHTML = '';\n",
              "          dataTable['output_type'] = 'display_data';\n",
              "          await google.colab.output.renderOutput(dataTable, element);\n",
              "          const docLink = document.createElement('div');\n",
              "          docLink.innerHTML = docLinkHtml;\n",
              "          element.appendChild(docLink);\n",
              "        }\n",
              "      </script>\n",
              "    </div>\n",
              "  </div>\n",
              "  "
            ]
          },
          "metadata": {},
          "execution_count": 36
        }
      ],
      "source": [
        "dfBang.head()"
      ]
    },
    {
      "cell_type": "code",
      "execution_count": 37,
      "metadata": {
        "colab": {
          "base_uri": "https://localhost:8080/"
        },
        "id": "1DrHHqageZnd",
        "outputId": "d53abe4a-6dd3-4741-bd37-1612210fbf8d"
      },
      "outputs": [
        {
          "output_type": "execute_result",
          "data": {
            "text/plain": [
              "quantity                int64\n",
              "priceMod                int64\n",
              "date           datetime64[ns]\n",
              "priceModLog           float64\n",
              "priceMean             float64\n",
              "timeIndex               int64\n",
              "dtype: object"
            ]
          },
          "metadata": {},
          "execution_count": 37
        }
      ],
      "source": [
        "dfBang.dtypes"
      ]
    },
    {
      "cell_type": "code",
      "execution_count": 38,
      "metadata": {
        "colab": {
          "base_uri": "https://localhost:8080/"
        },
        "id": "9T6I1cq5eZnd",
        "outputId": "0264e2a5-beb6-4466-d2ab-0ab051765b06"
      },
      "outputs": [
        {
          "output_type": "execute_result",
          "data": {
            "text/plain": [
              "Timestamp('2004-01-01 00:00:00')"
            ]
          },
          "metadata": {},
          "execution_count": 38
        }
      ],
      "source": [
        "dfBang.date.min()"
      ]
    },
    {
      "cell_type": "code",
      "execution_count": 39,
      "metadata": {
        "id": "vXXAhVn9eZnd"
      },
      "outputs": [],
      "source": [
        "dfBang[\"timeIndex\"] = dfBang.date - dfBang.date.min()"
      ]
    },
    {
      "cell_type": "code",
      "execution_count": 40,
      "metadata": {
        "colab": {
          "base_uri": "https://localhost:8080/"
        },
        "id": "ewdzUxNieZne",
        "outputId": "5f32ca0c-c7e9-4070-9398-93af255671a5"
      },
      "outputs": [
        {
          "output_type": "execute_result",
          "data": {
            "text/plain": [
              "quantity                 int64\n",
              "priceMod                 int64\n",
              "date            datetime64[ns]\n",
              "priceModLog            float64\n",
              "priceMean              float64\n",
              "timeIndex      timedelta64[ns]\n",
              "dtype: object"
            ]
          },
          "metadata": {},
          "execution_count": 40
        }
      ],
      "source": [
        "dfBang.dtypes"
      ]
    },
    {
      "cell_type": "code",
      "execution_count": 41,
      "metadata": {
        "id": "PSmstl2beZne"
      },
      "outputs": [],
      "source": [
        "dfBang[\"timeIndex\"] =  dfBang[\"timeIndex\"]/np.timedelta64(1, 'M')"
      ]
    },
    {
      "cell_type": "code",
      "execution_count": 42,
      "metadata": {
        "id": "iyPzMXIoeZne"
      },
      "outputs": [],
      "source": [
        "dfBang[\"timeIndex\"] = dfBang[\"timeIndex\"].round(0).astype(int)"
      ]
    },
    {
      "cell_type": "code",
      "execution_count": 43,
      "metadata": {
        "colab": {
          "base_uri": "https://localhost:8080/"
        },
        "id": "d9qVdjKmeZne",
        "outputId": "84ce7a52-14d0-4ffa-8b32-91fbf0f20abc"
      },
      "outputs": [
        {
          "output_type": "execute_result",
          "data": {
            "text/plain": [
              "date\n",
              "2015-10    141\n",
              "2015-11    142\n",
              "2015-12    143\n",
              "2016-01    144\n",
              "2016-02    145\n",
              "Freq: M, Name: timeIndex, dtype: int64"
            ]
          },
          "metadata": {},
          "execution_count": 43
        }
      ],
      "source": [
        "dfBang.timeIndex.tail()"
      ]
    },
    {
      "cell_type": "code",
      "execution_count": 44,
      "metadata": {
        "colab": {
          "base_uri": "https://localhost:8080/",
          "height": 238
        },
        "id": "5eQFEYjPeZne",
        "outputId": "2b73f0a8-625c-4e85-dc5c-c82561ac5165"
      },
      "outputs": [
        {
          "output_type": "execute_result",
          "data": {
            "text/plain": [
              "         quantity  priceMod       date  priceModLog  priceMean  timeIndex\n",
              "date                                                                     \n",
              "2004-01    227832       991 2004-01-01         6.90     884.57          0\n",
              "2004-02    225133       793 2004-02-01         6.68     884.57          1\n",
              "2004-03    221952       556 2004-03-01         6.32     884.57          2\n",
              "2004-04    185150       465 2004-04-01         6.14     884.57          3\n",
              "2004-05    137390       455 2004-05-01         6.12     884.57          4"
            ],
            "text/html": [
              "\n",
              "  <div id=\"df-a7dc21fd-92d7-47ef-8756-40e7b4a8d27e\">\n",
              "    <div class=\"colab-df-container\">\n",
              "      <div>\n",
              "<style scoped>\n",
              "    .dataframe tbody tr th:only-of-type {\n",
              "        vertical-align: middle;\n",
              "    }\n",
              "\n",
              "    .dataframe tbody tr th {\n",
              "        vertical-align: top;\n",
              "    }\n",
              "\n",
              "    .dataframe thead th {\n",
              "        text-align: right;\n",
              "    }\n",
              "</style>\n",
              "<table border=\"1\" class=\"dataframe\">\n",
              "  <thead>\n",
              "    <tr style=\"text-align: right;\">\n",
              "      <th></th>\n",
              "      <th>quantity</th>\n",
              "      <th>priceMod</th>\n",
              "      <th>date</th>\n",
              "      <th>priceModLog</th>\n",
              "      <th>priceMean</th>\n",
              "      <th>timeIndex</th>\n",
              "    </tr>\n",
              "    <tr>\n",
              "      <th>date</th>\n",
              "      <th></th>\n",
              "      <th></th>\n",
              "      <th></th>\n",
              "      <th></th>\n",
              "      <th></th>\n",
              "      <th></th>\n",
              "    </tr>\n",
              "  </thead>\n",
              "  <tbody>\n",
              "    <tr>\n",
              "      <th>2004-01</th>\n",
              "      <td>227832</td>\n",
              "      <td>991</td>\n",
              "      <td>2004-01-01</td>\n",
              "      <td>6.90</td>\n",
              "      <td>884.57</td>\n",
              "      <td>0</td>\n",
              "    </tr>\n",
              "    <tr>\n",
              "      <th>2004-02</th>\n",
              "      <td>225133</td>\n",
              "      <td>793</td>\n",
              "      <td>2004-02-01</td>\n",
              "      <td>6.68</td>\n",
              "      <td>884.57</td>\n",
              "      <td>1</td>\n",
              "    </tr>\n",
              "    <tr>\n",
              "      <th>2004-03</th>\n",
              "      <td>221952</td>\n",
              "      <td>556</td>\n",
              "      <td>2004-03-01</td>\n",
              "      <td>6.32</td>\n",
              "      <td>884.57</td>\n",
              "      <td>2</td>\n",
              "    </tr>\n",
              "    <tr>\n",
              "      <th>2004-04</th>\n",
              "      <td>185150</td>\n",
              "      <td>465</td>\n",
              "      <td>2004-04-01</td>\n",
              "      <td>6.14</td>\n",
              "      <td>884.57</td>\n",
              "      <td>3</td>\n",
              "    </tr>\n",
              "    <tr>\n",
              "      <th>2004-05</th>\n",
              "      <td>137390</td>\n",
              "      <td>455</td>\n",
              "      <td>2004-05-01</td>\n",
              "      <td>6.12</td>\n",
              "      <td>884.57</td>\n",
              "      <td>4</td>\n",
              "    </tr>\n",
              "  </tbody>\n",
              "</table>\n",
              "</div>\n",
              "      <button class=\"colab-df-convert\" onclick=\"convertToInteractive('df-a7dc21fd-92d7-47ef-8756-40e7b4a8d27e')\"\n",
              "              title=\"Convert this dataframe to an interactive table.\"\n",
              "              style=\"display:none;\">\n",
              "        \n",
              "  <svg xmlns=\"http://www.w3.org/2000/svg\" height=\"24px\"viewBox=\"0 0 24 24\"\n",
              "       width=\"24px\">\n",
              "    <path d=\"M0 0h24v24H0V0z\" fill=\"none\"/>\n",
              "    <path d=\"M18.56 5.44l.94 2.06.94-2.06 2.06-.94-2.06-.94-.94-2.06-.94 2.06-2.06.94zm-11 1L8.5 8.5l.94-2.06 2.06-.94-2.06-.94L8.5 2.5l-.94 2.06-2.06.94zm10 10l.94 2.06.94-2.06 2.06-.94-2.06-.94-.94-2.06-.94 2.06-2.06.94z\"/><path d=\"M17.41 7.96l-1.37-1.37c-.4-.4-.92-.59-1.43-.59-.52 0-1.04.2-1.43.59L10.3 9.45l-7.72 7.72c-.78.78-.78 2.05 0 2.83L4 21.41c.39.39.9.59 1.41.59.51 0 1.02-.2 1.41-.59l7.78-7.78 2.81-2.81c.8-.78.8-2.07 0-2.86zM5.41 20L4 18.59l7.72-7.72 1.47 1.35L5.41 20z\"/>\n",
              "  </svg>\n",
              "      </button>\n",
              "      \n",
              "  <style>\n",
              "    .colab-df-container {\n",
              "      display:flex;\n",
              "      flex-wrap:wrap;\n",
              "      gap: 12px;\n",
              "    }\n",
              "\n",
              "    .colab-df-convert {\n",
              "      background-color: #E8F0FE;\n",
              "      border: none;\n",
              "      border-radius: 50%;\n",
              "      cursor: pointer;\n",
              "      display: none;\n",
              "      fill: #1967D2;\n",
              "      height: 32px;\n",
              "      padding: 0 0 0 0;\n",
              "      width: 32px;\n",
              "    }\n",
              "\n",
              "    .colab-df-convert:hover {\n",
              "      background-color: #E2EBFA;\n",
              "      box-shadow: 0px 1px 2px rgba(60, 64, 67, 0.3), 0px 1px 3px 1px rgba(60, 64, 67, 0.15);\n",
              "      fill: #174EA6;\n",
              "    }\n",
              "\n",
              "    [theme=dark] .colab-df-convert {\n",
              "      background-color: #3B4455;\n",
              "      fill: #D2E3FC;\n",
              "    }\n",
              "\n",
              "    [theme=dark] .colab-df-convert:hover {\n",
              "      background-color: #434B5C;\n",
              "      box-shadow: 0px 1px 3px 1px rgba(0, 0, 0, 0.15);\n",
              "      filter: drop-shadow(0px 1px 2px rgba(0, 0, 0, 0.3));\n",
              "      fill: #FFFFFF;\n",
              "    }\n",
              "  </style>\n",
              "\n",
              "      <script>\n",
              "        const buttonEl =\n",
              "          document.querySelector('#df-a7dc21fd-92d7-47ef-8756-40e7b4a8d27e button.colab-df-convert');\n",
              "        buttonEl.style.display =\n",
              "          google.colab.kernel.accessAllowed ? 'block' : 'none';\n",
              "\n",
              "        async function convertToInteractive(key) {\n",
              "          const element = document.querySelector('#df-a7dc21fd-92d7-47ef-8756-40e7b4a8d27e');\n",
              "          const dataTable =\n",
              "            await google.colab.kernel.invokeFunction('convertToInteractive',\n",
              "                                                     [key], {});\n",
              "          if (!dataTable) return;\n",
              "\n",
              "          const docLinkHtml = 'Like what you see? Visit the ' +\n",
              "            '<a target=\"_blank\" href=https://colab.research.google.com/notebooks/data_table.ipynb>data table notebook</a>'\n",
              "            + ' to learn more about interactive tables.';\n",
              "          element.innerHTML = '';\n",
              "          dataTable['output_type'] = 'display_data';\n",
              "          await google.colab.output.renderOutput(dataTable, element);\n",
              "          const docLink = document.createElement('div');\n",
              "          docLink.innerHTML = docLinkHtml;\n",
              "          element.appendChild(docLink);\n",
              "        }\n",
              "      </script>\n",
              "    </div>\n",
              "  </div>\n",
              "  "
            ]
          },
          "metadata": {},
          "execution_count": 44
        }
      ],
      "source": [
        "dfBang.head()"
      ]
    },
    {
      "cell_type": "code",
      "execution_count": 45,
      "metadata": {
        "id": "whfoEt7leZne"
      },
      "outputs": [],
      "source": [
        "# Запись priceModLog ~ timeIndex означает, что priceModLog зависит от timeIndex\n",
        "model_linear = smf.ols('priceModLog ~ timeIndex', data = dfBang).fit()"
      ]
    },
    {
      "cell_type": "code",
      "execution_count": 46,
      "metadata": {
        "colab": {
          "base_uri": "https://localhost:8080/",
          "height": 444
        },
        "id": "v4eo6HKAeZne",
        "outputId": "3fdcf17f-ecd7-492f-95a7-6b7a3a7f1c0a"
      },
      "outputs": [
        {
          "output_type": "execute_result",
          "data": {
            "text/plain": [
              "<class 'statsmodels.iolib.summary.Summary'>\n",
              "\"\"\"\n",
              "                            OLS Regression Results                            \n",
              "==============================================================================\n",
              "Dep. Variable:            priceModLog   R-squared:                       0.493\n",
              "Model:                            OLS   Adj. R-squared:                  0.489\n",
              "Method:                 Least Squares   F-statistic:                     139.8\n",
              "Date:                Wed, 16 Mar 2022   Prob (F-statistic):           5.75e-23\n",
              "Time:                        11:55:35   Log-Likelihood:                -72.317\n",
              "No. Observations:                 146   AIC:                             148.6\n",
              "Df Residuals:                     144   BIC:                             154.6\n",
              "Df Model:                           1                                         \n",
              "Covariance Type:            nonrobust                                         \n",
              "==============================================================================\n",
              "                 coef    std err          t      P>|t|      [0.025      0.975]\n",
              "------------------------------------------------------------------------------\n",
              "Intercept      6.1121      0.066     92.830      0.000       5.982       6.242\n",
              "timeIndex      0.0093      0.001     11.823      0.000       0.008       0.011\n",
              "==============================================================================\n",
              "Omnibus:                        4.750   Durbin-Watson:                   0.384\n",
              "Prob(Omnibus):                  0.093   Jarque-Bera (JB):                4.739\n",
              "Skew:                           0.405   Prob(JB):                       0.0935\n",
              "Kurtosis:                       2.648   Cond. No.                         167.\n",
              "==============================================================================\n",
              "\n",
              "Warnings:\n",
              "[1] Standard Errors assume that the covariance matrix of the errors is correctly specified.\n",
              "\"\"\""
            ],
            "text/html": [
              "<table class=\"simpletable\">\n",
              "<caption>OLS Regression Results</caption>\n",
              "<tr>\n",
              "  <th>Dep. Variable:</th>       <td>priceModLog</td>   <th>  R-squared:         </th> <td>   0.493</td>\n",
              "</tr>\n",
              "<tr>\n",
              "  <th>Model:</th>                   <td>OLS</td>       <th>  Adj. R-squared:    </th> <td>   0.489</td>\n",
              "</tr>\n",
              "<tr>\n",
              "  <th>Method:</th>             <td>Least Squares</td>  <th>  F-statistic:       </th> <td>   139.8</td>\n",
              "</tr>\n",
              "<tr>\n",
              "  <th>Date:</th>             <td>Wed, 16 Mar 2022</td> <th>  Prob (F-statistic):</th> <td>5.75e-23</td>\n",
              "</tr>\n",
              "<tr>\n",
              "  <th>Time:</th>                 <td>11:55:35</td>     <th>  Log-Likelihood:    </th> <td> -72.317</td>\n",
              "</tr>\n",
              "<tr>\n",
              "  <th>No. Observations:</th>      <td>   146</td>      <th>  AIC:               </th> <td>   148.6</td>\n",
              "</tr>\n",
              "<tr>\n",
              "  <th>Df Residuals:</th>          <td>   144</td>      <th>  BIC:               </th> <td>   154.6</td>\n",
              "</tr>\n",
              "<tr>\n",
              "  <th>Df Model:</th>              <td>     1</td>      <th>                     </th>     <td> </td>   \n",
              "</tr>\n",
              "<tr>\n",
              "  <th>Covariance Type:</th>      <td>nonrobust</td>    <th>                     </th>     <td> </td>   \n",
              "</tr>\n",
              "</table>\n",
              "<table class=\"simpletable\">\n",
              "<tr>\n",
              "      <td></td>         <th>coef</th>     <th>std err</th>      <th>t</th>      <th>P>|t|</th>  <th>[0.025</th>    <th>0.975]</th>  \n",
              "</tr>\n",
              "<tr>\n",
              "  <th>Intercept</th> <td>    6.1121</td> <td>    0.066</td> <td>   92.830</td> <td> 0.000</td> <td>    5.982</td> <td>    6.242</td>\n",
              "</tr>\n",
              "<tr>\n",
              "  <th>timeIndex</th> <td>    0.0093</td> <td>    0.001</td> <td>   11.823</td> <td> 0.000</td> <td>    0.008</td> <td>    0.011</td>\n",
              "</tr>\n",
              "</table>\n",
              "<table class=\"simpletable\">\n",
              "<tr>\n",
              "  <th>Omnibus:</th>       <td> 4.750</td> <th>  Durbin-Watson:     </th> <td>   0.384</td>\n",
              "</tr>\n",
              "<tr>\n",
              "  <th>Prob(Omnibus):</th> <td> 0.093</td> <th>  Jarque-Bera (JB):  </th> <td>   4.739</td>\n",
              "</tr>\n",
              "<tr>\n",
              "  <th>Skew:</th>          <td> 0.405</td> <th>  Prob(JB):          </th> <td>  0.0935</td>\n",
              "</tr>\n",
              "<tr>\n",
              "  <th>Kurtosis:</th>      <td> 2.648</td> <th>  Cond. No.          </th> <td>    167.</td>\n",
              "</tr>\n",
              "</table><br/><br/>Warnings:<br/>[1] Standard Errors assume that the covariance matrix of the errors is correctly specified."
            ]
          },
          "metadata": {},
          "execution_count": 46
        }
      ],
      "source": [
        "model_linear.summary()"
      ]
    },
    {
      "cell_type": "markdown",
      "metadata": {
        "id": "pLO8wOGfeZnf"
      },
      "source": [
        "#### Выведем параметры нашей линейной модели"
      ]
    },
    {
      "cell_type": "code",
      "execution_count": 47,
      "metadata": {
        "colab": {
          "base_uri": "https://localhost:8080/"
        },
        "id": "RFJb2UIFeZnf",
        "outputId": "e6549266-418e-4356-f944-b05cf89ea876"
      },
      "outputs": [
        {
          "output_type": "execute_result",
          "data": {
            "text/plain": [
              "Intercept   6.11\n",
              "timeIndex   0.01\n",
              "dtype: float64"
            ]
          },
          "metadata": {},
          "execution_count": 47
        }
      ],
      "source": [
        "model_linear.params"
      ]
    },
    {
      "cell_type": "code",
      "execution_count": 48,
      "metadata": {
        "colab": {
          "base_uri": "https://localhost:8080/"
        },
        "id": "MJcXuLn-eZnf",
        "outputId": "96212a80-dada-43f6-e23a-aaf4f19b17a3"
      },
      "outputs": [
        {
          "output_type": "execute_result",
          "data": {
            "text/plain": [
              "6.11210813276363"
            ]
          },
          "metadata": {},
          "execution_count": 48
        }
      ],
      "source": [
        "c = model_linear.params[0]\n",
        "c"
      ]
    },
    {
      "cell_type": "code",
      "execution_count": 49,
      "metadata": {
        "colab": {
          "base_uri": "https://localhost:8080/"
        },
        "id": "QXcDlRwceZnf",
        "outputId": "857a5821-3ac1-49bc-9e44-3c759d4444bf"
      },
      "outputs": [
        {
          "output_type": "execute_result",
          "data": {
            "text/plain": [
              "0.00928260391803989"
            ]
          },
          "metadata": {},
          "execution_count": 49
        }
      ],
      "source": [
        "m = model_linear.params[1]\n",
        "m"
      ]
    },
    {
      "cell_type": "code",
      "execution_count": 50,
      "metadata": {
        "id": "LNAgz4BLeZnf"
      },
      "outputs": [],
      "source": [
        "model_linear_pred = model_linear.predict()"
      ]
    },
    {
      "cell_type": "code",
      "execution_count": 51,
      "metadata": {
        "colab": {
          "base_uri": "https://localhost:8080/"
        },
        "id": "RTDZ7f7HeZnf",
        "outputId": "d1939cae-1fbd-4be6-c20d-0acd465ec996"
      },
      "outputs": [
        {
          "output_type": "execute_result",
          "data": {
            "text/plain": [
              "array([6.11210813, 6.12139074, 6.13067334, 6.13995594, 6.14923855,\n",
              "       6.15852115, 6.16780376, 6.17708636, 6.18636896, 6.19565157,\n",
              "       6.20493417, 6.21421678, 6.22349938, 6.23278198, 6.24206459,\n",
              "       6.25134719, 6.2606298 , 6.2699124 , 6.279195  , 6.28847761,\n",
              "       6.29776021, 6.30704282, 6.31632542, 6.32560802, 6.33489063,\n",
              "       6.34417323, 6.35345583, 6.36273844, 6.37202104, 6.38130365,\n",
              "       6.39058625, 6.39986885, 6.40915146, 6.41843406, 6.42771667,\n",
              "       6.43699927, 6.44628187, 6.45556448, 6.46484708, 6.47412969,\n",
              "       6.48341229, 6.49269489, 6.5019775 , 6.5112601 , 6.52054271,\n",
              "       6.52982531, 6.53910791, 6.54839052, 6.55767312, 6.56695572,\n",
              "       6.57623833, 6.58552093, 6.59480354, 6.60408614, 6.61336874,\n",
              "       6.62265135, 6.63193395, 6.64121656, 6.65049916, 6.65978176,\n",
              "       6.66906437, 6.67834697, 6.68762958, 6.69691218, 6.70619478,\n",
              "       6.71547739, 6.72475999, 6.7340426 , 6.7433252 , 6.7526078 ,\n",
              "       6.76189041, 6.77117301, 6.78045561, 6.78973822, 6.79902082,\n",
              "       6.80830343, 6.81758603, 6.82686863, 6.83615124, 6.84543384,\n",
              "       6.85471645, 6.86399905, 6.87328165, 6.88256426, 6.89184686,\n",
              "       6.90112947, 6.91041207, 6.91969467, 6.92897728, 6.93825988,\n",
              "       6.94754249, 6.95682509, 6.96610769, 6.9753903 , 6.9846729 ,\n",
              "       6.9939555 , 7.00323811, 7.01252071, 7.02180332, 7.03108592,\n",
              "       7.04036852, 7.04965113, 7.05893373, 7.06821634, 7.07749894,\n",
              "       7.08678154, 7.09606415, 7.10534675, 7.11462936, 7.12391196,\n",
              "       7.13319456, 7.14247717, 7.15175977, 7.16104238, 7.17032498,\n",
              "       7.17960758, 7.18889019, 7.19817279, 7.2074554 , 7.216738  ,\n",
              "       7.2260206 , 7.23530321, 7.24458581, 7.25386841, 7.26315102,\n",
              "       7.27243362, 7.28171623, 7.29099883, 7.30028143, 7.30956404,\n",
              "       7.31884664, 7.32812925, 7.33741185, 7.34669445, 7.35597706,\n",
              "       7.36525966, 7.37454227, 7.38382487, 7.39310747, 7.40239008,\n",
              "       7.41167268, 7.42095529, 7.43023789, 7.43952049, 7.4488031 ,\n",
              "       7.4580857 ])"
            ]
          },
          "metadata": {},
          "execution_count": 51
        }
      ],
      "source": [
        "model_linear_pred"
      ]
    },
    {
      "cell_type": "code",
      "execution_count": 52,
      "metadata": {
        "id": "IHvx1FpteZng"
      },
      "outputs": [],
      "source": [
        "dfBang[\"priceLinear\"] = np.exp(model_linear_pred)"
      ]
    },
    {
      "cell_type": "code",
      "execution_count": 53,
      "metadata": {
        "colab": {
          "base_uri": "https://localhost:8080/",
          "height": 299
        },
        "id": "93VMx5ZBeZng",
        "outputId": "3e6607cc-ceec-4775-bf2e-f53cb810dd7f"
      },
      "outputs": [
        {
          "output_type": "execute_result",
          "data": {
            "text/plain": [
              "[<matplotlib.lines.Line2D at 0x7f36fdf41a10>]"
            ]
          },
          "metadata": {},
          "execution_count": 53
        },
        {
          "output_type": "display_data",
          "data": {
            "text/plain": [
              "<Figure size 432x288 with 1 Axes>"
            ],
            "image/png": "[encoded data removed]"
          },
          "metadata": {
            "needs_background": "light"
          }
        }
      ],
      "source": [
        "dfBang.plot(kind=\"line\", x=\"timeIndex\", y = \"priceModLog\")\n",
        "plt.plot(dfBang.timeIndex,model_linear_pred, '-')"
      ]
    },
    {
      "cell_type": "code",
      "execution_count": 54,
      "metadata": {
        "colab": {
          "base_uri": "https://localhost:8080/",
          "height": 331
        },
        "id": "5qpSvhNweZng",
        "outputId": "6b38119e-43dd-44c3-c115-6db49424c89c"
      },
      "outputs": [
        {
          "output_type": "execute_result",
          "data": {
            "text/plain": [
              "<matplotlib.axes._subplots.AxesSubplot at 0x7f36fde82210>"
            ]
          },
          "metadata": {},
          "execution_count": 54
        },
        {
          "output_type": "display_data",
          "data": {
            "text/plain": [
              "<Figure size 432x288 with 1 Axes>"
            ],
            "image/png": "[encoded data removed]"
          },
          "metadata": {
            "needs_background": "light"
          }
        }
      ],
      "source": [
        "model_linear.resid.plot(kind = \"bar\")"
      ]
    },
    {
      "cell_type": "markdown",
      "metadata": {
        "id": "krE83k4EeZng"
      },
      "source": [
        "Посчитаем ошибку RMSE на линейной модели:"
      ]
    },
    {
      "cell_type": "code",
      "execution_count": 55,
      "metadata": {
        "colab": {
          "base_uri": "https://localhost:8080/"
        },
        "id": "CANDMai8eZng",
        "outputId": "500cf1aa-d4c2-4689-956b-bedbfc18c5fc"
      },
      "outputs": [
        {
          "output_type": "execute_result",
          "data": {
            "text/plain": [
              "518.5236075841487"
            ]
          },
          "metadata": {},
          "execution_count": 55
        }
      ],
      "source": [
        "model_linear_RMSE = RMSE(dfBang.priceLinear, dfBang.priceMod)\n",
        "model_linear_RMSE"
      ]
    },
    {
      "cell_type": "code",
      "execution_count": 56,
      "metadata": {
        "colab": {
          "base_uri": "https://localhost:8080/",
          "height": 112
        },
        "id": "hAmeS67jeZng",
        "outputId": "3079074e-6576-45e4-f9be-470037c62b74"
      },
      "outputs": [
        {
          "output_type": "execute_result",
          "data": {
            "text/plain": [
              "    Model Forecast   RMSE\n",
              "0    Mean   884.57 683.95\n",
              "1  Linear   Linear 518.52"
            ],
            "text/html": [
              "\n",
              "  <div id=\"df-fde27ec5-b5d9-4996-a0dc-da61a2b283e8\">\n",
              "    <div class=\"colab-df-container\">\n",
              "      <div>\n",
              "<style scoped>\n",
              "    .dataframe tbody tr th:only-of-type {\n",
              "        vertical-align: middle;\n",
              "    }\n",
              "\n",
              "    .dataframe tbody tr th {\n",
              "        vertical-align: top;\n",
              "    }\n",
              "\n",
              "    .dataframe thead th {\n",
              "        text-align: right;\n",
              "    }\n",
              "</style>\n",
              "<table border=\"1\" class=\"dataframe\">\n",
              "  <thead>\n",
              "    <tr style=\"text-align: right;\">\n",
              "      <th></th>\n",
              "      <th>Model</th>\n",
              "      <th>Forecast</th>\n",
              "      <th>RMSE</th>\n",
              "    </tr>\n",
              "  </thead>\n",
              "  <tbody>\n",
              "    <tr>\n",
              "      <th>0</th>\n",
              "      <td>Mean</td>\n",
              "      <td>884.57</td>\n",
              "      <td>683.95</td>\n",
              "    </tr>\n",
              "    <tr>\n",
              "      <th>1</th>\n",
              "      <td>Linear</td>\n",
              "      <td>Linear</td>\n",
              "      <td>518.52</td>\n",
              "    </tr>\n",
              "  </tbody>\n",
              "</table>\n",
              "</div>\n",
              "      <button class=\"colab-df-convert\" onclick=\"convertToInteractive('df-fde27ec5-b5d9-4996-a0dc-da61a2b283e8')\"\n",
              "              title=\"Convert this dataframe to an interactive table.\"\n",
              "              style=\"display:none;\">\n",
              "        \n",
              "  <svg xmlns=\"http://www.w3.org/2000/svg\" height=\"24px\"viewBox=\"0 0 24 24\"\n",
              "       width=\"24px\">\n",
              "    <path d=\"M0 0h24v24H0V0z\" fill=\"none\"/>\n",
              "    <path d=\"M18.56 5.44l.94 2.06.94-2.06 2.06-.94-2.06-.94-.94-2.06-.94 2.06-2.06.94zm-11 1L8.5 8.5l.94-2.06 2.06-.94-2.06-.94L8.5 2.5l-.94 2.06-2.06.94zm10 10l.94 2.06.94-2.06 2.06-.94-2.06-.94-.94-2.06-.94 2.06-2.06.94z\"/><path d=\"M17.41 7.96l-1.37-1.37c-.4-.4-.92-.59-1.43-.59-.52 0-1.04.2-1.43.59L10.3 9.45l-7.72 7.72c-.78.78-.78 2.05 0 2.83L4 21.41c.39.39.9.59 1.41.59.51 0 1.02-.2 1.41-.59l7.78-7.78 2.81-2.81c.8-.78.8-2.07 0-2.86zM5.41 20L4 18.59l7.72-7.72 1.47 1.35L5.41 20z\"/>\n",
              "  </svg>\n",
              "      </button>\n",
              "      \n",
              "  <style>\n",
              "    .colab-df-container {\n",
              "      display:flex;\n",
              "      flex-wrap:wrap;\n",
              "      gap: 12px;\n",
              "    }\n",
              "\n",
              "    .colab-df-convert {\n",
              "      background-color: #E8F0FE;\n",
              "      border: none;\n",
              "      border-radius: 50%;\n",
              "      cursor: pointer;\n",
              "      display: none;\n",
              "      fill: #1967D2;\n",
              "      height: 32px;\n",
              "      padding: 0 0 0 0;\n",
              "      width: 32px;\n",
              "    }\n",
              "\n",
              "    .colab-df-convert:hover {\n",
              "      background-color: #E2EBFA;\n",
              "      box-shadow: 0px 1px 2px rgba(60, 64, 67, 0.3), 0px 1px 3px 1px rgba(60, 64, 67, 0.15);\n",
              "      fill: #174EA6;\n",
              "    }\n",
              "\n",
              "    [theme=dark] .colab-df-convert {\n",
              "      background-color: #3B4455;\n",
              "      fill: #D2E3FC;\n",
              "    }\n",
              "\n",
              "    [theme=dark] .colab-df-convert:hover {\n",
              "      background-color: #434B5C;\n",
              "      box-shadow: 0px 1px 3px 1px rgba(0, 0, 0, 0.15);\n",
              "      filter: drop-shadow(0px 1px 2px rgba(0, 0, 0, 0.3));\n",
              "      fill: #FFFFFF;\n",
              "    }\n",
              "  </style>\n",
              "\n",
              "      <script>\n",
              "        const buttonEl =\n",
              "          document.querySelector('#df-fde27ec5-b5d9-4996-a0dc-da61a2b283e8 button.colab-df-convert');\n",
              "        buttonEl.style.display =\n",
              "          google.colab.kernel.accessAllowed ? 'block' : 'none';\n",
              "\n",
              "        async function convertToInteractive(key) {\n",
              "          const element = document.querySelector('#df-fde27ec5-b5d9-4996-a0dc-da61a2b283e8');\n",
              "          const dataTable =\n",
              "            await google.colab.kernel.invokeFunction('convertToInteractive',\n",
              "                                                     [key], {});\n",
              "          if (!dataTable) return;\n",
              "\n",
              "          const docLinkHtml = 'Like what you see? Visit the ' +\n",
              "            '<a target=\"_blank\" href=https://colab.research.google.com/notebooks/data_table.ipynb>data table notebook</a>'\n",
              "            + ' to learn more about interactive tables.';\n",
              "          element.innerHTML = '';\n",
              "          dataTable['output_type'] = 'display_data';\n",
              "          await google.colab.output.renderOutput(dataTable, element);\n",
              "          const docLink = document.createElement('div');\n",
              "          docLink.innerHTML = docLinkHtml;\n",
              "          element.appendChild(docLink);\n",
              "        }\n",
              "      </script>\n",
              "    </div>\n",
              "  </div>\n",
              "  "
            ]
          },
          "metadata": {},
          "execution_count": 56
        }
      ],
      "source": [
        "dfBangResults.loc[1,\"Model\"] = \"Linear\"\n",
        "dfBangResults.loc[1,\"Forecast\"] = 'Linear'\n",
        "dfBangResults.loc[1,\"RMSE\"] = model_linear_RMSE\n",
        "dfBangResults.head()"
      ]
    },
    {
      "cell_type": "markdown",
      "metadata": {
        "id": "ixS8ZjkveZng"
      },
      "source": [
        "### Задание 2. Постройте линейную модель для величины `quantity`."
      ]
    },
    {
      "cell_type": "code",
      "execution_count": null,
      "metadata": {
        "id": "ZN1bGxBaeZnh"
      },
      "outputs": [],
      "source": [
        "### your code here"
      ]
    },
    {
      "cell_type": "markdown",
      "metadata": {
        "id": "lzDZXbPSeZnh"
      },
      "source": [
        "## 1.3 Линейная модель с регрессией"
      ]
    },
    {
      "cell_type": "code",
      "execution_count": 63,
      "metadata": {
        "id": "IoIcvC3heZnh"
      },
      "outputs": [],
      "source": [
        "## Построим регрессию, используя несколько переменных timeIndex и np.log(quantity)\n",
        "model_linear_q = smf.ols('priceModLog ~ timeIndex + np.log(quantity)', data = dfBang).fit()"
      ]
    },
    {
      "cell_type": "code",
      "execution_count": 64,
      "metadata": {
        "colab": {
          "base_uri": "https://localhost:8080/",
          "height": 499
        },
        "id": "9ES78RwFeZnh",
        "outputId": "8b891210-5f5f-403b-cafe-fe0d4f708868"
      },
      "outputs": [
        {
          "output_type": "execute_result",
          "data": {
            "text/plain": [
              "<class 'statsmodels.iolib.summary.Summary'>\n",
              "\"\"\"\n",
              "                            OLS Regression Results                            \n",
              "==============================================================================\n",
              "Dep. Variable:            priceModLog   R-squared:                       0.509\n",
              "Model:                            OLS   Adj. R-squared:                  0.502\n",
              "Method:                 Least Squares   F-statistic:                     74.16\n",
              "Date:                Wed, 16 Mar 2022   Prob (F-statistic):           8.00e-23\n",
              "Time:                        11:57:41   Log-Likelihood:                -69.892\n",
              "No. Observations:                 146   AIC:                             145.8\n",
              "Df Residuals:                     143   BIC:                             154.7\n",
              "Df Model:                           2                                         \n",
              "Covariance Type:            nonrobust                                         \n",
              "====================================================================================\n",
              "                       coef    std err          t      P>|t|      [0.025      0.975]\n",
              "------------------------------------------------------------------------------------\n",
              "Intercept            4.1813      0.881      4.746      0.000       2.440       5.923\n",
              "timeIndex            0.0084      0.001      9.774      0.000       0.007       0.010\n",
              "np.log(quantity)     0.1529      0.070      2.198      0.030       0.015       0.290\n",
              "==============================================================================\n",
              "Omnibus:                        5.097   Durbin-Watson:                   0.412\n",
              "Prob(Omnibus):                  0.078   Jarque-Bera (JB):                4.952\n",
              "Skew:                           0.403   Prob(JB):                       0.0841\n",
              "Kurtosis:                       2.593   Cond. No.                     2.29e+03\n",
              "==============================================================================\n",
              "\n",
              "Warnings:\n",
              "[1] Standard Errors assume that the covariance matrix of the errors is correctly specified.\n",
              "[2] The condition number is large, 2.29e+03. This might indicate that there are\n",
              "strong multicollinearity or other numerical problems.\n",
              "\"\"\""
            ],
            "text/html": [
              "<table class=\"simpletable\">\n",
              "<caption>OLS Regression Results</caption>\n",
              "<tr>\n",
              "  <th>Dep. Variable:</th>       <td>priceModLog</td>   <th>  R-squared:         </th> <td>   0.509</td>\n",
              "</tr>\n",
              "<tr>\n",
              "  <th>Model:</th>                   <td>OLS</td>       <th>  Adj. R-squared:    </th> <td>   0.502</td>\n",
              "</tr>\n",
              "<tr>\n",
              "  <th>Method:</th>             <td>Least Squares</td>  <th>  F-statistic:       </th> <td>   74.16</td>\n",
              "</tr>\n",
              "<tr>\n",
              "  <th>Date:</th>             <td>Wed, 16 Mar 2022</td> <th>  Prob (F-statistic):</th> <td>8.00e-23</td>\n",
              "</tr>\n",
              "<tr>\n",
              "  <th>Time:</th>                 <td>11:57:41</td>     <th>  Log-Likelihood:    </th> <td> -69.892</td>\n",
              "</tr>\n",
              "<tr>\n",
              "  <th>No. Observations:</th>      <td>   146</td>      <th>  AIC:               </th> <td>   145.8</td>\n",
              "</tr>\n",
              "<tr>\n",
              "  <th>Df Residuals:</th>          <td>   143</td>      <th>  BIC:               </th> <td>   154.7</td>\n",
              "</tr>\n",
              "<tr>\n",
              "  <th>Df Model:</th>              <td>     2</td>      <th>                     </th>     <td> </td>   \n",
              "</tr>\n",
              "<tr>\n",
              "  <th>Covariance Type:</th>      <td>nonrobust</td>    <th>                     </th>     <td> </td>   \n",
              "</tr>\n",
              "</table>\n",
              "<table class=\"simpletable\">\n",
              "<tr>\n",
              "          <td></td>            <th>coef</th>     <th>std err</th>      <th>t</th>      <th>P>|t|</th>  <th>[0.025</th>    <th>0.975]</th>  \n",
              "</tr>\n",
              "<tr>\n",
              "  <th>Intercept</th>        <td>    4.1813</td> <td>    0.881</td> <td>    4.746</td> <td> 0.000</td> <td>    2.440</td> <td>    5.923</td>\n",
              "</tr>\n",
              "<tr>\n",
              "  <th>timeIndex</th>        <td>    0.0084</td> <td>    0.001</td> <td>    9.774</td> <td> 0.000</td> <td>    0.007</td> <td>    0.010</td>\n",
              "</tr>\n",
              "<tr>\n",
              "  <th>np.log(quantity)</th> <td>    0.1529</td> <td>    0.070</td> <td>    2.198</td> <td> 0.030</td> <td>    0.015</td> <td>    0.290</td>\n",
              "</tr>\n",
              "</table>\n",
              "<table class=\"simpletable\">\n",
              "<tr>\n",
              "  <th>Omnibus:</th>       <td> 5.097</td> <th>  Durbin-Watson:     </th> <td>   0.412</td>\n",
              "</tr>\n",
              "<tr>\n",
              "  <th>Prob(Omnibus):</th> <td> 0.078</td> <th>  Jarque-Bera (JB):  </th> <td>   4.952</td>\n",
              "</tr>\n",
              "<tr>\n",
              "  <th>Skew:</th>          <td> 0.403</td> <th>  Prob(JB):          </th> <td>  0.0841</td>\n",
              "</tr>\n",
              "<tr>\n",
              "  <th>Kurtosis:</th>      <td> 2.593</td> <th>  Cond. No.          </th> <td>2.29e+03</td>\n",
              "</tr>\n",
              "</table><br/><br/>Warnings:<br/>[1] Standard Errors assume that the covariance matrix of the errors is correctly specified.<br/>[2] The condition number is large, 2.29e+03. This might indicate that there are<br/>strong multicollinearity or other numerical problems."
            ]
          },
          "metadata": {},
          "execution_count": 64
        }
      ],
      "source": [
        "model_linear_q.summary()"
      ]
    },
    {
      "cell_type": "code",
      "execution_count": 65,
      "metadata": {
        "colab": {
          "base_uri": "https://localhost:8080/",
          "height": 238
        },
        "id": "IltKue2oeZnh",
        "outputId": "c8fb1562-3511-49c2-9e28-2e13e7afb180"
      },
      "outputs": [
        {
          "output_type": "execute_result",
          "data": {
            "text/plain": [
              "         quantity  priceMod       date  priceModLog  priceMean  timeIndex  \\\n",
              "date                                                                        \n",
              "2004-01    227832       991 2004-01-01         6.90     884.57          0   \n",
              "2004-02    225133       793 2004-02-01         6.68     884.57          1   \n",
              "2004-03    221952       556 2004-03-01         6.32     884.57          2   \n",
              "2004-04    185150       465 2004-04-01         6.14     884.57          3   \n",
              "2004-05    137390       455 2004-05-01         6.12     884.57          4   \n",
              "\n",
              "         priceLinear  priceLinearQuantity  \n",
              "date                                       \n",
              "2004-01       451.29               431.41  \n",
              "2004-02       455.50               434.28  \n",
              "2004-03       459.75               437.01  \n",
              "2004-04       464.03               428.67  \n",
              "2004-05       468.36               413.03  "
            ],
            "text/html": [
              "\n",
              "  <div id=\"df-f6239b3f-7c83-4ab7-bef4-cdd61fb64543\">\n",
              "    <div class=\"colab-df-container\">\n",
              "      <div>\n",
              "<style scoped>\n",
              "    .dataframe tbody tr th:only-of-type {\n",
              "        vertical-align: middle;\n",
              "    }\n",
              "\n",
              "    .dataframe tbody tr th {\n",
              "        vertical-align: top;\n",
              "    }\n",
              "\n",
              "    .dataframe thead th {\n",
              "        text-align: right;\n",
              "    }\n",
              "</style>\n",
              "<table border=\"1\" class=\"dataframe\">\n",
              "  <thead>\n",
              "    <tr style=\"text-align: right;\">\n",
              "      <th></th>\n",
              "      <th>quantity</th>\n",
              "      <th>priceMod</th>\n",
              "      <th>date</th>\n",
              "      <th>priceModLog</th>\n",
              "      <th>priceMean</th>\n",
              "      <th>timeIndex</th>\n",
              "      <th>priceLinear</th>\n",
              "      <th>priceLinearQuantity</th>\n",
              "    </tr>\n",
              "    <tr>\n",
              "      <th>date</th>\n",
              "      <th></th>\n",
              "      <th></th>\n",
              "      <th></th>\n",
              "      <th></th>\n",
              "      <th></th>\n",
              "      <th></th>\n",
              "      <th></th>\n",
              "      <th></th>\n",
              "    </tr>\n",
              "  </thead>\n",
              "  <tbody>\n",
              "    <tr>\n",
              "      <th>2004-01</th>\n",
              "      <td>227832</td>\n",
              "      <td>991</td>\n",
              "      <td>2004-01-01</td>\n",
              "      <td>6.90</td>\n",
              "      <td>884.57</td>\n",
              "      <td>0</td>\n",
              "      <td>451.29</td>\n",
              "      <td>431.41</td>\n",
              "    </tr>\n",
              "    <tr>\n",
              "      <th>2004-02</th>\n",
              "      <td>225133</td>\n",
              "      <td>793</td>\n",
              "      <td>2004-02-01</td>\n",
              "      <td>6.68</td>\n",
              "      <td>884.57</td>\n",
              "      <td>1</td>\n",
              "      <td>455.50</td>\n",
              "      <td>434.28</td>\n",
              "    </tr>\n",
              "    <tr>\n",
              "      <th>2004-03</th>\n",
              "      <td>221952</td>\n",
              "      <td>556</td>\n",
              "      <td>2004-03-01</td>\n",
              "      <td>6.32</td>\n",
              "      <td>884.57</td>\n",
              "      <td>2</td>\n",
              "      <td>459.75</td>\n",
              "      <td>437.01</td>\n",
              "    </tr>\n",
              "    <tr>\n",
              "      <th>2004-04</th>\n",
              "      <td>185150</td>\n",
              "      <td>465</td>\n",
              "      <td>2004-04-01</td>\n",
              "      <td>6.14</td>\n",
              "      <td>884.57</td>\n",
              "      <td>3</td>\n",
              "      <td>464.03</td>\n",
              "      <td>428.67</td>\n",
              "    </tr>\n",
              "    <tr>\n",
              "      <th>2004-05</th>\n",
              "      <td>137390</td>\n",
              "      <td>455</td>\n",
              "      <td>2004-05-01</td>\n",
              "      <td>6.12</td>\n",
              "      <td>884.57</td>\n",
              "      <td>4</td>\n",
              "      <td>468.36</td>\n",
              "      <td>413.03</td>\n",
              "    </tr>\n",
              "  </tbody>\n",
              "</table>\n",
              "</div>\n",
              "      <button class=\"colab-df-convert\" onclick=\"convertToInteractive('df-f6239b3f-7c83-4ab7-bef4-cdd61fb64543')\"\n",
              "              title=\"Convert this dataframe to an interactive table.\"\n",
              "              style=\"display:none;\">\n",
              "        \n",
              "  <svg xmlns=\"http://www.w3.org/2000/svg\" height=\"24px\"viewBox=\"0 0 24 24\"\n",
              "       width=\"24px\">\n",
              "    <path d=\"M0 0h24v24H0V0z\" fill=\"none\"/>\n",
              "    <path d=\"M18.56 5.44l.94 2.06.94-2.06 2.06-.94-2.06-.94-.94-2.06-.94 2.06-2.06.94zm-11 1L8.5 8.5l.94-2.06 2.06-.94-2.06-.94L8.5 2.5l-.94 2.06-2.06.94zm10 10l.94 2.06.94-2.06 2.06-.94-2.06-.94-.94-2.06-.94 2.06-2.06.94z\"/><path d=\"M17.41 7.96l-1.37-1.37c-.4-.4-.92-.59-1.43-.59-.52 0-1.04.2-1.43.59L10.3 9.45l-7.72 7.72c-.78.78-.78 2.05 0 2.83L4 21.41c.39.39.9.59 1.41.59.51 0 1.02-.2 1.41-.59l7.78-7.78 2.81-2.81c.8-.78.8-2.07 0-2.86zM5.41 20L4 18.59l7.72-7.72 1.47 1.35L5.41 20z\"/>\n",
              "  </svg>\n",
              "      </button>\n",
              "      \n",
              "  <style>\n",
              "    .colab-df-container {\n",
              "      display:flex;\n",
              "      flex-wrap:wrap;\n",
              "      gap: 12px;\n",
              "    }\n",
              "\n",
              "    .colab-df-convert {\n",
              "      background-color: #E8F0FE;\n",
              "      border: none;\n",
              "      border-radius: 50%;\n",
              "      cursor: pointer;\n",
              "      display: none;\n",
              "      fill: #1967D2;\n",
              "      height: 32px;\n",
              "      padding: 0 0 0 0;\n",
              "      width: 32px;\n",
              "    }\n",
              "\n",
              "    .colab-df-convert:hover {\n",
              "      background-color: #E2EBFA;\n",
              "      box-shadow: 0px 1px 2px rgba(60, 64, 67, 0.3), 0px 1px 3px 1px rgba(60, 64, 67, 0.15);\n",
              "      fill: #174EA6;\n",
              "    }\n",
              "\n",
              "    [theme=dark] .colab-df-convert {\n",
              "      background-color: #3B4455;\n",
              "      fill: #D2E3FC;\n",
              "    }\n",
              "\n",
              "    [theme=dark] .colab-df-convert:hover {\n",
              "      background-color: #434B5C;\n",
              "      box-shadow: 0px 1px 3px 1px rgba(0, 0, 0, 0.15);\n",
              "      filter: drop-shadow(0px 1px 2px rgba(0, 0, 0, 0.3));\n",
              "      fill: #FFFFFF;\n",
              "    }\n",
              "  </style>\n",
              "\n",
              "      <script>\n",
              "        const buttonEl =\n",
              "          document.querySelector('#df-f6239b3f-7c83-4ab7-bef4-cdd61fb64543 button.colab-df-convert');\n",
              "        buttonEl.style.display =\n",
              "          google.colab.kernel.accessAllowed ? 'block' : 'none';\n",
              "\n",
              "        async function convertToInteractive(key) {\n",
              "          const element = document.querySelector('#df-f6239b3f-7c83-4ab7-bef4-cdd61fb64543');\n",
              "          const dataTable =\n",
              "            await google.colab.kernel.invokeFunction('convertToInteractive',\n",
              "                                                     [key], {});\n",
              "          if (!dataTable) return;\n",
              "\n",
              "          const docLinkHtml = 'Like what you see? Visit the ' +\n",
              "            '<a target=\"_blank\" href=https://colab.research.google.com/notebooks/data_table.ipynb>data table notebook</a>'\n",
              "            + ' to learn more about interactive tables.';\n",
              "          element.innerHTML = '';\n",
              "          dataTable['output_type'] = 'display_data';\n",
              "          await google.colab.output.renderOutput(dataTable, element);\n",
              "          const docLink = document.createElement('div');\n",
              "          docLink.innerHTML = docLinkHtml;\n",
              "          element.appendChild(docLink);\n",
              "        }\n",
              "      </script>\n",
              "    </div>\n",
              "  </div>\n",
              "  "
            ]
          },
          "metadata": {},
          "execution_count": 65
        }
      ],
      "source": [
        "dfBang.head()"
      ]
    },
    {
      "cell_type": "code",
      "execution_count": 66,
      "metadata": {
        "id": "EBKpnZ4peZnh"
      },
      "outputs": [],
      "source": [
        "dfBang[\"priceLinearQuantity\"] = np.exp(model_linear_q.predict())"
      ]
    },
    {
      "cell_type": "code",
      "execution_count": 67,
      "metadata": {
        "id": "pNKEXtZJeZni"
      },
      "outputs": [],
      "source": [
        "model_linear_q_pred = model_linear_q.predict()"
      ]
    },
    {
      "cell_type": "code",
      "execution_count": 68,
      "metadata": {
        "colab": {
          "base_uri": "https://localhost:8080/",
          "height": 575
        },
        "id": "MXayhmNJeZni",
        "outputId": "7e30cf06-8fc2-4eb1-a8f2-561ed2db6b39"
      },
      "outputs": [
        {
          "output_type": "execute_result",
          "data": {
            "text/plain": [
              "<matplotlib.axes._subplots.AxesSubplot at 0x7f36fd7ab110>"
            ]
          },
          "metadata": {},
          "execution_count": 68
        },
        {
          "output_type": "display_data",
          "data": {
            "text/plain": [
              "<Figure size 432x288 with 1 Axes>"
            ],
            "image/png": "[encoded data removed]"
          },
          "metadata": {
            "needs_background": "light"
          }
        },
        {
          "output_type": "display_data",
          "data": {
            "text/plain": [
              "<Figure size 432x288 with 1 Axes>"
            ],
            "image/png": "[encoded data removed]"
          },
          "metadata": {
            "needs_background": "light"
          }
        }
      ],
      "source": [
        "dfBang.plot(kind = \"line\", x=\"timeIndex\", y = \"quantity\")\n",
        "dfBang.plot(kind=\"line\", x=\"timeIndex\", y = [\"priceMod\", \"priceMean\", \n",
        "                                             \"priceLinear\", \"priceLinearQuantity\"])"
      ]
    },
    {
      "cell_type": "markdown",
      "metadata": {
        "id": "QsYUkqRoeZni"
      },
      "source": [
        "### Задание 3. Постройте линейную модель с регрессией для величины `quantity`."
      ]
    },
    {
      "cell_type": "code",
      "execution_count": 70,
      "metadata": {
        "id": "K63JH5QeeZni"
      },
      "outputs": [],
      "source": [
        "### your code here"
      ]
    },
    {
      "cell_type": "markdown",
      "metadata": {
        "id": "shP74VEVeZni"
      },
      "source": [
        "## 2 Выделение тренда и сезонности\n",
        "\n",
        "При работе с временными рядами выделяют два действия:\n",
        "- Дифференцирование — расчет разницы с определенным временным лагом\n",
        "- Декомпозиция — моделирование как тренда, так и сезонности и удаление их из модели."
      ]
    },
    {
      "cell_type": "markdown",
      "metadata": {
        "id": "_RdpWhnleZni"
      },
      "source": [
        "Предположим, что у вас имеются ежемесячные данные о пассажиропотоке на международных авиалиниях.  \n",
        "Объем пассажиропотока имеет во времени возрастающий линейный тренд, и в ряде имеется ежегодно повторяющаяся закономерность — сезонность (большинство перевозок приходится на летние месяцы, кроме того, имеется пик меньшей высоты в районе декабрьских каникул). \n",
        "Цель декомпозиции как раз и состоит в том, чтобы отделить эти компоненты, то есть разложить ряд на составляющую тренда, сезонную компоненту и оставшуюся нерегулярную составляющую. "
      ]
    },
    {
      "cell_type": "markdown",
      "metadata": {
        "id": "pLhCerhbeZni"
      },
      "source": [
        "То есть каждый уровень временного ряда формируется под воздействием большого числа факторов, которые условно можно подразделить на три группы:\n",
        "- факторы, формирующие тенденцию ряда\n",
        "- факторы, формирующие циклические колебания ряда\n",
        "- случайные факторы  \n",
        "\n",
        "Рассмотрим воздействие каждого фактора на временной ряд в отдельности.  \n",
        "Большинство временных рядов экономических показателей имеют тенденцию, \n",
        "характеризующую совокупное долговременное воздействие множества факторов на динамику изучаемого показателя.  \n",
        "Все эти факторы, взятые в отдельности, могут оказывать разнонаправленное воздействие на исследуемый показатель. Однако в совокупности они формируют его возрастающую или убывающую тенденцию"
      ]
    },
    {
      "cell_type": "markdown",
      "metadata": {
        "id": "voc7e2AreZnj"
      },
      "source": [
        "В большинстве случаев фактический уровень временного ряда можно представить как сумму или произведение трендовой, циклической и случайной компонент. Модель, в которой временной ряд представлен как сумма перечисленных компонент, называется **аддитивной** моделью временного ряда. Модель, в которой временной ряд представлен как произведение перечисленных компонент, называется **мультипликативной** моделью временного ряда. "
      ]
    },
    {
      "cell_type": "markdown",
      "metadata": {
        "id": "px1Y6aDPeZnj"
      },
      "source": [
        "**Аддитивная модель** \n",
        "$${Y_t} = t (trend) + s (seasonality) + r (residual)$$"
      ]
    },
    {
      "cell_type": "markdown",
      "metadata": {
        "id": "v6-KjpfReZnj"
      },
      "source": [
        "![](https://miro.medium.com/max/1360/0*JWWglnH4RBR-SbxC.png)"
      ]
    },
    {
      "cell_type": "markdown",
      "metadata": {
        "id": "xym16eAXeZnj"
      },
      "source": [
        "**Мультипликативная модель** \n",
        "$${Y_t} = t (trend) * s (seasonality) * r (residual)$$"
      ]
    },
    {
      "cell_type": "markdown",
      "metadata": {
        "id": "lJKbFeYueZnj"
      },
      "source": [
        "![](https://anomaly.io/wp-content/uploads/2015/12/multiplicative-model.png)"
      ]
    },
    {
      "cell_type": "markdown",
      "metadata": {
        "id": "iElEfbPleZnj"
      },
      "source": [
        "Как видим, отличие мультипликативной модели от аддитивной состоит в том, \n",
        "что в мультипликативной модели сезонная и случайная составляющие определены в виде относительных величин (коэффициентов), \n",
        "а в аддитивной модели – в виде абсолютных величин.   \n",
        "Эти модели в практических расчетах дадут близкие результаты, если амплитуда колебаний уровней ряда слабо изменяется во времени"
      ]
    },
    {
      "cell_type": "markdown",
      "metadata": {
        "id": "7GXwqLVJeZnj"
      },
      "source": [
        "Какие примеры аддитивных и мультипликаативных рядов из жизни вы знаете?"
      ]
    },
    {
      "cell_type": "markdown",
      "metadata": {
        "id": "fu4WJqQveZnj"
      },
      "source": [
        "### Расчет лагов\n",
        "Представим временной ряд в виде последовательности разницы между значениями.  \n",
        "Рассчитаем лаги, выведем их на графике"
      ]
    },
    {
      "cell_type": "code",
      "execution_count": 71,
      "metadata": {
        "id": "WiKs8p2PeZnk"
      },
      "outputs": [],
      "source": [
        "# Рассчитаем лаги\n",
        "dfBang[\"priceModLogShift1\"] = dfBang.priceModLog.shift()"
      ]
    },
    {
      "cell_type": "code",
      "execution_count": 72,
      "metadata": {
        "colab": {
          "base_uri": "https://localhost:8080/",
          "height": 299
        },
        "id": "3d_SDOS5eZnk",
        "outputId": "a1ac554b-ae16-4d0a-b005-85325c8499e0"
      },
      "outputs": [
        {
          "output_type": "execute_result",
          "data": {
            "text/plain": [
              "<matplotlib.axes._subplots.AxesSubplot at 0x7f36fd77bc10>"
            ]
          },
          "metadata": {},
          "execution_count": 72
        },
        {
          "output_type": "display_data",
          "data": {
            "text/plain": [
              "<Figure size 432x288 with 1 Axes>"
            ],
            "image/png": "[encoded data removed]"
          },
          "metadata": {
            "needs_background": "light"
          }
        }
      ],
      "source": [
        "# Выведем на графике priceModLog и priceModLogShift1\n",
        "dfBang.plot(kind= \"scatter\", y = \"priceModLog\", x = \"priceModLogShift1\", s = 50)"
      ]
    },
    {
      "cell_type": "code",
      "execution_count": 73,
      "metadata": {
        "id": "oDsj0hsBeZnk"
      },
      "outputs": [],
      "source": [
        "dfBang[\"priceModLogDiff\"] = dfBang.priceModLog - dfBang.priceModLogShift1"
      ]
    },
    {
      "cell_type": "code",
      "execution_count": 74,
      "metadata": {
        "colab": {
          "base_uri": "https://localhost:8080/",
          "height": 299
        },
        "id": "0mOZW7V4eZnk",
        "outputId": "5c913720-97dc-466a-f30d-9a8736f28877"
      },
      "outputs": [
        {
          "output_type": "execute_result",
          "data": {
            "text/plain": [
              "<matplotlib.axes._subplots.AxesSubplot at 0x7f36fd8f7650>"
            ]
          },
          "metadata": {},
          "execution_count": 74
        },
        {
          "output_type": "display_data",
          "data": {
            "text/plain": [
              "<Figure size 432x288 with 1 Axes>"
            ],
            "image/png": "[encoded data removed]"
          },
          "metadata": {
            "needs_background": "light"
          }
        }
      ],
      "source": [
        "dfBang.priceModLogDiff.plot()"
      ]
    },
    {
      "cell_type": "markdown",
      "metadata": {
        "id": "Rn6ZgVPXeZnk"
      },
      "source": [
        "### Декомпозиция \n",
        "Декомпозируем наш временной ряд на тренд и сезонность"
      ]
    },
    {
      "cell_type": "code",
      "execution_count": 75,
      "metadata": {
        "id": "Q2DCtE5aeZnk"
      },
      "outputs": [],
      "source": [
        "from statsmodels.tsa.seasonal import seasonal_decompose"
      ]
    },
    {
      "cell_type": "code",
      "execution_count": 76,
      "metadata": {
        "id": "iNOBf7zYeZnk"
      },
      "outputs": [],
      "source": [
        "dfBang.index = dfBang.index.to_timestamp()"
      ]
    },
    {
      "cell_type": "code",
      "execution_count": 77,
      "metadata": {
        "colab": {
          "base_uri": "https://localhost:8080/",
          "height": 238
        },
        "id": "qpL3aDX-eZnk",
        "outputId": "996bb29f-7b64-409b-9b82-2cf177ee5911"
      },
      "outputs": [
        {
          "output_type": "execute_result",
          "data": {
            "text/plain": [
              "            quantity  priceMod       date  priceModLog  priceMean  timeIndex  \\\n",
              "date                                                                           \n",
              "2004-01-01    227832       991 2004-01-01         6.90     884.57          0   \n",
              "2004-02-01    225133       793 2004-02-01         6.68     884.57          1   \n",
              "2004-03-01    221952       556 2004-03-01         6.32     884.57          2   \n",
              "2004-04-01    185150       465 2004-04-01         6.14     884.57          3   \n",
              "2004-05-01    137390       455 2004-05-01         6.12     884.57          4   \n",
              "\n",
              "            priceLinear  priceLinearQuantity  priceModLogShift1  \\\n",
              "date                                                              \n",
              "2004-01-01       451.29               431.41                NaN   \n",
              "2004-02-01       455.50               434.28               6.90   \n",
              "2004-03-01       459.75               437.01               6.68   \n",
              "2004-04-01       464.03               428.67               6.32   \n",
              "2004-05-01       468.36               413.03               6.14   \n",
              "\n",
              "            priceModLogDiff  \n",
              "date                         \n",
              "2004-01-01              NaN  \n",
              "2004-02-01            -0.22  \n",
              "2004-03-01            -0.36  \n",
              "2004-04-01            -0.18  \n",
              "2004-05-01            -0.02  "
            ],
            "text/html": [
              "\n",
              "  <div id=\"df-15fefcc3-775c-479a-8bb9-26dcf3843d66\">\n",
              "    <div class=\"colab-df-container\">\n",
              "      <div>\n",
              "<style scoped>\n",
              "    .dataframe tbody tr th:only-of-type {\n",
              "        vertical-align: middle;\n",
              "    }\n",
              "\n",
              "    .dataframe tbody tr th {\n",
              "        vertical-align: top;\n",
              "    }\n",
              "\n",
              "    .dataframe thead th {\n",
              "        text-align: right;\n",
              "    }\n",
              "</style>\n",
              "<table border=\"1\" class=\"dataframe\">\n",
              "  <thead>\n",
              "    <tr style=\"text-align: right;\">\n",
              "      <th></th>\n",
              "      <th>quantity</th>\n",
              "      <th>priceMod</th>\n",
              "      <th>date</th>\n",
              "      <th>priceModLog</th>\n",
              "      <th>priceMean</th>\n",
              "      <th>timeIndex</th>\n",
              "      <th>priceLinear</th>\n",
              "      <th>priceLinearQuantity</th>\n",
              "      <th>priceModLogShift1</th>\n",
              "      <th>priceModLogDiff</th>\n",
              "    </tr>\n",
              "    <tr>\n",
              "      <th>date</th>\n",
              "      <th></th>\n",
              "      <th></th>\n",
              "      <th></th>\n",
              "      <th></th>\n",
              "      <th></th>\n",
              "      <th></th>\n",
              "      <th></th>\n",
              "      <th></th>\n",
              "      <th></th>\n",
              "      <th></th>\n",
              "    </tr>\n",
              "  </thead>\n",
              "  <tbody>\n",
              "    <tr>\n",
              "      <th>2004-01-01</th>\n",
              "      <td>227832</td>\n",
              "      <td>991</td>\n",
              "      <td>2004-01-01</td>\n",
              "      <td>6.90</td>\n",
              "      <td>884.57</td>\n",
              "      <td>0</td>\n",
              "      <td>451.29</td>\n",
              "      <td>431.41</td>\n",
              "      <td>NaN</td>\n",
              "      <td>NaN</td>\n",
              "    </tr>\n",
              "    <tr>\n",
              "      <th>2004-02-01</th>\n",
              "      <td>225133</td>\n",
              "      <td>793</td>\n",
              "      <td>2004-02-01</td>\n",
              "      <td>6.68</td>\n",
              "      <td>884.57</td>\n",
              "      <td>1</td>\n",
              "      <td>455.50</td>\n",
              "      <td>434.28</td>\n",
              "      <td>6.90</td>\n",
              "      <td>-0.22</td>\n",
              "    </tr>\n",
              "    <tr>\n",
              "      <th>2004-03-01</th>\n",
              "      <td>221952</td>\n",
              "      <td>556</td>\n",
              "      <td>2004-03-01</td>\n",
              "      <td>6.32</td>\n",
              "      <td>884.57</td>\n",
              "      <td>2</td>\n",
              "      <td>459.75</td>\n",
              "      <td>437.01</td>\n",
              "      <td>6.68</td>\n",
              "      <td>-0.36</td>\n",
              "    </tr>\n",
              "    <tr>\n",
              "      <th>2004-04-01</th>\n",
              "      <td>185150</td>\n",
              "      <td>465</td>\n",
              "      <td>2004-04-01</td>\n",
              "      <td>6.14</td>\n",
              "      <td>884.57</td>\n",
              "      <td>3</td>\n",
              "      <td>464.03</td>\n",
              "      <td>428.67</td>\n",
              "      <td>6.32</td>\n",
              "      <td>-0.18</td>\n",
              "    </tr>\n",
              "    <tr>\n",
              "      <th>2004-05-01</th>\n",
              "      <td>137390</td>\n",
              "      <td>455</td>\n",
              "      <td>2004-05-01</td>\n",
              "      <td>6.12</td>\n",
              "      <td>884.57</td>\n",
              "      <td>4</td>\n",
              "      <td>468.36</td>\n",
              "      <td>413.03</td>\n",
              "      <td>6.14</td>\n",
              "      <td>-0.02</td>\n",
              "    </tr>\n",
              "  </tbody>\n",
              "</table>\n",
              "</div>\n",
              "      <button class=\"colab-df-convert\" onclick=\"convertToInteractive('df-15fefcc3-775c-479a-8bb9-26dcf3843d66')\"\n",
              "              title=\"Convert this dataframe to an interactive table.\"\n",
              "              style=\"display:none;\">\n",
              "        \n",
              "  <svg xmlns=\"http://www.w3.org/2000/svg\" height=\"24px\"viewBox=\"0 0 24 24\"\n",
              "       width=\"24px\">\n",
              "    <path d=\"M0 0h24v24H0V0z\" fill=\"none\"/>\n",
              "    <path d=\"M18.56 5.44l.94 2.06.94-2.06 2.06-.94-2.06-.94-.94-2.06-.94 2.06-2.06.94zm-11 1L8.5 8.5l.94-2.06 2.06-.94-2.06-.94L8.5 2.5l-.94 2.06-2.06.94zm10 10l.94 2.06.94-2.06 2.06-.94-2.06-.94-.94-2.06-.94 2.06-2.06.94z\"/><path d=\"M17.41 7.96l-1.37-1.37c-.4-.4-.92-.59-1.43-.59-.52 0-1.04.2-1.43.59L10.3 9.45l-7.72 7.72c-.78.78-.78 2.05 0 2.83L4 21.41c.39.39.9.59 1.41.59.51 0 1.02-.2 1.41-.59l7.78-7.78 2.81-2.81c.8-.78.8-2.07 0-2.86zM5.41 20L4 18.59l7.72-7.72 1.47 1.35L5.41 20z\"/>\n",
              "  </svg>\n",
              "      </button>\n",
              "      \n",
              "  <style>\n",
              "    .colab-df-container {\n",
              "      display:flex;\n",
              "      flex-wrap:wrap;\n",
              "      gap: 12px;\n",
              "    }\n",
              "\n",
              "    .colab-df-convert {\n",
              "      background-color: #E8F0FE;\n",
              "      border: none;\n",
              "      border-radius: 50%;\n",
              "      cursor: pointer;\n",
              "      display: none;\n",
              "      fill: #1967D2;\n",
              "      height: 32px;\n",
              "      padding: 0 0 0 0;\n",
              "      width: 32px;\n",
              "    }\n",
              "\n",
              "    .colab-df-convert:hover {\n",
              "      background-color: #E2EBFA;\n",
              "      box-shadow: 0px 1px 2px rgba(60, 64, 67, 0.3), 0px 1px 3px 1px rgba(60, 64, 67, 0.15);\n",
              "      fill: #174EA6;\n",
              "    }\n",
              "\n",
              "    [theme=dark] .colab-df-convert {\n",
              "      background-color: #3B4455;\n",
              "      fill: #D2E3FC;\n",
              "    }\n",
              "\n",
              "    [theme=dark] .colab-df-convert:hover {\n",
              "      background-color: #434B5C;\n",
              "      box-shadow: 0px 1px 3px 1px rgba(0, 0, 0, 0.15);\n",
              "      filter: drop-shadow(0px 1px 2px rgba(0, 0, 0, 0.3));\n",
              "      fill: #FFFFFF;\n",
              "    }\n",
              "  </style>\n",
              "\n",
              "      <script>\n",
              "        const buttonEl =\n",
              "          document.querySelector('#df-15fefcc3-775c-479a-8bb9-26dcf3843d66 button.colab-df-convert');\n",
              "        buttonEl.style.display =\n",
              "          google.colab.kernel.accessAllowed ? 'block' : 'none';\n",
              "\n",
              "        async function convertToInteractive(key) {\n",
              "          const element = document.querySelector('#df-15fefcc3-775c-479a-8bb9-26dcf3843d66');\n",
              "          const dataTable =\n",
              "            await google.colab.kernel.invokeFunction('convertToInteractive',\n",
              "                                                     [key], {});\n",
              "          if (!dataTable) return;\n",
              "\n",
              "          const docLinkHtml = 'Like what you see? Visit the ' +\n",
              "            '<a target=\"_blank\" href=https://colab.research.google.com/notebooks/data_table.ipynb>data table notebook</a>'\n",
              "            + ' to learn more about interactive tables.';\n",
              "          element.innerHTML = '';\n",
              "          dataTable['output_type'] = 'display_data';\n",
              "          await google.colab.output.renderOutput(dataTable, element);\n",
              "          const docLink = document.createElement('div');\n",
              "          docLink.innerHTML = docLinkHtml;\n",
              "          element.appendChild(docLink);\n",
              "        }\n",
              "      </script>\n",
              "    </div>\n",
              "  </div>\n",
              "  "
            ]
          },
          "metadata": {},
          "execution_count": 77
        }
      ],
      "source": [
        "dfBang.head()"
      ]
    },
    {
      "cell_type": "code",
      "execution_count": 78,
      "metadata": {
        "id": "-VERnjIReZnl"
      },
      "outputs": [],
      "source": [
        "decomposition = seasonal_decompose(dfBang.priceModLog, model = \"additive\")"
      ]
    },
    {
      "cell_type": "code",
      "execution_count": 112,
      "metadata": {
        "colab": {
          "base_uri": "https://localhost:8080/",
          "height": 299
        },
        "id": "C1zhQmoteZnl",
        "outputId": "33c6f564-1ce3-40cc-c23f-37204337cd93"
      },
      "outputs": [
        {
          "output_type": "display_data",
          "data": {
            "text/plain": [
              "<Figure size 432x288 with 4 Axes>"
            ],
            "image/png": "[encoded data removed]"
          },
          "metadata": {
            "needs_background": "light"
          }
        }
      ],
      "source": [
        "decomposition.plot();"
      ]
    },
    {
      "cell_type": "code",
      "execution_count": 113,
      "metadata": {
        "id": "ZixbpfeReZnl"
      },
      "outputs": [],
      "source": [
        "trend = decomposition.trend\n",
        "seasonal = decomposition.seasonal\n",
        "residual = decomposition.resid"
      ]
    },
    {
      "cell_type": "code",
      "execution_count": 114,
      "metadata": {
        "id": "ovzqJf3keZnl"
      },
      "outputs": [],
      "source": [
        "# Построим ряд по тренду и сезонности\n",
        "dfBang[\"priceDecomp\"] = np.exp(trend + seasonal)"
      ]
    },
    {
      "cell_type": "code",
      "execution_count": 115,
      "metadata": {
        "colab": {
          "base_uri": "https://localhost:8080/"
        },
        "id": "iXdLidIYeZnl",
        "outputId": "3f364b97-a948-4fed-88d4-b26eeb64b136"
      },
      "outputs": [
        {
          "output_type": "execute_result",
          "data": {
            "text/plain": [
              "374.1085846480237"
            ]
          },
          "metadata": {},
          "execution_count": 115
        }
      ],
      "source": [
        "# Расчет RMSE\n",
        "model_Decomp_RMSE = RMSE(dfBang.priceDecomp, dfBang.priceMod)\n",
        "model_Decomp_RMSE"
      ]
    },
    {
      "cell_type": "code",
      "execution_count": 116,
      "metadata": {
        "colab": {
          "base_uri": "https://localhost:8080/",
          "height": 299
        },
        "id": "Ko2ByfKxeZnl",
        "outputId": "11888b7d-69dd-439d-8852-1595c5888062"
      },
      "outputs": [
        {
          "output_type": "execute_result",
          "data": {
            "text/plain": [
              "<matplotlib.axes._subplots.AxesSubplot at 0x7f36f87018d0>"
            ]
          },
          "metadata": {},
          "execution_count": 116
        },
        {
          "output_type": "display_data",
          "data": {
            "text/plain": [
              "<Figure size 432x288 with 1 Axes>"
            ],
            "image/png": "[encoded data removed]"
          },
          "metadata": {
            "needs_background": "light"
          }
        }
      ],
      "source": [
        "dfBang.plot(kind=\"line\", x=\"timeIndex\", y = [\"priceMod\", \"priceMean\", \"priceLinear\", \"priceLinearQuantity\", \"priceDecomp\"])"
      ]
    },
    {
      "cell_type": "code",
      "execution_count": 117,
      "metadata": {
        "colab": {
          "base_uri": "https://localhost:8080/",
          "height": 143
        },
        "id": "MRU6q-1EeZnl",
        "outputId": "651b3fa5-b1ad-4478-878b-88e23d38afe9"
      },
      "outputs": [
        {
          "output_type": "execute_result",
          "data": {
            "text/plain": [
              "         Model     Forecast   RMSE\n",
              "0         Mean       884.57 683.95\n",
              "1       Linear       Linear 518.52\n",
              "3  priceDecomp  priceDecomp 374.11"
            ],
            "text/html": [
              "\n",
              "  <div id=\"df-47d20457-e0a0-487a-9cd4-cb2660babf91\">\n",
              "    <div class=\"colab-df-container\">\n",
              "      <div>\n",
              "<style scoped>\n",
              "    .dataframe tbody tr th:only-of-type {\n",
              "        vertical-align: middle;\n",
              "    }\n",
              "\n",
              "    .dataframe tbody tr th {\n",
              "        vertical-align: top;\n",
              "    }\n",
              "\n",
              "    .dataframe thead th {\n",
              "        text-align: right;\n",
              "    }\n",
              "</style>\n",
              "<table border=\"1\" class=\"dataframe\">\n",
              "  <thead>\n",
              "    <tr style=\"text-align: right;\">\n",
              "      <th></th>\n",
              "      <th>Model</th>\n",
              "      <th>Forecast</th>\n",
              "      <th>RMSE</th>\n",
              "    </tr>\n",
              "  </thead>\n",
              "  <tbody>\n",
              "    <tr>\n",
              "      <th>0</th>\n",
              "      <td>Mean</td>\n",
              "      <td>884.57</td>\n",
              "      <td>683.95</td>\n",
              "    </tr>\n",
              "    <tr>\n",
              "      <th>1</th>\n",
              "      <td>Linear</td>\n",
              "      <td>Linear</td>\n",
              "      <td>518.52</td>\n",
              "    </tr>\n",
              "    <tr>\n",
              "      <th>3</th>\n",
              "      <td>priceDecomp</td>\n",
              "      <td>priceDecomp</td>\n",
              "      <td>374.11</td>\n",
              "    </tr>\n",
              "  </tbody>\n",
              "</table>\n",
              "</div>\n",
              "      <button class=\"colab-df-convert\" onclick=\"convertToInteractive('df-47d20457-e0a0-487a-9cd4-cb2660babf91')\"\n",
              "              title=\"Convert this dataframe to an interactive table.\"\n",
              "              style=\"display:none;\">\n",
              "        \n",
              "  <svg xmlns=\"http://www.w3.org/2000/svg\" height=\"24px\"viewBox=\"0 0 24 24\"\n",
              "       width=\"24px\">\n",
              "    <path d=\"M0 0h24v24H0V0z\" fill=\"none\"/>\n",
              "    <path d=\"M18.56 5.44l.94 2.06.94-2.06 2.06-.94-2.06-.94-.94-2.06-.94 2.06-2.06.94zm-11 1L8.5 8.5l.94-2.06 2.06-.94-2.06-.94L8.5 2.5l-.94 2.06-2.06.94zm10 10l.94 2.06.94-2.06 2.06-.94-2.06-.94-.94-2.06-.94 2.06-2.06.94z\"/><path d=\"M17.41 7.96l-1.37-1.37c-.4-.4-.92-.59-1.43-.59-.52 0-1.04.2-1.43.59L10.3 9.45l-7.72 7.72c-.78.78-.78 2.05 0 2.83L4 21.41c.39.39.9.59 1.41.59.51 0 1.02-.2 1.41-.59l7.78-7.78 2.81-2.81c.8-.78.8-2.07 0-2.86zM5.41 20L4 18.59l7.72-7.72 1.47 1.35L5.41 20z\"/>\n",
              "  </svg>\n",
              "      </button>\n",
              "      \n",
              "  <style>\n",
              "    .colab-df-container {\n",
              "      display:flex;\n",
              "      flex-wrap:wrap;\n",
              "      gap: 12px;\n",
              "    }\n",
              "\n",
              "    .colab-df-convert {\n",
              "      background-color: #E8F0FE;\n",
              "      border: none;\n",
              "      border-radius: 50%;\n",
              "      cursor: pointer;\n",
              "      display: none;\n",
              "      fill: #1967D2;\n",
              "      height: 32px;\n",
              "      padding: 0 0 0 0;\n",
              "      width: 32px;\n",
              "    }\n",
              "\n",
              "    .colab-df-convert:hover {\n",
              "      background-color: #E2EBFA;\n",
              "      box-shadow: 0px 1px 2px rgba(60, 64, 67, 0.3), 0px 1px 3px 1px rgba(60, 64, 67, 0.15);\n",
              "      fill: #174EA6;\n",
              "    }\n",
              "\n",
              "    [theme=dark] .colab-df-convert {\n",
              "      background-color: #3B4455;\n",
              "      fill: #D2E3FC;\n",
              "    }\n",
              "\n",
              "    [theme=dark] .colab-df-convert:hover {\n",
              "      background-color: #434B5C;\n",
              "      box-shadow: 0px 1px 3px 1px rgba(0, 0, 0, 0.15);\n",
              "      filter: drop-shadow(0px 1px 2px rgba(0, 0, 0, 0.3));\n",
              "      fill: #FFFFFF;\n",
              "    }\n",
              "  </style>\n",
              "\n",
              "      <script>\n",
              "        const buttonEl =\n",
              "          document.querySelector('#df-47d20457-e0a0-487a-9cd4-cb2660babf91 button.colab-df-convert');\n",
              "        buttonEl.style.display =\n",
              "          google.colab.kernel.accessAllowed ? 'block' : 'none';\n",
              "\n",
              "        async function convertToInteractive(key) {\n",
              "          const element = document.querySelector('#df-47d20457-e0a0-487a-9cd4-cb2660babf91');\n",
              "          const dataTable =\n",
              "            await google.colab.kernel.invokeFunction('convertToInteractive',\n",
              "                                                     [key], {});\n",
              "          if (!dataTable) return;\n",
              "\n",
              "          const docLinkHtml = 'Like what you see? Visit the ' +\n",
              "            '<a target=\"_blank\" href=https://colab.research.google.com/notebooks/data_table.ipynb>data table notebook</a>'\n",
              "            + ' to learn more about interactive tables.';\n",
              "          element.innerHTML = '';\n",
              "          dataTable['output_type'] = 'display_data';\n",
              "          await google.colab.output.renderOutput(dataTable, element);\n",
              "          const docLink = document.createElement('div');\n",
              "          docLink.innerHTML = docLinkHtml;\n",
              "          element.appendChild(docLink);\n",
              "        }\n",
              "      </script>\n",
              "    </div>\n",
              "  </div>\n",
              "  "
            ]
          },
          "metadata": {},
          "execution_count": 117
        }
      ],
      "source": [
        "dfBangResults"
      ]
    },
    {
      "cell_type": "code",
      "execution_count": 118,
      "metadata": {
        "colab": {
          "base_uri": "https://localhost:8080/",
          "height": 143
        },
        "id": "LRA3QBa_eZnl",
        "outputId": "1ab07e5c-f851-40e5-fcf1-3cc651167446"
      },
      "outputs": [
        {
          "output_type": "execute_result",
          "data": {
            "text/plain": [
              "         Model     Forecast   RMSE\n",
              "0         Mean       884.57 683.95\n",
              "1       Linear       Linear 518.52\n",
              "3  priceDecomp  priceDecomp 374.11"
            ],
            "text/html": [
              "\n",
              "  <div id=\"df-5b28a772-9b99-4c8b-b8f0-9afa4a6f902f\">\n",
              "    <div class=\"colab-df-container\">\n",
              "      <div>\n",
              "<style scoped>\n",
              "    .dataframe tbody tr th:only-of-type {\n",
              "        vertical-align: middle;\n",
              "    }\n",
              "\n",
              "    .dataframe tbody tr th {\n",
              "        vertical-align: top;\n",
              "    }\n",
              "\n",
              "    .dataframe thead th {\n",
              "        text-align: right;\n",
              "    }\n",
              "</style>\n",
              "<table border=\"1\" class=\"dataframe\">\n",
              "  <thead>\n",
              "    <tr style=\"text-align: right;\">\n",
              "      <th></th>\n",
              "      <th>Model</th>\n",
              "      <th>Forecast</th>\n",
              "      <th>RMSE</th>\n",
              "    </tr>\n",
              "  </thead>\n",
              "  <tbody>\n",
              "    <tr>\n",
              "      <th>0</th>\n",
              "      <td>Mean</td>\n",
              "      <td>884.57</td>\n",
              "      <td>683.95</td>\n",
              "    </tr>\n",
              "    <tr>\n",
              "      <th>1</th>\n",
              "      <td>Linear</td>\n",
              "      <td>Linear</td>\n",
              "      <td>518.52</td>\n",
              "    </tr>\n",
              "    <tr>\n",
              "      <th>3</th>\n",
              "      <td>priceDecomp</td>\n",
              "      <td>priceDecomp</td>\n",
              "      <td>374.11</td>\n",
              "    </tr>\n",
              "  </tbody>\n",
              "</table>\n",
              "</div>\n",
              "      <button class=\"colab-df-convert\" onclick=\"convertToInteractive('df-5b28a772-9b99-4c8b-b8f0-9afa4a6f902f')\"\n",
              "              title=\"Convert this dataframe to an interactive table.\"\n",
              "              style=\"display:none;\">\n",
              "        \n",
              "  <svg xmlns=\"http://www.w3.org/2000/svg\" height=\"24px\"viewBox=\"0 0 24 24\"\n",
              "       width=\"24px\">\n",
              "    <path d=\"M0 0h24v24H0V0z\" fill=\"none\"/>\n",
              "    <path d=\"M18.56 5.44l.94 2.06.94-2.06 2.06-.94-2.06-.94-.94-2.06-.94 2.06-2.06.94zm-11 1L8.5 8.5l.94-2.06 2.06-.94-2.06-.94L8.5 2.5l-.94 2.06-2.06.94zm10 10l.94 2.06.94-2.06 2.06-.94-2.06-.94-.94-2.06-.94 2.06-2.06.94z\"/><path d=\"M17.41 7.96l-1.37-1.37c-.4-.4-.92-.59-1.43-.59-.52 0-1.04.2-1.43.59L10.3 9.45l-7.72 7.72c-.78.78-.78 2.05 0 2.83L4 21.41c.39.39.9.59 1.41.59.51 0 1.02-.2 1.41-.59l7.78-7.78 2.81-2.81c.8-.78.8-2.07 0-2.86zM5.41 20L4 18.59l7.72-7.72 1.47 1.35L5.41 20z\"/>\n",
              "  </svg>\n",
              "      </button>\n",
              "      \n",
              "  <style>\n",
              "    .colab-df-container {\n",
              "      display:flex;\n",
              "      flex-wrap:wrap;\n",
              "      gap: 12px;\n",
              "    }\n",
              "\n",
              "    .colab-df-convert {\n",
              "      background-color: #E8F0FE;\n",
              "      border: none;\n",
              "      border-radius: 50%;\n",
              "      cursor: pointer;\n",
              "      display: none;\n",
              "      fill: #1967D2;\n",
              "      height: 32px;\n",
              "      padding: 0 0 0 0;\n",
              "      width: 32px;\n",
              "    }\n",
              "\n",
              "    .colab-df-convert:hover {\n",
              "      background-color: #E2EBFA;\n",
              "      box-shadow: 0px 1px 2px rgba(60, 64, 67, 0.3), 0px 1px 3px 1px rgba(60, 64, 67, 0.15);\n",
              "      fill: #174EA6;\n",
              "    }\n",
              "\n",
              "    [theme=dark] .colab-df-convert {\n",
              "      background-color: #3B4455;\n",
              "      fill: #D2E3FC;\n",
              "    }\n",
              "\n",
              "    [theme=dark] .colab-df-convert:hover {\n",
              "      background-color: #434B5C;\n",
              "      box-shadow: 0px 1px 3px 1px rgba(0, 0, 0, 0.15);\n",
              "      filter: drop-shadow(0px 1px 2px rgba(0, 0, 0, 0.3));\n",
              "      fill: #FFFFFF;\n",
              "    }\n",
              "  </style>\n",
              "\n",
              "      <script>\n",
              "        const buttonEl =\n",
              "          document.querySelector('#df-5b28a772-9b99-4c8b-b8f0-9afa4a6f902f button.colab-df-convert');\n",
              "        buttonEl.style.display =\n",
              "          google.colab.kernel.accessAllowed ? 'block' : 'none';\n",
              "\n",
              "        async function convertToInteractive(key) {\n",
              "          const element = document.querySelector('#df-5b28a772-9b99-4c8b-b8f0-9afa4a6f902f');\n",
              "          const dataTable =\n",
              "            await google.colab.kernel.invokeFunction('convertToInteractive',\n",
              "                                                     [key], {});\n",
              "          if (!dataTable) return;\n",
              "\n",
              "          const docLinkHtml = 'Like what you see? Visit the ' +\n",
              "            '<a target=\"_blank\" href=https://colab.research.google.com/notebooks/data_table.ipynb>data table notebook</a>'\n",
              "            + ' to learn more about interactive tables.';\n",
              "          element.innerHTML = '';\n",
              "          dataTable['output_type'] = 'display_data';\n",
              "          await google.colab.output.renderOutput(dataTable, element);\n",
              "          const docLink = document.createElement('div');\n",
              "          docLink.innerHTML = docLinkHtml;\n",
              "          element.appendChild(docLink);\n",
              "        }\n",
              "      </script>\n",
              "    </div>\n",
              "  </div>\n",
              "  "
            ]
          },
          "metadata": {},
          "execution_count": 118
        }
      ],
      "source": [
        "dfBangResults.loc[3,\"Model\"] = \"priceDecomp\"\n",
        "dfBangResults.loc[3,\"Forecast\"] = 'priceDecomp'\n",
        "dfBangResults.loc[3,\"RMSE\"] = model_Decomp_RMSE\n",
        "dfBangResults.head()"
      ]
    },
    {
      "cell_type": "markdown",
      "metadata": {
        "id": "seAWlSlGeZnm"
      },
      "source": [
        "### Задание 4. Декомпозируйте ряд остатков `quantity`."
      ]
    },
    {
      "cell_type": "code",
      "execution_count": 87,
      "metadata": {
        "id": "YYSLX1OOeZnm"
      },
      "outputs": [],
      "source": [
        "### your code here"
      ]
    },
    {
      "cell_type": "markdown",
      "metadata": {
        "id": "oaUpTgKgeZnm"
      },
      "source": [
        "## 3 Стационарность ряда\n",
        "\n",
        "Перед тем, как перейти к моделированию, стоит сказать о таком важном свойстве временного ряда, как стационарность.  \n",
        "Под стационарностью понимают свойство процесса не менять своих статистических характеристик с течением времени, а именно постоянство матожидания, постоянство дисперсии и независимость ковариационной функции от времени (должна зависеть только от расстояния между наблюдениями). Наглядно можно посмотреть на эти свойства на картинках:\n",
        "\n",
        "![](https://habrastorage.org/files/20c/9d8/a63/20c9d8a633ec436f91dccd4aedcc6940.png)  \n",
        "Временной ряд справа не является стационарным, так как его матожидание со временем растёт\n",
        "\n",
        "![](https://habrastorage.org/files/b88/eec/a67/b88eeca676d642449cab135273fd5a95.png)  \n",
        "Здесь не повезло с дисперсией — разброс значений ряда существенно варьируется в зависимости от периода\n",
        "\n",
        "![](https://habrastorage.org/files/2f6/1ee/cb2/2f61eecb20714352840748b826e38680.png)  \n",
        "На последнем графике видно, что значения ряда внезапно становятся ближе друг ко другу, образуя некоторый кластер, а в результате получаем непостоянство ковариаций\n"
      ]
    },
    {
      "cell_type": "markdown",
      "metadata": {
        "id": "N47oBNr0eZnm"
      },
      "source": [
        "Почему стационарность так важна?  \n",
        "По стационарному ряду просто строить прогноз, так как мы полагаем, что его будущие статистические характеристики не будут отличаться от наблюдаемых текущих. Большинство моделей временных рядов так или иначе моделируют и предсказывают эти характеристики (например, матожидание или дисперсию), поэтому в случае нестационарности исходного ряда предсказания окажутся неверными. К сожалению, большинство временных рядов, с которыми приходится сталкиваться за пределыми учебных материалов, стационарными не являются, но с этим можно (и нужно) бороться.\n",
        "\n",
        "Проверить стационраность ряда можно с помощью критерия [Дики-Фуллера ](https://en.wikipedia.org/wiki/Dickey%E2%80%93Fuller_test)"
      ]
    },
    {
      "cell_type": "markdown",
      "source": [
        ""
      ],
      "metadata": {
        "id": "EWwkSNR80aVE"
      }
    },
    {
      "cell_type": "code",
      "execution_count": 119,
      "metadata": {
        "colab": {
          "base_uri": "https://localhost:8080/"
        },
        "id": "M-TpJDvPeZnm",
        "outputId": "a5907a56-3e4f-45ea-ad1c-e9964c3e717c"
      },
      "outputs": [
        {
          "output_type": "stream",
          "name": "stdout",
          "text": [
            "adf:  -4.004401077671534\n",
            "p-value:  0.00138764044231547\n",
            "Critical values:  {'1%': -3.4769274060112707, '5%': -2.8819726324025625, '10%': -2.577665408088415}\n",
            "Единичных корней нет, ряд стационарен\n"
          ]
        }
      ],
      "source": [
        "# Проверка ряда на стационарость с помощью расширенного теста Дики — Фуллера \n",
        "test = sm.tsa.adfuller(dfBang.priceMod)\n",
        "print('adf: ', test[0])\n",
        "print('p-value: ', test[1])\n",
        "print('Critical values: ', test[4])\n",
        "if test[0]> test[4]['5%']: \n",
        "    print('Есть единичные корни, ряд не стационарен')\n",
        "else:\n",
        "    print('Единичных корней нет, ряд стационарен')\n",
        "\n",
        "# p-value > 0.05: Fail to reject the null hypothesis (H0), the data has a unit root and is non-stationary.\n",
        "# p-value <= 0.05: Reject the null hypothesis (H0), the data does not have a unit root and is stationary."
      ]
    },
    {
      "cell_type": "markdown",
      "metadata": {
        "id": "xP8cKgPXeZnm"
      },
      "source": [
        "## 4 Построение модели АRIMA\n",
        "\n",
        "Для моделирования будем использовать модель ARIMA, построенную для ряда первых разностей.  \n",
        "Итак, чтобы построить модель нам нужно знать ее порядок, состоящий из 2-х параметров:  \n",
        "- p — порядок компоненты AR\n",
        "- d — порядок интегрированного ряда (порядок разности временного ряда)\n",
        "- q — порядок компонетны MA  \n",
        "\n",
        "\n",
        "Параметр d равет 1, осталось определить p и q. Для их определения нам надо изучить авторкорреляционную (ACF) и частично автокорреляционную (PACF) функции для ряда первых разностей.\n",
        "ACF поможет нам определить q, т. к. по ее коррелограмме можно определить количество автокорреляционных коэффициентов сильно отличных от 0 в модели MA\n",
        "PACF поможет нам определить p, т. к. по ее коррелограмме можно определить максимальный номер коэффициента сильно отличный от 0 в модели AR.  \n",
        "\n",
        "Чтобы построить соответствующие коррелограммы, в пакете statsmodels имеются следующие функции: acf и pacf.  \n",
        "Можем построить графики ACF и PACF, у которых по оси X откладываются номера лагов, а по оси Y значения соответствующих функций. Нужно отметить, что количество лагов в функциях и определяет число значимых коэффициентов."
      ]
    },
    {
      "cell_type": "code",
      "execution_count": 90,
      "metadata": {
        "id": "Sm8VcJRveZnn"
      },
      "outputs": [],
      "source": [
        "ts = dfBang.priceModLog\n",
        "ts_diff = dfBang.priceModLogDiff\n",
        "ts_diff.dropna(inplace = True)"
      ]
    },
    {
      "cell_type": "code",
      "execution_count": 91,
      "metadata": {
        "id": "3oFQ53bheZnn"
      },
      "outputs": [],
      "source": [
        "# ACF и PACF \n",
        "from statsmodels.tsa.stattools import acf, pacf"
      ]
    },
    {
      "cell_type": "code",
      "execution_count": 92,
      "metadata": {
        "colab": {
          "base_uri": "https://localhost:8080/"
        },
        "id": "A3saWaWleZnn",
        "outputId": "d8ee50ad-5ed8-4cbf-8b11-718a879a6b9b"
      },
      "outputs": [
        {
          "output_type": "stream",
          "name": "stderr",
          "text": [
            "/usr/local/lib/python3.7/dist-packages/statsmodels/tsa/stattools.py:541: FutureWarning: fft=True will become the default in a future version of statsmodels. To suppress this warning, explicitly set fft=False.\n",
            "  warnings.warn(msg, FutureWarning)\n"
          ]
        }
      ],
      "source": [
        "lag_acf = acf(ts_diff, nlags=20)"
      ]
    },
    {
      "cell_type": "code",
      "execution_count": 93,
      "metadata": {
        "colab": {
          "base_uri": "https://localhost:8080/"
        },
        "id": "d-lYS-nSeZnn",
        "outputId": "87bedb96-d58d-4d97-969e-dba45ec07697"
      },
      "outputs": [
        {
          "output_type": "execute_result",
          "data": {
            "text/plain": [
              "array([ 1.        ,  0.40215445, -0.02855346, -0.21472715, -0.23756032,\n",
              "       -0.26332645, -0.22038359, -0.08576989, -0.0754398 ,  0.01497797,\n",
              "        0.12361818,  0.20862956,  0.158123  ,  0.02053933, -0.01290934,\n",
              "       -0.07097602, -0.17993659, -0.09514604, -0.04878255, -0.08854117,\n",
              "       -0.18810881])"
            ]
          },
          "metadata": {},
          "execution_count": 93
        }
      ],
      "source": [
        "lag_acf"
      ]
    },
    {
      "cell_type": "code",
      "execution_count": 94,
      "metadata": {
        "id": "ijQ5wlxFeZnn"
      },
      "outputs": [],
      "source": [
        "ACF = pd.Series(lag_acf)"
      ]
    },
    {
      "cell_type": "code",
      "execution_count": 95,
      "metadata": {
        "colab": {
          "base_uri": "https://localhost:8080/"
        },
        "id": "VXOZvgykeZnn",
        "outputId": "78f51393-8484-4289-c9c9-e35534929e1d"
      },
      "outputs": [
        {
          "output_type": "execute_result",
          "data": {
            "text/plain": [
              "0     1.00\n",
              "1     0.40\n",
              "2    -0.03\n",
              "3    -0.21\n",
              "4    -0.24\n",
              "5    -0.26\n",
              "6    -0.22\n",
              "7    -0.09\n",
              "8    -0.08\n",
              "9     0.01\n",
              "10    0.12\n",
              "11    0.21\n",
              "12    0.16\n",
              "13    0.02\n",
              "14   -0.01\n",
              "15   -0.07\n",
              "16   -0.18\n",
              "17   -0.10\n",
              "18   -0.05\n",
              "19   -0.09\n",
              "20   -0.19\n",
              "dtype: float64"
            ]
          },
          "metadata": {},
          "execution_count": 95
        }
      ],
      "source": [
        "ACF"
      ]
    },
    {
      "cell_type": "code",
      "execution_count": 96,
      "metadata": {
        "colab": {
          "base_uri": "https://localhost:8080/",
          "height": 286
        },
        "id": "yEd1i1OjeZnn",
        "outputId": "fbb0eb9a-e505-4f37-9250-9986274dc7a4"
      },
      "outputs": [
        {
          "output_type": "execute_result",
          "data": {
            "text/plain": [
              "<matplotlib.axes._subplots.AxesSubplot at 0x7f36fac65150>"
            ]
          },
          "metadata": {},
          "execution_count": 96
        },
        {
          "output_type": "display_data",
          "data": {
            "text/plain": [
              "<Figure size 432x288 with 1 Axes>"
            ],
            "image/png": "[encoded data removed]"
          },
          "metadata": {
            "needs_background": "light"
          }
        }
      ],
      "source": [
        "ACF.plot(kind = \"bar\")"
      ]
    },
    {
      "cell_type": "code",
      "execution_count": 97,
      "metadata": {
        "id": "-3CmR972eZno"
      },
      "outputs": [],
      "source": [
        "lag_pacf = pacf(ts_diff, nlags=20, method='ols')"
      ]
    },
    {
      "cell_type": "code",
      "execution_count": 98,
      "metadata": {
        "id": "qd5l_B6eeZno"
      },
      "outputs": [],
      "source": [
        "PACF = pd.Series(lag_pacf)"
      ]
    },
    {
      "cell_type": "code",
      "execution_count": 99,
      "metadata": {
        "colab": {
          "base_uri": "https://localhost:8080/",
          "height": 286
        },
        "id": "wiiiiIx-eZno",
        "outputId": "bf01cb6a-553c-4b3a-b919-d86a5f6ca2bf"
      },
      "outputs": [
        {
          "output_type": "execute_result",
          "data": {
            "text/plain": [
              "<matplotlib.axes._subplots.AxesSubplot at 0x7f36fabca610>"
            ]
          },
          "metadata": {},
          "execution_count": 99
        },
        {
          "output_type": "display_data",
          "data": {
            "text/plain": [
              "<Figure size 432x288 with 1 Axes>"
            ],
            "image/png": "[encoded data removed]"
          },
          "metadata": {
            "needs_background": "light"
          }
        }
      ],
      "source": [
        "PACF.plot(kind = \"bar\")"
      ]
    },
    {
      "cell_type": "markdown",
      "source": [
        "**Или проще:**"
      ],
      "metadata": {
        "id": "tZUxXZ580080"
      }
    },
    {
      "cell_type": "code",
      "source": [
        "sm.graphics.tsa.plot_acf(ts_diff, lags=30)\n",
        "plt.show()"
      ],
      "metadata": {
        "colab": {
          "base_uri": "https://localhost:8080/",
          "height": 282
        },
        "id": "DMLqeodn00lA",
        "outputId": "c6f006e7-468e-4436-827a-3b233bc03dab"
      },
      "execution_count": 120,
      "outputs": [
        {
          "output_type": "display_data",
          "data": {
            "text/plain": [
              "<Figure size 432x288 with 1 Axes>"
            ],
            "image/png": "[encoded data removed]"
          },
          "metadata": {
            "needs_background": "light"
          }
        }
      ]
    },
    {
      "cell_type": "code",
      "source": [
        "sm.graphics.tsa.plot_pacf(ts_diff, lags=30)\n",
        "plt.show()"
      ],
      "metadata": {
        "colab": {
          "base_uri": "https://localhost:8080/",
          "height": 282
        },
        "id": "Wxbrqz7N04X5",
        "outputId": "8a0e7672-1df7-4776-8b26-695b3ada209f"
      },
      "execution_count": 121,
      "outputs": [
        {
          "output_type": "display_data",
          "data": {
            "text/plain": [
              "<Figure size 432x288 with 1 Axes>"
            ],
            "image/png": "[encoded data removed]"
          },
          "metadata": {
            "needs_background": "light"
          }
        }
      ]
    },
    {
      "cell_type": "markdown",
      "metadata": {
        "id": "cTW0OvGUeZno"
      },
      "source": [
        "## Построим модель ARIMA "
      ]
    },
    {
      "cell_type": "code",
      "execution_count": 122,
      "metadata": {
        "id": "qftYH92UeZno"
      },
      "outputs": [],
      "source": [
        "from statsmodels.tsa.arima_model import ARIMA"
      ]
    },
    {
      "cell_type": "code",
      "execution_count": 123,
      "metadata": {
        "colab": {
          "base_uri": "https://localhost:8080/"
        },
        "id": "a9swWNN7eZno",
        "outputId": "100a60f1-c361-45a2-edc6-583562768c40"
      },
      "outputs": [
        {
          "output_type": "execute_result",
          "data": {
            "text/plain": [
              "date\n",
              "2004-02-01   -0.22\n",
              "2004-03-01   -0.36\n",
              "2004-04-01   -0.18\n",
              "2004-05-01   -0.02\n",
              "2004-06-01    0.19\n",
              "Freq: MS, Name: priceModLogDiff, dtype: float64"
            ]
          },
          "metadata": {},
          "execution_count": 123
        }
      ],
      "source": [
        "ts_diff.head()"
      ]
    },
    {
      "cell_type": "code",
      "execution_count": 124,
      "metadata": {
        "id": "aws4szvgeZno"
      },
      "outputs": [],
      "source": [
        "# ARIMA Model (1,0,1)\n",
        "model_AR1MA = ARIMA(ts_diff, order=(1,0,1))"
      ]
    },
    {
      "cell_type": "code",
      "execution_count": 125,
      "metadata": {
        "id": "FPuoy9aEeZnp"
      },
      "outputs": [],
      "source": [
        "results_ARIMA = model_AR1MA.fit(disp = -1)"
      ]
    },
    {
      "cell_type": "code",
      "execution_count": 126,
      "metadata": {
        "colab": {
          "base_uri": "https://localhost:8080/"
        },
        "id": "9WYDAbYweZnp",
        "outputId": "aeef08de-fc56-4dbd-f527-d215c39465ce"
      },
      "outputs": [
        {
          "output_type": "execute_result",
          "data": {
            "text/plain": [
              "date\n",
              "2004-02-01   -0.00\n",
              "2004-03-01   -0.09\n",
              "2004-04-01   -0.14\n",
              "2004-05-01   -0.04\n",
              "2004-06-01    0.00\n",
              "Freq: MS, dtype: float64"
            ]
          },
          "metadata": {},
          "execution_count": 126
        }
      ],
      "source": [
        "results_ARIMA.fittedvalues.head()"
      ]
    },
    {
      "cell_type": "code",
      "execution_count": 127,
      "metadata": {
        "colab": {
          "base_uri": "https://localhost:8080/",
          "height": 299
        },
        "id": "wUCrLPb8eZnp",
        "outputId": "385cc112-0174-4e02-d473-a7968cc29420"
      },
      "outputs": [
        {
          "output_type": "execute_result",
          "data": {
            "text/plain": [
              "<matplotlib.axes._subplots.AxesSubplot at 0x7f36f85449d0>"
            ]
          },
          "metadata": {},
          "execution_count": 127
        },
        {
          "output_type": "display_data",
          "data": {
            "text/plain": [
              "<Figure size 432x288 with 1 Axes>"
            ],
            "image/png": "[encoded data removed]"
          },
          "metadata": {
            "needs_background": "light"
          }
        }
      ],
      "source": [
        "ts_diff.plot()\n",
        "results_ARIMA.fittedvalues.plot()"
      ]
    },
    {
      "cell_type": "code",
      "execution_count": 128,
      "metadata": {
        "colab": {
          "base_uri": "https://localhost:8080/"
        },
        "id": "updbidWMeZnp",
        "outputId": "e9914071-10c5-4b89-b045-64d9bb106f28"
      },
      "outputs": [
        {
          "output_type": "execute_result",
          "data": {
            "text/plain": [
              "0.1052596023926915"
            ]
          },
          "metadata": {},
          "execution_count": 128
        }
      ],
      "source": [
        "ts_diff.sum()"
      ]
    },
    {
      "cell_type": "code",
      "execution_count": 129,
      "metadata": {
        "colab": {
          "base_uri": "https://localhost:8080/"
        },
        "id": "ag5aW6Z2eZnp",
        "outputId": "cba0b66c-0463-4709-92f6-13f3055de196"
      },
      "outputs": [
        {
          "output_type": "execute_result",
          "data": {
            "text/plain": [
              "date\n",
              "2015-10-01    0.01\n",
              "2015-11-01   -0.17\n",
              "2015-12-01   -0.10\n",
              "2016-01-01   -0.06\n",
              "2016-02-01    0.05\n",
              "Freq: MS, dtype: float64"
            ]
          },
          "metadata": {},
          "execution_count": 129
        }
      ],
      "source": [
        "predictions_ARIMA_diff = pd.Series(results_ARIMA.fittedvalues, copy=True)\n",
        "predictions_ARIMA_diff.tail()"
      ]
    },
    {
      "cell_type": "code",
      "execution_count": 130,
      "metadata": {
        "colab": {
          "base_uri": "https://localhost:8080/"
        },
        "id": "ov1O_8AseZnp",
        "outputId": "cb69ce41-99f0-4073-b8fa-77a45e87d395"
      },
      "outputs": [
        {
          "output_type": "execute_result",
          "data": {
            "text/plain": [
              "0.07204831190524966"
            ]
          },
          "metadata": {},
          "execution_count": 130
        }
      ],
      "source": [
        "predictions_ARIMA_diff.sum()"
      ]
    },
    {
      "cell_type": "code",
      "execution_count": 131,
      "metadata": {
        "colab": {
          "base_uri": "https://localhost:8080/"
        },
        "id": "s4wTuIMoeZnp",
        "outputId": "5ca7622d-2a46-42ec-8a2c-4e7fb1db6b79"
      },
      "outputs": [
        {
          "output_type": "execute_result",
          "data": {
            "text/plain": [
              "date\n",
              "2015-10-01   0.34\n",
              "2015-11-01   0.17\n",
              "2015-12-01   0.08\n",
              "2016-01-01   0.02\n",
              "2016-02-01   0.07\n",
              "Freq: MS, dtype: float64"
            ]
          },
          "metadata": {},
          "execution_count": 131
        }
      ],
      "source": [
        "predictions_ARIMA_diff_cumsum = predictions_ARIMA_diff.cumsum()\n",
        "predictions_ARIMA_diff_cumsum.tail()"
      ]
    },
    {
      "cell_type": "code",
      "execution_count": 132,
      "metadata": {
        "colab": {
          "base_uri": "https://localhost:8080/"
        },
        "id": "yzXVXET0eZnp",
        "outputId": "00f63f67-53ab-40dd-8c0f-0876f5729aba"
      },
      "outputs": [
        {
          "output_type": "execute_result",
          "data": {
            "text/plain": [
              "6.898714534329988"
            ]
          },
          "metadata": {},
          "execution_count": 132
        }
      ],
      "source": [
        "ts.iloc[0]"
      ]
    },
    {
      "cell_type": "code",
      "execution_count": 133,
      "metadata": {
        "colab": {
          "base_uri": "https://localhost:8080/"
        },
        "id": "bPFB8nHieZnq",
        "outputId": "46f09fbc-c247-4fd0-e15a-88cad88bc981"
      },
      "outputs": [
        {
          "output_type": "execute_result",
          "data": {
            "text/plain": [
              "date\n",
              "2015-10-01   7.24\n",
              "2015-11-01   7.07\n",
              "2015-12-01   6.98\n",
              "2016-01-01   6.92\n",
              "2016-02-01   6.97\n",
              "Freq: MS, dtype: float64"
            ]
          },
          "metadata": {},
          "execution_count": 133
        }
      ],
      "source": [
        "predictions_ARIMA_log = pd.Series(ts.iloc[0], index=ts.index)\n",
        "predictions_ARIMA_log = predictions_ARIMA_log.add(predictions_ARIMA_diff_cumsum, fill_value=0)\n",
        "predictions_ARIMA_log.tail()"
      ]
    },
    {
      "cell_type": "code",
      "execution_count": 134,
      "metadata": {
        "id": "sF89JCO4eZnq"
      },
      "outputs": [],
      "source": [
        "dfBang['priceARIMA'] = np.exp(predictions_ARIMA_log)"
      ]
    },
    {
      "cell_type": "code",
      "execution_count": 135,
      "metadata": {
        "colab": {
          "base_uri": "https://localhost:8080/",
          "height": 299
        },
        "id": "FYqQEkhReZnq",
        "outputId": "3633326a-1deb-417a-e6f4-dfe796f593fb"
      },
      "outputs": [
        {
          "output_type": "execute_result",
          "data": {
            "text/plain": [
              "<matplotlib.axes._subplots.AxesSubplot at 0x7f36fdc84dd0>"
            ]
          },
          "metadata": {},
          "execution_count": 135
        },
        {
          "output_type": "display_data",
          "data": {
            "text/plain": [
              "<Figure size 432x288 with 1 Axes>"
            ],
            "image/png": "[encoded data removed]"
          },
          "metadata": {
            "needs_background": "light"
          }
        }
      ],
      "source": [
        "dfBang.plot(kind=\"line\", x=\"timeIndex\", y = [\"priceMod\", \"priceARIMA\"])"
      ]
    },
    {
      "cell_type": "code",
      "execution_count": 136,
      "metadata": {
        "colab": {
          "base_uri": "https://localhost:8080/",
          "height": 299
        },
        "id": "3Y4Mg889eZnq",
        "outputId": "3beba5ea-178e-49a9-f012-284b3fe55ba3"
      },
      "outputs": [
        {
          "output_type": "execute_result",
          "data": {
            "text/plain": [
              "<matplotlib.axes._subplots.AxesSubplot at 0x7f36facf1050>"
            ]
          },
          "metadata": {},
          "execution_count": 136
        },
        {
          "output_type": "display_data",
          "data": {
            "text/plain": [
              "<Figure size 432x288 with 1 Axes>"
            ],
            "image/png": "[encoded data removed]"
          },
          "metadata": {
            "needs_background": "light"
          }
        }
      ],
      "source": [
        "dfBang.plot(kind=\"line\", x=\"timeIndex\", y = [\"priceMod\", \"priceMean\", \"priceLinear\", \n",
        "                                             \"priceLinearQuantity\", \"priceARIMA\"])"
      ]
    },
    {
      "cell_type": "code",
      "execution_count": 137,
      "metadata": {
        "colab": {
          "base_uri": "https://localhost:8080/"
        },
        "id": "QZTXbQVReZnq",
        "outputId": "cb580b6f-2ecd-48ca-ad76-45331fe652ec"
      },
      "outputs": [
        {
          "output_type": "execute_result",
          "data": {
            "text/plain": [
              "517.5439421816822"
            ]
          },
          "metadata": {},
          "execution_count": 137
        }
      ],
      "source": [
        "# RMSE\n",
        "model_arima_RMSE = RMSE(dfBang.priceARIMA, dfBang.priceMod)\n",
        "model_arima_RMSE"
      ]
    },
    {
      "cell_type": "markdown",
      "metadata": {
        "id": "KcA9Vl2ceZnq"
      },
      "source": [
        "Обычно подбор параметров для ARIMA — сложный и трудоемкий процесс."
      ]
    },
    {
      "cell_type": "markdown",
      "metadata": {
        "id": "3VqZk7b6eZnq"
      },
      "source": [
        "### Вывод"
      ]
    },
    {
      "cell_type": "markdown",
      "metadata": {
        "id": "Z0c3QWeOeZnr"
      },
      "source": [
        "На семинаре мы ознакомились с разными подходами к анализу и прогнозированию временных рядов. Была рассмотрена интегрированная модель авторегрессии – скользящего среднего (ARIMA), как базовая модель прогнозирования. Как вы уже убедились, серебряной пули для решения такого рода задач пока нет.\n",
        "\n",
        "Методы, разработанные в 60-е годы прошлого века (а некоторые и в начале 19-го), по-прежнему пользуются популярностью наравне с неразобранными в рамках данной статьи **LSTM** или **RNN**. Отчасти это связано с тем, что задача прогнозирования, как и любая другая задача, возникающая в процессе работы с данными — во многом творческая и уж точно исследовательская. Несмотря на обилие формальных метрик качества и способов оценки параметров, для каждого временного ряда часто приходится подбирать и пробовать что-то своё. Не последнюю роль играет и баланс между качеством и трудозатратами."
      ]
    },
    {
      "cell_type": "code",
      "source": [
        ""
      ],
      "metadata": {
        "id": "2ISzIoRL1YMV"
      },
      "execution_count": null,
      "outputs": []
    }
  ],
  "metadata": {
    "kernelspec": {
      "display_name": "Python 3",
      "language": "python",
      "name": "python3"
    },
    "language_info": {
      "codemirror_mode": {
        "name": "ipython",
        "version": 3
      },
      "file_extension": ".py",
      "mimetype": "text/x-python",
      "name": "python",
      "nbconvert_exporter": "python",
      "pygments_lexer": "ipython3",
      "version": "3.6.6"
    },
    "colab": {
      "name": "sem07_timeseries.ipynb",
      "provenance": [],
      "collapsed_sections": []
    }
  },
  "nbformat": 4,
  "nbformat_minor": 0
}